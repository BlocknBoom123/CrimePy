{
 "cells": [
  {
   "cell_type": "markdown",
   "metadata": {},
   "source": [
    "## <center>Chicago Crime Forecasting (2012-2017)\n",
    "### <center>Anil Abraham 2023\n",
    "\n",
    "#### <center>The goal of this project is to use machine learning techniques to forecast crime in Chicago. Particularly, forecasting type of crime, number of crimes committed in a year, and crime hotspots/locations."
   ]
  },
  {
   "cell_type": "markdown",
   "metadata": {},
   "source": [
    "### Brief explanation of each column:\n",
    "<ul>\n",
    "<li>Unnamed: 0  - No idea what this is</li>\n",
    "<li>ID - Unique crime identifier</li>\n",
    "<li>Case Number - Unique case number recorded by Chicago PD</li>\n",
    "<li>Date - Estimate Of when incident occured</li>\n",
    "<li>IUCR - Illinois Uniform Crime Reporting code</li>\n",
    "<li>Primary Type  - Primary description of IUCR code</li>\n",
    "<li>Description - Secondary description of IUCR code</li>\n",
    "<li>Location Description - Description of where incident occured</li>\n",
    "<li>Arrest - Whether an arrest was made or not</li>\n",
    "<li>Domestic - Whether incident was domestic-related or not</li>\n",
    "<li>Beat - Smallest police geographic area</li>\n",
    "<li>Block/District/Ward/Community Area/X Coordinate/Y Coordinate/Latitude/Longitude/Location - Location</li>\n",
    "<li>FBI Code - Classification of crime according to the FBI's National Incident-Based Reporting System (NIBRS)</li>\n",
    "<li>Year - Year that incident occured</li>\n",
    "<li>Updated On - Date and time incident was last updated</li>\n",
    "</ul>\n",
    "\n"
   ]
  },
  {
   "cell_type": "markdown",
   "metadata": {},
   "source": [
    "### <u>Importing libraries</u>"
   ]
  },
  {
   "cell_type": "code",
   "execution_count": 1,
   "metadata": {},
   "outputs": [],
   "source": [
    "import pandas as pd #Pandas for data manipulation and analysis\n",
    "import numpy as np #Numpy for matrices\n",
    "import geopandas as gpd #Support for geospatial data\n",
    "from shapely.geometry import Point, Polygon #Geographic information systems functions and analysis\n",
    "import matplotlib.pyplot as plt #Matplotlib for visualisations\n",
    "import seaborn as sns\n",
    "import plotly.express as px\n",
    "sns.set_style(\"darkgrid\")\n",
    "pd.set_option('display.max_columns', None)"
   ]
  },
  {
   "cell_type": "markdown",
   "metadata": {},
   "source": [
    "### <u>Loading dataset</u>"
   ]
  },
  {
   "cell_type": "code",
   "execution_count": 2,
   "metadata": {},
   "outputs": [
    {
     "name": "stdout",
     "output_type": "stream",
     "text": [
      "Unnamed: 0\n",
      "ID\n",
      "Case Number\n",
      "Date\n",
      "Block\n",
      "IUCR\n",
      "Primary Type\n",
      "Description\n",
      "Location Description\n",
      "Arrest\n",
      "Domestic\n",
      "Beat\n",
      "District\n",
      "Ward\n",
      "Community Area\n",
      "FBI Code\n",
      "X Coordinate\n",
      "Y Coordinate\n",
      "Year\n",
      "Updated On\n",
      "Latitude\n",
      "Longitude\n",
      "Location\n"
     ]
    },
    {
     "data": {
      "text/plain": [
       "(1456714, 23)"
      ]
     },
     "execution_count": 2,
     "metadata": {},
     "output_type": "execute_result"
    }
   ],
   "source": [
    "df = pd.read_csv('chicago.csv') #Thousands are seperated by commas in the CSV.\n",
    "\n",
    "for col in df.columns.to_list(): #List all feature names\n",
    "    print(col)\n",
    "df.shape"
   ]
  },
  {
   "cell_type": "markdown",
   "metadata": {},
   "source": [
    "### <u>Data preprocessing</u>"
   ]
  },
  {
   "cell_type": "markdown",
   "metadata": {},
   "source": [
    "#### Check for null values"
   ]
  },
  {
   "cell_type": "code",
   "execution_count": 3,
   "metadata": {},
   "outputs": [
    {
     "name": "stdout",
     "output_type": "stream",
     "text": [
      "Before replacing nulls:\n",
      "Unnamed: 0                  0\n",
      "ID                          0\n",
      "Case Number                 1\n",
      "Date                        0\n",
      "Block                       0\n",
      "IUCR                        0\n",
      "Primary Type                0\n",
      "Description                 0\n",
      "Location Description     1658\n",
      "Arrest                      0\n",
      "Domestic                    0\n",
      "Beat                        0\n",
      "District                    1\n",
      "Ward                       14\n",
      "Community Area             40\n",
      "FBI Code                    0\n",
      "X Coordinate            37083\n",
      "Y Coordinate            37083\n",
      "Year                        0\n",
      "Updated On                  0\n",
      "Latitude                37083\n",
      "Longitude               37083\n",
      "Location                37083\n",
      "dtype: int64\n",
      "\n",
      "After replacing nulls:\n",
      "Unnamed: 0                  0\n",
      "ID                          0\n",
      "Case Number                 1\n",
      "Date                        0\n",
      "Block                       0\n",
      "IUCR                        0\n",
      "Primary Type                0\n",
      "Description                 0\n",
      "Location Description        0\n",
      "Arrest                      0\n",
      "Domestic                    0\n",
      "Beat                        0\n",
      "District                    1\n",
      "Ward                       14\n",
      "Community Area             40\n",
      "FBI Code                    0\n",
      "X Coordinate            37083\n",
      "Y Coordinate            37083\n",
      "Year                        0\n",
      "Updated On                  0\n",
      "Latitude                    0\n",
      "Longitude                   0\n",
      "Location                37083\n",
      "dtype: int64\n"
     ]
    }
   ],
   "source": [
    "print(f'Before replacing nulls:\\n{df.isna().sum()}\\n')\n",
    "\n",
    "df['Location Description'].fillna('Unknown', inplace=True)\n",
    "df.loc[df['Latitude'].isna(), ('Latitude')] = 41.80 #All null locations are replaced with a unique location\n",
    "df.loc[df['Longitude'].isna(), ('Longitude')] = -87.78\n",
    "\n",
    "print(f'After replacing nulls:\\n{df.isna().sum()}')"
   ]
  },
  {
   "cell_type": "markdown",
   "metadata": {},
   "source": [
    "#### Only certain columns are of interest to us, so let's drop the rest."
   ]
  },
  {
   "cell_type": "code",
   "execution_count": 4,
   "metadata": {},
   "outputs": [],
   "source": [
    "df.drop(['Unnamed: 0', 'Case Number','IUCR','Updated On', 'FBI Code', 'Beat','Ward','Community Area', 'Location'\n",
    "         , 'X Coordinate', 'Y Coordinate', 'District', 'Year'], inplace=True, axis=1)"
   ]
  },
  {
   "attachments": {},
   "cell_type": "markdown",
   "metadata": {},
   "source": [
    "#### Check for duplicates"
   ]
  },
  {
   "cell_type": "code",
   "execution_count": 5,
   "metadata": {},
   "outputs": [
    {
     "name": "stdout",
     "output_type": "stream",
     "text": [
      "Before checking for duplicates\n",
      "0\n",
      "\n",
      "After checking for duplicates\n",
      "0\n"
     ]
    }
   ],
   "source": [
    "print(f'Before checking for duplicates\\n{df.duplicated().sum()}')\n",
    "df.drop_duplicates(inplace=True)\n",
    "print(f'\\nAfter checking for duplicates\\n{df.duplicated().sum()}')"
   ]
  },
  {
   "cell_type": "markdown",
   "metadata": {},
   "source": [
    "#### There are many unique categories, over 300 for description. Let's keep the most occuring categories and bin the rest as 'OTHER'"
   ]
  },
  {
   "cell_type": "code",
   "execution_count": 6,
   "metadata": {},
   "outputs": [],
   "source": [
    "df.loc[df['Primary Type'].isin(df['Primary Type'].value_counts()[20:].index), ('Primary Type')] = 'OTHER'\n",
    "df.loc[df['Description'].isin(df['Description'].value_counts()[20:].index), ('Description')] = 'OTHER'\n",
    "df.loc[df['Location Description'].isin(df['Location Description'].value_counts()[20:].index), ('Location Description')] = 'OTHER'"
   ]
  },
  {
   "cell_type": "markdown",
   "metadata": {},
   "source": [
    "#### Convert to categorical"
   ]
  },
  {
   "cell_type": "code",
   "execution_count": 7,
   "metadata": {},
   "outputs": [],
   "source": [
    "# df['Primary Type'] = pd.Categorical(df['Primary Type'])\n",
    "# df['Description'] = pd.Categorical(df['Description'])\n",
    "# df['Location Description'] = pd.Categorical(df['Location Description'])"
   ]
  },
  {
   "cell_type": "markdown",
   "metadata": {},
   "source": [
    "#### Convert Date to pandas datetime object, and covert the index to DatetimeIndex"
   ]
  },
  {
   "cell_type": "code",
   "execution_count": 8,
   "metadata": {},
   "outputs": [],
   "source": [
    "df['Date'] = pd.to_datetime(df['Date'], format='%m/%d/%Y %I:%M:%S %p')\n",
    "# df['Month'] = df['Date'].dt.month\n",
    "# df['Hour'] = df['Date'].dt.hour\n",
    "\n",
    "df.index = pd.DatetimeIndex(df['Date'])\n",
    "df.drop(['Date'], axis=1, inplace=True)"
   ]
  },
  {
   "cell_type": "markdown",
   "metadata": {},
   "source": [
    "#### What are the datatypes used?"
   ]
  },
  {
   "cell_type": "code",
   "execution_count": 9,
   "metadata": {},
   "outputs": [
    {
     "data": {
      "text/plain": [
       "ID                        int64\n",
       "Block                    object\n",
       "Primary Type             object\n",
       "Description              object\n",
       "Location Description     object\n",
       "Arrest                     bool\n",
       "Domestic                   bool\n",
       "Latitude                float64\n",
       "Longitude               float64\n",
       "dtype: object"
      ]
     },
     "execution_count": 9,
     "metadata": {},
     "output_type": "execute_result"
    }
   ],
   "source": [
    "df.dtypes"
   ]
  },
  {
   "cell_type": "markdown",
   "metadata": {},
   "source": [
    "#### High-level stats of the Chicago dataframe"
   ]
  },
  {
   "cell_type": "code",
   "execution_count": 25,
   "metadata": {},
   "outputs": [
    {
     "data": {
      "text/html": [
       "<div>\n",
       "<style scoped>\n",
       "    .dataframe tbody tr th:only-of-type {\n",
       "        vertical-align: middle;\n",
       "    }\n",
       "\n",
       "    .dataframe tbody tr th {\n",
       "        vertical-align: top;\n",
       "    }\n",
       "\n",
       "    .dataframe thead th {\n",
       "        text-align: right;\n",
       "    }\n",
       "</style>\n",
       "<table border=\"1\" class=\"dataframe\">\n",
       "  <thead>\n",
       "    <tr style=\"text-align: right;\">\n",
       "      <th></th>\n",
       "      <th>ID</th>\n",
       "      <th>Latitude</th>\n",
       "      <th>Longitude</th>\n",
       "    </tr>\n",
       "  </thead>\n",
       "  <tbody>\n",
       "    <tr>\n",
       "      <th>count</th>\n",
       "      <td>1.456714e+06</td>\n",
       "      <td>1.456714e+06</td>\n",
       "      <td>1.456714e+06</td>\n",
       "    </tr>\n",
       "    <tr>\n",
       "      <th>mean</th>\n",
       "      <td>9.597550e+06</td>\n",
       "      <td>4.184042e+01</td>\n",
       "      <td>-8.767498e+01</td>\n",
       "    </tr>\n",
       "    <tr>\n",
       "      <th>std</th>\n",
       "      <td>8.083505e+05</td>\n",
       "      <td>9.332212e-02</td>\n",
       "      <td>6.791903e-02</td>\n",
       "    </tr>\n",
       "    <tr>\n",
       "      <th>min</th>\n",
       "      <td>2.022400e+04</td>\n",
       "      <td>3.661945e+01</td>\n",
       "      <td>-9.168657e+01</td>\n",
       "    </tr>\n",
       "    <tr>\n",
       "      <th>25%</th>\n",
       "      <td>9.002709e+06</td>\n",
       "      <td>4.176919e+01</td>\n",
       "      <td>-8.771913e+01</td>\n",
       "    </tr>\n",
       "    <tr>\n",
       "      <th>50%</th>\n",
       "      <td>9.605776e+06</td>\n",
       "      <td>4.185321e+01</td>\n",
       "      <td>-8.766812e+01</td>\n",
       "    </tr>\n",
       "    <tr>\n",
       "      <th>75%</th>\n",
       "      <td>1.022577e+07</td>\n",
       "      <td>4.190382e+01</td>\n",
       "      <td>-8.762891e+01</td>\n",
       "    </tr>\n",
       "    <tr>\n",
       "      <th>max</th>\n",
       "      <td>1.082788e+07</td>\n",
       "      <td>4.202271e+01</td>\n",
       "      <td>-8.752453e+01</td>\n",
       "    </tr>\n",
       "  </tbody>\n",
       "</table>\n",
       "</div>"
      ],
      "text/plain": [
       "                 ID      Latitude     Longitude\n",
       "count  1.456714e+06  1.456714e+06  1.456714e+06\n",
       "mean   9.597550e+06  4.184042e+01 -8.767498e+01\n",
       "std    8.083505e+05  9.332212e-02  6.791903e-02\n",
       "min    2.022400e+04  3.661945e+01 -9.168657e+01\n",
       "25%    9.002709e+06  4.176919e+01 -8.771913e+01\n",
       "50%    9.605776e+06  4.185321e+01 -8.766812e+01\n",
       "75%    1.022577e+07  4.190382e+01 -8.762891e+01\n",
       "max    1.082788e+07  4.202271e+01 -8.752453e+01"
      ]
     },
     "execution_count": 25,
     "metadata": {},
     "output_type": "execute_result"
    }
   ],
   "source": [
    "df.describe()"
   ]
  },
  {
   "cell_type": "markdown",
   "metadata": {},
   "source": [
    "#### Let's take a look at the first 3 and last 3 rows of the dataset"
   ]
  },
  {
   "cell_type": "code",
   "execution_count": 10,
   "metadata": {},
   "outputs": [
    {
     "data": {
      "text/html": [
       "<div>\n",
       "<style scoped>\n",
       "    .dataframe tbody tr th:only-of-type {\n",
       "        vertical-align: middle;\n",
       "    }\n",
       "\n",
       "    .dataframe tbody tr th {\n",
       "        vertical-align: top;\n",
       "    }\n",
       "\n",
       "    .dataframe thead th {\n",
       "        text-align: right;\n",
       "    }\n",
       "</style>\n",
       "<table border=\"1\" class=\"dataframe\">\n",
       "  <thead>\n",
       "    <tr style=\"text-align: right;\">\n",
       "      <th></th>\n",
       "      <th>ID</th>\n",
       "      <th>Block</th>\n",
       "      <th>Primary Type</th>\n",
       "      <th>Description</th>\n",
       "      <th>Location Description</th>\n",
       "      <th>Arrest</th>\n",
       "      <th>Domestic</th>\n",
       "      <th>Latitude</th>\n",
       "      <th>Longitude</th>\n",
       "    </tr>\n",
       "    <tr>\n",
       "      <th>Date</th>\n",
       "      <th></th>\n",
       "      <th></th>\n",
       "      <th></th>\n",
       "      <th></th>\n",
       "      <th></th>\n",
       "      <th></th>\n",
       "      <th></th>\n",
       "      <th></th>\n",
       "      <th></th>\n",
       "    </tr>\n",
       "  </thead>\n",
       "  <tbody>\n",
       "    <tr>\n",
       "      <th>2012-01-01 00:00:00</th>\n",
       "      <td>9055356</td>\n",
       "      <td>057XX N WEST CIRCLE AVE</td>\n",
       "      <td>THEFT</td>\n",
       "      <td>OTHER</td>\n",
       "      <td>STREET</td>\n",
       "      <td>False</td>\n",
       "      <td>False</td>\n",
       "      <td>41.985841</td>\n",
       "      <td>-87.804712</td>\n",
       "    </tr>\n",
       "    <tr>\n",
       "      <th>2012-01-01 00:00:00</th>\n",
       "      <td>8911136</td>\n",
       "      <td>040XX W 26TH ST</td>\n",
       "      <td>DECEPTIVE PRACTICE</td>\n",
       "      <td>OTHER</td>\n",
       "      <td>OTHER</td>\n",
       "      <td>False</td>\n",
       "      <td>False</td>\n",
       "      <td>41.844246</td>\n",
       "      <td>-87.725245</td>\n",
       "    </tr>\n",
       "    <tr>\n",
       "      <th>2012-01-01 00:00:00</th>\n",
       "      <td>10728377</td>\n",
       "      <td>032XX W WABANSIA AVE</td>\n",
       "      <td>DECEPTIVE PRACTICE</td>\n",
       "      <td>OTHER</td>\n",
       "      <td>RESIDENCE</td>\n",
       "      <td>False</td>\n",
       "      <td>False</td>\n",
       "      <td>41.800000</td>\n",
       "      <td>-87.780000</td>\n",
       "    </tr>\n",
       "    <tr>\n",
       "      <th>2017-01-18 23:49:00</th>\n",
       "      <td>10820691</td>\n",
       "      <td>034XX W DICKENS AVE</td>\n",
       "      <td>ROBBERY</td>\n",
       "      <td>ARMED: HANDGUN</td>\n",
       "      <td>ALLEY</td>\n",
       "      <td>False</td>\n",
       "      <td>False</td>\n",
       "      <td>41.800000</td>\n",
       "      <td>-87.780000</td>\n",
       "    </tr>\n",
       "    <tr>\n",
       "      <th>2017-01-18 23:45:00</th>\n",
       "      <td>10820646</td>\n",
       "      <td>004XX N HOMAN AVE</td>\n",
       "      <td>WEAPONS VIOLATION</td>\n",
       "      <td>OTHER</td>\n",
       "      <td>SIDEWALK</td>\n",
       "      <td>True</td>\n",
       "      <td>False</td>\n",
       "      <td>41.800000</td>\n",
       "      <td>-87.780000</td>\n",
       "    </tr>\n",
       "    <tr>\n",
       "      <th>2017-01-18 23:40:00</th>\n",
       "      <td>10821699</td>\n",
       "      <td>010XX W WILSON AVE</td>\n",
       "      <td>ROBBERY</td>\n",
       "      <td>ARMED: HANDGUN</td>\n",
       "      <td>STREET</td>\n",
       "      <td>False</td>\n",
       "      <td>False</td>\n",
       "      <td>41.800000</td>\n",
       "      <td>-87.780000</td>\n",
       "    </tr>\n",
       "  </tbody>\n",
       "</table>\n",
       "</div>"
      ],
      "text/plain": [
       "                           ID                    Block        Primary Type  \\\n",
       "Date                                                                         \n",
       "2012-01-01 00:00:00   9055356  057XX N WEST CIRCLE AVE               THEFT   \n",
       "2012-01-01 00:00:00   8911136          040XX W 26TH ST  DECEPTIVE PRACTICE   \n",
       "2012-01-01 00:00:00  10728377     032XX W WABANSIA AVE  DECEPTIVE PRACTICE   \n",
       "2017-01-18 23:49:00  10820691      034XX W DICKENS AVE             ROBBERY   \n",
       "2017-01-18 23:45:00  10820646        004XX N HOMAN AVE   WEAPONS VIOLATION   \n",
       "2017-01-18 23:40:00  10821699       010XX W WILSON AVE             ROBBERY   \n",
       "\n",
       "                        Description Location Description  Arrest  Domestic  \\\n",
       "Date                                                                         \n",
       "2012-01-01 00:00:00           OTHER               STREET   False     False   \n",
       "2012-01-01 00:00:00           OTHER                OTHER   False     False   \n",
       "2012-01-01 00:00:00           OTHER            RESIDENCE   False     False   \n",
       "2017-01-18 23:49:00  ARMED: HANDGUN                ALLEY   False     False   \n",
       "2017-01-18 23:45:00           OTHER             SIDEWALK    True     False   \n",
       "2017-01-18 23:40:00  ARMED: HANDGUN               STREET   False     False   \n",
       "\n",
       "                      Latitude  Longitude  \n",
       "Date                                       \n",
       "2012-01-01 00:00:00  41.985841 -87.804712  \n",
       "2012-01-01 00:00:00  41.844246 -87.725245  \n",
       "2012-01-01 00:00:00  41.800000 -87.780000  \n",
       "2017-01-18 23:49:00  41.800000 -87.780000  \n",
       "2017-01-18 23:45:00  41.800000 -87.780000  \n",
       "2017-01-18 23:40:00  41.800000 -87.780000  "
      ]
     },
     "execution_count": 10,
     "metadata": {},
     "output_type": "execute_result"
    }
   ],
   "source": [
    "pd.concat([df.sort_index().head(3), df.sort_index(ascending=False).head(3)])"
   ]
  },
  {
   "cell_type": "markdown",
   "metadata": {},
   "source": [
    "### <u>Exploratory Data Analysis</u>"
   ]
  },
  {
   "cell_type": "markdown",
   "metadata": {},
   "source": [
    "#### Seasonality analysis"
   ]
  },
  {
   "cell_type": "code",
   "execution_count": 11,
   "metadata": {},
   "outputs": [
    {
     "data": {
      "image/png": "[encoded data removed]",
      "text/plain": [
       "<Figure size 1500x1200 with 4 Axes>"
      ]
     },
     "metadata": {},
     "output_type": "display_data"
    }
   ],
   "source": [
    "import calendar\n",
    "df_hours = df.groupby([df.index.hour], observed=True).count()['ID'].sort_values(ascending=False)\n",
    "df_week = df.groupby([df.index.day_name()], observed=True).count()['ID'].sort_values(ascending=False)\n",
    "df_month = df.groupby([df.index.month], observed=True).count()['ID'].sort_values(ascending=False)\n",
    "df_year = df.groupby([df.index.year], observed=True).count()['ID'].sort_values(ascending=False)\n",
    "\n",
    "\n",
    "df_month = df_month.reset_index()\n",
    "df_month['Date'] = df_month['Date'].apply(lambda x: calendar.month_abbr[x])\n",
    "\n",
    "fig, axs = plt.subplots(2, 2, figsize=(15, 12))\n",
    "\n",
    "sns.barplot(x=df_hours.index, y=df_hours.values, order=df_hours.index, palette=\"OrRd_r\", ax = axs[0,0])\n",
    "sns.barplot(x=df_week.index, y=df_week.values, order=df_week.index, palette=\"OrRd_r\", ax = axs[0,1])\n",
    "sns.barplot(data=df_month, x='Date', y='ID', palette=\"OrRd_r\", ax = axs[1,0])\n",
    "sns.barplot(x=df_year.index, y=df_year.values, order=df_year.index, palette=\"OrRd_r\", ax = axs[1,1])\n",
    "\n",
    "axs[0,0].set_title('Hours of crime')\n",
    "axs[0,0].set_xlabel('Hour')\n",
    "axs[0,0].set_ylabel('Number of crimes')\n",
    "\n",
    "axs[0,1].set_title('Day of week')\n",
    "axs[0,1].set_xlabel('Day')\n",
    "axs[0,1].set_ylabel('Number of crimes')\n",
    "\n",
    "axs[1,0].set_title('Months of crime')\n",
    "axs[1,0].set_xlabel('Month')\n",
    "axs[1,0].set_ylabel('Number of crimes')\n",
    "\n",
    "axs[1,1].set_title('Year of crime')\n",
    "axs[1,1].set_xlabel('Year')\n",
    "axs[1,1].set_ylabel('Number of crimes')\n",
    "\n",
    "fig.suptitle('Chicago Crime Analysis')\n",
    "plt.show()"
   ]
  },
  {
   "cell_type": "markdown",
   "metadata": {},
   "source": [
    "#### Analysis of crimes"
   ]
  },
  {
   "cell_type": "code",
   "execution_count": 12,
   "metadata": {},
   "outputs": [
    {
     "data": {
      "image/png": "[encoded data removed]",
      "text/plain": [
       "<Figure size 2200x700 with 2 Axes>"
      ]
     },
     "metadata": {},
     "output_type": "display_data"
    }
   ],
   "source": [
    "fig, axs = plt.subplots(1, 2, figsize=(22, 7))\n",
    "topcrimes = df['Primary Type'].value_counts()[:10]\n",
    "topthefts = df[df['Primary Type'] == 'THEFT']['Description'].value_counts()[:10]\n",
    "\n",
    "ax = sns.barplot(x=topcrimes.index, y=topcrimes.values, ax=axs[0])\n",
    "ax1 = sns.barplot(x=topthefts.index, y=topthefts.values, ax=axs[1])\n",
    "\n",
    "for i in ax.containers:\n",
    "    ax.bar_label(i,)\n",
    "\n",
    "for i in ax1.containers:\n",
    "    ax1.bar_label(i,)   \n",
    "ax.set_xlabel('Primary Type')\n",
    "ax.set_ylabel('Count')\n",
    "ax.set_title('Top 10 crimes in Chicago', weight='bold')\n",
    "ax.set_xticks(range(0,len(topcrimes.index)), topcrimes.index, rotation=90)\n",
    "\n",
    "ax1.set_xlabel('Theft type')\n",
    "ax1.set_ylabel('Count')\n",
    "ax1.set_title('Various thefts in Chicago', weight='bold')\n",
    "fig.suptitle(\"Chicago crime\")\n",
    "plt.show()"
   ]
  },
  {
   "cell_type": "markdown",
   "metadata": {},
   "source": [
    "#### Crime counts according to whether arrests were made or not"
   ]
  },
  {
   "cell_type": "code",
   "execution_count": 13,
   "metadata": {},
   "outputs": [
    {
     "data": {
      "text/plain": [
       "<Figure size 1900x1000 with 0 Axes>"
      ]
     },
     "metadata": {},
     "output_type": "display_data"
    },
    {
     "data": {
      "image/png": "[encoded data removed]",
      "text/plain": [
       "<Figure size 1883.88x900 with 2 Axes>"
      ]
     },
     "metadata": {},
     "output_type": "display_data"
    }
   ],
   "source": [
    "plt.figure(figsize=(19,10))\n",
    "topcrimes = df['Primary Type'].value_counts()[:7]\n",
    "df_grouped = df.loc[df['Primary Type'].isin(topcrimes.index)].groupby(['Arrest', 'Domestic', 'Primary Type']).size().reset_index(name='count').sort_values('count', ascending=False)\n",
    "sns.catplot(df_grouped, x='Primary Type', y='count', hue='Domestic', kind='bar', height=9, col='Arrest')\n",
    "plt.suptitle('Arrests vs no arrests')\n",
    "plt.tight_layout()\n",
    "plt.show()"
   ]
  },
  {
   "cell_type": "markdown",
   "metadata": {},
   "source": [
    "#### Yearly crime count trends according to number of arrests made"
   ]
  },
  {
   "cell_type": "code",
   "execution_count": 14,
   "metadata": {},
   "outputs": [
    {
     "data": {
      "image/png": "[encoded data removed]",
      "text/plain": [
       "<Figure size 1000x800 with 1 Axes>"
      ]
     },
     "metadata": {},
     "output_type": "display_data"
    }
   ],
   "source": [
    "plt.figure(figsize=(10,8))\n",
    "df_day_noarrest = df.loc[~df['Arrest']].resample('M').size().to_frame(name='count')\n",
    "df_day_arrest = df.loc[df['Arrest']].resample('M').size().to_frame(name='count')\n",
    "\n",
    "df_day_noarrest['Arrest'] = False\n",
    "df_day_arrest['Arrest'] = True\n",
    "\n",
    "df_merge = pd.concat([df_day_noarrest, df_day_arrest])\n",
    "\n",
    "sns.lineplot(df_merge, x=df_merge.index, y='count', hue='Arrest')\n",
    "\n",
    "plt.xlabel('Date')\n",
    "plt.ylabel('Count')\n",
    "plt.title('Chicago yearly crime trend', weight='bold')\n",
    "plt.show()"
   ]
  },
  {
   "cell_type": "markdown",
   "metadata": {},
   "source": [
    "#### Has crime in Chicago decreased over the years?"
   ]
  },
  {
   "cell_type": "code",
   "execution_count": 15,
   "metadata": {},
   "outputs": [
    {
     "data": {
      "image/png": "[encoded data removed]",
      "text/plain": [
       "<Figure size 1100x400 with 1 Axes>"
      ]
     },
     "metadata": {},
     "output_type": "display_data"
    }
   ],
   "source": [
    "plt.figure(figsize=(11,4))\n",
    "df.resample('D').size().rolling(365).sum().plot()\n",
    "plt.title('Rolling sum of all crimes from 2012 - 2017')\n",
    "plt.ylabel('Number of crimes')\n",
    "plt.xlabel('Days')\n",
    "plt.show()"
   ]
  },
  {
   "cell_type": "markdown",
   "metadata": {},
   "source": [
    "#### Brief overview of Chicago crime trends according to the top 6 crimes"
   ]
  },
  {
   "cell_type": "code",
   "execution_count": 16,
   "metadata": {},
   "outputs": [
    {
     "data": {
      "text/plain": [
       "Text(0.5, 1.05, 'Chicago crimes')"
      ]
     },
     "execution_count": 16,
     "metadata": {},
     "output_type": "execute_result"
    },
    {
     "data": {
      "image/png": "[encoded data removed]",
      "text/plain": [
       "<Figure size 2000x1200 with 9 Axes>"
      ]
     },
     "metadata": {},
     "output_type": "display_data"
    }
   ],
   "source": [
    "topcrimes = df['Primary Type'].value_counts()[:6]\n",
    "\n",
    "topcrimes = df.loc[df['Primary Type'].isin(topcrimes.index.to_numpy())]\n",
    "crimes_count_date = topcrimes.pivot_table('ID', aggfunc=np.size, columns='Primary Type', index=topcrimes.index.date, fill_value=0)\n",
    "crimes_count_date.index = pd.DatetimeIndex(crimes_count_date.index)\n",
    "plo = crimes_count_date.rolling(365).sum().plot(figsize=(20, 12), subplots=True, layout=(3, 3), sharex=False, sharey=False)\n",
    "plt.tight_layout()\n",
    "plt.suptitle(\"Chicago crimes\", y=1.05, weight='bold')"
   ]
  },
  {
   "cell_type": "markdown",
   "metadata": {},
   "source": [
    "#### Interactive heatmap of crimes in Boston"
   ]
  },
  {
   "cell_type": "code",
   "execution_count": 17,
   "metadata": {},
   "outputs": [],
   "source": [
    "#Create heatmap dataframe\n",
    "step = 0.01\n",
    "to_bin = lambda x: np.floor(x / step) * step\n",
    "heatmap = df.copy()\n",
    "heatmap[\"Latitude\"] = to_bin(df[\"Latitude\"])\n",
    "heatmap[\"Longitude\"] = to_bin(df[\"Longitude\"])\n",
    "heatmap = heatmap.groupby([\"Latitude\", \"Longitude\"]).count()['ID'].reset_index(name='Count')\n",
    "heatmap = heatmap[(heatmap[\"Latitude\"] != 41.80) & (heatmap[\"Longitude\"] != -87.78)] #The heatmap will list the Unknown location as a hotspot as there are a large number of unknown locations, therefore we remove this from visualisation."
   ]
  },
  {
   "cell_type": "code",
   "execution_count": 18,
   "metadata": {},
   "outputs": [
    {
     "data": {
      "application/vnd.plotly.v1+json": {
       "config": {
        "plotlyServerURL": "https://plot.ly"
       },
       "data": [
        {
         "customdata": [
          [
           77
          ],
          [
           245
          ],
          [
           5
          ],
          [
           1
          ],
          [
           10
          ],
          [
           25
          ],
          [
           10
          ],
          [
           239
          ],
          [
           113
          ],
          [
           139
          ],
          [
           167
          ],
          [
           1775
          ],
          [
           3280
          ],
          [
           1279
          ],
          [
           7
          ],
          [
           5
          ],
          [
           9
          ],
          [
           296
          ],
          [
           1251
          ],
          [
           269
          ],
          [
           127
          ],
          [
           1013
          ],
          [
           1831
          ],
          [
           1240
          ],
          [
           131
          ],
          [
           1
          ],
          [
           14
          ],
          [
           36
          ],
          [
           10
          ],
          [
           378
          ],
          [
           62
          ],
          [
           12
          ],
          [
           168
          ],
          [
           176
          ],
          [
           561
          ],
          [
           860
          ],
          [
           1735
          ],
          [
           2943
          ],
          [
           3847
          ],
          [
           1467
          ],
          [
           173
          ],
          [
           4
          ],
          [
           16
          ],
          [
           2
          ],
          [
           9
          ],
          [
           41
          ],
          [
           18
          ],
          [
           2
          ],
          [
           222
          ],
          [
           170
          ],
          [
           310
          ],
          [
           66
          ],
          [
           466
          ],
          [
           656
          ],
          [
           1879
          ],
          [
           1900
          ],
          [
           2390
          ],
          [
           2930
          ],
          [
           4214
          ],
          [
           2031
          ],
          [
           510
          ],
          [
           1
          ],
          [
           5
          ],
          [
           2
          ],
          [
           16
          ],
          [
           140
          ],
          [
           831
          ],
          [
           2
          ],
          [
           48
          ],
          [
           441
          ],
          [
           685
          ],
          [
           352
          ],
          [
           815
          ],
          [
           572
          ],
          [
           1643
          ],
          [
           2061
          ],
          [
           1712
          ],
          [
           1867
          ],
          [
           5903
          ],
          [
           3448
          ],
          [
           1100
          ],
          [
           807
          ],
          [
           4
          ],
          [
           196
          ],
          [
           26
          ],
          [
           367
          ],
          [
           837
          ],
          [
           285
          ],
          [
           110
          ],
          [
           228
          ],
          [
           349
          ],
          [
           203
          ],
          [
           611
          ],
          [
           389
          ],
          [
           846
          ],
          [
           1638
          ],
          [
           2487
          ],
          [
           1708
          ],
          [
           5010
          ],
          [
           2364
          ],
          [
           2125
          ],
          [
           33
          ],
          [
           220
          ],
          [
           12
          ],
          [
           2684
          ],
          [
           380
          ],
          [
           500
          ],
          [
           1891
          ],
          [
           341
          ],
          [
           28
          ],
          [
           20
          ],
          [
           23
          ],
          [
           298
          ],
          [
           448
          ],
          [
           583
          ],
          [
           1242
          ],
          [
           2017
          ],
          [
           1456
          ],
          [
           2379
          ],
          [
           1313
          ],
          [
           661
          ],
          [
           942
          ],
          [
           35
          ],
          [
           745
          ],
          [
           1916
          ],
          [
           903
          ],
          [
           69
          ],
          [
           1558
          ],
          [
           16
          ],
          [
           285
          ],
          [
           570
          ],
          [
           2448
          ],
          [
           2800
          ],
          [
           1891
          ],
          [
           2105
          ],
          [
           3795
          ],
          [
           1615
          ],
          [
           2204
          ],
          [
           1725
          ],
          [
           1397
          ],
          [
           2144
          ],
          [
           1558
          ],
          [
           2243
          ],
          [
           736
          ],
          [
           629
          ],
          [
           6
          ],
          [
           129
          ],
          [
           478
          ],
          [
           455
          ],
          [
           478
          ],
          [
           594
          ],
          [
           364
          ],
          [
           97
          ],
          [
           425
          ],
          [
           2941
          ],
          [
           3315
          ],
          [
           3437
          ],
          [
           1726
          ],
          [
           3142
          ],
          [
           1516
          ],
          [
           4145
          ],
          [
           1069
          ],
          [
           2814
          ],
          [
           1859
          ],
          [
           1618
          ],
          [
           4682
          ],
          [
           2670
          ],
          [
           242
          ],
          [
           723
          ],
          [
           1297
          ],
          [
           1211
          ],
          [
           1470
          ],
          [
           1195
          ],
          [
           1021
          ],
          [
           1066
          ],
          [
           5520
          ],
          [
           4297
          ],
          [
           3817
          ],
          [
           3122
          ],
          [
           1471
          ],
          [
           2268
          ],
          [
           8241
          ],
          [
           1763
          ],
          [
           2041
          ],
          [
           2028
          ],
          [
           3544
          ],
          [
           4767
          ],
          [
           2060
          ],
          [
           2269
          ],
          [
           438
          ],
          [
           505
          ],
          [
           742
          ],
          [
           1195
          ],
          [
           205
          ],
          [
           823
          ],
          [
           1693
          ],
          [
           4234
          ],
          [
           4763
          ],
          [
           6867
          ],
          [
           3949
          ],
          [
           4369
          ],
          [
           4883
          ],
          [
           7274
          ],
          [
           2951
          ],
          [
           4758
          ],
          [
           4201
          ],
          [
           8814
          ],
          [
           6995
          ],
          [
           585
          ],
          [
           31
          ],
          [
           99
          ],
          [
           1003
          ],
          [
           1095
          ],
          [
           969
          ],
          [
           1942
          ],
          [
           5592
          ],
          [
           3628
          ],
          [
           6233
          ],
          [
           5504
          ],
          [
           5951
          ],
          [
           3168
          ],
          [
           5909
          ],
          [
           4305
          ],
          [
           2048
          ],
          [
           2625
          ],
          [
           5777
          ],
          [
           7267
          ],
          [
           5012
          ],
          [
           1188
          ],
          [
           58
          ],
          [
           328
          ],
          [
           534
          ],
          [
           919
          ],
          [
           406
          ],
          [
           590
          ],
          [
           1250
          ],
          [
           1826
          ],
          [
           1478
          ],
          [
           3714
          ],
          [
           5048
          ],
          [
           6472
          ],
          [
           4507
          ],
          [
           6162
          ],
          [
           3860
          ],
          [
           6773
          ],
          [
           3549
          ],
          [
           2543
          ],
          [
           6821
          ],
          [
           5372
          ],
          [
           2957
          ],
          [
           4513
          ],
          [
           2276
          ],
          [
           619
          ],
          [
           99
          ],
          [
           364
          ],
          [
           568
          ],
          [
           527
          ],
          [
           12
          ],
          [
           976
          ],
          [
           1414
          ],
          [
           1419
          ],
          [
           1842
          ],
          [
           3076
          ],
          [
           3787
          ],
          [
           4435
          ],
          [
           2339
          ],
          [
           5740
          ],
          [
           4406
          ],
          [
           4312
          ],
          [
           1579
          ],
          [
           3791
          ],
          [
           5429
          ],
          [
           3129
          ],
          [
           1650
          ],
          [
           1268
          ],
          [
           136
          ],
          [
           160
          ],
          [
           562
          ],
          [
           890
          ],
          [
           842
          ],
          [
           1038
          ],
          [
           783
          ],
          [
           1382
          ],
          [
           2150
          ],
          [
           1099
          ],
          [
           2622
          ],
          [
           2069
          ],
          [
           1903
          ],
          [
           3373
          ],
          [
           4825
          ],
          [
           4245
          ],
          [
           3632
          ],
          [
           2800
          ],
          [
           4481
          ],
          [
           2710
          ],
          [
           1465
          ],
          [
           1734
          ],
          [
           2503
          ],
          [
           173
          ],
          [
           2
          ],
          [
           337
          ],
          [
           1481
          ],
          [
           1065
          ],
          [
           2636
          ],
          [
           703
          ],
          [
           2163
          ],
          [
           1463
          ],
          [
           2536
          ],
          [
           3262
          ],
          [
           5951
          ],
          [
           2451
          ],
          [
           2022
          ],
          [
           1430
          ],
          [
           3285
          ],
          [
           4825
          ],
          [
           3593
          ],
          [
           2496
          ],
          [
           1614
          ],
          [
           175
          ],
          [
           760
          ],
          [
           186
          ],
          [
           890
          ],
          [
           298
          ],
          [
           2026
          ],
          [
           2725
          ],
          [
           1866
          ],
          [
           754
          ],
          [
           1931
          ],
          [
           189
          ],
          [
           930
          ],
          [
           1853
          ],
          [
           2541
          ],
          [
           3498
          ],
          [
           3724
          ],
          [
           1264
          ],
          [
           10
          ],
          [
           22
          ],
          [
           26
          ],
          [
           53
          ],
          [
           214
          ],
          [
           1384
          ],
          [
           1968
          ],
          [
           1594
          ],
          [
           1303
          ],
          [
           841
          ],
          [
           209
          ],
          [
           921
          ],
          [
           1925
          ],
          [
           2406
          ],
          [
           3741
          ],
          [
           2125
          ],
          [
           9
          ],
          [
           930
          ],
          [
           1722
          ],
          [
           976
          ],
          [
           542
          ],
          [
           362
          ],
          [
           838
          ],
          [
           1055
          ],
          [
           1461
          ],
          [
           1908
          ],
          [
           3113
          ],
          [
           1624
          ],
          [
           2619
          ],
          [
           3900
          ],
          [
           353
          ],
          [
           1180
          ],
          [
           3239
          ],
          [
           3727
          ],
          [
           4525
          ],
          [
           2343
          ],
          [
           1135
          ],
          [
           401
          ],
          [
           274
          ],
          [
           801
          ],
          [
           1220
          ],
          [
           1253
          ],
          [
           3136
          ],
          [
           786
          ],
          [
           15
          ],
          [
           2273
          ],
          [
           5778
          ],
          [
           6733
          ],
          [
           4360
          ],
          [
           2789
          ],
          [
           2523
          ],
          [
           2909
          ],
          [
           3001
          ],
          [
           2380
          ],
          [
           1416
          ],
          [
           2621
          ],
          [
           3398
          ],
          [
           706
          ],
          [
           1
          ],
          [
           394
          ],
          [
           55
          ],
          [
           874
          ],
          [
           2421
          ],
          [
           8244
          ],
          [
           8436
          ],
          [
           6283
          ],
          [
           3270
          ],
          [
           1545
          ],
          [
           578
          ],
          [
           2094
          ],
          [
           3187
          ],
          [
           1362
          ],
          [
           3633
          ],
          [
           4627
          ],
          [
           748
          ],
          [
           74
          ],
          [
           4031
          ],
          [
           5775
          ],
          [
           8449
          ],
          [
           6807
          ],
          [
           10654
          ],
          [
           5660
          ],
          [
           6343
          ],
          [
           4907
          ],
          [
           4649
          ],
          [
           2338
          ],
          [
           1773
          ],
          [
           1779
          ],
          [
           2520
          ],
          [
           4385
          ],
          [
           9298
          ],
          [
           56
          ],
          [
           8307
          ],
          [
           9561
          ],
          [
           5927
          ],
          [
           5303
          ],
          [
           8083
          ],
          [
           3486
          ],
          [
           5632
          ],
          [
           2935
          ],
          [
           3241
          ],
          [
           2460
          ],
          [
           3339
          ],
          [
           2574
          ],
          [
           4936
          ],
          [
           7814
          ],
          [
           18221
          ],
          [
           1459
          ],
          [
           5560
          ],
          [
           7507
          ],
          [
           5191
          ],
          [
           1615
          ],
          [
           6989
          ],
          [
           10118
          ],
          [
           3718
          ],
          [
           2039
          ],
          [
           2352
          ],
          [
           3006
          ],
          [
           3422
          ],
          [
           2052
          ],
          [
           2896
          ],
          [
           7048
          ],
          [
           17946
          ],
          [
           2505
          ],
          [
           64
          ],
          [
           331
          ],
          [
           177
          ],
          [
           235
          ],
          [
           5040
          ],
          [
           5863
          ],
          [
           3944
          ],
          [
           4426
          ],
          [
           7403
          ],
          [
           4202
          ],
          [
           1678
          ],
          [
           4212
          ],
          [
           3649
          ],
          [
           5437
          ],
          [
           3960
          ],
          [
           1244
          ],
          [
           2881
          ],
          [
           6733
          ],
          [
           3772
          ],
          [
           10
          ],
          [
           413
          ],
          [
           482
          ],
          [
           1038
          ],
          [
           2664
          ],
          [
           2307
          ],
          [
           2188
          ],
          [
           3126
          ],
          [
           3285
          ],
          [
           3921
          ],
          [
           3203
          ],
          [
           3562
          ],
          [
           3496
          ],
          [
           3480
          ],
          [
           1427
          ],
          [
           2404
          ],
          [
           2552
          ],
          [
           3496
          ],
          [
           388
          ],
          [
           795
          ],
          [
           1141
          ],
          [
           2108
          ],
          [
           2585
          ],
          [
           3003
          ],
          [
           2429
          ],
          [
           2531
          ],
          [
           2478
          ],
          [
           2824
          ],
          [
           2972
          ],
          [
           2569
          ],
          [
           2188
          ],
          [
           1868
          ],
          [
           2625
          ],
          [
           2836
          ],
          [
           3597
          ],
          [
           1699
          ],
          [
           3
          ],
          [
           91
          ],
          [
           176
          ],
          [
           347
          ],
          [
           1037
          ],
          [
           1116
          ],
          [
           2118
          ],
          [
           2885
          ],
          [
           2758
          ],
          [
           2880
          ],
          [
           1854
          ],
          [
           3348
          ],
          [
           3785
          ],
          [
           2581
          ],
          [
           1363
          ],
          [
           1887
          ],
          [
           1377
          ],
          [
           2019
          ],
          [
           4609
          ],
          [
           5048
          ],
          [
           1175
          ],
          [
           372
          ],
          [
           528
          ],
          [
           818
          ],
          [
           1103
          ],
          [
           720
          ],
          [
           975
          ],
          [
           1664
          ],
          [
           1666
          ],
          [
           1525
          ],
          [
           1753
          ],
          [
           2042
          ],
          [
           1722
          ],
          [
           1772
          ],
          [
           732
          ],
          [
           1898
          ],
          [
           1532
          ],
          [
           2260
          ],
          [
           6614
          ],
          [
           5928
          ],
          [
           121
          ],
          [
           1
          ],
          [
           18
          ],
          [
           428
          ],
          [
           11
          ],
          [
           23
          ],
          [
           10
          ],
          [
           262
          ],
          [
           29
          ],
          [
           169
          ],
          [
           268
          ],
          [
           380
          ],
          [
           1074
          ],
          [
           1719
          ],
          [
           1552
          ],
          [
           2154
          ],
          [
           1497
          ],
          [
           2190
          ],
          [
           2279
          ],
          [
           2166
          ],
          [
           628
          ],
          [
           1360
          ],
          [
           1347
          ],
          [
           1591
          ],
          [
           2848
          ],
          [
           1845
          ],
          [
           10
          ],
          [
           25
          ],
          [
           9
          ],
          [
           4
          ],
          [
           24
          ],
          [
           1
          ],
          [
           68
          ],
          [
           178
          ],
          [
           11
          ],
          [
           55
          ],
          [
           53
          ],
          [
           611
          ],
          [
           1705
          ],
          [
           1266
          ],
          [
           960
          ],
          [
           1669
          ],
          [
           2907
          ],
          [
           3959
          ],
          [
           2757
          ],
          [
           1400
          ],
          [
           1961
          ],
          [
           1876
          ],
          [
           2834
          ],
          [
           8655
          ],
          [
           1316
          ],
          [
           195
          ],
          [
           88
          ],
          [
           4258
          ],
          [
           767
          ],
          [
           87
          ],
          [
           6
          ],
          [
           24
          ],
          [
           1
          ],
          [
           1030
          ],
          [
           579
          ],
          [
           136
          ],
          [
           331
          ],
          [
           543
          ],
          [
           512
          ],
          [
           627
          ],
          [
           1702
          ],
          [
           903
          ],
          [
           581
          ],
          [
           460
          ],
          [
           1245
          ],
          [
           1401
          ],
          [
           1354
          ],
          [
           2147
          ],
          [
           1300
          ],
          [
           1304
          ],
          [
           1636
          ],
          [
           4783
          ],
          [
           108
          ],
          [
           36
          ],
          [
           9
          ],
          [
           41
          ],
          [
           6
          ],
          [
           651
          ],
          [
           2
          ],
          [
           2
          ],
          [
           237
          ],
          [
           365
          ],
          [
           221
          ],
          [
           381
          ],
          [
           640
          ],
          [
           776
          ],
          [
           581
          ],
          [
           580
          ],
          [
           75
          ],
          [
           188
          ],
          [
           168
          ],
          [
           122
          ],
          [
           1302
          ],
          [
           901
          ],
          [
           1843
          ],
          [
           233
          ],
          [
           585
          ],
          [
           2451
          ],
          [
           2790
          ],
          [
           1
          ],
          [
           8
          ],
          [
           12
          ],
          [
           8
          ],
          [
           44
          ],
          [
           42
          ],
          [
           280
          ],
          [
           459
          ],
          [
           410
          ],
          [
           673
          ],
          [
           205
          ],
          [
           148
          ],
          [
           312
          ],
          [
           322
          ],
          [
           356
          ],
          [
           974
          ],
          [
           2217
          ],
          [
           2887
          ],
          [
           3628
          ],
          [
           1859
          ],
          [
           2410
          ],
          [
           1868
          ],
          [
           1
          ],
          [
           5
          ],
          [
           34
          ],
          [
           19
          ],
          [
           68
          ],
          [
           534
          ],
          [
           147
          ],
          [
           55
          ],
          [
           60
          ],
          [
           132
          ],
          [
           580
          ],
          [
           1358
          ],
          [
           1243
          ],
          [
           2590
          ],
          [
           3943
          ],
          [
           294
          ],
          [
           17
          ],
          [
           217
          ],
          [
           197
          ],
          [
           70
          ],
          [
           480
          ],
          [
           1478
          ],
          [
           2796
          ],
          [
           4797
          ],
          [
           2943
          ],
          [
           1449
          ],
          [
           914
          ]
         ],
         "hovertemplate": "Count=%{marker.color}<br>Latitude=%{lat}<br>Longitude=%{lon}<extra></extra>",
         "lat": [
          36.61,
          41.64,
          41.64,
          41.64,
          41.64,
          41.64,
          41.64,
          41.64,
          41.64,
          41.65,
          41.65,
          41.65,
          41.65,
          41.65,
          41.65,
          41.65,
          41.65,
          41.65,
          41.65,
          41.65,
          41.65,
          41.660000000000004,
          41.660000000000004,
          41.660000000000004,
          41.660000000000004,
          41.660000000000004,
          41.660000000000004,
          41.660000000000004,
          41.660000000000004,
          41.660000000000004,
          41.660000000000004,
          41.660000000000004,
          41.67,
          41.67,
          41.67,
          41.67,
          41.67,
          41.67,
          41.67,
          41.67,
          41.67,
          41.67,
          41.67,
          41.67,
          41.67,
          41.67,
          41.67,
          41.68,
          41.68,
          41.68,
          41.68,
          41.68,
          41.68,
          41.68,
          41.68,
          41.68,
          41.68,
          41.68,
          41.68,
          41.68,
          41.68,
          41.68,
          41.68,
          41.68,
          41.68,
          41.68,
          41.68,
          41.69,
          41.69,
          41.69,
          41.69,
          41.69,
          41.69,
          41.69,
          41.69,
          41.69,
          41.69,
          41.69,
          41.69,
          41.69,
          41.69,
          41.69,
          41.69,
          41.69,
          41.69,
          41.69,
          41.69,
          41.69,
          41.7,
          41.7,
          41.7,
          41.7,
          41.7,
          41.7,
          41.7,
          41.7,
          41.7,
          41.7,
          41.7,
          41.7,
          41.7,
          41.7,
          41.7,
          41.7,
          41.7,
          41.7,
          41.7,
          41.7,
          41.7,
          41.71,
          41.71,
          41.71,
          41.71,
          41.71,
          41.71,
          41.71,
          41.71,
          41.71,
          41.71,
          41.71,
          41.71,
          41.71,
          41.71,
          41.71,
          41.71,
          41.71,
          41.71,
          41.71,
          41.71,
          41.72,
          41.72,
          41.72,
          41.72,
          41.72,
          41.72,
          41.72,
          41.72,
          41.72,
          41.72,
          41.72,
          41.72,
          41.72,
          41.72,
          41.72,
          41.72,
          41.72,
          41.730000000000004,
          41.730000000000004,
          41.730000000000004,
          41.730000000000004,
          41.730000000000004,
          41.730000000000004,
          41.730000000000004,
          41.730000000000004,
          41.730000000000004,
          41.730000000000004,
          41.730000000000004,
          41.730000000000004,
          41.730000000000004,
          41.730000000000004,
          41.730000000000004,
          41.730000000000004,
          41.730000000000004,
          41.730000000000004,
          41.730000000000004,
          41.730000000000004,
          41.730000000000004,
          41.74,
          41.74,
          41.74,
          41.74,
          41.74,
          41.74,
          41.74,
          41.74,
          41.74,
          41.74,
          41.74,
          41.74,
          41.74,
          41.74,
          41.74,
          41.74,
          41.74,
          41.74,
          41.74,
          41.74,
          41.74,
          41.75,
          41.75,
          41.75,
          41.75,
          41.75,
          41.75,
          41.75,
          41.75,
          41.75,
          41.75,
          41.75,
          41.75,
          41.75,
          41.75,
          41.75,
          41.75,
          41.75,
          41.75,
          41.75,
          41.75,
          41.75,
          41.76,
          41.76,
          41.76,
          41.76,
          41.76,
          41.76,
          41.76,
          41.76,
          41.76,
          41.76,
          41.76,
          41.76,
          41.76,
          41.76,
          41.76,
          41.76,
          41.76,
          41.76,
          41.76,
          41.76,
          41.77,
          41.77,
          41.77,
          41.77,
          41.77,
          41.77,
          41.77,
          41.77,
          41.77,
          41.77,
          41.77,
          41.77,
          41.77,
          41.77,
          41.77,
          41.77,
          41.77,
          41.77,
          41.77,
          41.77,
          41.77,
          41.77,
          41.77,
          41.77,
          41.78,
          41.78,
          41.78,
          41.78,
          41.78,
          41.78,
          41.78,
          41.78,
          41.78,
          41.78,
          41.78,
          41.78,
          41.78,
          41.78,
          41.78,
          41.78,
          41.78,
          41.78,
          41.78,
          41.78,
          41.78,
          41.78,
          41.78,
          41.79,
          41.79,
          41.79,
          41.79,
          41.79,
          41.79,
          41.79,
          41.79,
          41.79,
          41.79,
          41.79,
          41.79,
          41.79,
          41.79,
          41.79,
          41.79,
          41.79,
          41.79,
          41.79,
          41.79,
          41.79,
          41.79,
          41.79,
          41.800000000000004,
          41.800000000000004,
          41.800000000000004,
          41.800000000000004,
          41.800000000000004,
          41.800000000000004,
          41.800000000000004,
          41.800000000000004,
          41.800000000000004,
          41.800000000000004,
          41.800000000000004,
          41.800000000000004,
          41.800000000000004,
          41.800000000000004,
          41.800000000000004,
          41.800000000000004,
          41.800000000000004,
          41.800000000000004,
          41.800000000000004,
          41.81,
          41.81,
          41.81,
          41.81,
          41.81,
          41.81,
          41.81,
          41.81,
          41.81,
          41.81,
          41.81,
          41.81,
          41.81,
          41.81,
          41.81,
          41.81,
          41.81,
          41.81,
          41.82,
          41.82,
          41.82,
          41.82,
          41.82,
          41.82,
          41.82,
          41.82,
          41.82,
          41.82,
          41.82,
          41.82,
          41.82,
          41.82,
          41.82,
          41.82,
          41.83,
          41.83,
          41.83,
          41.83,
          41.83,
          41.83,
          41.83,
          41.83,
          41.83,
          41.83,
          41.83,
          41.83,
          41.83,
          41.83,
          41.84,
          41.84,
          41.84,
          41.84,
          41.84,
          41.84,
          41.84,
          41.84,
          41.84,
          41.84,
          41.84,
          41.84,
          41.84,
          41.84,
          41.85,
          41.85,
          41.85,
          41.85,
          41.85,
          41.85,
          41.85,
          41.85,
          41.85,
          41.85,
          41.85,
          41.85,
          41.85,
          41.85,
          41.86,
          41.86,
          41.86,
          41.86,
          41.86,
          41.86,
          41.86,
          41.86,
          41.86,
          41.86,
          41.86,
          41.86,
          41.86,
          41.86,
          41.86,
          41.86,
          41.86,
          41.87,
          41.87,
          41.87,
          41.87,
          41.87,
          41.87,
          41.87,
          41.87,
          41.87,
          41.87,
          41.87,
          41.87,
          41.87,
          41.87,
          41.87,
          41.87,
          41.88,
          41.88,
          41.88,
          41.88,
          41.88,
          41.88,
          41.88,
          41.88,
          41.88,
          41.88,
          41.88,
          41.88,
          41.88,
          41.88,
          41.88,
          41.88,
          41.89,
          41.89,
          41.89,
          41.89,
          41.89,
          41.89,
          41.89,
          41.89,
          41.89,
          41.89,
          41.89,
          41.89,
          41.89,
          41.89,
          41.89,
          41.89,
          41.89,
          41.9,
          41.9,
          41.9,
          41.9,
          41.9,
          41.9,
          41.9,
          41.9,
          41.9,
          41.9,
          41.9,
          41.9,
          41.9,
          41.9,
          41.9,
          41.9,
          41.9,
          41.9,
          41.9,
          41.910000000000004,
          41.910000000000004,
          41.910000000000004,
          41.910000000000004,
          41.910000000000004,
          41.910000000000004,
          41.910000000000004,
          41.910000000000004,
          41.910000000000004,
          41.910000000000004,
          41.910000000000004,
          41.910000000000004,
          41.910000000000004,
          41.910000000000004,
          41.910000000000004,
          41.910000000000004,
          41.910000000000004,
          41.910000000000004,
          41.92,
          41.92,
          41.92,
          41.92,
          41.92,
          41.92,
          41.92,
          41.92,
          41.92,
          41.92,
          41.92,
          41.92,
          41.92,
          41.92,
          41.92,
          41.92,
          41.92,
          41.93,
          41.93,
          41.93,
          41.93,
          41.93,
          41.93,
          41.93,
          41.93,
          41.93,
          41.93,
          41.93,
          41.93,
          41.93,
          41.93,
          41.93,
          41.93,
          41.93,
          41.93,
          41.93,
          41.93,
          41.93,
          41.94,
          41.94,
          41.94,
          41.94,
          41.94,
          41.94,
          41.94,
          41.94,
          41.94,
          41.94,
          41.94,
          41.94,
          41.94,
          41.94,
          41.94,
          41.94,
          41.94,
          41.94,
          41.94,
          41.94,
          41.95,
          41.95,
          41.95,
          41.95,
          41.95,
          41.95,
          41.95,
          41.95,
          41.95,
          41.95,
          41.95,
          41.95,
          41.95,
          41.95,
          41.95,
          41.95,
          41.95,
          41.95,
          41.95,
          41.95,
          41.95,
          41.95,
          41.95,
          41.95,
          41.95,
          41.96,
          41.96,
          41.96,
          41.96,
          41.96,
          41.96,
          41.96,
          41.96,
          41.96,
          41.96,
          41.96,
          41.96,
          41.96,
          41.96,
          41.96,
          41.96,
          41.96,
          41.96,
          41.96,
          41.96,
          41.96,
          41.96,
          41.96,
          41.96,
          41.96,
          41.96,
          41.97,
          41.97,
          41.97,
          41.97,
          41.97,
          41.97,
          41.97,
          41.97,
          41.97,
          41.97,
          41.97,
          41.97,
          41.97,
          41.97,
          41.97,
          41.97,
          41.97,
          41.97,
          41.97,
          41.97,
          41.97,
          41.97,
          41.97,
          41.97,
          41.97,
          41.97,
          41.97,
          41.980000000000004,
          41.980000000000004,
          41.980000000000004,
          41.980000000000004,
          41.980000000000004,
          41.980000000000004,
          41.980000000000004,
          41.980000000000004,
          41.980000000000004,
          41.980000000000004,
          41.980000000000004,
          41.980000000000004,
          41.980000000000004,
          41.980000000000004,
          41.980000000000004,
          41.980000000000004,
          41.980000000000004,
          41.980000000000004,
          41.980000000000004,
          41.980000000000004,
          41.980000000000004,
          41.980000000000004,
          41.980000000000004,
          41.980000000000004,
          41.980000000000004,
          41.980000000000004,
          41.99,
          41.99,
          41.99,
          41.99,
          41.99,
          41.99,
          41.99,
          41.99,
          41.99,
          41.99,
          41.99,
          41.99,
          41.99,
          41.99,
          41.99,
          41.99,
          41.99,
          41.99,
          41.99,
          41.99,
          41.99,
          41.99,
          42,
          42,
          42,
          42,
          42,
          42,
          42,
          42,
          42,
          42,
          42,
          42,
          42,
          42,
          42,
          42,
          42.01,
          42.01,
          42.01,
          42.01,
          42.01,
          42.01,
          42.01,
          42.01,
          42.01,
          42.02,
          42.02
         ],
         "legendgroup": "",
         "lon": [
          -91.69,
          -87.62,
          -87.61,
          -87.60000000000001,
          -87.58,
          -87.57000000000001,
          -87.56,
          -87.55,
          -87.54,
          -87.65,
          -87.64,
          -87.62,
          -87.61,
          -87.60000000000001,
          -87.59,
          -87.58,
          -87.57000000000001,
          -87.56,
          -87.55,
          -87.54,
          -87.53,
          -87.65,
          -87.64,
          -87.63,
          -87.62,
          -87.61,
          -87.60000000000001,
          -87.59,
          -87.58,
          -87.56,
          -87.55,
          -87.54,
          -87.69,
          -87.68,
          -87.67,
          -87.66,
          -87.65,
          -87.64,
          -87.63,
          -87.62,
          -87.61,
          -87.60000000000001,
          -87.58,
          -87.57000000000001,
          -87.56,
          -87.55,
          -87.54,
          -87.74,
          -87.73,
          -87.72,
          -87.71000000000001,
          -87.7,
          -87.69,
          -87.68,
          -87.67,
          -87.66,
          -87.65,
          -87.64,
          -87.63,
          -87.62,
          -87.61,
          -87.60000000000001,
          -87.58,
          -87.57000000000001,
          -87.56,
          -87.55,
          -87.54,
          -87.74,
          -87.73,
          -87.72,
          -87.71000000000001,
          -87.7,
          -87.69,
          -87.68,
          -87.67,
          -87.66,
          -87.65,
          -87.64,
          -87.63,
          -87.62,
          -87.61,
          -87.60000000000001,
          -87.58,
          -87.57000000000001,
          -87.56,
          -87.55,
          -87.54,
          -87.53,
          -87.73,
          -87.72,
          -87.71000000000001,
          -87.7,
          -87.69,
          -87.68,
          -87.67,
          -87.66,
          -87.65,
          -87.64,
          -87.63,
          -87.62,
          -87.61,
          -87.60000000000001,
          -87.59,
          -87.58,
          -87.57000000000001,
          -87.56,
          -87.55,
          -87.54,
          -87.53,
          -87.73,
          -87.72,
          -87.7,
          -87.69,
          -87.68,
          -87.67,
          -87.66,
          -87.65,
          -87.64,
          -87.63,
          -87.62,
          -87.61,
          -87.60000000000001,
          -87.59,
          -87.58,
          -87.57000000000001,
          -87.56,
          -87.55,
          -87.54,
          -87.53,
          -87.69,
          -87.68,
          -87.67,
          -87.66,
          -87.65,
          -87.64,
          -87.63,
          -87.62,
          -87.61,
          -87.60000000000001,
          -87.59,
          -87.58,
          -87.57000000000001,
          -87.56,
          -87.55,
          -87.54,
          -87.53,
          -87.75,
          -87.74,
          -87.73,
          -87.72,
          -87.71000000000001,
          -87.7,
          -87.69,
          -87.68,
          -87.67,
          -87.66,
          -87.65,
          -87.64,
          -87.63,
          -87.62,
          -87.61,
          -87.60000000000001,
          -87.59,
          -87.58,
          -87.57000000000001,
          -87.56,
          -87.55,
          -87.75,
          -87.74,
          -87.73,
          -87.72,
          -87.71000000000001,
          -87.7,
          -87.69,
          -87.68,
          -87.67,
          -87.66,
          -87.65,
          -87.64,
          -87.63,
          -87.62,
          -87.61,
          -87.60000000000001,
          -87.59,
          -87.58,
          -87.57000000000001,
          -87.56,
          -87.55,
          -87.75,
          -87.74,
          -87.73,
          -87.72,
          -87.71000000000001,
          -87.7,
          -87.69,
          -87.68,
          -87.67,
          -87.66,
          -87.65,
          -87.64,
          -87.63,
          -87.62,
          -87.61,
          -87.60000000000001,
          -87.59,
          -87.58,
          -87.57000000000001,
          -87.56,
          -87.55,
          -87.75,
          -87.74,
          -87.73,
          -87.72,
          -87.71000000000001,
          -87.7,
          -87.69,
          -87.68,
          -87.67,
          -87.66,
          -87.65,
          -87.64,
          -87.63,
          -87.62,
          -87.61,
          -87.60000000000001,
          -87.59,
          -87.58,
          -87.57000000000001,
          -87.56,
          -87.81,
          -87.8,
          -87.79,
          -87.77,
          -87.76,
          -87.75,
          -87.74,
          -87.73,
          -87.72,
          -87.71000000000001,
          -87.7,
          -87.69,
          -87.68,
          -87.67,
          -87.66,
          -87.65,
          -87.64,
          -87.63,
          -87.62,
          -87.61,
          -87.60000000000001,
          -87.59,
          -87.58,
          -87.57000000000001,
          -87.81,
          -87.8,
          -87.79,
          -87.77,
          -87.76,
          -87.75,
          -87.74,
          -87.73,
          -87.72,
          -87.71000000000001,
          -87.7,
          -87.69,
          -87.68,
          -87.67,
          -87.66,
          -87.65,
          -87.64,
          -87.63,
          -87.62,
          -87.61,
          -87.60000000000001,
          -87.59,
          -87.58,
          -87.81,
          -87.8,
          -87.79,
          -87.77,
          -87.76,
          -87.75,
          -87.74,
          -87.73,
          -87.72,
          -87.71000000000001,
          -87.7,
          -87.69,
          -87.68,
          -87.67,
          -87.66,
          -87.65,
          -87.64,
          -87.63,
          -87.62,
          -87.61,
          -87.60000000000001,
          -87.59,
          -87.58,
          -87.77,
          -87.76,
          -87.75,
          -87.74,
          -87.73,
          -87.72,
          -87.71000000000001,
          -87.7,
          -87.69,
          -87.68,
          -87.67,
          -87.66,
          -87.65,
          -87.64,
          -87.63,
          -87.62,
          -87.61,
          -87.60000000000001,
          -87.59,
          -87.76,
          -87.75,
          -87.74,
          -87.73,
          -87.72,
          -87.71000000000001,
          -87.7,
          -87.69,
          -87.68,
          -87.67,
          -87.66,
          -87.65,
          -87.64,
          -87.63,
          -87.62,
          -87.61,
          -87.60000000000001,
          -87.59,
          -87.75,
          -87.74,
          -87.73,
          -87.72,
          -87.71000000000001,
          -87.7,
          -87.69,
          -87.68,
          -87.67,
          -87.66,
          -87.65,
          -87.64,
          -87.63,
          -87.62,
          -87.61,
          -87.60000000000001,
          -87.74,
          -87.73,
          -87.72,
          -87.71000000000001,
          -87.7,
          -87.69,
          -87.68,
          -87.67,
          -87.66,
          -87.65,
          -87.64,
          -87.63,
          -87.62,
          -87.61,
          -87.74,
          -87.73,
          -87.72,
          -87.71000000000001,
          -87.7,
          -87.69,
          -87.68,
          -87.67,
          -87.66,
          -87.65,
          -87.64,
          -87.63,
          -87.62,
          -87.61,
          -87.74,
          -87.73,
          -87.72,
          -87.71000000000001,
          -87.7,
          -87.69,
          -87.68,
          -87.67,
          -87.66,
          -87.65,
          -87.64,
          -87.63,
          -87.62,
          -87.61,
          -87.77,
          -87.76,
          -87.75,
          -87.74,
          -87.73,
          -87.72,
          -87.71000000000001,
          -87.7,
          -87.69,
          -87.68,
          -87.67,
          -87.66,
          -87.65,
          -87.64,
          -87.63,
          -87.62,
          -87.61,
          -87.77,
          -87.76,
          -87.75,
          -87.74,
          -87.73,
          -87.72,
          -87.71000000000001,
          -87.7,
          -87.69,
          -87.68,
          -87.67,
          -87.66,
          -87.65,
          -87.64,
          -87.63,
          -87.62,
          -87.77,
          -87.76,
          -87.75,
          -87.74,
          -87.73,
          -87.72,
          -87.71000000000001,
          -87.7,
          -87.69,
          -87.68,
          -87.67,
          -87.66,
          -87.65,
          -87.64,
          -87.63,
          -87.62,
          -87.77,
          -87.76,
          -87.75,
          -87.74,
          -87.73,
          -87.72,
          -87.71000000000001,
          -87.7,
          -87.69,
          -87.68,
          -87.67,
          -87.66,
          -87.65,
          -87.64,
          -87.63,
          -87.62,
          -87.61,
          -87.81,
          -87.8,
          -87.79,
          -87.77,
          -87.76,
          -87.75,
          -87.74,
          -87.73,
          -87.72,
          -87.71000000000001,
          -87.7,
          -87.69,
          -87.68,
          -87.67,
          -87.66,
          -87.65,
          -87.64,
          -87.63,
          -87.62,
          -87.81,
          -87.8,
          -87.79,
          -87.77,
          -87.76,
          -87.75,
          -87.74,
          -87.73,
          -87.72,
          -87.71000000000001,
          -87.7,
          -87.69,
          -87.68,
          -87.67,
          -87.66,
          -87.65,
          -87.64,
          -87.63,
          -87.81,
          -87.8,
          -87.79,
          -87.77,
          -87.76,
          -87.75,
          -87.74,
          -87.73,
          -87.72,
          -87.71000000000001,
          -87.7,
          -87.69,
          -87.68,
          -87.67,
          -87.66,
          -87.65,
          -87.64,
          -87.85000000000001,
          -87.84,
          -87.83,
          -87.82000000000001,
          -87.81,
          -87.8,
          -87.79,
          -87.77,
          -87.76,
          -87.75,
          -87.74,
          -87.73,
          -87.72,
          -87.71000000000001,
          -87.7,
          -87.69,
          -87.68,
          -87.67,
          -87.66,
          -87.65,
          -87.64,
          -87.84,
          -87.83,
          -87.82000000000001,
          -87.81,
          -87.8,
          -87.79,
          -87.77,
          -87.76,
          -87.75,
          -87.74,
          -87.73,
          -87.72,
          -87.71000000000001,
          -87.7,
          -87.69,
          -87.68,
          -87.67,
          -87.66,
          -87.65,
          -87.64,
          -87.93,
          -87.92,
          -87.91,
          -87.9,
          -87.89,
          -87.85000000000001,
          -87.84,
          -87.83,
          -87.82000000000001,
          -87.81,
          -87.8,
          -87.79,
          -87.77,
          -87.76,
          -87.75,
          -87.74,
          -87.73,
          -87.72,
          -87.71000000000001,
          -87.7,
          -87.69,
          -87.68,
          -87.67,
          -87.66,
          -87.65,
          -87.93,
          -87.92,
          -87.91,
          -87.9,
          -87.89,
          -87.88,
          -87.85000000000001,
          -87.84,
          -87.82000000000001,
          -87.81,
          -87.8,
          -87.79,
          -87.77,
          -87.76,
          -87.75,
          -87.74,
          -87.73,
          -87.72,
          -87.71000000000001,
          -87.7,
          -87.69,
          -87.68,
          -87.67,
          -87.66,
          -87.65,
          -87.64,
          -87.92,
          -87.91,
          -87.9,
          -87.89,
          -87.88,
          -87.87,
          -87.86,
          -87.85000000000001,
          -87.84,
          -87.83,
          -87.82000000000001,
          -87.81,
          -87.8,
          -87.79,
          -87.77,
          -87.76,
          -87.75,
          -87.74,
          -87.73,
          -87.72,
          -87.71000000000001,
          -87.7,
          -87.69,
          -87.68,
          -87.67,
          -87.66,
          -87.65,
          -87.93,
          -87.92,
          -87.91,
          -87.9,
          -87.89,
          -87.88,
          -87.86,
          -87.85000000000001,
          -87.84,
          -87.83,
          -87.82000000000001,
          -87.81,
          -87.8,
          -87.79,
          -87.77,
          -87.76,
          -87.75,
          -87.74,
          -87.73,
          -87.72,
          -87.71000000000001,
          -87.7,
          -87.69,
          -87.68,
          -87.67,
          -87.66,
          -87.94,
          -87.93,
          -87.92,
          -87.9,
          -87.89,
          -87.83,
          -87.82000000000001,
          -87.81,
          -87.8,
          -87.79,
          -87.77,
          -87.76,
          -87.75,
          -87.74,
          -87.73,
          -87.72,
          -87.71000000000001,
          -87.7,
          -87.69,
          -87.68,
          -87.67,
          -87.66,
          -87.94,
          -87.93,
          -87.91,
          -87.9,
          -87.83,
          -87.82000000000001,
          -87.81,
          -87.8,
          -87.79,
          -87.77,
          -87.71000000000001,
          -87.7,
          -87.69,
          -87.68,
          -87.67,
          -87.66,
          -87.83,
          -87.82000000000001,
          -87.81,
          -87.79,
          -87.71000000000001,
          -87.7,
          -87.69,
          -87.68,
          -87.67,
          -87.68,
          -87.67
         ],
         "marker": {
          "color": [
           77,
           245,
           5,
           1,
           10,
           25,
           10,
           239,
           113,
           139,
           167,
           1775,
           3280,
           1279,
           7,
           5,
           9,
           296,
           1251,
           269,
           127,
           1013,
           1831,
           1240,
           131,
           1,
           14,
           36,
           10,
           378,
           62,
           12,
           168,
           176,
           561,
           860,
           1735,
           2943,
           3847,
           1467,
           173,
           4,
           16,
           2,
           9,
           41,
           18,
           2,
           222,
           170,
           310,
           66,
           466,
           656,
           1879,
           1900,
           2390,
           2930,
           4214,
           2031,
           510,
           1,
           5,
           2,
           16,
           140,
           831,
           2,
           48,
           441,
           685,
           352,
           815,
           572,
           1643,
           2061,
           1712,
           1867,
           5903,
           3448,
           1100,
           807,
           4,
           196,
           26,
           367,
           837,
           285,
           110,
           228,
           349,
           203,
           611,
           389,
           846,
           1638,
           2487,
           1708,
           5010,
           2364,
           2125,
           33,
           220,
           12,
           2684,
           380,
           500,
           1891,
           341,
           28,
           20,
           23,
           298,
           448,
           583,
           1242,
           2017,
           1456,
           2379,
           1313,
           661,
           942,
           35,
           745,
           1916,
           903,
           69,
           1558,
           16,
           285,
           570,
           2448,
           2800,
           1891,
           2105,
           3795,
           1615,
           2204,
           1725,
           1397,
           2144,
           1558,
           2243,
           736,
           629,
           6,
           129,
           478,
           455,
           478,
           594,
           364,
           97,
           425,
           2941,
           3315,
           3437,
           1726,
           3142,
           1516,
           4145,
           1069,
           2814,
           1859,
           1618,
           4682,
           2670,
           242,
           723,
           1297,
           1211,
           1470,
           1195,
           1021,
           1066,
           5520,
           4297,
           3817,
           3122,
           1471,
           2268,
           8241,
           1763,
           2041,
           2028,
           3544,
           4767,
           2060,
           2269,
           438,
           505,
           742,
           1195,
           205,
           823,
           1693,
           4234,
           4763,
           6867,
           3949,
           4369,
           4883,
           7274,
           2951,
           4758,
           4201,
           8814,
           6995,
           585,
           31,
           99,
           1003,
           1095,
           969,
           1942,
           5592,
           3628,
           6233,
           5504,
           5951,
           3168,
           5909,
           4305,
           2048,
           2625,
           5777,
           7267,
           5012,
           1188,
           58,
           328,
           534,
           919,
           406,
           590,
           1250,
           1826,
           1478,
           3714,
           5048,
           6472,
           4507,
           6162,
           3860,
           6773,
           3549,
           2543,
           6821,
           5372,
           2957,
           4513,
           2276,
           619,
           99,
           364,
           568,
           527,
           12,
           976,
           1414,
           1419,
           1842,
           3076,
           3787,
           4435,
           2339,
           5740,
           4406,
           4312,
           1579,
           3791,
           5429,
           3129,
           1650,
           1268,
           136,
           160,
           562,
           890,
           842,
           1038,
           783,
           1382,
           2150,
           1099,
           2622,
           2069,
           1903,
           3373,
           4825,
           4245,
           3632,
           2800,
           4481,
           2710,
           1465,
           1734,
           2503,
           173,
           2,
           337,
           1481,
           1065,
           2636,
           703,
           2163,
           1463,
           2536,
           3262,
           5951,
           2451,
           2022,
           1430,
           3285,
           4825,
           3593,
           2496,
           1614,
           175,
           760,
           186,
           890,
           298,
           2026,
           2725,
           1866,
           754,
           1931,
           189,
           930,
           1853,
           2541,
           3498,
           3724,
           1264,
           10,
           22,
           26,
           53,
           214,
           1384,
           1968,
           1594,
           1303,
           841,
           209,
           921,
           1925,
           2406,
           3741,
           2125,
           9,
           930,
           1722,
           976,
           542,
           362,
           838,
           1055,
           1461,
           1908,
           3113,
           1624,
           2619,
           3900,
           353,
           1180,
           3239,
           3727,
           4525,
           2343,
           1135,
           401,
           274,
           801,
           1220,
           1253,
           3136,
           786,
           15,
           2273,
           5778,
           6733,
           4360,
           2789,
           2523,
           2909,
           3001,
           2380,
           1416,
           2621,
           3398,
           706,
           1,
           394,
           55,
           874,
           2421,
           8244,
           8436,
           6283,
           3270,
           1545,
           578,
           2094,
           3187,
           1362,
           3633,
           4627,
           748,
           74,
           4031,
           5775,
           8449,
           6807,
           10654,
           5660,
           6343,
           4907,
           4649,
           2338,
           1773,
           1779,
           2520,
           4385,
           9298,
           56,
           8307,
           9561,
           5927,
           5303,
           8083,
           3486,
           5632,
           2935,
           3241,
           2460,
           3339,
           2574,
           4936,
           7814,
           18221,
           1459,
           5560,
           7507,
           5191,
           1615,
           6989,
           10118,
           3718,
           2039,
           2352,
           3006,
           3422,
           2052,
           2896,
           7048,
           17946,
           2505,
           64,
           331,
           177,
           235,
           5040,
           5863,
           3944,
           4426,
           7403,
           4202,
           1678,
           4212,
           3649,
           5437,
           3960,
           1244,
           2881,
           6733,
           3772,
           10,
           413,
           482,
           1038,
           2664,
           2307,
           2188,
           3126,
           3285,
           3921,
           3203,
           3562,
           3496,
           3480,
           1427,
           2404,
           2552,
           3496,
           388,
           795,
           1141,
           2108,
           2585,
           3003,
           2429,
           2531,
           2478,
           2824,
           2972,
           2569,
           2188,
           1868,
           2625,
           2836,
           3597,
           1699,
           3,
           91,
           176,
           347,
           1037,
           1116,
           2118,
           2885,
           2758,
           2880,
           1854,
           3348,
           3785,
           2581,
           1363,
           1887,
           1377,
           2019,
           4609,
           5048,
           1175,
           372,
           528,
           818,
           1103,
           720,
           975,
           1664,
           1666,
           1525,
           1753,
           2042,
           1722,
           1772,
           732,
           1898,
           1532,
           2260,
           6614,
           5928,
           121,
           1,
           18,
           428,
           11,
           23,
           10,
           262,
           29,
           169,
           268,
           380,
           1074,
           1719,
           1552,
           2154,
           1497,
           2190,
           2279,
           2166,
           628,
           1360,
           1347,
           1591,
           2848,
           1845,
           10,
           25,
           9,
           4,
           24,
           1,
           68,
           178,
           11,
           55,
           53,
           611,
           1705,
           1266,
           960,
           1669,
           2907,
           3959,
           2757,
           1400,
           1961,
           1876,
           2834,
           8655,
           1316,
           195,
           88,
           4258,
           767,
           87,
           6,
           24,
           1,
           1030,
           579,
           136,
           331,
           543,
           512,
           627,
           1702,
           903,
           581,
           460,
           1245,
           1401,
           1354,
           2147,
           1300,
           1304,
           1636,
           4783,
           108,
           36,
           9,
           41,
           6,
           651,
           2,
           2,
           237,
           365,
           221,
           381,
           640,
           776,
           581,
           580,
           75,
           188,
           168,
           122,
           1302,
           901,
           1843,
           233,
           585,
           2451,
           2790,
           1,
           8,
           12,
           8,
           44,
           42,
           280,
           459,
           410,
           673,
           205,
           148,
           312,
           322,
           356,
           974,
           2217,
           2887,
           3628,
           1859,
           2410,
           1868,
           1,
           5,
           34,
           19,
           68,
           534,
           147,
           55,
           60,
           132,
           580,
           1358,
           1243,
           2590,
           3943,
           294,
           17,
           217,
           197,
           70,
           480,
           1478,
           2796,
           4797,
           2943,
           1449,
           914
          ],
          "coloraxis": "coloraxis",
          "size": [
           77,
           245,
           5,
           1,
           10,
           25,
           10,
           239,
           113,
           139,
           167,
           1775,
           3280,
           1279,
           7,
           5,
           9,
           296,
           1251,
           269,
           127,
           1013,
           1831,
           1240,
           131,
           1,
           14,
           36,
           10,
           378,
           62,
           12,
           168,
           176,
           561,
           860,
           1735,
           2943,
           3847,
           1467,
           173,
           4,
           16,
           2,
           9,
           41,
           18,
           2,
           222,
           170,
           310,
           66,
           466,
           656,
           1879,
           1900,
           2390,
           2930,
           4214,
           2031,
           510,
           1,
           5,
           2,
           16,
           140,
           831,
           2,
           48,
           441,
           685,
           352,
           815,
           572,
           1643,
           2061,
           1712,
           1867,
           5903,
           3448,
           1100,
           807,
           4,
           196,
           26,
           367,
           837,
           285,
           110,
           228,
           349,
           203,
           611,
           389,
           846,
           1638,
           2487,
           1708,
           5010,
           2364,
           2125,
           33,
           220,
           12,
           2684,
           380,
           500,
           1891,
           341,
           28,
           20,
           23,
           298,
           448,
           583,
           1242,
           2017,
           1456,
           2379,
           1313,
           661,
           942,
           35,
           745,
           1916,
           903,
           69,
           1558,
           16,
           285,
           570,
           2448,
           2800,
           1891,
           2105,
           3795,
           1615,
           2204,
           1725,
           1397,
           2144,
           1558,
           2243,
           736,
           629,
           6,
           129,
           478,
           455,
           478,
           594,
           364,
           97,
           425,
           2941,
           3315,
           3437,
           1726,
           3142,
           1516,
           4145,
           1069,
           2814,
           1859,
           1618,
           4682,
           2670,
           242,
           723,
           1297,
           1211,
           1470,
           1195,
           1021,
           1066,
           5520,
           4297,
           3817,
           3122,
           1471,
           2268,
           8241,
           1763,
           2041,
           2028,
           3544,
           4767,
           2060,
           2269,
           438,
           505,
           742,
           1195,
           205,
           823,
           1693,
           4234,
           4763,
           6867,
           3949,
           4369,
           4883,
           7274,
           2951,
           4758,
           4201,
           8814,
           6995,
           585,
           31,
           99,
           1003,
           1095,
           969,
           1942,
           5592,
           3628,
           6233,
           5504,
           5951,
           3168,
           5909,
           4305,
           2048,
           2625,
           5777,
           7267,
           5012,
           1188,
           58,
           328,
           534,
           919,
           406,
           590,
           1250,
           1826,
           1478,
           3714,
           5048,
           6472,
           4507,
           6162,
           3860,
           6773,
           3549,
           2543,
           6821,
           5372,
           2957,
           4513,
           2276,
           619,
           99,
           364,
           568,
           527,
           12,
           976,
           1414,
           1419,
           1842,
           3076,
           3787,
           4435,
           2339,
           5740,
           4406,
           4312,
           1579,
           3791,
           5429,
           3129,
           1650,
           1268,
           136,
           160,
           562,
           890,
           842,
           1038,
           783,
           1382,
           2150,
           1099,
           2622,
           2069,
           1903,
           3373,
           4825,
           4245,
           3632,
           2800,
           4481,
           2710,
           1465,
           1734,
           2503,
           173,
           2,
           337,
           1481,
           1065,
           2636,
           703,
           2163,
           1463,
           2536,
           3262,
           5951,
           2451,
           2022,
           1430,
           3285,
           4825,
           3593,
           2496,
           1614,
           175,
           760,
           186,
           890,
           298,
           2026,
           2725,
           1866,
           754,
           1931,
           189,
           930,
           1853,
           2541,
           3498,
           3724,
           1264,
           10,
           22,
           26,
           53,
           214,
           1384,
           1968,
           1594,
           1303,
           841,
           209,
           921,
           1925,
           2406,
           3741,
           2125,
           9,
           930,
           1722,
           976,
           542,
           362,
           838,
           1055,
           1461,
           1908,
           3113,
           1624,
           2619,
           3900,
           353,
           1180,
           3239,
           3727,
           4525,
           2343,
           1135,
           401,
           274,
           801,
           1220,
           1253,
           3136,
           786,
           15,
           2273,
           5778,
           6733,
           4360,
           2789,
           2523,
           2909,
           3001,
           2380,
           1416,
           2621,
           3398,
           706,
           1,
           394,
           55,
           874,
           2421,
           8244,
           8436,
           6283,
           3270,
           1545,
           578,
           2094,
           3187,
           1362,
           3633,
           4627,
           748,
           74,
           4031,
           5775,
           8449,
           6807,
           10654,
           5660,
           6343,
           4907,
           4649,
           2338,
           1773,
           1779,
           2520,
           4385,
           9298,
           56,
           8307,
           9561,
           5927,
           5303,
           8083,
           3486,
           5632,
           2935,
           3241,
           2460,
           3339,
           2574,
           4936,
           7814,
           18221,
           1459,
           5560,
           7507,
           5191,
           1615,
           6989,
           10118,
           3718,
           2039,
           2352,
           3006,
           3422,
           2052,
           2896,
           7048,
           17946,
           2505,
           64,
           331,
           177,
           235,
           5040,
           5863,
           3944,
           4426,
           7403,
           4202,
           1678,
           4212,
           3649,
           5437,
           3960,
           1244,
           2881,
           6733,
           3772,
           10,
           413,
           482,
           1038,
           2664,
           2307,
           2188,
           3126,
           3285,
           3921,
           3203,
           3562,
           3496,
           3480,
           1427,
           2404,
           2552,
           3496,
           388,
           795,
           1141,
           2108,
           2585,
           3003,
           2429,
           2531,
           2478,
           2824,
           2972,
           2569,
           2188,
           1868,
           2625,
           2836,
           3597,
           1699,
           3,
           91,
           176,
           347,
           1037,
           1116,
           2118,
           2885,
           2758,
           2880,
           1854,
           3348,
           3785,
           2581,
           1363,
           1887,
           1377,
           2019,
           4609,
           5048,
           1175,
           372,
           528,
           818,
           1103,
           720,
           975,
           1664,
           1666,
           1525,
           1753,
           2042,
           1722,
           1772,
           732,
           1898,
           1532,
           2260,
           6614,
           5928,
           121,
           1,
           18,
           428,
           11,
           23,
           10,
           262,
           29,
           169,
           268,
           380,
           1074,
           1719,
           1552,
           2154,
           1497,
           2190,
           2279,
           2166,
           628,
           1360,
           1347,
           1591,
           2848,
           1845,
           10,
           25,
           9,
           4,
           24,
           1,
           68,
           178,
           11,
           55,
           53,
           611,
           1705,
           1266,
           960,
           1669,
           2907,
           3959,
           2757,
           1400,
           1961,
           1876,
           2834,
           8655,
           1316,
           195,
           88,
           4258,
           767,
           87,
           6,
           24,
           1,
           1030,
           579,
           136,
           331,
           543,
           512,
           627,
           1702,
           903,
           581,
           460,
           1245,
           1401,
           1354,
           2147,
           1300,
           1304,
           1636,
           4783,
           108,
           36,
           9,
           41,
           6,
           651,
           2,
           2,
           237,
           365,
           221,
           381,
           640,
           776,
           581,
           580,
           75,
           188,
           168,
           122,
           1302,
           901,
           1843,
           233,
           585,
           2451,
           2790,
           1,
           8,
           12,
           8,
           44,
           42,
           280,
           459,
           410,
           673,
           205,
           148,
           312,
           322,
           356,
           974,
           2217,
           2887,
           3628,
           1859,
           2410,
           1868,
           1,
           5,
           34,
           19,
           68,
           534,
           147,
           55,
           60,
           132,
           580,
           1358,
           1243,
           2590,
           3943,
           294,
           17,
           217,
           197,
           70,
           480,
           1478,
           2796,
           4797,
           2943,
           1449,
           914
          ],
          "sizemode": "area",
          "sizeref": 20.245555555555555
         },
         "mode": "markers",
         "name": "",
         "showlegend": false,
         "subplot": "mapbox",
         "type": "scattermapbox"
        }
       ],
       "layout": {
        "coloraxis": {
         "colorbar": {
          "title": {
           "text": "Count"
          }
         },
         "colorscale": [
          [
           0,
           "Yellow"
          ],
          [
           0.3333333333333333,
           "orange"
          ],
          [
           0.6666666666666666,
           "red"
          ],
          [
           1,
           "maroon"
          ]
         ]
        },
        "height": 700,
        "legend": {
         "itemsizing": "constant",
         "tracegroupgap": 0
        },
        "mapbox": {
         "center": {
          "lat": 41.82507062146893,
          "lon": -87.69949152542374
         },
         "domain": {
          "x": [
           0,
           1
          ],
          "y": [
           0,
           1
          ]
         },
         "style": "carto-darkmatter",
         "zoom": 9.7
        },
        "margin": {
         "b": 0,
         "l": 0,
         "r": 0,
         "t": 0
        },
        "template": {
         "data": {
          "bar": [
           {
            "error_x": {
             "color": "#2a3f5f"
            },
            "error_y": {
             "color": "#2a3f5f"
            },
            "marker": {
             "line": {
              "color": "#E5ECF6",
              "width": 0.5
             },
             "pattern": {
              "fillmode": "overlay",
              "size": 10,
              "solidity": 0.2
             }
            },
            "type": "bar"
           }
          ],
          "barpolar": [
           {
            "marker": {
             "line": {
              "color": "#E5ECF6",
              "width": 0.5
             },
             "pattern": {
              "fillmode": "overlay",
              "size": 10,
              "solidity": 0.2
             }
            },
            "type": "barpolar"
           }
          ],
          "carpet": [
           {
            "aaxis": {
             "endlinecolor": "#2a3f5f",
             "gridcolor": "white",
             "linecolor": "white",
             "minorgridcolor": "white",
             "startlinecolor": "#2a3f5f"
            },
            "baxis": {
             "endlinecolor": "#2a3f5f",
             "gridcolor": "white",
             "linecolor": "white",
             "minorgridcolor": "white",
             "startlinecolor": "#2a3f5f"
            },
            "type": "carpet"
           }
          ],
          "choropleth": [
           {
            "colorbar": {
             "outlinewidth": 0,
             "ticks": ""
            },
            "type": "choropleth"
           }
          ],
          "contour": [
           {
            "colorbar": {
             "outlinewidth": 0,
             "ticks": ""
            },
            "colorscale": [
             [
              0,
              "#0d0887"
             ],
             [
              0.1111111111111111,
              "#46039f"
             ],
             [
              0.2222222222222222,
              "#7201a8"
             ],
             [
              0.3333333333333333,
              "#9c179e"
             ],
             [
              0.4444444444444444,
              "#bd3786"
             ],
             [
              0.5555555555555556,
              "#d8576b"
             ],
             [
              0.6666666666666666,
              "#ed7953"
             ],
             [
              0.7777777777777778,
              "#fb9f3a"
             ],
             [
              0.8888888888888888,
              "#fdca26"
             ],
             [
              1,
              "#f0f921"
             ]
            ],
            "type": "contour"
           }
          ],
          "contourcarpet": [
           {
            "colorbar": {
             "outlinewidth": 0,
             "ticks": ""
            },
            "type": "contourcarpet"
           }
          ],
          "heatmap": [
           {
            "colorbar": {
             "outlinewidth": 0,
             "ticks": ""
            },
            "colorscale": [
             [
              0,
              "#0d0887"
             ],
             [
              0.1111111111111111,
              "#46039f"
             ],
             [
              0.2222222222222222,
              "#7201a8"
             ],
             [
              0.3333333333333333,
              "#9c179e"
             ],
             [
              0.4444444444444444,
              "#bd3786"
             ],
             [
              0.5555555555555556,
              "#d8576b"
             ],
             [
              0.6666666666666666,
              "#ed7953"
             ],
             [
              0.7777777777777778,
              "#fb9f3a"
             ],
             [
              0.8888888888888888,
              "#fdca26"
             ],
             [
              1,
              "#f0f921"
             ]
            ],
            "type": "heatmap"
           }
          ],
          "heatmapgl": [
           {
            "colorbar": {
             "outlinewidth": 0,
             "ticks": ""
            },
            "colorscale": [
             [
              0,
              "#0d0887"
             ],
             [
              0.1111111111111111,
              "#46039f"
             ],
             [
              0.2222222222222222,
              "#7201a8"
             ],
             [
              0.3333333333333333,
              "#9c179e"
             ],
             [
              0.4444444444444444,
              "#bd3786"
             ],
             [
              0.5555555555555556,
              "#d8576b"
             ],
             [
              0.6666666666666666,
              "#ed7953"
             ],
             [
              0.7777777777777778,
              "#fb9f3a"
             ],
             [
              0.8888888888888888,
              "#fdca26"
             ],
             [
              1,
              "#f0f921"
             ]
            ],
            "type": "heatmapgl"
           }
          ],
          "histogram": [
           {
            "marker": {
             "pattern": {
              "fillmode": "overlay",
              "size": 10,
              "solidity": 0.2
             }
            },
            "type": "histogram"
           }
          ],
          "histogram2d": [
           {
            "colorbar": {
             "outlinewidth": 0,
             "ticks": ""
            },
            "colorscale": [
             [
              0,
              "#0d0887"
             ],
             [
              0.1111111111111111,
              "#46039f"
             ],
             [
              0.2222222222222222,
              "#7201a8"
             ],
             [
              0.3333333333333333,
              "#9c179e"
             ],
             [
              0.4444444444444444,
              "#bd3786"
             ],
             [
              0.5555555555555556,
              "#d8576b"
             ],
             [
              0.6666666666666666,
              "#ed7953"
             ],
             [
              0.7777777777777778,
              "#fb9f3a"
             ],
             [
              0.8888888888888888,
              "#fdca26"
             ],
             [
              1,
              "#f0f921"
             ]
            ],
            "type": "histogram2d"
           }
          ],
          "histogram2dcontour": [
           {
            "colorbar": {
             "outlinewidth": 0,
             "ticks": ""
            },
            "colorscale": [
             [
              0,
              "#0d0887"
             ],
             [
              0.1111111111111111,
              "#46039f"
             ],
             [
              0.2222222222222222,
              "#7201a8"
             ],
             [
              0.3333333333333333,
              "#9c179e"
             ],
             [
              0.4444444444444444,
              "#bd3786"
             ],
             [
              0.5555555555555556,
              "#d8576b"
             ],
             [
              0.6666666666666666,
              "#ed7953"
             ],
             [
              0.7777777777777778,
              "#fb9f3a"
             ],
             [
              0.8888888888888888,
              "#fdca26"
             ],
             [
              1,
              "#f0f921"
             ]
            ],
            "type": "histogram2dcontour"
           }
          ],
          "mesh3d": [
           {
            "colorbar": {
             "outlinewidth": 0,
             "ticks": ""
            },
            "type": "mesh3d"
           }
          ],
          "parcoords": [
           {
            "line": {
             "colorbar": {
              "outlinewidth": 0,
              "ticks": ""
             }
            },
            "type": "parcoords"
           }
          ],
          "pie": [
           {
            "automargin": true,
            "type": "pie"
           }
          ],
          "scatter": [
           {
            "fillpattern": {
             "fillmode": "overlay",
             "size": 10,
             "solidity": 0.2
            },
            "type": "scatter"
           }
          ],
          "scatter3d": [
           {
            "line": {
             "colorbar": {
              "outlinewidth": 0,
              "ticks": ""
             }
            },
            "marker": {
             "colorbar": {
              "outlinewidth": 0,
              "ticks": ""
             }
            },
            "type": "scatter3d"
           }
          ],
          "scattercarpet": [
           {
            "marker": {
             "colorbar": {
              "outlinewidth": 0,
              "ticks": ""
             }
            },
            "type": "scattercarpet"
           }
          ],
          "scattergeo": [
           {
            "marker": {
             "colorbar": {
              "outlinewidth": 0,
              "ticks": ""
             }
            },
            "type": "scattergeo"
           }
          ],
          "scattergl": [
           {
            "marker": {
             "colorbar": {
              "outlinewidth": 0,
              "ticks": ""
             }
            },
            "type": "scattergl"
           }
          ],
          "scattermapbox": [
           {
            "marker": {
             "colorbar": {
              "outlinewidth": 0,
              "ticks": ""
             }
            },
            "type": "scattermapbox"
           }
          ],
          "scatterpolar": [
           {
            "marker": {
             "colorbar": {
              "outlinewidth": 0,
              "ticks": ""
             }
            },
            "type": "scatterpolar"
           }
          ],
          "scatterpolargl": [
           {
            "marker": {
             "colorbar": {
              "outlinewidth": 0,
              "ticks": ""
             }
            },
            "type": "scatterpolargl"
           }
          ],
          "scatterternary": [
           {
            "marker": {
             "colorbar": {
              "outlinewidth": 0,
              "ticks": ""
             }
            },
            "type": "scatterternary"
           }
          ],
          "surface": [
           {
            "colorbar": {
             "outlinewidth": 0,
             "ticks": ""
            },
            "colorscale": [
             [
              0,
              "#0d0887"
             ],
             [
              0.1111111111111111,
              "#46039f"
             ],
             [
              0.2222222222222222,
              "#7201a8"
             ],
             [
              0.3333333333333333,
              "#9c179e"
             ],
             [
              0.4444444444444444,
              "#bd3786"
             ],
             [
              0.5555555555555556,
              "#d8576b"
             ],
             [
              0.6666666666666666,
              "#ed7953"
             ],
             [
              0.7777777777777778,
              "#fb9f3a"
             ],
             [
              0.8888888888888888,
              "#fdca26"
             ],
             [
              1,
              "#f0f921"
             ]
            ],
            "type": "surface"
           }
          ],
          "table": [
           {
            "cells": {
             "fill": {
              "color": "#EBF0F8"
             },
             "line": {
              "color": "white"
             }
            },
            "header": {
             "fill": {
              "color": "#C8D4E3"
             },
             "line": {
              "color": "white"
             }
            },
            "type": "table"
           }
          ]
         },
         "layout": {
          "annotationdefaults": {
           "arrowcolor": "#2a3f5f",
           "arrowhead": 0,
           "arrowwidth": 1
          },
          "autotypenumbers": "strict",
          "coloraxis": {
           "colorbar": {
            "outlinewidth": 0,
            "ticks": ""
           }
          },
          "colorscale": {
           "diverging": [
            [
             0,
             "#8e0152"
            ],
            [
             0.1,
             "#c51b7d"
            ],
            [
             0.2,
             "#de77ae"
            ],
            [
             0.3,
             "#f1b6da"
            ],
            [
             0.4,
             "#fde0ef"
            ],
            [
             0.5,
             "#f7f7f7"
            ],
            [
             0.6,
             "#e6f5d0"
            ],
            [
             0.7,
             "#b8e186"
            ],
            [
             0.8,
             "#7fbc41"
            ],
            [
             0.9,
             "#4d9221"
            ],
            [
             1,
             "#276419"
            ]
           ],
           "sequential": [
            [
             0,
             "#0d0887"
            ],
            [
             0.1111111111111111,
             "#46039f"
            ],
            [
             0.2222222222222222,
             "#7201a8"
            ],
            [
             0.3333333333333333,
             "#9c179e"
            ],
            [
             0.4444444444444444,
             "#bd3786"
            ],
            [
             0.5555555555555556,
             "#d8576b"
            ],
            [
             0.6666666666666666,
             "#ed7953"
            ],
            [
             0.7777777777777778,
             "#fb9f3a"
            ],
            [
             0.8888888888888888,
             "#fdca26"
            ],
            [
             1,
             "#f0f921"
            ]
           ],
           "sequentialminus": [
            [
             0,
             "#0d0887"
            ],
            [
             0.1111111111111111,
             "#46039f"
            ],
            [
             0.2222222222222222,
             "#7201a8"
            ],
            [
             0.3333333333333333,
             "#9c179e"
            ],
            [
             0.4444444444444444,
             "#bd3786"
            ],
            [
             0.5555555555555556,
             "#d8576b"
            ],
            [
             0.6666666666666666,
             "#ed7953"
            ],
            [
             0.7777777777777778,
             "#fb9f3a"
            ],
            [
             0.8888888888888888,
             "#fdca26"
            ],
            [
             1,
             "#f0f921"
            ]
           ]
          },
          "colorway": [
           "#636efa",
           "#EF553B",
           "#00cc96",
           "#ab63fa",
           "#FFA15A",
           "#19d3f3",
           "#FF6692",
           "#B6E880",
           "#FF97FF",
           "#FECB52"
          ],
          "font": {
           "color": "#2a3f5f"
          },
          "geo": {
           "bgcolor": "white",
           "lakecolor": "white",
           "landcolor": "#E5ECF6",
           "showlakes": true,
           "showland": true,
           "subunitcolor": "white"
          },
          "hoverlabel": {
           "align": "left"
          },
          "hovermode": "closest",
          "mapbox": {
           "style": "light"
          },
          "paper_bgcolor": "white",
          "plot_bgcolor": "#E5ECF6",
          "polar": {
           "angularaxis": {
            "gridcolor": "white",
            "linecolor": "white",
            "ticks": ""
           },
           "bgcolor": "#E5ECF6",
           "radialaxis": {
            "gridcolor": "white",
            "linecolor": "white",
            "ticks": ""
           }
          },
          "scene": {
           "xaxis": {
            "backgroundcolor": "#E5ECF6",
            "gridcolor": "white",
            "gridwidth": 2,
            "linecolor": "white",
            "showbackground": true,
            "ticks": "",
            "zerolinecolor": "white"
           },
           "yaxis": {
            "backgroundcolor": "#E5ECF6",
            "gridcolor": "white",
            "gridwidth": 2,
            "linecolor": "white",
            "showbackground": true,
            "ticks": "",
            "zerolinecolor": "white"
           },
           "zaxis": {
            "backgroundcolor": "#E5ECF6",
            "gridcolor": "white",
            "gridwidth": 2,
            "linecolor": "white",
            "showbackground": true,
            "ticks": "",
            "zerolinecolor": "white"
           }
          },
          "shapedefaults": {
           "line": {
            "color": "#2a3f5f"
           }
          },
          "ternary": {
           "aaxis": {
            "gridcolor": "white",
            "linecolor": "white",
            "ticks": ""
           },
           "baxis": {
            "gridcolor": "white",
            "linecolor": "white",
            "ticks": ""
           },
           "bgcolor": "#E5ECF6",
           "caxis": {
            "gridcolor": "white",
            "linecolor": "white",
            "ticks": ""
           }
          },
          "title": {
           "x": 0.05
          },
          "xaxis": {
           "automargin": true,
           "gridcolor": "white",
           "linecolor": "white",
           "ticks": "",
           "title": {
            "standoff": 15
           },
           "zerolinecolor": "white",
           "zerolinewidth": 2
          },
          "yaxis": {
           "automargin": true,
           "gridcolor": "white",
           "linecolor": "white",
           "ticks": "",
           "title": {
            "standoff": 15
           },
           "zerolinecolor": "white",
           "zerolinewidth": 2
          }
         }
        }
       }
      }
     },
     "metadata": {},
     "output_type": "display_data"
    }
   ],
   "source": [
    "fig = px.scatter_mapbox(heatmap, lat=\"Latitude\", lon=\"Longitude\",\n",
    "                    zoom=9.7, height=700, size_max=30, color_continuous_scale=['Yellow', 'orange', 'red', 'maroon'],color=\"Count\", hover_data=[\"Count\"], size='Count')\n",
    "fig.update_layout(mapbox_style=\"carto-darkmatter\", margin={\"r\":0,\"t\":0,\"l\":0,\"b\":0})\n",
    "fig.show()"
   ]
  },
  {
   "attachments": {},
   "cell_type": "markdown",
   "metadata": {},
   "source": [
    "### <u>Machine Learning</u>"
   ]
  },
  {
   "attachments": {},
   "cell_type": "markdown",
   "metadata": {},
   "source": [
    "#### Import"
   ]
  },
  {
   "cell_type": "code",
   "execution_count": 19,
   "metadata": {},
   "outputs": [],
   "source": [
    "from sklearn.model_selection import train_test_split\n",
    "from sklearn.ensemble import AdaBoostClassifier, RandomForestClassifier\n",
    "from sklearn.model_selection import cross_val_score, KFold\n",
    "from sklearn.metrics import accuracy_score, precision_score, recall_score, f1_score\n",
    "from catboost import CatBoostClassifier\n",
    "from sklearn.tree import DecisionTreeClassifier\n",
    "from sklearn.pipeline import make_pipeline\n",
    "from sklearn.preprocessing import OrdinalEncoder, StandardScaler, LabelEncoder\n",
    "from sklearn.naive_bayes import GaussianNB\n",
    "from time import process_time\n",
    "from sklearn.neighbors import KNeighborsClassifier"
   ]
  },
  {
   "attachments": {},
   "cell_type": "markdown",
   "metadata": {},
   "source": [
    "#### Data aquisition"
   ]
  },
  {
   "cell_type": "code",
   "execution_count": 20,
   "metadata": {},
   "outputs": [],
   "source": [
    "X = df.drop(['Arrest'], axis=1)\n",
    "y = df['Arrest']\n",
    "\n",
    "le = LabelEncoder()\n",
    "y = le.fit_transform(y)"
   ]
  },
  {
   "attachments": {},
   "cell_type": "markdown",
   "metadata": {},
   "source": [
    "#### Sampling/split"
   ]
  },
  {
   "cell_type": "code",
   "execution_count": 21,
   "metadata": {},
   "outputs": [],
   "source": [
    "X_train, X_test, y_train, y_test = train_test_split(X, y, train_size=0.7, random_state=42)"
   ]
  },
  {
   "attachments": {},
   "cell_type": "markdown",
   "metadata": {},
   "source": [
    "#### Algorithm training"
   ]
  },
  {
   "cell_type": "code",
   "execution_count": 22,
   "metadata": {},
   "outputs": [],
   "source": [
    "def modelEvaluation(clf, encoder, scoring):\n",
    "    cv = KFold(n_splits=5)\n",
    "    results = pd.DataFrame({}, columns=[\"Name\", \"Accuracy\", \"Precision\", \"Recall\", \"F1\"])\n",
    "    for i in range(len(clf)):  \n",
    "        start = process_time()  \n",
    "        name = clf[i].__class__.__name__\n",
    "        model = make_pipeline(encoder[i], StandardScaler(), clf[i]) if name == 'KNeighborsClassifier' else make_pipeline(encoder[i], clf[i])\n",
    "        model.fit(X_train, y_train)\n",
    "        y_pred = model.predict(X_test)\n",
    "        cv_score = cross_val_score(model, X_train, y_train, cv=cv, scoring=scoring, n_jobs=-1)\n",
    "        avg = round(cv_score.mean()*100, 2)\n",
    "        std = round(cv_score.std()*100,2)\n",
    "        accuracy = round(accuracy_score(y_test, y_pred)*100,2)\n",
    "        precision = round(precision_score(y_test, y_pred, average=\"weighted\")*100,2)\n",
    "        recall = round(recall_score(y_test, y_pred, average=\"weighted\")*100,2)\n",
    "        f1 = round(f1_score(y_test, y_pred, average=\"weighted\")*100,2)\n",
    "        print(f\"{name} {avg}% std: {std}\")\n",
    "        print(f\"{name} accuracy score: {accuracy}%\")\n",
    "        end = process_time()\n",
    "        print(f\"Time taken: {end-start}s\\n\")\n",
    "        results = pd.concat([results, pd.DataFrame({\"Name\":[name], \"Accuracy\":[accuracy], \"Precision\":[precision], \"Recall\":[recall], \"F1\" : [f1]})])\n",
    "        #print(np.unique(y_pred))\n",
    "\n",
    "    return results.reset_index(drop=True)\n",
    "  \n",
    "clf = [RandomForestClassifier(n_jobs=-1, random_state=42),\n",
    "       DecisionTreeClassifier(random_state=42),\n",
    "       CatBoostClassifier(random_state=42, silent=True),\n",
    "       AdaBoostClassifier(random_state=42),\n",
    "       GaussianNB(),\n",
    "       KNeighborsClassifier()\n",
    "       ]\n",
    "encoders = [OrdinalEncoder(handle_unknown='use_encoded_value', unknown_value=-1), \n",
    "            OrdinalEncoder(handle_unknown='use_encoded_value', unknown_value=-1),\n",
    "            OrdinalEncoder(handle_unknown='use_encoded_value', unknown_value=-1),\n",
    "            OrdinalEncoder(handle_unknown='use_encoded_value', unknown_value=-1),\n",
    "            OrdinalEncoder(handle_unknown='use_encoded_value', unknown_value=-1),\n",
    "            OrdinalEncoder(handle_unknown='use_encoded_value', unknown_value=-1)\n",
    "            ]"
   ]
  },
  {
   "cell_type": "markdown",
   "metadata": {},
   "source": [
    "#### Cross Validation & Results"
   ]
  },
  {
   "cell_type": "code",
   "execution_count": 23,
   "metadata": {},
   "outputs": [
    {
     "name": "stdout",
     "output_type": "stream",
     "text": [
      "RandomForestClassifier 84.53% std: 0.32\n",
      "RandomForestClassifier accuracy score: 84.67%\n",
      "Time taken: 610.546875s\n",
      "\n",
      "DecisionTreeClassifier 71.1% std: 1.97\n",
      "DecisionTreeClassifier accuracy score: 69.38%\n",
      "Time taken: 19.1875s\n",
      "\n",
      "CatBoostClassifier 86.49% std: 0.14\n",
      "CatBoostClassifier accuracy score: 86.93%\n",
      "Time taken: 55.125s\n",
      "\n",
      "AdaBoostClassifier 83.28% std: 0.69\n",
      "AdaBoostClassifier accuracy score: 85.39%\n",
      "Time taken: 82.5s\n",
      "\n"
     ]
    },
    {
     "name": "stderr",
     "output_type": "stream",
     "text": [
      "c:\\Users\\user-pc\\AppData\\Local\\Programs\\Python\\Python311\\Lib\\site-packages\\sklearn\\metrics\\_classification.py:1344: UndefinedMetricWarning:\n",
      "\n",
      "Precision is ill-defined and being set to 0.0 in labels with no predicted samples. Use `zero_division` parameter to control this behavior.\n",
      "\n"
     ]
    },
    {
     "name": "stdout",
     "output_type": "stream",
     "text": [
      "GaussianNB 63.06% std: 0.11\n",
      "GaussianNB accuracy score: 74.08%\n",
      "Time taken: 7.296875s\n",
      "\n",
      "KNeighborsClassifier 82.72% std: 0.08\n",
      "KNeighborsClassifier accuracy score: 83.49%\n",
      "Time taken: 74.3125s\n",
      "\n"
     ]
    }
   ],
   "source": [
    "d = modelEvaluation(clf, encoders, 'f1_weighted')"
   ]
  },
  {
   "cell_type": "code",
   "execution_count": 24,
   "metadata": {},
   "outputs": [
    {
     "data": {
      "image/png": "[encoded data removed]",
      "text/plain": [
       "<Figure size 1000x600 with 1 Axes>"
      ]
     },
     "metadata": {},
     "output_type": "display_data"
    }
   ],
   "source": [
    "melted_df = d.melt(id_vars=\"Name\", value_vars=[\"Accuracy\", \"Precision\", \"Recall\", \"F1\"], var_name=\"Metric\")\n",
    "\n",
    "# Create the barplot\n",
    "plt.figure(figsize=(10, 6))\n",
    "sns.barplot(data=melted_df, x=\"Metric\", y=\"value\", hue=\"Name\")\n",
    "plt.title(\"Results\")\n",
    "plt.xlabel(\"Metric\")\n",
    "plt.ylabel(\"Score\")\n",
    "plt.legend(title=\"Model\", loc=2, bbox_to_anchor=(1, 1), borderaxespad=0.)\n",
    "plt.tight_layout()\n",
    "plt.show()"
   ]
  },
  {
   "cell_type": "markdown",
   "metadata": {},
   "source": [
    "### <u>Results and Discussion</u>"
   ]
  },
  {
   "cell_type": "markdown",
   "metadata": {},
   "source": [
    "## <center><b>Thanks for reading!</b>"
   ]
  }
 ],
 "metadata": {
  "kernelspec": {
   "display_name": "Python 3",
   "language": "python",
   "name": "python3"
  },
  "language_info": {
   "codemirror_mode": {
    "name": "ipython",
    "version": 3
   },
   "file_extension": ".py",
   "mimetype": "text/x-python",
   "name": "python",
   "nbconvert_exporter": "python",
   "pygments_lexer": "ipython3",
   "version": "3.11.2"
  },
  "orig_nbformat": 4
 },
 "nbformat": 4,
 "nbformat_minor": 2
}
