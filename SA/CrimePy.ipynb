{
 "cells": [
  {
   "attachments": {},
   "cell_type": "markdown",
   "metadata": {},
   "source": [
    "## <center> Port Elizabeth Crime Forecasting (2010-2023)\n",
    "### <center> Anil Abraham 2023\n",
    "\n",
    "#### <center> The goal of this project is to use machine learning techniques to forecast crime in Port Elizabeth. Particularly, forecasting type of crime, number of crimes committed in a year, and crime hotspots/locations."
   ]
  },
  {
   "cell_type": "markdown",
   "metadata": {},
   "source": [
    "#### Brief explanation of each column:\n",
    "<ul>\n",
    "<li>Crime - Description of crime committed</li>\n",
    "<li>Crimes - Number of crimes committed per year</li>\n",
    "<li>Police Station - Name of Police Station within Port Elizabeth</li>\n",
    "<li>Province - Name of province</li>\n",
    "<li>Crime Category - Binning of crime descriptions</li>\n",
    "<li>Latitude/Longitude/Latitude, Longitude - Location</li>\n",
    "<li>Year - Year crimes took place</li>\n",
    "</ul>"
   ]
  },
  {
   "attachments": {},
   "cell_type": "markdown",
   "metadata": {},
   "source": [
    "#### Police stations within Port Elizabeth are:\n",
    "<ul>\n",
    "<li>Walmer</li>\n",
    "<li>Swartkops</li>\n",
    "<li>Mount Road</li>\n",
    "<li>Humewood</li>\n",
    "<li>Kwadwesi</li>\n",
    "<li>Kabega Park</li>\n",
    "<li>Algoapark</li>\n",
    "<li>Gelvandale</li>\n",
    "<li>Bethelsdorp</li>\n",
    "<li>Motherwell</li>\n",
    "<li>New Brighton</li>\n",
    "<li>Kwazakele</li>\n",
    "</ul>"
   ]
  },
  {
   "attachments": {},
   "cell_type": "markdown",
   "metadata": {},
   "source": [
    "### <u>Importing libraries</u>"
   ]
  },
  {
   "cell_type": "code",
   "execution_count": 61,
   "metadata": {},
   "outputs": [],
   "source": [
    "import pandas as pd #Pandas for data manipulation and analysis\n",
    "import numpy as np #Numpy for matrices\n",
    "import geopandas as gpd #Support for geospatial data\n",
    "from shapely.geometry import Point #Geographic information systems functions and analysis\n",
    "import matplotlib.pyplot as plt #Matplotlib for visualisations\n",
    "import seaborn as sns\n",
    "import plotly.express as px\n",
    "sns.set_style(\"darkgrid\")"
   ]
  },
  {
   "cell_type": "markdown",
   "metadata": {},
   "source": [
    "### <u>Loading dataset</u>"
   ]
  },
  {
   "cell_type": "code",
   "execution_count": 62,
   "metadata": {},
   "outputs": [
    {
     "name": "stdout",
     "output_type": "stream",
     "text": [
      "Crime\n",
      "Crimes\n",
      "Police Station\n",
      "Province\n",
      "Crime Category\n",
      "Latitude\n",
      "Longitude\n",
      "Latitude, Longitude\n",
      "Year\n"
     ]
    },
    {
     "data": {
      "text/plain": [
       "(346470, 9)"
      ]
     },
     "execution_count": 62,
     "metadata": {},
     "output_type": "execute_result"
    }
   ],
   "source": [
    "df = pd.read_csv('crimedata.csv', thousands=',') #Thousands are seperated by commas in the CSV.\n",
    "\n",
    "for col in df.columns.to_list(): #List all feature names\n",
    "    print(col)\n",
    "df.shape"
   ]
  },
  {
   "attachments": {},
   "cell_type": "markdown",
   "metadata": {},
   "source": [
    "### <u>Data preprocessing</u>"
   ]
  },
  {
   "cell_type": "markdown",
   "metadata": {},
   "source": [
    "#### Limit to PE only"
   ]
  },
  {
   "cell_type": "code",
   "execution_count": 63,
   "metadata": {},
   "outputs": [],
   "source": [
    "stations = [\"Walmer\", \"Swartkops\", \"New Brighton\", \"Mount Road\", \"Humewood\", \"Kwadwesi\", \"Kabega Park\", \"Algoapark\", \"Gelvandale\", \"Bethelsdorp\", \"Motherwell\"\n",
    "            , \"Kwazakele\", \"Ikamvelihle\"] #Police stations existing within Port Elizabeth\n",
    "df = df[df['Police Station'].isin(stations)].reset_index(drop=True) #Filtering"
   ]
  },
  {
   "cell_type": "markdown",
   "metadata": {},
   "source": [
    "#### Drop 'Latitude,Longitude' and 'Province'"
   ]
  },
  {
   "cell_type": "code",
   "execution_count": 64,
   "metadata": {},
   "outputs": [],
   "source": [
    "df.drop(['Latitude, Longitude', 'Province'], axis=1, inplace=True) #Drop redundant information"
   ]
  },
  {
   "attachments": {},
   "cell_type": "markdown",
   "metadata": {},
   "source": [
    "#### Other fixes"
   ]
  },
  {
   "cell_type": "code",
   "execution_count": 65,
   "metadata": {},
   "outputs": [],
   "source": [
    "df = df[df['Police Station'] != 'Doringkloof'] #'Doringkloof' does not exist within the Eastern Cape, but within Gauteng. Remove this.\n",
    "\n",
    "df.loc[df['Police Station'] == 'Kwazakele', 'Latitude'] = -33.87626 #Kwazekele's lat/long coords are wrong. Fix it.\n",
    "df.loc[df['Police Station'] == 'Kwazakele', 'Longitude'] = 25.58308"
   ]
  },
  {
   "cell_type": "markdown",
   "metadata": {},
   "source": [
    "#### Check for null values"
   ]
  },
  {
   "cell_type": "code",
   "execution_count": 66,
   "metadata": {},
   "outputs": [
    {
     "name": "stdout",
     "output_type": "stream",
     "text": [
      "Null values found\n",
      "Crime             0\n",
      "Crimes            0\n",
      "Police Station    0\n",
      "Crime Category    0\n",
      "Latitude          0\n",
      "Longitude         0\n",
      "Year              0\n",
      "dtype: int64\n"
     ]
    }
   ],
   "source": [
    "print(f'Null values found\\n{df.isna().sum()}') #Check for null values"
   ]
  },
  {
   "cell_type": "markdown",
   "metadata": {},
   "source": [
    "#### Check for duplicates"
   ]
  },
  {
   "cell_type": "code",
   "execution_count": 67,
   "metadata": {},
   "outputs": [
    {
     "name": "stdout",
     "output_type": "stream",
     "text": [
      "Before checking for duplicates\n",
      "0\n",
      "\n",
      "After checking for duplicates\n",
      "0\n"
     ]
    }
   ],
   "source": [
    "print(f'Before checking for duplicates\\n{df.duplicated().sum()}')\n",
    "df.drop_duplicates(inplace=True) #Drop all duplicates\n",
    "print(f'\\nAfter checking for duplicates\\n{df.duplicated().sum()}')"
   ]
  },
  {
   "cell_type": "markdown",
   "metadata": {},
   "source": [
    "#### Convert to categorical"
   ]
  },
  {
   "cell_type": "code",
   "execution_count": 68,
   "metadata": {},
   "outputs": [],
   "source": [
    "df['Crime'] = pd.Categorical(df['Crime']) #Convert categorical columns to pd.Categorical()\n",
    "df['Police Station'] = pd.Categorical(df['Police Station'])\n",
    "df['Crime Category'] = pd.Categorical(df['Crime Category'])"
   ]
  },
  {
   "cell_type": "markdown",
   "metadata": {},
   "source": [
    "#### What are the datatypes used?"
   ]
  },
  {
   "cell_type": "code",
   "execution_count": 69,
   "metadata": {},
   "outputs": [
    {
     "data": {
      "text/plain": [
       "Crime             category\n",
       "Crimes               int64\n",
       "Police Station    category\n",
       "Crime Category    category\n",
       "Latitude           float64\n",
       "Longitude          float64\n",
       "Year                 int64\n",
       "dtype: object"
      ]
     },
     "execution_count": 69,
     "metadata": {},
     "output_type": "execute_result"
    }
   ],
   "source": [
    "df.dtypes"
   ]
  },
  {
   "cell_type": "markdown",
   "metadata": {},
   "source": [
    "#### High-level stats of the Boston dataframe"
   ]
  },
  {
   "cell_type": "code",
   "execution_count": 70,
   "metadata": {},
   "outputs": [
    {
     "data": {
      "text/html": [
       "<div>\n",
       "<style scoped>\n",
       "    .dataframe tbody tr th:only-of-type {\n",
       "        vertical-align: middle;\n",
       "    }\n",
       "\n",
       "    .dataframe tbody tr th {\n",
       "        vertical-align: top;\n",
       "    }\n",
       "\n",
       "    .dataframe thead th {\n",
       "        text-align: right;\n",
       "    }\n",
       "</style>\n",
       "<table border=\"1\" class=\"dataframe\">\n",
       "  <thead>\n",
       "    <tr style=\"text-align: right;\">\n",
       "      <th></th>\n",
       "      <th>Crimes</th>\n",
       "      <th>Latitude</th>\n",
       "      <th>Longitude</th>\n",
       "      <th>Year</th>\n",
       "    </tr>\n",
       "  </thead>\n",
       "  <tbody>\n",
       "    <tr>\n",
       "      <th>count</th>\n",
       "      <td>5070.000000</td>\n",
       "      <td>5070.000000</td>\n",
       "      <td>5070.000000</td>\n",
       "      <td>5070.000000</td>\n",
       "    </tr>\n",
       "    <tr>\n",
       "      <th>mean</th>\n",
       "      <td>124.508876</td>\n",
       "      <td>-33.891864</td>\n",
       "      <td>25.570219</td>\n",
       "      <td>2016.000000</td>\n",
       "    </tr>\n",
       "    <tr>\n",
       "      <th>std</th>\n",
       "      <td>191.474326</td>\n",
       "      <td>0.058255</td>\n",
       "      <td>0.037196</td>\n",
       "      <td>3.742026</td>\n",
       "    </tr>\n",
       "    <tr>\n",
       "      <th>min</th>\n",
       "      <td>0.000000</td>\n",
       "      <td>-33.978868</td>\n",
       "      <td>25.498567</td>\n",
       "      <td>2010.000000</td>\n",
       "    </tr>\n",
       "    <tr>\n",
       "      <th>25%</th>\n",
       "      <td>7.000000</td>\n",
       "      <td>-33.939980</td>\n",
       "      <td>25.550250</td>\n",
       "      <td>2013.000000</td>\n",
       "    </tr>\n",
       "    <tr>\n",
       "      <th>50%</th>\n",
       "      <td>44.000000</td>\n",
       "      <td>-33.899428</td>\n",
       "      <td>25.583080</td>\n",
       "      <td>2016.000000</td>\n",
       "    </tr>\n",
       "    <tr>\n",
       "      <th>75%</th>\n",
       "      <td>159.750000</td>\n",
       "      <td>-33.851301</td>\n",
       "      <td>25.594730</td>\n",
       "      <td>2019.000000</td>\n",
       "    </tr>\n",
       "    <tr>\n",
       "      <th>max</th>\n",
       "      <td>1734.000000</td>\n",
       "      <td>-33.796568</td>\n",
       "      <td>25.625900</td>\n",
       "      <td>2022.000000</td>\n",
       "    </tr>\n",
       "  </tbody>\n",
       "</table>\n",
       "</div>"
      ],
      "text/plain": [
       "            Crimes     Latitude    Longitude         Year\n",
       "count  5070.000000  5070.000000  5070.000000  5070.000000\n",
       "mean    124.508876   -33.891864    25.570219  2016.000000\n",
       "std     191.474326     0.058255     0.037196     3.742026\n",
       "min       0.000000   -33.978868    25.498567  2010.000000\n",
       "25%       7.000000   -33.939980    25.550250  2013.000000\n",
       "50%      44.000000   -33.899428    25.583080  2016.000000\n",
       "75%     159.750000   -33.851301    25.594730  2019.000000\n",
       "max    1734.000000   -33.796568    25.625900  2022.000000"
      ]
     },
     "execution_count": 70,
     "metadata": {},
     "output_type": "execute_result"
    }
   ],
   "source": [
    "df.describe()"
   ]
  },
  {
   "attachments": {},
   "cell_type": "markdown",
   "metadata": {},
   "source": [
    "#### Let's take a look at the first 3 and last 3 rows of the dataset"
   ]
  },
  {
   "cell_type": "code",
   "execution_count": 71,
   "metadata": {},
   "outputs": [
    {
     "data": {
      "text/html": [
       "<div>\n",
       "<style scoped>\n",
       "    .dataframe tbody tr th:only-of-type {\n",
       "        vertical-align: middle;\n",
       "    }\n",
       "\n",
       "    .dataframe tbody tr th {\n",
       "        vertical-align: top;\n",
       "    }\n",
       "\n",
       "    .dataframe thead th {\n",
       "        text-align: right;\n",
       "    }\n",
       "</style>\n",
       "<table border=\"1\" class=\"dataframe\">\n",
       "  <thead>\n",
       "    <tr style=\"text-align: right;\">\n",
       "      <th></th>\n",
       "      <th>Crime</th>\n",
       "      <th>Crimes</th>\n",
       "      <th>Police Station</th>\n",
       "      <th>Crime Category</th>\n",
       "      <th>Latitude</th>\n",
       "      <th>Longitude</th>\n",
       "      <th>Year</th>\n",
       "    </tr>\n",
       "  </thead>\n",
       "  <tbody>\n",
       "    <tr>\n",
       "      <th>0</th>\n",
       "      <td>Murder</td>\n",
       "      <td>20</td>\n",
       "      <td>Algoapark</td>\n",
       "      <td>Contact Crimes</td>\n",
       "      <td>-33.903171</td>\n",
       "      <td>25.570496</td>\n",
       "      <td>2010</td>\n",
       "    </tr>\n",
       "    <tr>\n",
       "      <th>1</th>\n",
       "      <td>Attempted murder</td>\n",
       "      <td>14</td>\n",
       "      <td>Algoapark</td>\n",
       "      <td>Contact Crimes</td>\n",
       "      <td>-33.903171</td>\n",
       "      <td>25.570496</td>\n",
       "      <td>2010</td>\n",
       "    </tr>\n",
       "    <tr>\n",
       "      <th>2</th>\n",
       "      <td>Assault with the intent to inflict grievous bo...</td>\n",
       "      <td>158</td>\n",
       "      <td>Algoapark</td>\n",
       "      <td>Contact Crimes</td>\n",
       "      <td>-33.903171</td>\n",
       "      <td>25.570496</td>\n",
       "      <td>2010</td>\n",
       "    </tr>\n",
       "    <tr>\n",
       "      <th>5069</th>\n",
       "      <td>Sexual Offences detected as a result of police...</td>\n",
       "      <td>1</td>\n",
       "      <td>Walmer</td>\n",
       "      <td>Crime detected as a result of Police Action</td>\n",
       "      <td>-33.978868</td>\n",
       "      <td>25.585376</td>\n",
       "      <td>2022</td>\n",
       "    </tr>\n",
       "    <tr>\n",
       "      <th>5068</th>\n",
       "      <td>Driving under the influence of alcohol or drugs</td>\n",
       "      <td>34</td>\n",
       "      <td>Walmer</td>\n",
       "      <td>Crime detected as a result of Police Action</td>\n",
       "      <td>-33.978868</td>\n",
       "      <td>25.585376</td>\n",
       "      <td>2022</td>\n",
       "    </tr>\n",
       "    <tr>\n",
       "      <th>5067</th>\n",
       "      <td>Drug-related crime</td>\n",
       "      <td>106</td>\n",
       "      <td>Walmer</td>\n",
       "      <td>Crime detected as a result of Police Action</td>\n",
       "      <td>-33.978868</td>\n",
       "      <td>25.585376</td>\n",
       "      <td>2022</td>\n",
       "    </tr>\n",
       "  </tbody>\n",
       "</table>\n",
       "</div>"
      ],
      "text/plain": [
       "                                                  Crime  Crimes  \\\n",
       "0                                                Murder      20   \n",
       "1                                      Attempted murder      14   \n",
       "2     Assault with the intent to inflict grievous bo...     158   \n",
       "5069  Sexual Offences detected as a result of police...       1   \n",
       "5068    Driving under the influence of alcohol or drugs      34   \n",
       "5067                                 Drug-related crime     106   \n",
       "\n",
       "     Police Station                               Crime Category   Latitude  \\\n",
       "0         Algoapark                               Contact Crimes -33.903171   \n",
       "1         Algoapark                               Contact Crimes -33.903171   \n",
       "2         Algoapark                               Contact Crimes -33.903171   \n",
       "5069         Walmer  Crime detected as a result of Police Action -33.978868   \n",
       "5068         Walmer  Crime detected as a result of Police Action -33.978868   \n",
       "5067         Walmer  Crime detected as a result of Police Action -33.978868   \n",
       "\n",
       "      Longitude  Year  \n",
       "0     25.570496  2010  \n",
       "1     25.570496  2010  \n",
       "2     25.570496  2010  \n",
       "5069  25.585376  2022  \n",
       "5068  25.585376  2022  \n",
       "5067  25.585376  2022  "
      ]
     },
     "execution_count": 71,
     "metadata": {},
     "output_type": "execute_result"
    }
   ],
   "source": [
    "pd.concat([df.sort_index().head(3), df.sort_index(ascending=False).head(3)])"
   ]
  },
  {
   "cell_type": "markdown",
   "metadata": {},
   "source": [
    "#### Types of crimes grouped by crime category"
   ]
  },
  {
   "cell_type": "code",
   "execution_count": 72,
   "metadata": {},
   "outputs": [
    {
     "name": "stdout",
     "output_type": "stream",
     "text": [
      "\n",
      "***Aggravated Robbery***\n",
      "Carjacking\n",
      "Robbery at residential premises\n",
      "Robbery at non-residential premises\n",
      "Robbery of cash in transit\n",
      "Bank robbery\n",
      "Truck hijacking \n",
      "Truck hijacking\n",
      "\n",
      "***Contact Crimes***\n",
      "Murder\n",
      "Attempted murder\n",
      "Assault with the intent to inflict grievous bodily harm\n",
      "Common assault\n",
      "Common robbery\n",
      "Robbery with aggravating circumstances\n",
      "\n",
      "***Contact-Related Crimes***\n",
      "Arson\n",
      "Malicious damage to property\n",
      "\n",
      "***Crime detected as a result of Police Action***\n",
      "Illegal possession of firearms and ammunition\n",
      "Drug-related crime\n",
      "Driving under the influence of alcohol or drugs\n",
      "Sexual Offences detected as a result of police action\n",
      "\n",
      "***Other Serious Crimes***\n",
      "All theft not mentioned elsewhere\n",
      "Commercial crime\n",
      "Shoplifting\n",
      "\n",
      "***Property-Related Crimes***\n",
      "Burglary at non-residential premises\n",
      "Burglary at residential premises\n",
      "Theft of motor vehicle and motorcycle\n",
      "Theft out of or from motor vehicle\n",
      "Stock-theft\n",
      "\n",
      "***Sexual Offences***\n",
      "Rape\n",
      "Sexual Assault\n",
      "Attempted Sexual Offences\n",
      "Contact Sexual Offences\n"
     ]
    }
   ],
   "source": [
    "for i, g in df.groupby(['Crime Category'])['Crime'].unique().items():\n",
    "    print(f'\\n***{i}***') #List all crimes grouped by their UCR_PART\n",
    "    for x in g:\n",
    "        print(x)"
   ]
  },
  {
   "cell_type": "markdown",
   "metadata": {},
   "source": [
    "### <u>Exploratory Data Analysis</u>"
   ]
  },
  {
   "cell_type": "markdown",
   "metadata": {},
   "source": [
    "#### Interactive heatmap of crimes in Port Elizabeth"
   ]
  },
  {
   "cell_type": "code",
   "execution_count": null,
   "metadata": {},
   "outputs": [],
   "source": [
    "#Create heatmap dataframe\n",
    "step = 0.01\n",
    "to_bin = lambda x: np.floor(x / step) * step\n",
    "heatmap = df.copy()\n",
    "heatmap[\"Latitude\"] = to_bin(df[\"Latitude\"])\n",
    "heatmap[\"Longitude\"] = to_bin(df['Longitude'])\n",
    "heatmap = heatmap.groupby([\"Latitude\", \"Longitude\", \"Block\"]).count()['ID'].reset_index(name='Count') #The binning prevents too many clusters of hotspots everywhere. We then count all the crimes per 0.01 lat/longitude radius.\n",
    "\n",
    "heatmap = heatmap[(heatmap[\"Latitude\"] != 41.800000000000004) & (heatmap[\"Longitude\"] != -87.78)] #The heatmap will list the Unknown location as a hotspot as there are a large number of unknown locations, therefore we remove this from visualisation.\n",
    "\n",
    "def first_occurrence(series):\n",
    "    return series.iloc[0] #Return only the first occurence of the lat/long pair so we can sum the count\n",
    "\n",
    "heatmap = heatmap.sort_values(\"Count\", ascending=False).groupby('Block')\\\n",
    "    .agg({'Latitude': first_occurrence, 'Longitude': first_occurrence, 'Count': 'sum'}).reset_index().sort_values(\"Count\", ascending=False) #The same street occurs for various lat/long coord pairs, therefore we sum them up to get one result.\n",
    "\n",
    "heatmap = heatmap[heatmap['Count'] > 3000] #Limit to areas with high crime counts\n"
   ]
  },
  {
   "cell_type": "code",
   "execution_count": 15,
   "metadata": {},
   "outputs": [
    {
     "data": {
      "application/vnd.plotly.v1+json": {
       "config": {
        "plotlyServerURL": "https://plot.ly"
       },
       "data": [
        {
         "customdata": [
          [
           38140
          ],
          [
           63089
          ],
          [
           56207
          ],
          [
           69647
          ],
          [
           18720
          ],
          [
           44750
          ],
          [
           21329
          ],
          [
           60383
          ],
          [
           43477
          ],
          [
           82896
          ],
          [
           52673
          ],
          [
           24729
          ],
          [
           55220
          ]
         ],
         "hovertemplate": "<b>%{hovertext}</b><br><br>Crimes=%{marker.color}<br>Latitude=%{lat}<br>Longitude=%{lon}<extra></extra>",
         "hovertext": [
          "Algoapark",
          "Bethelsdorp",
          "Gelvandale",
          "Humewood",
          "Ikamvelihle",
          "Kabega Park",
          "Kwadwesi",
          "Kwazakele",
          "Motherwell",
          "Mount Road",
          "New Brighton",
          "Swartkops",
          "Walmer"
         ],
         "lat": [
          -33.9031712,
          -33.8705197,
          -33.9107082,
          -33.9737486,
          -33.7972722,
          -33.9399801,
          -33.8410858,
          -33.87626,
          -33.796568,
          -33.955318,
          -33.8994277,
          -33.8513015,
          -33.9788678
         ],
         "legendgroup": "",
         "lon": [
          25.5704957,
          25.5124711,
          25.5502497,
          25.6259001,
          25.6083202,
          25.4985667,
          25.5230822,
          25.58308,
          25.583835,
          25.5947301,
          25.5725492,
          25.6041969,
          25.5853756
         ],
         "marker": {
          "color": [
           38140,
           63089,
           56207,
           69647,
           18720,
           44750,
           21329,
           60383,
           43477,
           82896,
           52673,
           24729,
           55220
          ],
          "coloraxis": "coloraxis",
          "size": [
           38140,
           63089,
           56207,
           69647,
           18720,
           44750,
           21329,
           60383,
           43477,
           82896,
           52673,
           24729,
           55220
          ],
          "sizemode": "area",
          "sizeref": 92.10666666666667
         },
         "mode": "markers",
         "name": "",
         "showlegend": false,
         "subplot": "mapbox",
         "type": "scattermapbox"
        }
       ],
       "layout": {
        "coloraxis": {
         "colorbar": {
          "title": {
           "text": "Crimes"
          }
         },
         "colorscale": [
          [
           0,
           "Yellow"
          ],
          [
           0.3333333333333333,
           "orange"
          ],
          [
           0.6666666666666666,
           "red"
          ],
          [
           1,
           "maroon"
          ]
         ]
        },
        "height": 700,
        "legend": {
         "itemsizing": "constant",
         "tracegroupgap": 0
        },
        "mapbox": {
         "center": {
          "lat": -33.89186375384615,
          "lon": 25.57021942307692
         },
         "domain": {
          "x": [
           0,
           1
          ],
          "y": [
           0,
           1
          ]
         },
         "style": "carto-darkmatter",
         "zoom": 11
        },
        "margin": {
         "b": 0,
         "l": 0,
         "r": 0,
         "t": 0
        },
        "template": {
         "data": {
          "bar": [
           {
            "error_x": {
             "color": "#2a3f5f"
            },
            "error_y": {
             "color": "#2a3f5f"
            },
            "marker": {
             "line": {
              "color": "#E5ECF6",
              "width": 0.5
             },
             "pattern": {
              "fillmode": "overlay",
              "size": 10,
              "solidity": 0.2
             }
            },
            "type": "bar"
           }
          ],
          "barpolar": [
           {
            "marker": {
             "line": {
              "color": "#E5ECF6",
              "width": 0.5
             },
             "pattern": {
              "fillmode": "overlay",
              "size": 10,
              "solidity": 0.2
             }
            },
            "type": "barpolar"
           }
          ],
          "carpet": [
           {
            "aaxis": {
             "endlinecolor": "#2a3f5f",
             "gridcolor": "white",
             "linecolor": "white",
             "minorgridcolor": "white",
             "startlinecolor": "#2a3f5f"
            },
            "baxis": {
             "endlinecolor": "#2a3f5f",
             "gridcolor": "white",
             "linecolor": "white",
             "minorgridcolor": "white",
             "startlinecolor": "#2a3f5f"
            },
            "type": "carpet"
           }
          ],
          "choropleth": [
           {
            "colorbar": {
             "outlinewidth": 0,
             "ticks": ""
            },
            "type": "choropleth"
           }
          ],
          "contour": [
           {
            "colorbar": {
             "outlinewidth": 0,
             "ticks": ""
            },
            "colorscale": [
             [
              0,
              "#0d0887"
             ],
             [
              0.1111111111111111,
              "#46039f"
             ],
             [
              0.2222222222222222,
              "#7201a8"
             ],
             [
              0.3333333333333333,
              "#9c179e"
             ],
             [
              0.4444444444444444,
              "#bd3786"
             ],
             [
              0.5555555555555556,
              "#d8576b"
             ],
             [
              0.6666666666666666,
              "#ed7953"
             ],
             [
              0.7777777777777778,
              "#fb9f3a"
             ],
             [
              0.8888888888888888,
              "#fdca26"
             ],
             [
              1,
              "#f0f921"
             ]
            ],
            "type": "contour"
           }
          ],
          "contourcarpet": [
           {
            "colorbar": {
             "outlinewidth": 0,
             "ticks": ""
            },
            "type": "contourcarpet"
           }
          ],
          "heatmap": [
           {
            "colorbar": {
             "outlinewidth": 0,
             "ticks": ""
            },
            "colorscale": [
             [
              0,
              "#0d0887"
             ],
             [
              0.1111111111111111,
              "#46039f"
             ],
             [
              0.2222222222222222,
              "#7201a8"
             ],
             [
              0.3333333333333333,
              "#9c179e"
             ],
             [
              0.4444444444444444,
              "#bd3786"
             ],
             [
              0.5555555555555556,
              "#d8576b"
             ],
             [
              0.6666666666666666,
              "#ed7953"
             ],
             [
              0.7777777777777778,
              "#fb9f3a"
             ],
             [
              0.8888888888888888,
              "#fdca26"
             ],
             [
              1,
              "#f0f921"
             ]
            ],
            "type": "heatmap"
           }
          ],
          "heatmapgl": [
           {
            "colorbar": {
             "outlinewidth": 0,
             "ticks": ""
            },
            "colorscale": [
             [
              0,
              "#0d0887"
             ],
             [
              0.1111111111111111,
              "#46039f"
             ],
             [
              0.2222222222222222,
              "#7201a8"
             ],
             [
              0.3333333333333333,
              "#9c179e"
             ],
             [
              0.4444444444444444,
              "#bd3786"
             ],
             [
              0.5555555555555556,
              "#d8576b"
             ],
             [
              0.6666666666666666,
              "#ed7953"
             ],
             [
              0.7777777777777778,
              "#fb9f3a"
             ],
             [
              0.8888888888888888,
              "#fdca26"
             ],
             [
              1,
              "#f0f921"
             ]
            ],
            "type": "heatmapgl"
           }
          ],
          "histogram": [
           {
            "marker": {
             "pattern": {
              "fillmode": "overlay",
              "size": 10,
              "solidity": 0.2
             }
            },
            "type": "histogram"
           }
          ],
          "histogram2d": [
           {
            "colorbar": {
             "outlinewidth": 0,
             "ticks": ""
            },
            "colorscale": [
             [
              0,
              "#0d0887"
             ],
             [
              0.1111111111111111,
              "#46039f"
             ],
             [
              0.2222222222222222,
              "#7201a8"
             ],
             [
              0.3333333333333333,
              "#9c179e"
             ],
             [
              0.4444444444444444,
              "#bd3786"
             ],
             [
              0.5555555555555556,
              "#d8576b"
             ],
             [
              0.6666666666666666,
              "#ed7953"
             ],
             [
              0.7777777777777778,
              "#fb9f3a"
             ],
             [
              0.8888888888888888,
              "#fdca26"
             ],
             [
              1,
              "#f0f921"
             ]
            ],
            "type": "histogram2d"
           }
          ],
          "histogram2dcontour": [
           {
            "colorbar": {
             "outlinewidth": 0,
             "ticks": ""
            },
            "colorscale": [
             [
              0,
              "#0d0887"
             ],
             [
              0.1111111111111111,
              "#46039f"
             ],
             [
              0.2222222222222222,
              "#7201a8"
             ],
             [
              0.3333333333333333,
              "#9c179e"
             ],
             [
              0.4444444444444444,
              "#bd3786"
             ],
             [
              0.5555555555555556,
              "#d8576b"
             ],
             [
              0.6666666666666666,
              "#ed7953"
             ],
             [
              0.7777777777777778,
              "#fb9f3a"
             ],
             [
              0.8888888888888888,
              "#fdca26"
             ],
             [
              1,
              "#f0f921"
             ]
            ],
            "type": "histogram2dcontour"
           }
          ],
          "mesh3d": [
           {
            "colorbar": {
             "outlinewidth": 0,
             "ticks": ""
            },
            "type": "mesh3d"
           }
          ],
          "parcoords": [
           {
            "line": {
             "colorbar": {
              "outlinewidth": 0,
              "ticks": ""
             }
            },
            "type": "parcoords"
           }
          ],
          "pie": [
           {
            "automargin": true,
            "type": "pie"
           }
          ],
          "scatter": [
           {
            "fillpattern": {
             "fillmode": "overlay",
             "size": 10,
             "solidity": 0.2
            },
            "type": "scatter"
           }
          ],
          "scatter3d": [
           {
            "line": {
             "colorbar": {
              "outlinewidth": 0,
              "ticks": ""
             }
            },
            "marker": {
             "colorbar": {
              "outlinewidth": 0,
              "ticks": ""
             }
            },
            "type": "scatter3d"
           }
          ],
          "scattercarpet": [
           {
            "marker": {
             "colorbar": {
              "outlinewidth": 0,
              "ticks": ""
             }
            },
            "type": "scattercarpet"
           }
          ],
          "scattergeo": [
           {
            "marker": {
             "colorbar": {
              "outlinewidth": 0,
              "ticks": ""
             }
            },
            "type": "scattergeo"
           }
          ],
          "scattergl": [
           {
            "marker": {
             "colorbar": {
              "outlinewidth": 0,
              "ticks": ""
             }
            },
            "type": "scattergl"
           }
          ],
          "scattermapbox": [
           {
            "marker": {
             "colorbar": {
              "outlinewidth": 0,
              "ticks": ""
             }
            },
            "type": "scattermapbox"
           }
          ],
          "scatterpolar": [
           {
            "marker": {
             "colorbar": {
              "outlinewidth": 0,
              "ticks": ""
             }
            },
            "type": "scatterpolar"
           }
          ],
          "scatterpolargl": [
           {
            "marker": {
             "colorbar": {
              "outlinewidth": 0,
              "ticks": ""
             }
            },
            "type": "scatterpolargl"
           }
          ],
          "scatterternary": [
           {
            "marker": {
             "colorbar": {
              "outlinewidth": 0,
              "ticks": ""
             }
            },
            "type": "scatterternary"
           }
          ],
          "surface": [
           {
            "colorbar": {
             "outlinewidth": 0,
             "ticks": ""
            },
            "colorscale": [
             [
              0,
              "#0d0887"
             ],
             [
              0.1111111111111111,
              "#46039f"
             ],
             [
              0.2222222222222222,
              "#7201a8"
             ],
             [
              0.3333333333333333,
              "#9c179e"
             ],
             [
              0.4444444444444444,
              "#bd3786"
             ],
             [
              0.5555555555555556,
              "#d8576b"
             ],
             [
              0.6666666666666666,
              "#ed7953"
             ],
             [
              0.7777777777777778,
              "#fb9f3a"
             ],
             [
              0.8888888888888888,
              "#fdca26"
             ],
             [
              1,
              "#f0f921"
             ]
            ],
            "type": "surface"
           }
          ],
          "table": [
           {
            "cells": {
             "fill": {
              "color": "#EBF0F8"
             },
             "line": {
              "color": "white"
             }
            },
            "header": {
             "fill": {
              "color": "#C8D4E3"
             },
             "line": {
              "color": "white"
             }
            },
            "type": "table"
           }
          ]
         },
         "layout": {
          "annotationdefaults": {
           "arrowcolor": "#2a3f5f",
           "arrowhead": 0,
           "arrowwidth": 1
          },
          "autotypenumbers": "strict",
          "coloraxis": {
           "colorbar": {
            "outlinewidth": 0,
            "ticks": ""
           }
          },
          "colorscale": {
           "diverging": [
            [
             0,
             "#8e0152"
            ],
            [
             0.1,
             "#c51b7d"
            ],
            [
             0.2,
             "#de77ae"
            ],
            [
             0.3,
             "#f1b6da"
            ],
            [
             0.4,
             "#fde0ef"
            ],
            [
             0.5,
             "#f7f7f7"
            ],
            [
             0.6,
             "#e6f5d0"
            ],
            [
             0.7,
             "#b8e186"
            ],
            [
             0.8,
             "#7fbc41"
            ],
            [
             0.9,
             "#4d9221"
            ],
            [
             1,
             "#276419"
            ]
           ],
           "sequential": [
            [
             0,
             "#0d0887"
            ],
            [
             0.1111111111111111,
             "#46039f"
            ],
            [
             0.2222222222222222,
             "#7201a8"
            ],
            [
             0.3333333333333333,
             "#9c179e"
            ],
            [
             0.4444444444444444,
             "#bd3786"
            ],
            [
             0.5555555555555556,
             "#d8576b"
            ],
            [
             0.6666666666666666,
             "#ed7953"
            ],
            [
             0.7777777777777778,
             "#fb9f3a"
            ],
            [
             0.8888888888888888,
             "#fdca26"
            ],
            [
             1,
             "#f0f921"
            ]
           ],
           "sequentialminus": [
            [
             0,
             "#0d0887"
            ],
            [
             0.1111111111111111,
             "#46039f"
            ],
            [
             0.2222222222222222,
             "#7201a8"
            ],
            [
             0.3333333333333333,
             "#9c179e"
            ],
            [
             0.4444444444444444,
             "#bd3786"
            ],
            [
             0.5555555555555556,
             "#d8576b"
            ],
            [
             0.6666666666666666,
             "#ed7953"
            ],
            [
             0.7777777777777778,
             "#fb9f3a"
            ],
            [
             0.8888888888888888,
             "#fdca26"
            ],
            [
             1,
             "#f0f921"
            ]
           ]
          },
          "colorway": [
           "#636efa",
           "#EF553B",
           "#00cc96",
           "#ab63fa",
           "#FFA15A",
           "#19d3f3",
           "#FF6692",
           "#B6E880",
           "#FF97FF",
           "#FECB52"
          ],
          "font": {
           "color": "#2a3f5f"
          },
          "geo": {
           "bgcolor": "white",
           "lakecolor": "white",
           "landcolor": "#E5ECF6",
           "showlakes": true,
           "showland": true,
           "subunitcolor": "white"
          },
          "hoverlabel": {
           "align": "left"
          },
          "hovermode": "closest",
          "mapbox": {
           "style": "light"
          },
          "paper_bgcolor": "white",
          "plot_bgcolor": "#E5ECF6",
          "polar": {
           "angularaxis": {
            "gridcolor": "white",
            "linecolor": "white",
            "ticks": ""
           },
           "bgcolor": "#E5ECF6",
           "radialaxis": {
            "gridcolor": "white",
            "linecolor": "white",
            "ticks": ""
           }
          },
          "scene": {
           "xaxis": {
            "backgroundcolor": "#E5ECF6",
            "gridcolor": "white",
            "gridwidth": 2,
            "linecolor": "white",
            "showbackground": true,
            "ticks": "",
            "zerolinecolor": "white"
           },
           "yaxis": {
            "backgroundcolor": "#E5ECF6",
            "gridcolor": "white",
            "gridwidth": 2,
            "linecolor": "white",
            "showbackground": true,
            "ticks": "",
            "zerolinecolor": "white"
           },
           "zaxis": {
            "backgroundcolor": "#E5ECF6",
            "gridcolor": "white",
            "gridwidth": 2,
            "linecolor": "white",
            "showbackground": true,
            "ticks": "",
            "zerolinecolor": "white"
           }
          },
          "shapedefaults": {
           "line": {
            "color": "#2a3f5f"
           }
          },
          "ternary": {
           "aaxis": {
            "gridcolor": "white",
            "linecolor": "white",
            "ticks": ""
           },
           "baxis": {
            "gridcolor": "white",
            "linecolor": "white",
            "ticks": ""
           },
           "bgcolor": "#E5ECF6",
           "caxis": {
            "gridcolor": "white",
            "linecolor": "white",
            "ticks": ""
           }
          },
          "title": {
           "x": 0.05
          },
          "xaxis": {
           "automargin": true,
           "gridcolor": "white",
           "linecolor": "white",
           "ticks": "",
           "title": {
            "standoff": 15
           },
           "zerolinecolor": "white",
           "zerolinewidth": 2
          },
          "yaxis": {
           "automargin": true,
           "gridcolor": "white",
           "linecolor": "white",
           "ticks": "",
           "title": {
            "standoff": 15
           },
           "zerolinecolor": "white",
           "zerolinewidth": 2
          }
         }
        }
       }
      }
     },
     "metadata": {},
     "output_type": "display_data"
    }
   ],
   "source": [
    "fig = px.scatter_mapbox(sum_crimes, lat=\"Latitude\", lon=\"Longitude\", hover_name=\"Police Station\", hover_data=[\"Crimes\"],\n",
    "                        color=\"Crimes\", color_continuous_scale=['Yellow', 'orange', 'red', 'maroon'], zoom=11, height=700, size='Crimes', size_max=30)\n",
    "fig.update_layout(mapbox_style=\"carto-darkmatter\", margin={\"r\":0,\"t\":0,\"l\":0,\"b\":0})\n",
    "fig.show()"
   ]
  },
  {
   "cell_type": "markdown",
   "metadata": {},
   "source": [
    "### Static heatmap of Chicago crime hotspots"
   ]
  },
  {
   "cell_type": "markdown",
   "metadata": {},
   "source": [
    "##### Create geodataframe"
   ]
  },
  {
   "cell_type": "code",
   "execution_count": 73,
   "metadata": {},
   "outputs": [
    {
     "name": "stderr",
     "output_type": "stream",
     "text": [
      "c:\\Users\\user-pc\\AppData\\Local\\Programs\\Python\\Python311\\Lib\\site-packages\\pyproj\\crs\\crs.py:141: FutureWarning: '+init=<authority>:<code>' syntax is deprecated. '<authority>:<code>' is the preferred initialization method. When making the change, be mindful of axis order changes: https://pyproj4.github.io/pyproj/stable/gotchas.html#axis-order-changes-in-proj-6\n",
      "  in_crs_string = _prepare_from_proj_string(in_crs_string)\n"
     ]
    }
   ],
   "source": [
    "sum_crimes = df.groupby(['Police Station'], observed=True)['Crimes'].sum()\n",
    "sum_crimes = sum_crimes.reset_index()\n",
    "sum_crimes['Latitude'] = df['Latitude'].unique()\n",
    "sum_crimes['Longitude'] = df['Longitude'].unique()\n",
    "sum_crimes['size'] = sum_crimes['Crimes'] / 60\n",
    "    \n",
    "#A GeoDataFrame is a dataframe that accepts a geometry column (POINT pairs)\n",
    "geo_df = gpd.GeoDataFrame(sum_crimes, crs = {'init': 'epsg:4326'}, geometry=[Point(xy) for xy in zip(sum_crimes['Longitude'], sum_crimes['Latitude'])])"
   ]
  },
  {
   "cell_type": "markdown",
   "metadata": {},
   "source": [
    "##### Plot"
   ]
  },
  {
   "cell_type": "code",
   "execution_count": 77,
   "metadata": {},
   "outputs": [
    {
     "data": {
      "image/png": "[encoded data removed]",
      "text/plain": [
       "<Figure size 1300x1000 with 2 Axes>"
      ]
     },
     "metadata": {},
     "output_type": "display_data"
    }
   ],
   "source": [
    "fig, ax = plt.subplots(figsize=(13,10))\n",
    "map = gpd.read_file(\"SAshape/gadm41_ZAF_4.shp\")\n",
    "map.plot(ax=ax, aspect=1) #Plot the map of South Africa\n",
    "geo_df.plot(aspect=1, column='Crimes', ax=ax, markersize='size', cmap='OrRd', legend=True, alpha=0.65, legend_kwds={'shrink': 0.4}) #Plot the latitude longitude pairs onto the same SA map.\n",
    "ax.set_ylim([-33.77, -34])\n",
    "ax.set_xlim([25.46, 25.7])\n",
    "plt.title('Crime hot spots within PE (2010 - 2022)', weight='bold')\n",
    "for x, y, label in zip(geo_df.geometry.x, geo_df.geometry.y, geo_df['Police Station']):\n",
    "    ax.annotate(label, xy=(x, y), xytext=(14,0), textcoords=\"offset points\", weight='bold', fontsize=12)\n",
    "ax.get_figure().get_axes()[1].set_title(\"Num. crimes\")\n",
    "plt.show()"
   ]
  },
  {
   "cell_type": "code",
   "execution_count": 199,
   "metadata": {},
   "outputs": [],
   "source": [
    "df_grouped = df.groupby(['Police Station'], observed=True)['Crimes'].sum()\n",
    "df_grouped_year = df.groupby(['Police Station', 'Year'], observed=True)['Crimes'].sum()\n",
    "df_grouped_y = df.groupby(['Year'], observed=True)['Crimes'].sum()"
   ]
  },
  {
   "cell_type": "code",
   "execution_count": 200,
   "metadata": {},
   "outputs": [
    {
     "data": {
      "image/png": "[encoded data removed]",
      "text/plain": [
       "<Figure size 1800x1200 with 4 Axes>"
      ]
     },
     "metadata": {},
     "output_type": "display_data"
    }
   ],
   "source": [
    "fig, axs = plt.subplots(2, 2, figsize=(18, 12))\n",
    "\n",
    "df_grouped.sort_values(ascending=False).plot.bar(color=['#5cb85c','#5bc0de','#d9534f'], ax=axs[0,0])\n",
    "df_grouped_year['Algoapark'].plot.bar(color=['#5cb85c','#5bc0de','#d9534f'], ax=axs[0,1])\n",
    "df_grouped_y.plot.bar(color=['#5bc0de'], ax=axs[1,0])\n",
    "#sns.barplot(df_grouped, ax=axs[0,0], x='Police Station', y='Crimes')\n",
    "\n",
    "axs[0,0].set_title('Bar graph of the most dangerous areas in PE')\n",
    "axs[0,0].set_xlabel('Police Station')\n",
    "axs[0,0].set_ylabel('Crime count')\n",
    "\n",
    "axs[0,1].set_title('Bar graph of Algoapark')\n",
    "axs[0,1].set_xlabel('Year')\n",
    "axs[0,1].set_ylabel('Crime count')\n",
    "\n",
    "axs[1,0].set_title('Total sum of crimes from 2010 - 2019')\n",
    "axs[1,0].set_xlabel('Year')\n",
    "axs[1,0].set_ylabel('Crime count')\n",
    "\n",
    "plt.tight_layout()"
   ]
  },
  {
   "cell_type": "code",
   "execution_count": 201,
   "metadata": {},
   "outputs": [
    {
     "data": {
      "text/html": [
       "<div>\n",
       "<style scoped>\n",
       "    .dataframe tbody tr th:only-of-type {\n",
       "        vertical-align: middle;\n",
       "    }\n",
       "\n",
       "    .dataframe tbody tr th {\n",
       "        vertical-align: top;\n",
       "    }\n",
       "\n",
       "    .dataframe thead th {\n",
       "        text-align: right;\n",
       "    }\n",
       "</style>\n",
       "<table border=\"1\" class=\"dataframe\">\n",
       "  <thead>\n",
       "    <tr style=\"text-align: right;\">\n",
       "      <th></th>\n",
       "      <th>Police Station</th>\n",
       "      <th>Crimes</th>\n",
       "    </tr>\n",
       "  </thead>\n",
       "  <tbody>\n",
       "    <tr>\n",
       "      <th>0</th>\n",
       "      <td>Algoapark</td>\n",
       "      <td>38140</td>\n",
       "    </tr>\n",
       "    <tr>\n",
       "      <th>1</th>\n",
       "      <td>Bethelsdorp</td>\n",
       "      <td>63089</td>\n",
       "    </tr>\n",
       "    <tr>\n",
       "      <th>2</th>\n",
       "      <td>Gelvandale</td>\n",
       "      <td>56207</td>\n",
       "    </tr>\n",
       "    <tr>\n",
       "      <th>3</th>\n",
       "      <td>Humewood</td>\n",
       "      <td>69647</td>\n",
       "    </tr>\n",
       "    <tr>\n",
       "      <th>4</th>\n",
       "      <td>Ikamvelihle</td>\n",
       "      <td>18720</td>\n",
       "    </tr>\n",
       "    <tr>\n",
       "      <th>5</th>\n",
       "      <td>Kabega Park</td>\n",
       "      <td>44750</td>\n",
       "    </tr>\n",
       "    <tr>\n",
       "      <th>6</th>\n",
       "      <td>Kwadwesi</td>\n",
       "      <td>21329</td>\n",
       "    </tr>\n",
       "    <tr>\n",
       "      <th>7</th>\n",
       "      <td>Kwazakele</td>\n",
       "      <td>60383</td>\n",
       "    </tr>\n",
       "    <tr>\n",
       "      <th>8</th>\n",
       "      <td>Motherwell</td>\n",
       "      <td>43477</td>\n",
       "    </tr>\n",
       "    <tr>\n",
       "      <th>9</th>\n",
       "      <td>Mount Road</td>\n",
       "      <td>82896</td>\n",
       "    </tr>\n",
       "    <tr>\n",
       "      <th>10</th>\n",
       "      <td>New Brighton</td>\n",
       "      <td>52673</td>\n",
       "    </tr>\n",
       "    <tr>\n",
       "      <th>11</th>\n",
       "      <td>Swartkops</td>\n",
       "      <td>24729</td>\n",
       "    </tr>\n",
       "    <tr>\n",
       "      <th>12</th>\n",
       "      <td>Walmer</td>\n",
       "      <td>55220</td>\n",
       "    </tr>\n",
       "  </tbody>\n",
       "</table>\n",
       "</div>"
      ],
      "text/plain": [
       "   Police Station  Crimes\n",
       "0       Algoapark   38140\n",
       "1     Bethelsdorp   63089\n",
       "2      Gelvandale   56207\n",
       "3        Humewood   69647\n",
       "4     Ikamvelihle   18720\n",
       "5     Kabega Park   44750\n",
       "6        Kwadwesi   21329\n",
       "7       Kwazakele   60383\n",
       "8      Motherwell   43477\n",
       "9      Mount Road   82896\n",
       "10   New Brighton   52673\n",
       "11      Swartkops   24729\n",
       "12         Walmer   55220"
      ]
     },
     "execution_count": 201,
     "metadata": {},
     "output_type": "execute_result"
    }
   ],
   "source": [
    "df_grouped = df_grouped.reset_index()\n",
    "df_grouped"
   ]
  },
  {
   "cell_type": "code",
   "execution_count": 203,
   "metadata": {},
   "outputs": [
    {
     "data": {
      "text/plain": [
       "Crime Category\n",
       "Contact Crimes                                 178913\n",
       "Property-Related Crimes                        157408\n",
       "Other Serious Crimes                           135058\n",
       "Crime detected as a result of Police Action     74759\n",
       "Contact-Related Crimes                          46726\n",
       "Aggravated Robbery                              21172\n",
       "Sexual Offences                                 17224\n",
       "Name: Crimes, dtype: int64"
      ]
     },
     "execution_count": 203,
     "metadata": {},
     "output_type": "execute_result"
    }
   ],
   "source": [
    "# fig = px.treemap(df_grouped, values='Crimes', names='Police Station', title='Pie chart of most dangerous areas in PE')\n",
    "# fig.show()\n",
    "\n",
    "df.groupby(['Crime Category'], observed=True)['Crimes'].sum().sort_values(ascending=False)"
   ]
  },
  {
   "cell_type": "markdown",
   "metadata": {},
   "source": [
    "#### There are 30 unique classes of crimes with 7 unique crime categories"
   ]
  },
  {
   "cell_type": "code",
   "execution_count": 204,
   "metadata": {},
   "outputs": [
    {
     "data": {
      "text/html": [
       "<div>\n",
       "<style scoped>\n",
       "    .dataframe tbody tr th:only-of-type {\n",
       "        vertical-align: middle;\n",
       "    }\n",
       "\n",
       "    .dataframe tbody tr th {\n",
       "        vertical-align: top;\n",
       "    }\n",
       "\n",
       "    .dataframe thead th {\n",
       "        text-align: right;\n",
       "    }\n",
       "</style>\n",
       "<table border=\"1\" class=\"dataframe\">\n",
       "  <thead>\n",
       "    <tr style=\"text-align: right;\">\n",
       "      <th></th>\n",
       "      <th>Crime</th>\n",
       "      <th>Crimes</th>\n",
       "      <th>Police Station</th>\n",
       "      <th>Crime Category</th>\n",
       "      <th>Latitude</th>\n",
       "      <th>Longitude</th>\n",
       "      <th>Year</th>\n",
       "    </tr>\n",
       "  </thead>\n",
       "  <tbody>\n",
       "    <tr>\n",
       "      <th>3510</th>\n",
       "      <td>Murder</td>\n",
       "      <td>23</td>\n",
       "      <td>Algoapark</td>\n",
       "      <td>Contact Crimes</td>\n",
       "      <td>-33.903171</td>\n",
       "      <td>25.570496</td>\n",
       "      <td>2019</td>\n",
       "    </tr>\n",
       "    <tr>\n",
       "      <th>3511</th>\n",
       "      <td>Attempted murder</td>\n",
       "      <td>23</td>\n",
       "      <td>Algoapark</td>\n",
       "      <td>Contact Crimes</td>\n",
       "      <td>-33.903171</td>\n",
       "      <td>25.570496</td>\n",
       "      <td>2019</td>\n",
       "    </tr>\n",
       "    <tr>\n",
       "      <th>3512</th>\n",
       "      <td>Assault with the intent to inflict grievous bo...</td>\n",
       "      <td>137</td>\n",
       "      <td>Algoapark</td>\n",
       "      <td>Contact Crimes</td>\n",
       "      <td>-33.903171</td>\n",
       "      <td>25.570496</td>\n",
       "      <td>2019</td>\n",
       "    </tr>\n",
       "    <tr>\n",
       "      <th>3513</th>\n",
       "      <td>Common assault</td>\n",
       "      <td>223</td>\n",
       "      <td>Algoapark</td>\n",
       "      <td>Contact Crimes</td>\n",
       "      <td>-33.903171</td>\n",
       "      <td>25.570496</td>\n",
       "      <td>2019</td>\n",
       "    </tr>\n",
       "    <tr>\n",
       "      <th>3514</th>\n",
       "      <td>Common robbery</td>\n",
       "      <td>81</td>\n",
       "      <td>Algoapark</td>\n",
       "      <td>Contact Crimes</td>\n",
       "      <td>-33.903171</td>\n",
       "      <td>25.570496</td>\n",
       "      <td>2019</td>\n",
       "    </tr>\n",
       "    <tr>\n",
       "      <th>3515</th>\n",
       "      <td>Robbery with aggravating circumstances</td>\n",
       "      <td>262</td>\n",
       "      <td>Algoapark</td>\n",
       "      <td>Contact Crimes</td>\n",
       "      <td>-33.903171</td>\n",
       "      <td>25.570496</td>\n",
       "      <td>2019</td>\n",
       "    </tr>\n",
       "    <tr>\n",
       "      <th>3516</th>\n",
       "      <td>Rape</td>\n",
       "      <td>52</td>\n",
       "      <td>Algoapark</td>\n",
       "      <td>Sexual Offences</td>\n",
       "      <td>-33.903171</td>\n",
       "      <td>25.570496</td>\n",
       "      <td>2019</td>\n",
       "    </tr>\n",
       "    <tr>\n",
       "      <th>3517</th>\n",
       "      <td>Sexual Assault</td>\n",
       "      <td>12</td>\n",
       "      <td>Algoapark</td>\n",
       "      <td>Sexual Offences</td>\n",
       "      <td>-33.903171</td>\n",
       "      <td>25.570496</td>\n",
       "      <td>2019</td>\n",
       "    </tr>\n",
       "    <tr>\n",
       "      <th>3518</th>\n",
       "      <td>Attempted Sexual Offences</td>\n",
       "      <td>0</td>\n",
       "      <td>Algoapark</td>\n",
       "      <td>Sexual Offences</td>\n",
       "      <td>-33.903171</td>\n",
       "      <td>25.570496</td>\n",
       "      <td>2019</td>\n",
       "    </tr>\n",
       "    <tr>\n",
       "      <th>3519</th>\n",
       "      <td>Contact Sexual Offences</td>\n",
       "      <td>7</td>\n",
       "      <td>Algoapark</td>\n",
       "      <td>Sexual Offences</td>\n",
       "      <td>-33.903171</td>\n",
       "      <td>25.570496</td>\n",
       "      <td>2019</td>\n",
       "    </tr>\n",
       "    <tr>\n",
       "      <th>3520</th>\n",
       "      <td>Carjacking</td>\n",
       "      <td>31</td>\n",
       "      <td>Algoapark</td>\n",
       "      <td>Aggravated Robbery</td>\n",
       "      <td>-33.903171</td>\n",
       "      <td>25.570496</td>\n",
       "      <td>2019</td>\n",
       "    </tr>\n",
       "    <tr>\n",
       "      <th>3521</th>\n",
       "      <td>Robbery at residential premises</td>\n",
       "      <td>19</td>\n",
       "      <td>Algoapark</td>\n",
       "      <td>Aggravated Robbery</td>\n",
       "      <td>-33.903171</td>\n",
       "      <td>25.570496</td>\n",
       "      <td>2019</td>\n",
       "    </tr>\n",
       "    <tr>\n",
       "      <th>3522</th>\n",
       "      <td>Robbery at non-residential premises</td>\n",
       "      <td>55</td>\n",
       "      <td>Algoapark</td>\n",
       "      <td>Aggravated Robbery</td>\n",
       "      <td>-33.903171</td>\n",
       "      <td>25.570496</td>\n",
       "      <td>2019</td>\n",
       "    </tr>\n",
       "    <tr>\n",
       "      <th>3523</th>\n",
       "      <td>Robbery of cash in transit</td>\n",
       "      <td>0</td>\n",
       "      <td>Algoapark</td>\n",
       "      <td>Aggravated Robbery</td>\n",
       "      <td>-33.903171</td>\n",
       "      <td>25.570496</td>\n",
       "      <td>2019</td>\n",
       "    </tr>\n",
       "    <tr>\n",
       "      <th>3524</th>\n",
       "      <td>Bank robbery</td>\n",
       "      <td>0</td>\n",
       "      <td>Algoapark</td>\n",
       "      <td>Aggravated Robbery</td>\n",
       "      <td>-33.903171</td>\n",
       "      <td>25.570496</td>\n",
       "      <td>2019</td>\n",
       "    </tr>\n",
       "    <tr>\n",
       "      <th>3525</th>\n",
       "      <td>Truck hijacking</td>\n",
       "      <td>4</td>\n",
       "      <td>Algoapark</td>\n",
       "      <td>Aggravated Robbery</td>\n",
       "      <td>-33.903171</td>\n",
       "      <td>25.570496</td>\n",
       "      <td>2019</td>\n",
       "    </tr>\n",
       "    <tr>\n",
       "      <th>3526</th>\n",
       "      <td>Arson</td>\n",
       "      <td>8</td>\n",
       "      <td>Algoapark</td>\n",
       "      <td>Contact-Related Crimes</td>\n",
       "      <td>-33.903171</td>\n",
       "      <td>25.570496</td>\n",
       "      <td>2019</td>\n",
       "    </tr>\n",
       "    <tr>\n",
       "      <th>3527</th>\n",
       "      <td>Malicious damage to property</td>\n",
       "      <td>196</td>\n",
       "      <td>Algoapark</td>\n",
       "      <td>Contact-Related Crimes</td>\n",
       "      <td>-33.903171</td>\n",
       "      <td>25.570496</td>\n",
       "      <td>2019</td>\n",
       "    </tr>\n",
       "    <tr>\n",
       "      <th>3528</th>\n",
       "      <td>Burglary at non-residential premises</td>\n",
       "      <td>212</td>\n",
       "      <td>Algoapark</td>\n",
       "      <td>Property-Related Crimes</td>\n",
       "      <td>-33.903171</td>\n",
       "      <td>25.570496</td>\n",
       "      <td>2019</td>\n",
       "    </tr>\n",
       "    <tr>\n",
       "      <th>3529</th>\n",
       "      <td>Burglary at residential premises</td>\n",
       "      <td>253</td>\n",
       "      <td>Algoapark</td>\n",
       "      <td>Property-Related Crimes</td>\n",
       "      <td>-33.903171</td>\n",
       "      <td>25.570496</td>\n",
       "      <td>2019</td>\n",
       "    </tr>\n",
       "    <tr>\n",
       "      <th>3530</th>\n",
       "      <td>Theft of motor vehicle and motorcycle</td>\n",
       "      <td>47</td>\n",
       "      <td>Algoapark</td>\n",
       "      <td>Property-Related Crimes</td>\n",
       "      <td>-33.903171</td>\n",
       "      <td>25.570496</td>\n",
       "      <td>2019</td>\n",
       "    </tr>\n",
       "    <tr>\n",
       "      <th>3531</th>\n",
       "      <td>Theft out of or from motor vehicle</td>\n",
       "      <td>357</td>\n",
       "      <td>Algoapark</td>\n",
       "      <td>Property-Related Crimes</td>\n",
       "      <td>-33.903171</td>\n",
       "      <td>25.570496</td>\n",
       "      <td>2019</td>\n",
       "    </tr>\n",
       "    <tr>\n",
       "      <th>3532</th>\n",
       "      <td>Stock-theft</td>\n",
       "      <td>0</td>\n",
       "      <td>Algoapark</td>\n",
       "      <td>Property-Related Crimes</td>\n",
       "      <td>-33.903171</td>\n",
       "      <td>25.570496</td>\n",
       "      <td>2019</td>\n",
       "    </tr>\n",
       "    <tr>\n",
       "      <th>3533</th>\n",
       "      <td>All theft not mentioned elsewhere</td>\n",
       "      <td>487</td>\n",
       "      <td>Algoapark</td>\n",
       "      <td>Other Serious Crimes</td>\n",
       "      <td>-33.903171</td>\n",
       "      <td>25.570496</td>\n",
       "      <td>2019</td>\n",
       "    </tr>\n",
       "    <tr>\n",
       "      <th>3534</th>\n",
       "      <td>Commercial crime</td>\n",
       "      <td>129</td>\n",
       "      <td>Algoapark</td>\n",
       "      <td>Other Serious Crimes</td>\n",
       "      <td>-33.903171</td>\n",
       "      <td>25.570496</td>\n",
       "      <td>2019</td>\n",
       "    </tr>\n",
       "    <tr>\n",
       "      <th>3535</th>\n",
       "      <td>Shoplifting</td>\n",
       "      <td>227</td>\n",
       "      <td>Algoapark</td>\n",
       "      <td>Other Serious Crimes</td>\n",
       "      <td>-33.903171</td>\n",
       "      <td>25.570496</td>\n",
       "      <td>2019</td>\n",
       "    </tr>\n",
       "    <tr>\n",
       "      <th>3536</th>\n",
       "      <td>Illegal possession of firearms and ammunition</td>\n",
       "      <td>21</td>\n",
       "      <td>Algoapark</td>\n",
       "      <td>Crime detected as a result of Police Action</td>\n",
       "      <td>-33.903171</td>\n",
       "      <td>25.570496</td>\n",
       "      <td>2019</td>\n",
       "    </tr>\n",
       "    <tr>\n",
       "      <th>3537</th>\n",
       "      <td>Drug-related crime</td>\n",
       "      <td>195</td>\n",
       "      <td>Algoapark</td>\n",
       "      <td>Crime detected as a result of Police Action</td>\n",
       "      <td>-33.903171</td>\n",
       "      <td>25.570496</td>\n",
       "      <td>2019</td>\n",
       "    </tr>\n",
       "    <tr>\n",
       "      <th>3538</th>\n",
       "      <td>Driving under the influence of alcohol or drugs</td>\n",
       "      <td>79</td>\n",
       "      <td>Algoapark</td>\n",
       "      <td>Crime detected as a result of Police Action</td>\n",
       "      <td>-33.903171</td>\n",
       "      <td>25.570496</td>\n",
       "      <td>2019</td>\n",
       "    </tr>\n",
       "    <tr>\n",
       "      <th>3539</th>\n",
       "      <td>Sexual Offences detected as a result of police...</td>\n",
       "      <td>0</td>\n",
       "      <td>Algoapark</td>\n",
       "      <td>Crime detected as a result of Police Action</td>\n",
       "      <td>-33.903171</td>\n",
       "      <td>25.570496</td>\n",
       "      <td>2019</td>\n",
       "    </tr>\n",
       "  </tbody>\n",
       "</table>\n",
       "</div>"
      ],
      "text/plain": [
       "                                                  Crime  Crimes  \\\n",
       "3510                                             Murder      23   \n",
       "3511                                   Attempted murder      23   \n",
       "3512  Assault with the intent to inflict grievous bo...     137   \n",
       "3513                                     Common assault     223   \n",
       "3514                                     Common robbery      81   \n",
       "3515             Robbery with aggravating circumstances     262   \n",
       "3516                                               Rape      52   \n",
       "3517                                     Sexual Assault      12   \n",
       "3518                          Attempted Sexual Offences       0   \n",
       "3519                            Contact Sexual Offences       7   \n",
       "3520                                         Carjacking      31   \n",
       "3521                    Robbery at residential premises      19   \n",
       "3522                Robbery at non-residential premises      55   \n",
       "3523                         Robbery of cash in transit       0   \n",
       "3524                                       Bank robbery       0   \n",
       "3525                                   Truck hijacking        4   \n",
       "3526                                              Arson       8   \n",
       "3527                       Malicious damage to property     196   \n",
       "3528               Burglary at non-residential premises     212   \n",
       "3529                   Burglary at residential premises     253   \n",
       "3530              Theft of motor vehicle and motorcycle      47   \n",
       "3531                 Theft out of or from motor vehicle     357   \n",
       "3532                                        Stock-theft       0   \n",
       "3533                  All theft not mentioned elsewhere     487   \n",
       "3534                                   Commercial crime     129   \n",
       "3535                                        Shoplifting     227   \n",
       "3536      Illegal possession of firearms and ammunition      21   \n",
       "3537                                 Drug-related crime     195   \n",
       "3538    Driving under the influence of alcohol or drugs      79   \n",
       "3539  Sexual Offences detected as a result of police...       0   \n",
       "\n",
       "     Police Station                               Crime Category   Latitude  \\\n",
       "3510      Algoapark                               Contact Crimes -33.903171   \n",
       "3511      Algoapark                               Contact Crimes -33.903171   \n",
       "3512      Algoapark                               Contact Crimes -33.903171   \n",
       "3513      Algoapark                               Contact Crimes -33.903171   \n",
       "3514      Algoapark                               Contact Crimes -33.903171   \n",
       "3515      Algoapark                               Contact Crimes -33.903171   \n",
       "3516      Algoapark                              Sexual Offences -33.903171   \n",
       "3517      Algoapark                              Sexual Offences -33.903171   \n",
       "3518      Algoapark                              Sexual Offences -33.903171   \n",
       "3519      Algoapark                              Sexual Offences -33.903171   \n",
       "3520      Algoapark                           Aggravated Robbery -33.903171   \n",
       "3521      Algoapark                           Aggravated Robbery -33.903171   \n",
       "3522      Algoapark                           Aggravated Robbery -33.903171   \n",
       "3523      Algoapark                           Aggravated Robbery -33.903171   \n",
       "3524      Algoapark                           Aggravated Robbery -33.903171   \n",
       "3525      Algoapark                           Aggravated Robbery -33.903171   \n",
       "3526      Algoapark                       Contact-Related Crimes -33.903171   \n",
       "3527      Algoapark                       Contact-Related Crimes -33.903171   \n",
       "3528      Algoapark                      Property-Related Crimes -33.903171   \n",
       "3529      Algoapark                      Property-Related Crimes -33.903171   \n",
       "3530      Algoapark                      Property-Related Crimes -33.903171   \n",
       "3531      Algoapark                      Property-Related Crimes -33.903171   \n",
       "3532      Algoapark                      Property-Related Crimes -33.903171   \n",
       "3533      Algoapark                         Other Serious Crimes -33.903171   \n",
       "3534      Algoapark                         Other Serious Crimes -33.903171   \n",
       "3535      Algoapark                         Other Serious Crimes -33.903171   \n",
       "3536      Algoapark  Crime detected as a result of Police Action -33.903171   \n",
       "3537      Algoapark  Crime detected as a result of Police Action -33.903171   \n",
       "3538      Algoapark  Crime detected as a result of Police Action -33.903171   \n",
       "3539      Algoapark  Crime detected as a result of Police Action -33.903171   \n",
       "\n",
       "      Longitude  Year  \n",
       "3510  25.570496  2019  \n",
       "3511  25.570496  2019  \n",
       "3512  25.570496  2019  \n",
       "3513  25.570496  2019  \n",
       "3514  25.570496  2019  \n",
       "3515  25.570496  2019  \n",
       "3516  25.570496  2019  \n",
       "3517  25.570496  2019  \n",
       "3518  25.570496  2019  \n",
       "3519  25.570496  2019  \n",
       "3520  25.570496  2019  \n",
       "3521  25.570496  2019  \n",
       "3522  25.570496  2019  \n",
       "3523  25.570496  2019  \n",
       "3524  25.570496  2019  \n",
       "3525  25.570496  2019  \n",
       "3526  25.570496  2019  \n",
       "3527  25.570496  2019  \n",
       "3528  25.570496  2019  \n",
       "3529  25.570496  2019  \n",
       "3530  25.570496  2019  \n",
       "3531  25.570496  2019  \n",
       "3532  25.570496  2019  \n",
       "3533  25.570496  2019  \n",
       "3534  25.570496  2019  \n",
       "3535  25.570496  2019  \n",
       "3536  25.570496  2019  \n",
       "3537  25.570496  2019  \n",
       "3538  25.570496  2019  \n",
       "3539  25.570496  2019  "
      ]
     },
     "execution_count": 204,
     "metadata": {},
     "output_type": "execute_result"
    }
   ],
   "source": [
    "df[(df['Police Station'] == 'Algoapark') & (df['Year'] == 2019)]"
   ]
  },
  {
   "cell_type": "markdown",
   "metadata": {},
   "source": [
    "### <u>Machine Learning</u>"
   ]
  },
  {
   "cell_type": "markdown",
   "metadata": {},
   "source": [
    "#### Import"
   ]
  },
  {
   "cell_type": "code",
   "execution_count": 314,
   "metadata": {},
   "outputs": [],
   "source": [
    "from sklearn.model_selection import train_test_split\n",
    "from sklearn.ensemble import AdaBoostClassifier, RandomForestClassifier\n",
    "from sklearn.model_selection import cross_val_score, KFold\n",
    "from sklearn.metrics import accuracy_score, precision_score, recall_score, f1_score\n",
    "from catboost import CatBoostClassifier\n",
    "from sklearn.tree import DecisionTreeClassifier\n",
    "from sklearn.pipeline import make_pipeline\n",
    "from sklearn.preprocessing import OrdinalEncoder, StandardScaler\n",
    "from sklearn.naive_bayes import GaussianNB\n",
    "from time import process_time\n",
    "from sklearn.neighbors import KNeighborsClassifier"
   ]
  },
  {
   "cell_type": "markdown",
   "metadata": {},
   "source": [
    "#### Experiment 1: Predict 2020-2023 crime rates for various crimes across Port Elizabeth"
   ]
  },
  {
   "attachments": {},
   "cell_type": "markdown",
   "metadata": {},
   "source": [
    "#### Data aquisition and categorical encoding"
   ]
  },
  {
   "cell_type": "code",
   "execution_count": 325,
   "metadata": {},
   "outputs": [],
   "source": [
    "X = df.drop(['Crimes'], axis=1)\n",
    "y = df.iloc[:, 1]\n",
    "\n",
    "# ct = ColumnTransformer(transformers=[('encoder', OneHotEncoder(), [1])], remainder='passthrough')\n",
    "# X = ct.fit_transform(X)\n",
    "\n",
    "encoder = TargetEncoder(cols=['Crime', 'Police Station', 'Crime Category'], smoothing=10).fit(X, y)\n",
    "X = encoder.transform(X)\n",
    "# le_name_mapping = dict(zip(encoder.classes_, le.transform(le.classes_)))\n",
    "encoder_mapping = pd.concat([encoder.mapping['Police Station'].reset_index()[0].iloc[:13], pd.Series(stations)], axis=1)"
   ]
  },
  {
   "attachments": {},
   "cell_type": "markdown",
   "metadata": {},
   "source": [
    "#### Sampling/split"
   ]
  },
  {
   "cell_type": "code",
   "execution_count": 326,
   "metadata": {},
   "outputs": [],
   "source": [
    "# mask = X['Year'] < 2020\n",
    "\n",
    "# X_train = X[mask]\n",
    "# X_test = X[~mask]\n",
    "\n",
    "# y_train = y[mask]\n",
    "# y_test = y[~mask]\n",
    "\n",
    "X_train, X_test, y_train, y_test = train_test_split(X, y, train_size=0.7, random_state=42)"
   ]
  },
  {
   "cell_type": "markdown",
   "metadata": {},
   "source": [
    "#### Algorithm training"
   ]
  },
  {
   "cell_type": "code",
   "execution_count": 334,
   "metadata": {},
   "outputs": [
    {
     "data": {
      "text/html": [
       "<style>#sk-container-id-11 {color: black;background-color: white;}#sk-container-id-11 pre{padding: 0;}#sk-container-id-11 div.sk-toggleable {background-color: white;}#sk-container-id-11 label.sk-toggleable__label {cursor: pointer;display: block;width: 100%;margin-bottom: 0;padding: 0.3em;box-sizing: border-box;text-align: center;}#sk-container-id-11 label.sk-toggleable__label-arrow:before {content: \"▸\";float: left;margin-right: 0.25em;color: #696969;}#sk-container-id-11 label.sk-toggleable__label-arrow:hover:before {color: black;}#sk-container-id-11 div.sk-estimator:hover label.sk-toggleable__label-arrow:before {color: black;}#sk-container-id-11 div.sk-toggleable__content {max-height: 0;max-width: 0;overflow: hidden;text-align: left;background-color: #f0f8ff;}#sk-container-id-11 div.sk-toggleable__content pre {margin: 0.2em;color: black;border-radius: 0.25em;background-color: #f0f8ff;}#sk-container-id-11 input.sk-toggleable__control:checked~div.sk-toggleable__content {max-height: 200px;max-width: 100%;overflow: auto;}#sk-container-id-11 input.sk-toggleable__control:checked~label.sk-toggleable__label-arrow:before {content: \"▾\";}#sk-container-id-11 div.sk-estimator input.sk-toggleable__control:checked~label.sk-toggleable__label {background-color: #d4ebff;}#sk-container-id-11 div.sk-label input.sk-toggleable__control:checked~label.sk-toggleable__label {background-color: #d4ebff;}#sk-container-id-11 input.sk-hidden--visually {border: 0;clip: rect(1px 1px 1px 1px);clip: rect(1px, 1px, 1px, 1px);height: 1px;margin: -1px;overflow: hidden;padding: 0;position: absolute;width: 1px;}#sk-container-id-11 div.sk-estimator {font-family: monospace;background-color: #f0f8ff;border: 1px dotted black;border-radius: 0.25em;box-sizing: border-box;margin-bottom: 0.5em;}#sk-container-id-11 div.sk-estimator:hover {background-color: #d4ebff;}#sk-container-id-11 div.sk-parallel-item::after {content: \"\";width: 100%;border-bottom: 1px solid gray;flex-grow: 1;}#sk-container-id-11 div.sk-label:hover label.sk-toggleable__label {background-color: #d4ebff;}#sk-container-id-11 div.sk-serial::before {content: \"\";position: absolute;border-left: 1px solid gray;box-sizing: border-box;top: 0;bottom: 0;left: 50%;z-index: 0;}#sk-container-id-11 div.sk-serial {display: flex;flex-direction: column;align-items: center;background-color: white;padding-right: 0.2em;padding-left: 0.2em;position: relative;}#sk-container-id-11 div.sk-item {position: relative;z-index: 1;}#sk-container-id-11 div.sk-parallel {display: flex;align-items: stretch;justify-content: center;background-color: white;position: relative;}#sk-container-id-11 div.sk-item::before, #sk-container-id-11 div.sk-parallel-item::before {content: \"\";position: absolute;border-left: 1px solid gray;box-sizing: border-box;top: 0;bottom: 0;left: 50%;z-index: -1;}#sk-container-id-11 div.sk-parallel-item {display: flex;flex-direction: column;z-index: 1;position: relative;background-color: white;}#sk-container-id-11 div.sk-parallel-item:first-child::after {align-self: flex-end;width: 50%;}#sk-container-id-11 div.sk-parallel-item:last-child::after {align-self: flex-start;width: 50%;}#sk-container-id-11 div.sk-parallel-item:only-child::after {width: 0;}#sk-container-id-11 div.sk-dashed-wrapped {border: 1px dashed gray;margin: 0 0.4em 0.5em 0.4em;box-sizing: border-box;padding-bottom: 0.4em;background-color: white;}#sk-container-id-11 div.sk-label label {font-family: monospace;font-weight: bold;display: inline-block;line-height: 1.2em;}#sk-container-id-11 div.sk-label-container {text-align: center;}#sk-container-id-11 div.sk-container {/* jupyter's `normalize.less` sets `[hidden] { display: none; }` but bootstrap.min.css set `[hidden] { display: none !important; }` so we also need the `!important` here to be able to override the default hidden behavior on the sphinx rendered scikit-learn.org. See: https://github.com/scikit-learn/scikit-learn/issues/21755 */display: inline-block !important;position: relative;}#sk-container-id-11 div.sk-text-repr-fallback {display: none;}</style><div id=\"sk-container-id-11\" class=\"sk-top-container\"><div class=\"sk-text-repr-fallback\"><pre>RandomForestRegressor()</pre><b>In a Jupyter environment, please rerun this cell to show the HTML representation or trust the notebook. <br />On GitHub, the HTML representation is unable to render, please try loading this page with nbviewer.org.</b></div><div class=\"sk-container\" hidden><div class=\"sk-item\"><div class=\"sk-estimator sk-toggleable\"><input class=\"sk-toggleable__control sk-hidden--visually\" id=\"sk-estimator-id-11\" type=\"checkbox\" checked><label for=\"sk-estimator-id-11\" class=\"sk-toggleable__label sk-toggleable__label-arrow\">RandomForestRegressor</label><div class=\"sk-toggleable__content\"><pre>RandomForestRegressor()</pre></div></div></div></div></div>"
      ],
      "text/plain": [
       "RandomForestRegressor()"
      ]
     },
     "execution_count": 334,
     "metadata": {},
     "output_type": "execute_result"
    }
   ],
   "source": [
    "def modelEvaluation(clf, encoder, scoring):\n",
    "    cv = KFold(n_splits=5)\n",
    "    results = pd.DataFrame({}, columns=[\"Name\", \"Accuracy\", \"Precision\", \"Recall\", \"F1\"])\n",
    "    for i in range(len(clf)):  \n",
    "        start = process_time()  \n",
    "        name = clf[i].__class__.__name__\n",
    "        model = make_pipeline(encoder[i], StandardScaler(), clf[i]) if name == 'KNeighborsClassifier' else make_pipeline(encoder[i], clf[i])\n",
    "        model.fit(X_train, y_train)\n",
    "        y_pred = model.predict(X_test)\n",
    "        cv_score = cross_val_score(model, X_train, y_train, cv=cv, scoring=scoring, n_jobs=-1)\n",
    "        avg = round(cv_score.mean()*100, 2)\n",
    "        std = round(cv_score.std()*100,2)\n",
    "        accuracy = round(accuracy_score(y_test, y_pred)*100,2)\n",
    "        precision = round(precision_score(y_test, y_pred, average=\"weighted\")*100,2)\n",
    "        recall = round(recall_score(y_test, y_pred, average=\"weighted\")*100,2)\n",
    "        f1 = round(f1_score(y_test, y_pred, average=\"weighted\")*100,2)\n",
    "        print(f\"{name} {avg}% std: {std} test: {accuracy}\")\n",
    "        print(f\"{name} accuracy score: {round(accuracy_score(y_test, y_pred) * 100, 2)}%\")\n",
    "        end = process_time()\n",
    "        print(f\"Time taken: {end-start}s\\n\")\n",
    "        results = pd.concat([results, pd.DataFrame({\"Name\":[name], \"Accuracy\":[accuracy], \"Precision\":[precision], \"Recall\":[recall], \"F1\" : [f1]})])\n",
    "\n",
    "    return results.reset_index(drop=True)\n",
    "  \n",
    "clf = [RandomForestClassifier(n_jobs=-1, random_state=42),\n",
    "       DecisionTreeClassifier(random_state=42), \n",
    "       CatBoostClassifier(random_state=42, silent=True, allow_writing_files=False),\n",
    "       AdaBoostClassifier(random_state=42),\n",
    "       GaussianNB()\n",
    "       #KNeighborsClassifier()\n",
    "       ]\n",
    "encoders = [OrdinalEncoder(handle_unknown='use_encoded_value', unknown_value=-1), \n",
    "            OrdinalEncoder(handle_unknown='use_encoded_value', unknown_value=-1),\n",
    "            OrdinalEncoder(handle_unknown='use_encoded_value', unknown_value=-1),\n",
    "            OrdinalEncoder(handle_unknown='use_encoded_value', unknown_value=-1),\n",
    "            #OrdinalEncoder(handle_unknown='use_encoded_value', unknown_value=-1),\n",
    "            OrdinalEncoder(handle_unknown='use_encoded_value', unknown_value=-1)\n",
    "            ]"
   ]
  },
  {
   "cell_type": "markdown",
   "metadata": {},
   "source": [
    "#### Cross Validation & Results"
   ]
  },
  {
   "cell_type": "code",
   "execution_count": 335,
   "metadata": {},
   "outputs": [
    {
     "name": "stdout",
     "output_type": "stream",
     "text": [
      "1595.790774227482\n"
     ]
    },
    {
     "data": {
      "text/plain": [
       "0.9585336529378067"
      ]
     },
     "execution_count": 335,
     "metadata": {},
     "output_type": "execute_result"
    }
   ],
   "source": [
    "d = modelEvaluation(clf, encoders, 'f1_weighted')"
   ]
  },
  {
   "cell_type": "code",
   "execution_count": null,
   "metadata": {},
   "outputs": [],
   "source": [
    "melted_df = d.melt(id_vars=\"Name\", value_vars=[\"Accuracy\", \"Precision\", \"Recall\", \"F1\"], var_name=\"Metric\")\n",
    "\n",
    "# Create the barplot\n",
    "plt.figure(figsize=(10, 6))\n",
    "sns.barplot(data=melted_df, x=\"Metric\", y=\"value\", hue=\"Name\")\n",
    "plt.title(\"Results\")\n",
    "plt.xlabel(\"Metric\")\n",
    "plt.ylabel(\"Score\")\n",
    "plt.legend(title=\"Model\", loc=2, bbox_to_anchor=(1, 1), borderaxespad=0.)\n",
    "plt.tight_layout()\n",
    "plt.show()"
   ]
  },
  {
   "cell_type": "markdown",
   "metadata": {},
   "source": [
    "### <u>Results and Discussion</u>"
   ]
  },
  {
   "cell_type": "markdown",
   "metadata": {},
   "source": [
    "## <center><b>Thanks for reading!</b>"
   ]
  }
 ],
 "metadata": {
  "kernelspec": {
   "display_name": "Python 3",
   "language": "python",
   "name": "python3"
  },
  "language_info": {
   "codemirror_mode": {
    "name": "ipython",
    "version": 3
   },
   "file_extension": ".py",
   "mimetype": "text/x-python",
   "name": "python",
   "nbconvert_exporter": "python",
   "pygments_lexer": "ipython3",
   "version": "3.11.2"
  },
  "orig_nbformat": 4
 },
 "nbformat": 4,
 "nbformat_minor": 2
}
