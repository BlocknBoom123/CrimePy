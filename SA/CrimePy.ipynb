{
 "cells": [
  {
   "attachments": {},
   "cell_type": "markdown",
   "metadata": {},
   "source": [
    "## Port Elizabeth Crime Forecasting\n",
    "### Anil Abraham 2023\n",
    "\n",
    "#### The goal of this project is to use machine learning techniques to forecast crime in Port Elizabeth. Particularly, forecasting type of crime, number of crimes committed in a year, and crime hotspots."
   ]
  },
  {
   "attachments": {},
   "cell_type": "markdown",
   "metadata": {},
   "source": [
    "#### Police stations within Port Elizabeth are:\n",
    "<ul>\n",
    "<li>Walmer</li>\n",
    "<li>Swartkops</li>\n",
    "<li>Mount Road</li>\n",
    "<li>Humewood</li>\n",
    "<li>Kwadwesi</li>\n",
    "<li>Kabega Park</li>\n",
    "<li>Algoapark</li>\n",
    "<li>Gelvandale</li>\n",
    "<li>Bethelsdorp</li>\n",
    "<li>Motherwell</li>\n",
    "<li>New Brighton</li>\n",
    "<li>Kwazakele</li>\n",
    "</ul>"
   ]
  },
  {
   "attachments": {},
   "cell_type": "markdown",
   "metadata": {},
   "source": [
    "### Importing libraries"
   ]
  },
  {
   "cell_type": "code",
   "execution_count": 2,
   "metadata": {},
   "outputs": [],
   "source": [
    "import pandas as pd #Pandas for data manipulation and analysis\n",
    "import numpy as np #Numpy for matrices\n",
    "import geopandas as gpd #Support for geospatial data\n",
    "from shapely.geometry import Point, Polygon #Geographic information systems functions and analysis\n",
    "import matplotlib.pyplot as plt #Matplotlib for visualisations\n",
    "import seaborn as sns\n",
    "import plotly.express as px"
   ]
  },
  {
   "cell_type": "code",
   "execution_count": 3,
   "metadata": {},
   "outputs": [],
   "source": [
    "#sns.set_style(\"darkgrid\")"
   ]
  },
  {
   "attachments": {},
   "cell_type": "markdown",
   "metadata": {},
   "source": [
    "### Data preprocessing"
   ]
  },
  {
   "cell_type": "code",
   "execution_count": 4,
   "metadata": {},
   "outputs": [
    {
     "name": "stdout",
     "output_type": "stream",
     "text": [
      "Null values found\n",
      "Crime                  0\n",
      "Crimes                 0\n",
      "Police Station         0\n",
      "Province               0\n",
      "Crime Category         0\n",
      "Latitude               0\n",
      "Longitude              0\n",
      "Latitude, Longitude    0\n",
      "Year                   0\n",
      "dtype: int64\n",
      "\n",
      "\n",
      "Index(['Crime', 'Crimes', 'Police Station', 'Province', 'Crime Category',\n",
      "       'Latitude', 'Longitude', 'Latitude, Longitude', 'Year'],\n",
      "      dtype='object')\n"
     ]
    }
   ],
   "source": [
    "df = pd.read_csv('crimedata.csv', thousands=',') #Thousands are seperated by commas in the CSV.\n",
    "\n",
    "print(f'Null values found\\n{df.isna().sum()}') #Check for null values\n",
    "\n",
    "print(f'\\n\\n{df.columns}') #List all feature names"
   ]
  },
  {
   "cell_type": "markdown",
   "metadata": {},
   "source": [
    "#### Let's convert Crime Category, Police Station, and Crime to pd.Categorical"
   ]
  },
  {
   "cell_type": "code",
   "execution_count": 5,
   "metadata": {},
   "outputs": [],
   "source": [
    "df['Crime'] = pd.Categorical(df['Crime'])\n",
    "df['Police Station'] = pd.Categorical(df['Police Station'])\n",
    "df['Crime Category'] = pd.Categorical(df['Crime Category'])"
   ]
  },
  {
   "cell_type": "markdown",
   "metadata": {},
   "source": [
    "### What are the datatypes used?"
   ]
  },
  {
   "cell_type": "code",
   "execution_count": 6,
   "metadata": {},
   "outputs": [
    {
     "data": {
      "text/plain": [
       "Crime                  category\n",
       "Crimes                    int64\n",
       "Police Station         category\n",
       "Province                 object\n",
       "Crime Category         category\n",
       "Latitude                float64\n",
       "Longitude               float64\n",
       "Latitude, Longitude      object\n",
       "Year                      int64\n",
       "dtype: object"
      ]
     },
     "execution_count": 6,
     "metadata": {},
     "output_type": "execute_result"
    }
   ],
   "source": [
    "df.dtypes"
   ]
  },
  {
   "attachments": {},
   "cell_type": "markdown",
   "metadata": {},
   "source": [
    "#### What does the csv file look like?"
   ]
  },
  {
   "cell_type": "code",
   "execution_count": 7,
   "metadata": {},
   "outputs": [
    {
     "data": {
      "text/html": [
       "<div>\n",
       "<style scoped>\n",
       "    .dataframe tbody tr th:only-of-type {\n",
       "        vertical-align: middle;\n",
       "    }\n",
       "\n",
       "    .dataframe tbody tr th {\n",
       "        vertical-align: top;\n",
       "    }\n",
       "\n",
       "    .dataframe thead th {\n",
       "        text-align: right;\n",
       "    }\n",
       "</style>\n",
       "<table border=\"1\" class=\"dataframe\">\n",
       "  <thead>\n",
       "    <tr style=\"text-align: right;\">\n",
       "      <th></th>\n",
       "      <th>Crime</th>\n",
       "      <th>Crimes</th>\n",
       "      <th>Police Station</th>\n",
       "      <th>Province</th>\n",
       "      <th>Crime Category</th>\n",
       "      <th>Latitude</th>\n",
       "      <th>Longitude</th>\n",
       "      <th>Latitude, Longitude</th>\n",
       "      <th>Year</th>\n",
       "    </tr>\n",
       "  </thead>\n",
       "  <tbody>\n",
       "    <tr>\n",
       "      <th>0</th>\n",
       "      <td>Murder</td>\n",
       "      <td>5</td>\n",
       "      <td>Aberdeen</td>\n",
       "      <td>Eastern Cape</td>\n",
       "      <td>Contact Crimes</td>\n",
       "      <td>-32.476960</td>\n",
       "      <td>24.060513</td>\n",
       "      <td>-32.4769604, 24.0605132</td>\n",
       "      <td>2010</td>\n",
       "    </tr>\n",
       "    <tr>\n",
       "      <th>1</th>\n",
       "      <td>Attempted murder</td>\n",
       "      <td>3</td>\n",
       "      <td>Aberdeen</td>\n",
       "      <td>Eastern Cape</td>\n",
       "      <td>Contact Crimes</td>\n",
       "      <td>-32.476960</td>\n",
       "      <td>24.060513</td>\n",
       "      <td>-32.4769604, 24.0605132</td>\n",
       "      <td>2010</td>\n",
       "    </tr>\n",
       "    <tr>\n",
       "      <th>2</th>\n",
       "      <td>Assault with the intent to inflict grievous bo...</td>\n",
       "      <td>67</td>\n",
       "      <td>Aberdeen</td>\n",
       "      <td>Eastern Cape</td>\n",
       "      <td>Contact Crimes</td>\n",
       "      <td>-32.476960</td>\n",
       "      <td>24.060513</td>\n",
       "      <td>-32.4769604, 24.0605132</td>\n",
       "      <td>2010</td>\n",
       "    </tr>\n",
       "    <tr>\n",
       "      <th>3</th>\n",
       "      <td>Common assault</td>\n",
       "      <td>31</td>\n",
       "      <td>Aberdeen</td>\n",
       "      <td>Eastern Cape</td>\n",
       "      <td>Contact Crimes</td>\n",
       "      <td>-32.476960</td>\n",
       "      <td>24.060513</td>\n",
       "      <td>-32.4769604, 24.0605132</td>\n",
       "      <td>2010</td>\n",
       "    </tr>\n",
       "    <tr>\n",
       "      <th>4</th>\n",
       "      <td>Common robbery</td>\n",
       "      <td>2</td>\n",
       "      <td>Aberdeen</td>\n",
       "      <td>Eastern Cape</td>\n",
       "      <td>Contact Crimes</td>\n",
       "      <td>-32.476960</td>\n",
       "      <td>24.060513</td>\n",
       "      <td>-32.4769604, 24.0605132</td>\n",
       "      <td>2010</td>\n",
       "    </tr>\n",
       "    <tr>\n",
       "      <th>...</th>\n",
       "      <td>...</td>\n",
       "      <td>...</td>\n",
       "      <td>...</td>\n",
       "      <td>...</td>\n",
       "      <td>...</td>\n",
       "      <td>...</td>\n",
       "      <td>...</td>\n",
       "      <td>...</td>\n",
       "      <td>...</td>\n",
       "    </tr>\n",
       "    <tr>\n",
       "      <th>346465</th>\n",
       "      <td>Shoplifting</td>\n",
       "      <td>88</td>\n",
       "      <td>Walmer</td>\n",
       "      <td>Eastern Cape</td>\n",
       "      <td>Other Serious Crimes</td>\n",
       "      <td>-33.978868</td>\n",
       "      <td>25.585376</td>\n",
       "      <td>-33.9788678, 25.5853756</td>\n",
       "      <td>2022</td>\n",
       "    </tr>\n",
       "    <tr>\n",
       "      <th>346466</th>\n",
       "      <td>Illegal possession of firearms and ammunition</td>\n",
       "      <td>10</td>\n",
       "      <td>Walmer</td>\n",
       "      <td>Eastern Cape</td>\n",
       "      <td>Crime detected as a result of Police Action</td>\n",
       "      <td>-33.978868</td>\n",
       "      <td>25.585376</td>\n",
       "      <td>-33.9788678, 25.5853756</td>\n",
       "      <td>2022</td>\n",
       "    </tr>\n",
       "    <tr>\n",
       "      <th>346467</th>\n",
       "      <td>Drug-related crime</td>\n",
       "      <td>106</td>\n",
       "      <td>Walmer</td>\n",
       "      <td>Eastern Cape</td>\n",
       "      <td>Crime detected as a result of Police Action</td>\n",
       "      <td>-33.978868</td>\n",
       "      <td>25.585376</td>\n",
       "      <td>-33.9788678, 25.5853756</td>\n",
       "      <td>2022</td>\n",
       "    </tr>\n",
       "    <tr>\n",
       "      <th>346468</th>\n",
       "      <td>Driving under the influence of alcohol or drugs</td>\n",
       "      <td>34</td>\n",
       "      <td>Walmer</td>\n",
       "      <td>Eastern Cape</td>\n",
       "      <td>Crime detected as a result of Police Action</td>\n",
       "      <td>-33.978868</td>\n",
       "      <td>25.585376</td>\n",
       "      <td>-33.9788678, 25.5853756</td>\n",
       "      <td>2022</td>\n",
       "    </tr>\n",
       "    <tr>\n",
       "      <th>346469</th>\n",
       "      <td>Sexual Offences detected as a result of police...</td>\n",
       "      <td>1</td>\n",
       "      <td>Walmer</td>\n",
       "      <td>Eastern Cape</td>\n",
       "      <td>Crime detected as a result of Police Action</td>\n",
       "      <td>-33.978868</td>\n",
       "      <td>25.585376</td>\n",
       "      <td>-33.9788678, 25.5853756</td>\n",
       "      <td>2022</td>\n",
       "    </tr>\n",
       "  </tbody>\n",
       "</table>\n",
       "<p>346470 rows × 9 columns</p>\n",
       "</div>"
      ],
      "text/plain": [
       "                                                    Crime  Crimes  \\\n",
       "0                                                  Murder       5   \n",
       "1                                        Attempted murder       3   \n",
       "2       Assault with the intent to inflict grievous bo...      67   \n",
       "3                                          Common assault      31   \n",
       "4                                          Common robbery       2   \n",
       "...                                                   ...     ...   \n",
       "346465                                        Shoplifting      88   \n",
       "346466      Illegal possession of firearms and ammunition      10   \n",
       "346467                                 Drug-related crime     106   \n",
       "346468    Driving under the influence of alcohol or drugs      34   \n",
       "346469  Sexual Offences detected as a result of police...       1   \n",
       "\n",
       "       Police Station      Province  \\\n",
       "0            Aberdeen  Eastern Cape   \n",
       "1            Aberdeen  Eastern Cape   \n",
       "2            Aberdeen  Eastern Cape   \n",
       "3            Aberdeen  Eastern Cape   \n",
       "4            Aberdeen  Eastern Cape   \n",
       "...               ...           ...   \n",
       "346465         Walmer  Eastern Cape   \n",
       "346466         Walmer  Eastern Cape   \n",
       "346467         Walmer  Eastern Cape   \n",
       "346468         Walmer  Eastern Cape   \n",
       "346469         Walmer  Eastern Cape   \n",
       "\n",
       "                                     Crime Category   Latitude  Longitude  \\\n",
       "0                                    Contact Crimes -32.476960  24.060513   \n",
       "1                                    Contact Crimes -32.476960  24.060513   \n",
       "2                                    Contact Crimes -32.476960  24.060513   \n",
       "3                                    Contact Crimes -32.476960  24.060513   \n",
       "4                                    Contact Crimes -32.476960  24.060513   \n",
       "...                                             ...        ...        ...   \n",
       "346465                         Other Serious Crimes -33.978868  25.585376   \n",
       "346466  Crime detected as a result of Police Action -33.978868  25.585376   \n",
       "346467  Crime detected as a result of Police Action -33.978868  25.585376   \n",
       "346468  Crime detected as a result of Police Action -33.978868  25.585376   \n",
       "346469  Crime detected as a result of Police Action -33.978868  25.585376   \n",
       "\n",
       "            Latitude, Longitude  Year  \n",
       "0       -32.4769604, 24.0605132  2010  \n",
       "1       -32.4769604, 24.0605132  2010  \n",
       "2       -32.4769604, 24.0605132  2010  \n",
       "3       -32.4769604, 24.0605132  2010  \n",
       "4       -32.4769604, 24.0605132  2010  \n",
       "...                         ...   ...  \n",
       "346465  -33.9788678, 25.5853756  2022  \n",
       "346466  -33.9788678, 25.5853756  2022  \n",
       "346467  -33.9788678, 25.5853756  2022  \n",
       "346468  -33.9788678, 25.5853756  2022  \n",
       "346469  -33.9788678, 25.5853756  2022  \n",
       "\n",
       "[346470 rows x 9 columns]"
      ]
     },
     "execution_count": 7,
     "metadata": {},
     "output_type": "execute_result"
    }
   ],
   "source": [
    "df"
   ]
  },
  {
   "attachments": {},
   "cell_type": "markdown",
   "metadata": {},
   "source": [
    "#### Limit provinces to only Eastern Cape. After some careful analysis, I found out that there is some incorrect data that has been input. The Police Station 'Doringkloof' does not exist within the Eastern Cape. Doringkloof is a suburb in Gauteng. Therefore, we remove this."
   ]
  },
  {
   "cell_type": "code",
   "execution_count": 8,
   "metadata": {},
   "outputs": [],
   "source": [
    "df = df[df['Province'] == 'Eastern Cape']\n",
    "df = df[df['Police Station'] != 'Doringkloof']"
   ]
  },
  {
   "attachments": {},
   "cell_type": "markdown",
   "metadata": {},
   "source": [
    "#### The CSV file we use lists Kwazekele, a police station in Port Elizabeth, as having coordinates near East London. Let's change this"
   ]
  },
  {
   "cell_type": "code",
   "execution_count": 9,
   "metadata": {},
   "outputs": [],
   "source": [
    "df.loc[df['Police Station'] == 'Kwazakele', 'Latitude'] = -33.87626\n",
    "df.loc[df['Police Station'] == 'Kwazakele', 'Longitude'] = 25.58308"
   ]
  },
  {
   "attachments": {},
   "cell_type": "markdown",
   "metadata": {},
   "source": [
    "#### Limit to police stations in Port Elizabeth only"
   ]
  },
  {
   "cell_type": "code",
   "execution_count": 10,
   "metadata": {},
   "outputs": [],
   "source": [
    "stations = [\"Walmer\", \"Swartkops\", \"New Brighton\", \"Mount Road\", \"Humewood\", \"Kwadwesi\", \"Kabega Park\", \"Algoapark\", \"Gelvandale\", \"Bethelsdorp\", \"Motherwell\"\n",
    "            , \"Kwazakele\", \"Ikamvelihle\"]\n",
    "df = df[df['Police Station'].isin(stations)]\n",
    "df.drop(['Latitude, Longitude', 'Province'], axis=1, inplace=True)\n",
    "df.reset_index(drop=True, inplace=True)\n",
    "df.to_csv('PEcrimerates.csv', encoding='utf-8', index=False) #Create new csv file with crime information within PE only\n",
    "#Stations right outside of PE: Kamesh , Despatch, Uitenhage, Kwanobuhle"
   ]
  },
  {
   "attachments": {},
   "cell_type": "markdown",
   "metadata": {},
   "source": [
    "#### Let's load the SHP file of South Africa"
   ]
  },
  {
   "cell_type": "code",
   "execution_count": 11,
   "metadata": {},
   "outputs": [
    {
     "data": {
      "image/png": "[encoded data removed]",
      "text/plain": [
       "<Figure size 700x700 with 1 Axes>"
      ]
     },
     "metadata": {},
     "output_type": "display_data"
    }
   ],
   "source": [
    "map = gpd.read_file(\"gadm41_ZAF_shp\\\\gadm41_ZAF_2.shp\")\n",
    "fig, ax = plt.subplots(figsize=(7,7))\n",
    "map.plot(aspect=1,ax = ax)\n",
    "plt.title('Map of South Africa')\n",
    "plt.show()"
   ]
  },
  {
   "attachments": {},
   "cell_type": "markdown",
   "metadata": {},
   "source": [
    "### Let's plot the police stations within Port Elizabeth only."
   ]
  },
  {
   "cell_type": "markdown",
   "metadata": {},
   "source": [
    "##### But first, group by police station and sum the crimes."
   ]
  },
  {
   "cell_type": "code",
   "execution_count": 12,
   "metadata": {},
   "outputs": [
    {
     "name": "stderr",
     "output_type": "stream",
     "text": [
      "c:\\Users\\user-pc\\AppData\\Local\\Programs\\Python\\Python311\\Lib\\site-packages\\pyproj\\crs\\crs.py:141: FutureWarning: '+init=<authority>:<code>' syntax is deprecated. '<authority>:<code>' is the preferred initialization method. When making the change, be mindful of axis order changes: https://pyproj4.github.io/pyproj/stable/gotchas.html#axis-order-changes-in-proj-6\n",
      "  in_crs_string = _prepare_from_proj_string(in_crs_string)\n"
     ]
    }
   ],
   "source": [
    "sum_crimes = df.groupby(['Police Station'], observed=True)['Crimes'].sum()\n",
    "sum_crimes = sum_crimes.reset_index()\n",
    "sum_crimes['Latitude'] = df['Latitude'].unique()\n",
    "sum_crimes['Longitude'] = df['Longitude'].unique()\n",
    "sum_crimes['size'] = sum_crimes['Crimes'] / 60\n",
    "    \n",
    "#A GeoDataFrame is a dataframe that accepts a geometry column (POINT pairs)\n",
    "geo_df = gpd.GeoDataFrame(sum_crimes, crs = {'init': 'epsg:4326'}, geometry=[Point(xy) for xy in zip(sum_crimes['Longitude'], sum_crimes['Latitude'])])"
   ]
  },
  {
   "cell_type": "code",
   "execution_count": 13,
   "metadata": {},
   "outputs": [
    {
     "data": {
      "image/png": "[encoded data removed]",
      "text/plain": [
       "<Figure size 1300x1000 with 2 Axes>"
      ]
     },
     "metadata": {},
     "output_type": "display_data"
    }
   ],
   "source": [
    "fig, ax = plt.subplots(figsize=(13,10))\n",
    "map = gpd.read_file(\"gadm41_ZAF_shp\\\\gadm41_ZAF_4.shp\")\n",
    "map.plot(ax=ax, aspect=1) #Plot the map of South Africa\n",
    "geo_df.plot(aspect=1, column='Crimes', ax=ax, markersize='size', cmap='OrRd', legend=True, alpha=0.65, legend_kwds={'shrink': 0.4}) #Plot the latitude longitude pairs onto the same SA map.\n",
    "ax.set_ylim([-33.77, -34])\n",
    "ax.set_xlim([25.46, 25.7])\n",
    "plt.title('Crime hot spots within PE (2010 - 2022)', weight='bold')\n",
    "for x, y, label in zip(geo_df.geometry.x, geo_df.geometry.y, geo_df['Police Station']):\n",
    "    ax.annotate(label, xy=(x, y), xytext=(3, 3), textcoords=\"offset points\", weight='bold')\n",
    "ax.get_figure().get_axes()[1].set_title(\"Num. crimes\")\n",
    "plt.show()"
   ]
  },
  {
   "cell_type": "markdown",
   "metadata": {},
   "source": [
    "### An interactive map of crime hotspots in PE"
   ]
  },
  {
   "cell_type": "code",
   "execution_count": 14,
   "metadata": {},
   "outputs": [
    {
     "data": {
      "application/vnd.plotly.v1+json": {
       "config": {
        "plotlyServerURL": "https://plot.ly"
       },
       "data": [
        {
         "customdata": [
          [
           38140
          ],
          [
           63089
          ],
          [
           56207
          ],
          [
           69647
          ],
          [
           18720
          ],
          [
           44750
          ],
          [
           21329
          ],
          [
           60383
          ],
          [
           43477
          ],
          [
           82896
          ],
          [
           52673
          ],
          [
           24729
          ],
          [
           55220
          ]
         ],
         "hovertemplate": "<b>%{hovertext}</b><br><br>Crimes=%{marker.color}<br>Latitude=%{lat}<br>Longitude=%{lon}<extra></extra>",
         "hovertext": [
          "Algoapark",
          "Bethelsdorp",
          "Gelvandale",
          "Humewood",
          "Ikamvelihle",
          "Kabega Park",
          "Kwadwesi",
          "Kwazakele",
          "Motherwell",
          "Mount Road",
          "New Brighton",
          "Swartkops",
          "Walmer"
         ],
         "lat": [
          -33.9031712,
          -33.8705197,
          -33.9107082,
          -33.9737486,
          -33.7972722,
          -33.9399801,
          -33.8410858,
          -33.87626,
          -33.796568,
          -33.955318,
          -33.8994277,
          -33.8513015,
          -33.9788678
         ],
         "legendgroup": "",
         "lon": [
          25.5704957,
          25.5124711,
          25.5502497,
          25.6259001,
          25.6083202,
          25.4985667,
          25.5230822,
          25.58308,
          25.583835,
          25.5947301,
          25.5725492,
          25.6041969,
          25.5853756
         ],
         "marker": {
          "color": [
           38140,
           63089,
           56207,
           69647,
           18720,
           44750,
           21329,
           60383,
           43477,
           82896,
           52673,
           24729,
           55220
          ],
          "coloraxis": "coloraxis",
          "size": [
           38140,
           63089,
           56207,
           69647,
           18720,
           44750,
           21329,
           60383,
           43477,
           82896,
           52673,
           24729,
           55220
          ],
          "sizemode": "area",
          "sizeref": 92.10666666666667
         },
         "mode": "markers",
         "name": "",
         "showlegend": false,
         "subplot": "mapbox",
         "type": "scattermapbox"
        }
       ],
       "layout": {
        "coloraxis": {
         "colorbar": {
          "title": {
           "text": "Crimes"
          }
         },
         "colorscale": [
          [
           0,
           "Yellow"
          ],
          [
           0.3333333333333333,
           "orange"
          ],
          [
           0.6666666666666666,
           "red"
          ],
          [
           1,
           "maroon"
          ]
         ]
        },
        "height": 600,
        "legend": {
         "itemsizing": "constant",
         "tracegroupgap": 0
        },
        "mapbox": {
         "center": {
          "lat": -33.89186375384615,
          "lon": 25.57021942307692
         },
         "domain": {
          "x": [
           0,
           1
          ],
          "y": [
           0,
           1
          ]
         },
         "style": "carto-darkmatter",
         "zoom": 10
        },
        "margin": {
         "b": 0,
         "l": 0,
         "r": 0,
         "t": 0
        },
        "template": {
         "data": {
          "bar": [
           {
            "error_x": {
             "color": "#2a3f5f"
            },
            "error_y": {
             "color": "#2a3f5f"
            },
            "marker": {
             "line": {
              "color": "#E5ECF6",
              "width": 0.5
             },
             "pattern": {
              "fillmode": "overlay",
              "size": 10,
              "solidity": 0.2
             }
            },
            "type": "bar"
           }
          ],
          "barpolar": [
           {
            "marker": {
             "line": {
              "color": "#E5ECF6",
              "width": 0.5
             },
             "pattern": {
              "fillmode": "overlay",
              "size": 10,
              "solidity": 0.2
             }
            },
            "type": "barpolar"
           }
          ],
          "carpet": [
           {
            "aaxis": {
             "endlinecolor": "#2a3f5f",
             "gridcolor": "white",
             "linecolor": "white",
             "minorgridcolor": "white",
             "startlinecolor": "#2a3f5f"
            },
            "baxis": {
             "endlinecolor": "#2a3f5f",
             "gridcolor": "white",
             "linecolor": "white",
             "minorgridcolor": "white",
             "startlinecolor": "#2a3f5f"
            },
            "type": "carpet"
           }
          ],
          "choropleth": [
           {
            "colorbar": {
             "outlinewidth": 0,
             "ticks": ""
            },
            "type": "choropleth"
           }
          ],
          "contour": [
           {
            "colorbar": {
             "outlinewidth": 0,
             "ticks": ""
            },
            "colorscale": [
             [
              0,
              "#0d0887"
             ],
             [
              0.1111111111111111,
              "#46039f"
             ],
             [
              0.2222222222222222,
              "#7201a8"
             ],
             [
              0.3333333333333333,
              "#9c179e"
             ],
             [
              0.4444444444444444,
              "#bd3786"
             ],
             [
              0.5555555555555556,
              "#d8576b"
             ],
             [
              0.6666666666666666,
              "#ed7953"
             ],
             [
              0.7777777777777778,
              "#fb9f3a"
             ],
             [
              0.8888888888888888,
              "#fdca26"
             ],
             [
              1,
              "#f0f921"
             ]
            ],
            "type": "contour"
           }
          ],
          "contourcarpet": [
           {
            "colorbar": {
             "outlinewidth": 0,
             "ticks": ""
            },
            "type": "contourcarpet"
           }
          ],
          "heatmap": [
           {
            "colorbar": {
             "outlinewidth": 0,
             "ticks": ""
            },
            "colorscale": [
             [
              0,
              "#0d0887"
             ],
             [
              0.1111111111111111,
              "#46039f"
             ],
             [
              0.2222222222222222,
              "#7201a8"
             ],
             [
              0.3333333333333333,
              "#9c179e"
             ],
             [
              0.4444444444444444,
              "#bd3786"
             ],
             [
              0.5555555555555556,
              "#d8576b"
             ],
             [
              0.6666666666666666,
              "#ed7953"
             ],
             [
              0.7777777777777778,
              "#fb9f3a"
             ],
             [
              0.8888888888888888,
              "#fdca26"
             ],
             [
              1,
              "#f0f921"
             ]
            ],
            "type": "heatmap"
           }
          ],
          "heatmapgl": [
           {
            "colorbar": {
             "outlinewidth": 0,
             "ticks": ""
            },
            "colorscale": [
             [
              0,
              "#0d0887"
             ],
             [
              0.1111111111111111,
              "#46039f"
             ],
             [
              0.2222222222222222,
              "#7201a8"
             ],
             [
              0.3333333333333333,
              "#9c179e"
             ],
             [
              0.4444444444444444,
              "#bd3786"
             ],
             [
              0.5555555555555556,
              "#d8576b"
             ],
             [
              0.6666666666666666,
              "#ed7953"
             ],
             [
              0.7777777777777778,
              "#fb9f3a"
             ],
             [
              0.8888888888888888,
              "#fdca26"
             ],
             [
              1,
              "#f0f921"
             ]
            ],
            "type": "heatmapgl"
           }
          ],
          "histogram": [
           {
            "marker": {
             "pattern": {
              "fillmode": "overlay",
              "size": 10,
              "solidity": 0.2
             }
            },
            "type": "histogram"
           }
          ],
          "histogram2d": [
           {
            "colorbar": {
             "outlinewidth": 0,
             "ticks": ""
            },
            "colorscale": [
             [
              0,
              "#0d0887"
             ],
             [
              0.1111111111111111,
              "#46039f"
             ],
             [
              0.2222222222222222,
              "#7201a8"
             ],
             [
              0.3333333333333333,
              "#9c179e"
             ],
             [
              0.4444444444444444,
              "#bd3786"
             ],
             [
              0.5555555555555556,
              "#d8576b"
             ],
             [
              0.6666666666666666,
              "#ed7953"
             ],
             [
              0.7777777777777778,
              "#fb9f3a"
             ],
             [
              0.8888888888888888,
              "#fdca26"
             ],
             [
              1,
              "#f0f921"
             ]
            ],
            "type": "histogram2d"
           }
          ],
          "histogram2dcontour": [
           {
            "colorbar": {
             "outlinewidth": 0,
             "ticks": ""
            },
            "colorscale": [
             [
              0,
              "#0d0887"
             ],
             [
              0.1111111111111111,
              "#46039f"
             ],
             [
              0.2222222222222222,
              "#7201a8"
             ],
             [
              0.3333333333333333,
              "#9c179e"
             ],
             [
              0.4444444444444444,
              "#bd3786"
             ],
             [
              0.5555555555555556,
              "#d8576b"
             ],
             [
              0.6666666666666666,
              "#ed7953"
             ],
             [
              0.7777777777777778,
              "#fb9f3a"
             ],
             [
              0.8888888888888888,
              "#fdca26"
             ],
             [
              1,
              "#f0f921"
             ]
            ],
            "type": "histogram2dcontour"
           }
          ],
          "mesh3d": [
           {
            "colorbar": {
             "outlinewidth": 0,
             "ticks": ""
            },
            "type": "mesh3d"
           }
          ],
          "parcoords": [
           {
            "line": {
             "colorbar": {
              "outlinewidth": 0,
              "ticks": ""
             }
            },
            "type": "parcoords"
           }
          ],
          "pie": [
           {
            "automargin": true,
            "type": "pie"
           }
          ],
          "scatter": [
           {
            "fillpattern": {
             "fillmode": "overlay",
             "size": 10,
             "solidity": 0.2
            },
            "type": "scatter"
           }
          ],
          "scatter3d": [
           {
            "line": {
             "colorbar": {
              "outlinewidth": 0,
              "ticks": ""
             }
            },
            "marker": {
             "colorbar": {
              "outlinewidth": 0,
              "ticks": ""
             }
            },
            "type": "scatter3d"
           }
          ],
          "scattercarpet": [
           {
            "marker": {
             "colorbar": {
              "outlinewidth": 0,
              "ticks": ""
             }
            },
            "type": "scattercarpet"
           }
          ],
          "scattergeo": [
           {
            "marker": {
             "colorbar": {
              "outlinewidth": 0,
              "ticks": ""
             }
            },
            "type": "scattergeo"
           }
          ],
          "scattergl": [
           {
            "marker": {
             "colorbar": {
              "outlinewidth": 0,
              "ticks": ""
             }
            },
            "type": "scattergl"
           }
          ],
          "scattermapbox": [
           {
            "marker": {
             "colorbar": {
              "outlinewidth": 0,
              "ticks": ""
             }
            },
            "type": "scattermapbox"
           }
          ],
          "scatterpolar": [
           {
            "marker": {
             "colorbar": {
              "outlinewidth": 0,
              "ticks": ""
             }
            },
            "type": "scatterpolar"
           }
          ],
          "scatterpolargl": [
           {
            "marker": {
             "colorbar": {
              "outlinewidth": 0,
              "ticks": ""
             }
            },
            "type": "scatterpolargl"
           }
          ],
          "scatterternary": [
           {
            "marker": {
             "colorbar": {
              "outlinewidth": 0,
              "ticks": ""
             }
            },
            "type": "scatterternary"
           }
          ],
          "surface": [
           {
            "colorbar": {
             "outlinewidth": 0,
             "ticks": ""
            },
            "colorscale": [
             [
              0,
              "#0d0887"
             ],
             [
              0.1111111111111111,
              "#46039f"
             ],
             [
              0.2222222222222222,
              "#7201a8"
             ],
             [
              0.3333333333333333,
              "#9c179e"
             ],
             [
              0.4444444444444444,
              "#bd3786"
             ],
             [
              0.5555555555555556,
              "#d8576b"
             ],
             [
              0.6666666666666666,
              "#ed7953"
             ],
             [
              0.7777777777777778,
              "#fb9f3a"
             ],
             [
              0.8888888888888888,
              "#fdca26"
             ],
             [
              1,
              "#f0f921"
             ]
            ],
            "type": "surface"
           }
          ],
          "table": [
           {
            "cells": {
             "fill": {
              "color": "#EBF0F8"
             },
             "line": {
              "color": "white"
             }
            },
            "header": {
             "fill": {
              "color": "#C8D4E3"
             },
             "line": {
              "color": "white"
             }
            },
            "type": "table"
           }
          ]
         },
         "layout": {
          "annotationdefaults": {
           "arrowcolor": "#2a3f5f",
           "arrowhead": 0,
           "arrowwidth": 1
          },
          "autotypenumbers": "strict",
          "coloraxis": {
           "colorbar": {
            "outlinewidth": 0,
            "ticks": ""
           }
          },
          "colorscale": {
           "diverging": [
            [
             0,
             "#8e0152"
            ],
            [
             0.1,
             "#c51b7d"
            ],
            [
             0.2,
             "#de77ae"
            ],
            [
             0.3,
             "#f1b6da"
            ],
            [
             0.4,
             "#fde0ef"
            ],
            [
             0.5,
             "#f7f7f7"
            ],
            [
             0.6,
             "#e6f5d0"
            ],
            [
             0.7,
             "#b8e186"
            ],
            [
             0.8,
             "#7fbc41"
            ],
            [
             0.9,
             "#4d9221"
            ],
            [
             1,
             "#276419"
            ]
           ],
           "sequential": [
            [
             0,
             "#0d0887"
            ],
            [
             0.1111111111111111,
             "#46039f"
            ],
            [
             0.2222222222222222,
             "#7201a8"
            ],
            [
             0.3333333333333333,
             "#9c179e"
            ],
            [
             0.4444444444444444,
             "#bd3786"
            ],
            [
             0.5555555555555556,
             "#d8576b"
            ],
            [
             0.6666666666666666,
             "#ed7953"
            ],
            [
             0.7777777777777778,
             "#fb9f3a"
            ],
            [
             0.8888888888888888,
             "#fdca26"
            ],
            [
             1,
             "#f0f921"
            ]
           ],
           "sequentialminus": [
            [
             0,
             "#0d0887"
            ],
            [
             0.1111111111111111,
             "#46039f"
            ],
            [
             0.2222222222222222,
             "#7201a8"
            ],
            [
             0.3333333333333333,
             "#9c179e"
            ],
            [
             0.4444444444444444,
             "#bd3786"
            ],
            [
             0.5555555555555556,
             "#d8576b"
            ],
            [
             0.6666666666666666,
             "#ed7953"
            ],
            [
             0.7777777777777778,
             "#fb9f3a"
            ],
            [
             0.8888888888888888,
             "#fdca26"
            ],
            [
             1,
             "#f0f921"
            ]
           ]
          },
          "colorway": [
           "#636efa",
           "#EF553B",
           "#00cc96",
           "#ab63fa",
           "#FFA15A",
           "#19d3f3",
           "#FF6692",
           "#B6E880",
           "#FF97FF",
           "#FECB52"
          ],
          "font": {
           "color": "#2a3f5f"
          },
          "geo": {
           "bgcolor": "white",
           "lakecolor": "white",
           "landcolor": "#E5ECF6",
           "showlakes": true,
           "showland": true,
           "subunitcolor": "white"
          },
          "hoverlabel": {
           "align": "left"
          },
          "hovermode": "closest",
          "mapbox": {
           "style": "light"
          },
          "paper_bgcolor": "white",
          "plot_bgcolor": "#E5ECF6",
          "polar": {
           "angularaxis": {
            "gridcolor": "white",
            "linecolor": "white",
            "ticks": ""
           },
           "bgcolor": "#E5ECF6",
           "radialaxis": {
            "gridcolor": "white",
            "linecolor": "white",
            "ticks": ""
           }
          },
          "scene": {
           "xaxis": {
            "backgroundcolor": "#E5ECF6",
            "gridcolor": "white",
            "gridwidth": 2,
            "linecolor": "white",
            "showbackground": true,
            "ticks": "",
            "zerolinecolor": "white"
           },
           "yaxis": {
            "backgroundcolor": "#E5ECF6",
            "gridcolor": "white",
            "gridwidth": 2,
            "linecolor": "white",
            "showbackground": true,
            "ticks": "",
            "zerolinecolor": "white"
           },
           "zaxis": {
            "backgroundcolor": "#E5ECF6",
            "gridcolor": "white",
            "gridwidth": 2,
            "linecolor": "white",
            "showbackground": true,
            "ticks": "",
            "zerolinecolor": "white"
           }
          },
          "shapedefaults": {
           "line": {
            "color": "#2a3f5f"
           }
          },
          "ternary": {
           "aaxis": {
            "gridcolor": "white",
            "linecolor": "white",
            "ticks": ""
           },
           "baxis": {
            "gridcolor": "white",
            "linecolor": "white",
            "ticks": ""
           },
           "bgcolor": "#E5ECF6",
           "caxis": {
            "gridcolor": "white",
            "linecolor": "white",
            "ticks": ""
           }
          },
          "title": {
           "x": 0.05
          },
          "xaxis": {
           "automargin": true,
           "gridcolor": "white",
           "linecolor": "white",
           "ticks": "",
           "title": {
            "standoff": 15
           },
           "zerolinecolor": "white",
           "zerolinewidth": 2
          },
          "yaxis": {
           "automargin": true,
           "gridcolor": "white",
           "linecolor": "white",
           "ticks": "",
           "title": {
            "standoff": 15
           },
           "zerolinecolor": "white",
           "zerolinewidth": 2
          }
         }
        }
       }
      }
     },
     "metadata": {},
     "output_type": "display_data"
    }
   ],
   "source": [
    "fig = px.scatter_mapbox(sum_crimes, lat=\"Latitude\", lon=\"Longitude\", hover_name=\"Police Station\", hover_data=[\"Crimes\"],\n",
    "                        color=\"Crimes\", color_continuous_scale=['Yellow', 'orange', 'red', 'maroon'], zoom=10, height=600, size='Crimes', size_max=30)\n",
    "fig.update_layout(mapbox_style=\"carto-darkmatter\", margin={\"r\":0,\"t\":0,\"l\":0,\"b\":0})\n",
    "fig.show()"
   ]
  },
  {
   "attachments": {},
   "cell_type": "markdown",
   "metadata": {},
   "source": [
    "### EDA"
   ]
  },
  {
   "cell_type": "code",
   "execution_count": 199,
   "metadata": {},
   "outputs": [],
   "source": [
    "df_grouped = df.groupby(['Police Station'], observed=True)['Crimes'].sum()\n",
    "df_grouped_year = df.groupby(['Police Station', 'Year'], observed=True)['Crimes'].sum()\n",
    "df_grouped_y = df.groupby(['Year'], observed=True)['Crimes'].sum()"
   ]
  },
  {
   "cell_type": "code",
   "execution_count": 200,
   "metadata": {},
   "outputs": [
    {
     "data": {
      "image/png": "[encoded data removed]",
      "text/plain": [
       "<Figure size 1800x1200 with 4 Axes>"
      ]
     },
     "metadata": {},
     "output_type": "display_data"
    }
   ],
   "source": [
    "fig, axs = plt.subplots(2, 2, figsize=(18, 12))\n",
    "\n",
    "df_grouped.sort_values(ascending=False).plot.bar(color=['#5cb85c','#5bc0de','#d9534f'], ax=axs[0,0])\n",
    "df_grouped_year['Algoapark'].plot.bar(color=['#5cb85c','#5bc0de','#d9534f'], ax=axs[0,1])\n",
    "df_grouped_y.plot.bar(color=['#5bc0de'], ax=axs[1,0])\n",
    "#sns.barplot(df_grouped, ax=axs[0,0], x='Police Station', y='Crimes')\n",
    "\n",
    "axs[0,0].set_title('Bar graph of the most dangerous areas in PE')\n",
    "axs[0,0].set_xlabel('Police Station')\n",
    "axs[0,0].set_ylabel('Crime count')\n",
    "\n",
    "axs[0,1].set_title('Bar graph of Algoapark')\n",
    "axs[0,1].set_xlabel('Year')\n",
    "axs[0,1].set_ylabel('Crime count')\n",
    "\n",
    "axs[1,0].set_title('Total sum of crimes from 2010 - 2019')\n",
    "axs[1,0].set_xlabel('Year')\n",
    "axs[1,0].set_ylabel('Crime count')\n",
    "\n",
    "plt.tight_layout()"
   ]
  },
  {
   "cell_type": "code",
   "execution_count": 201,
   "metadata": {},
   "outputs": [
    {
     "data": {
      "text/html": [
       "<div>\n",
       "<style scoped>\n",
       "    .dataframe tbody tr th:only-of-type {\n",
       "        vertical-align: middle;\n",
       "    }\n",
       "\n",
       "    .dataframe tbody tr th {\n",
       "        vertical-align: top;\n",
       "    }\n",
       "\n",
       "    .dataframe thead th {\n",
       "        text-align: right;\n",
       "    }\n",
       "</style>\n",
       "<table border=\"1\" class=\"dataframe\">\n",
       "  <thead>\n",
       "    <tr style=\"text-align: right;\">\n",
       "      <th></th>\n",
       "      <th>Police Station</th>\n",
       "      <th>Crimes</th>\n",
       "    </tr>\n",
       "  </thead>\n",
       "  <tbody>\n",
       "    <tr>\n",
       "      <th>0</th>\n",
       "      <td>Algoapark</td>\n",
       "      <td>38140</td>\n",
       "    </tr>\n",
       "    <tr>\n",
       "      <th>1</th>\n",
       "      <td>Bethelsdorp</td>\n",
       "      <td>63089</td>\n",
       "    </tr>\n",
       "    <tr>\n",
       "      <th>2</th>\n",
       "      <td>Gelvandale</td>\n",
       "      <td>56207</td>\n",
       "    </tr>\n",
       "    <tr>\n",
       "      <th>3</th>\n",
       "      <td>Humewood</td>\n",
       "      <td>69647</td>\n",
       "    </tr>\n",
       "    <tr>\n",
       "      <th>4</th>\n",
       "      <td>Ikamvelihle</td>\n",
       "      <td>18720</td>\n",
       "    </tr>\n",
       "    <tr>\n",
       "      <th>5</th>\n",
       "      <td>Kabega Park</td>\n",
       "      <td>44750</td>\n",
       "    </tr>\n",
       "    <tr>\n",
       "      <th>6</th>\n",
       "      <td>Kwadwesi</td>\n",
       "      <td>21329</td>\n",
       "    </tr>\n",
       "    <tr>\n",
       "      <th>7</th>\n",
       "      <td>Kwazakele</td>\n",
       "      <td>60383</td>\n",
       "    </tr>\n",
       "    <tr>\n",
       "      <th>8</th>\n",
       "      <td>Motherwell</td>\n",
       "      <td>43477</td>\n",
       "    </tr>\n",
       "    <tr>\n",
       "      <th>9</th>\n",
       "      <td>Mount Road</td>\n",
       "      <td>82896</td>\n",
       "    </tr>\n",
       "    <tr>\n",
       "      <th>10</th>\n",
       "      <td>New Brighton</td>\n",
       "      <td>52673</td>\n",
       "    </tr>\n",
       "    <tr>\n",
       "      <th>11</th>\n",
       "      <td>Swartkops</td>\n",
       "      <td>24729</td>\n",
       "    </tr>\n",
       "    <tr>\n",
       "      <th>12</th>\n",
       "      <td>Walmer</td>\n",
       "      <td>55220</td>\n",
       "    </tr>\n",
       "  </tbody>\n",
       "</table>\n",
       "</div>"
      ],
      "text/plain": [
       "   Police Station  Crimes\n",
       "0       Algoapark   38140\n",
       "1     Bethelsdorp   63089\n",
       "2      Gelvandale   56207\n",
       "3        Humewood   69647\n",
       "4     Ikamvelihle   18720\n",
       "5     Kabega Park   44750\n",
       "6        Kwadwesi   21329\n",
       "7       Kwazakele   60383\n",
       "8      Motherwell   43477\n",
       "9      Mount Road   82896\n",
       "10   New Brighton   52673\n",
       "11      Swartkops   24729\n",
       "12         Walmer   55220"
      ]
     },
     "execution_count": 201,
     "metadata": {},
     "output_type": "execute_result"
    }
   ],
   "source": [
    "df_grouped = df_grouped.reset_index()\n",
    "df_grouped"
   ]
  },
  {
   "cell_type": "code",
   "execution_count": 202,
   "metadata": {},
   "outputs": [
    {
     "data": {
      "application/vnd.plotly.v1+json": {
       "config": {
        "plotlyServerURL": "https://plot.ly"
       },
       "data": [
        {
         "domain": {
          "x": [
           0,
           1
          ],
          "y": [
           0,
           1
          ]
         },
         "hovertemplate": "Police Station=%{label}<br>Crimes=%{value}<extra></extra>",
         "labels": [
          "Algoapark",
          "Bethelsdorp",
          "Gelvandale",
          "Humewood",
          "Ikamvelihle",
          "Kabega Park",
          "Kwadwesi",
          "Kwazakele",
          "Motherwell",
          "Mount Road",
          "New Brighton",
          "Swartkops",
          "Walmer"
         ],
         "legendgroup": "",
         "name": "",
         "showlegend": true,
         "textinfo": "percent+label",
         "textposition": "inside",
         "type": "pie",
         "values": [
          38140,
          63089,
          56207,
          69647,
          18720,
          44750,
          21329,
          60383,
          43477,
          82896,
          52673,
          24729,
          55220
         ]
        }
       ],
       "layout": {
        "legend": {
         "tracegroupgap": 0
        },
        "margin": {
         "b": 20,
         "l": 0,
         "r": 0,
         "t": 70
        },
        "template": {
         "data": {
          "bar": [
           {
            "error_x": {
             "color": "#2a3f5f"
            },
            "error_y": {
             "color": "#2a3f5f"
            },
            "marker": {
             "line": {
              "color": "#E5ECF6",
              "width": 0.5
             },
             "pattern": {
              "fillmode": "overlay",
              "size": 10,
              "solidity": 0.2
             }
            },
            "type": "bar"
           }
          ],
          "barpolar": [
           {
            "marker": {
             "line": {
              "color": "#E5ECF6",
              "width": 0.5
             },
             "pattern": {
              "fillmode": "overlay",
              "size": 10,
              "solidity": 0.2
             }
            },
            "type": "barpolar"
           }
          ],
          "carpet": [
           {
            "aaxis": {
             "endlinecolor": "#2a3f5f",
             "gridcolor": "white",
             "linecolor": "white",
             "minorgridcolor": "white",
             "startlinecolor": "#2a3f5f"
            },
            "baxis": {
             "endlinecolor": "#2a3f5f",
             "gridcolor": "white",
             "linecolor": "white",
             "minorgridcolor": "white",
             "startlinecolor": "#2a3f5f"
            },
            "type": "carpet"
           }
          ],
          "choropleth": [
           {
            "colorbar": {
             "outlinewidth": 0,
             "ticks": ""
            },
            "type": "choropleth"
           }
          ],
          "contour": [
           {
            "colorbar": {
             "outlinewidth": 0,
             "ticks": ""
            },
            "colorscale": [
             [
              0,
              "#0d0887"
             ],
             [
              0.1111111111111111,
              "#46039f"
             ],
             [
              0.2222222222222222,
              "#7201a8"
             ],
             [
              0.3333333333333333,
              "#9c179e"
             ],
             [
              0.4444444444444444,
              "#bd3786"
             ],
             [
              0.5555555555555556,
              "#d8576b"
             ],
             [
              0.6666666666666666,
              "#ed7953"
             ],
             [
              0.7777777777777778,
              "#fb9f3a"
             ],
             [
              0.8888888888888888,
              "#fdca26"
             ],
             [
              1,
              "#f0f921"
             ]
            ],
            "type": "contour"
           }
          ],
          "contourcarpet": [
           {
            "colorbar": {
             "outlinewidth": 0,
             "ticks": ""
            },
            "type": "contourcarpet"
           }
          ],
          "heatmap": [
           {
            "colorbar": {
             "outlinewidth": 0,
             "ticks": ""
            },
            "colorscale": [
             [
              0,
              "#0d0887"
             ],
             [
              0.1111111111111111,
              "#46039f"
             ],
             [
              0.2222222222222222,
              "#7201a8"
             ],
             [
              0.3333333333333333,
              "#9c179e"
             ],
             [
              0.4444444444444444,
              "#bd3786"
             ],
             [
              0.5555555555555556,
              "#d8576b"
             ],
             [
              0.6666666666666666,
              "#ed7953"
             ],
             [
              0.7777777777777778,
              "#fb9f3a"
             ],
             [
              0.8888888888888888,
              "#fdca26"
             ],
             [
              1,
              "#f0f921"
             ]
            ],
            "type": "heatmap"
           }
          ],
          "heatmapgl": [
           {
            "colorbar": {
             "outlinewidth": 0,
             "ticks": ""
            },
            "colorscale": [
             [
              0,
              "#0d0887"
             ],
             [
              0.1111111111111111,
              "#46039f"
             ],
             [
              0.2222222222222222,
              "#7201a8"
             ],
             [
              0.3333333333333333,
              "#9c179e"
             ],
             [
              0.4444444444444444,
              "#bd3786"
             ],
             [
              0.5555555555555556,
              "#d8576b"
             ],
             [
              0.6666666666666666,
              "#ed7953"
             ],
             [
              0.7777777777777778,
              "#fb9f3a"
             ],
             [
              0.8888888888888888,
              "#fdca26"
             ],
             [
              1,
              "#f0f921"
             ]
            ],
            "type": "heatmapgl"
           }
          ],
          "histogram": [
           {
            "marker": {
             "pattern": {
              "fillmode": "overlay",
              "size": 10,
              "solidity": 0.2
             }
            },
            "type": "histogram"
           }
          ],
          "histogram2d": [
           {
            "colorbar": {
             "outlinewidth": 0,
             "ticks": ""
            },
            "colorscale": [
             [
              0,
              "#0d0887"
             ],
             [
              0.1111111111111111,
              "#46039f"
             ],
             [
              0.2222222222222222,
              "#7201a8"
             ],
             [
              0.3333333333333333,
              "#9c179e"
             ],
             [
              0.4444444444444444,
              "#bd3786"
             ],
             [
              0.5555555555555556,
              "#d8576b"
             ],
             [
              0.6666666666666666,
              "#ed7953"
             ],
             [
              0.7777777777777778,
              "#fb9f3a"
             ],
             [
              0.8888888888888888,
              "#fdca26"
             ],
             [
              1,
              "#f0f921"
             ]
            ],
            "type": "histogram2d"
           }
          ],
          "histogram2dcontour": [
           {
            "colorbar": {
             "outlinewidth": 0,
             "ticks": ""
            },
            "colorscale": [
             [
              0,
              "#0d0887"
             ],
             [
              0.1111111111111111,
              "#46039f"
             ],
             [
              0.2222222222222222,
              "#7201a8"
             ],
             [
              0.3333333333333333,
              "#9c179e"
             ],
             [
              0.4444444444444444,
              "#bd3786"
             ],
             [
              0.5555555555555556,
              "#d8576b"
             ],
             [
              0.6666666666666666,
              "#ed7953"
             ],
             [
              0.7777777777777778,
              "#fb9f3a"
             ],
             [
              0.8888888888888888,
              "#fdca26"
             ],
             [
              1,
              "#f0f921"
             ]
            ],
            "type": "histogram2dcontour"
           }
          ],
          "mesh3d": [
           {
            "colorbar": {
             "outlinewidth": 0,
             "ticks": ""
            },
            "type": "mesh3d"
           }
          ],
          "parcoords": [
           {
            "line": {
             "colorbar": {
              "outlinewidth": 0,
              "ticks": ""
             }
            },
            "type": "parcoords"
           }
          ],
          "pie": [
           {
            "automargin": true,
            "type": "pie"
           }
          ],
          "scatter": [
           {
            "fillpattern": {
             "fillmode": "overlay",
             "size": 10,
             "solidity": 0.2
            },
            "type": "scatter"
           }
          ],
          "scatter3d": [
           {
            "line": {
             "colorbar": {
              "outlinewidth": 0,
              "ticks": ""
             }
            },
            "marker": {
             "colorbar": {
              "outlinewidth": 0,
              "ticks": ""
             }
            },
            "type": "scatter3d"
           }
          ],
          "scattercarpet": [
           {
            "marker": {
             "colorbar": {
              "outlinewidth": 0,
              "ticks": ""
             }
            },
            "type": "scattercarpet"
           }
          ],
          "scattergeo": [
           {
            "marker": {
             "colorbar": {
              "outlinewidth": 0,
              "ticks": ""
             }
            },
            "type": "scattergeo"
           }
          ],
          "scattergl": [
           {
            "marker": {
             "colorbar": {
              "outlinewidth": 0,
              "ticks": ""
             }
            },
            "type": "scattergl"
           }
          ],
          "scattermapbox": [
           {
            "marker": {
             "colorbar": {
              "outlinewidth": 0,
              "ticks": ""
             }
            },
            "type": "scattermapbox"
           }
          ],
          "scatterpolar": [
           {
            "marker": {
             "colorbar": {
              "outlinewidth": 0,
              "ticks": ""
             }
            },
            "type": "scatterpolar"
           }
          ],
          "scatterpolargl": [
           {
            "marker": {
             "colorbar": {
              "outlinewidth": 0,
              "ticks": ""
             }
            },
            "type": "scatterpolargl"
           }
          ],
          "scatterternary": [
           {
            "marker": {
             "colorbar": {
              "outlinewidth": 0,
              "ticks": ""
             }
            },
            "type": "scatterternary"
           }
          ],
          "surface": [
           {
            "colorbar": {
             "outlinewidth": 0,
             "ticks": ""
            },
            "colorscale": [
             [
              0,
              "#0d0887"
             ],
             [
              0.1111111111111111,
              "#46039f"
             ],
             [
              0.2222222222222222,
              "#7201a8"
             ],
             [
              0.3333333333333333,
              "#9c179e"
             ],
             [
              0.4444444444444444,
              "#bd3786"
             ],
             [
              0.5555555555555556,
              "#d8576b"
             ],
             [
              0.6666666666666666,
              "#ed7953"
             ],
             [
              0.7777777777777778,
              "#fb9f3a"
             ],
             [
              0.8888888888888888,
              "#fdca26"
             ],
             [
              1,
              "#f0f921"
             ]
            ],
            "type": "surface"
           }
          ],
          "table": [
           {
            "cells": {
             "fill": {
              "color": "#EBF0F8"
             },
             "line": {
              "color": "white"
             }
            },
            "header": {
             "fill": {
              "color": "#C8D4E3"
             },
             "line": {
              "color": "white"
             }
            },
            "type": "table"
           }
          ]
         },
         "layout": {
          "annotationdefaults": {
           "arrowcolor": "#2a3f5f",
           "arrowhead": 0,
           "arrowwidth": 1
          },
          "autotypenumbers": "strict",
          "coloraxis": {
           "colorbar": {
            "outlinewidth": 0,
            "ticks": ""
           }
          },
          "colorscale": {
           "diverging": [
            [
             0,
             "#8e0152"
            ],
            [
             0.1,
             "#c51b7d"
            ],
            [
             0.2,
             "#de77ae"
            ],
            [
             0.3,
             "#f1b6da"
            ],
            [
             0.4,
             "#fde0ef"
            ],
            [
             0.5,
             "#f7f7f7"
            ],
            [
             0.6,
             "#e6f5d0"
            ],
            [
             0.7,
             "#b8e186"
            ],
            [
             0.8,
             "#7fbc41"
            ],
            [
             0.9,
             "#4d9221"
            ],
            [
             1,
             "#276419"
            ]
           ],
           "sequential": [
            [
             0,
             "#0d0887"
            ],
            [
             0.1111111111111111,
             "#46039f"
            ],
            [
             0.2222222222222222,
             "#7201a8"
            ],
            [
             0.3333333333333333,
             "#9c179e"
            ],
            [
             0.4444444444444444,
             "#bd3786"
            ],
            [
             0.5555555555555556,
             "#d8576b"
            ],
            [
             0.6666666666666666,
             "#ed7953"
            ],
            [
             0.7777777777777778,
             "#fb9f3a"
            ],
            [
             0.8888888888888888,
             "#fdca26"
            ],
            [
             1,
             "#f0f921"
            ]
           ],
           "sequentialminus": [
            [
             0,
             "#0d0887"
            ],
            [
             0.1111111111111111,
             "#46039f"
            ],
            [
             0.2222222222222222,
             "#7201a8"
            ],
            [
             0.3333333333333333,
             "#9c179e"
            ],
            [
             0.4444444444444444,
             "#bd3786"
            ],
            [
             0.5555555555555556,
             "#d8576b"
            ],
            [
             0.6666666666666666,
             "#ed7953"
            ],
            [
             0.7777777777777778,
             "#fb9f3a"
            ],
            [
             0.8888888888888888,
             "#fdca26"
            ],
            [
             1,
             "#f0f921"
            ]
           ]
          },
          "colorway": [
           "#636efa",
           "#EF553B",
           "#00cc96",
           "#ab63fa",
           "#FFA15A",
           "#19d3f3",
           "#FF6692",
           "#B6E880",
           "#FF97FF",
           "#FECB52"
          ],
          "font": {
           "color": "#2a3f5f"
          },
          "geo": {
           "bgcolor": "white",
           "lakecolor": "white",
           "landcolor": "#E5ECF6",
           "showlakes": true,
           "showland": true,
           "subunitcolor": "white"
          },
          "hoverlabel": {
           "align": "left"
          },
          "hovermode": "closest",
          "mapbox": {
           "style": "light"
          },
          "paper_bgcolor": "white",
          "plot_bgcolor": "#E5ECF6",
          "polar": {
           "angularaxis": {
            "gridcolor": "white",
            "linecolor": "white",
            "ticks": ""
           },
           "bgcolor": "#E5ECF6",
           "radialaxis": {
            "gridcolor": "white",
            "linecolor": "white",
            "ticks": ""
           }
          },
          "scene": {
           "xaxis": {
            "backgroundcolor": "#E5ECF6",
            "gridcolor": "white",
            "gridwidth": 2,
            "linecolor": "white",
            "showbackground": true,
            "ticks": "",
            "zerolinecolor": "white"
           },
           "yaxis": {
            "backgroundcolor": "#E5ECF6",
            "gridcolor": "white",
            "gridwidth": 2,
            "linecolor": "white",
            "showbackground": true,
            "ticks": "",
            "zerolinecolor": "white"
           },
           "zaxis": {
            "backgroundcolor": "#E5ECF6",
            "gridcolor": "white",
            "gridwidth": 2,
            "linecolor": "white",
            "showbackground": true,
            "ticks": "",
            "zerolinecolor": "white"
           }
          },
          "shapedefaults": {
           "line": {
            "color": "#2a3f5f"
           }
          },
          "ternary": {
           "aaxis": {
            "gridcolor": "white",
            "linecolor": "white",
            "ticks": ""
           },
           "baxis": {
            "gridcolor": "white",
            "linecolor": "white",
            "ticks": ""
           },
           "bgcolor": "#E5ECF6",
           "caxis": {
            "gridcolor": "white",
            "linecolor": "white",
            "ticks": ""
           }
          },
          "title": {
           "x": 0.05
          },
          "xaxis": {
           "automargin": true,
           "gridcolor": "white",
           "linecolor": "white",
           "ticks": "",
           "title": {
            "standoff": 15
           },
           "zerolinecolor": "white",
           "zerolinewidth": 2
          },
          "yaxis": {
           "automargin": true,
           "gridcolor": "white",
           "linecolor": "white",
           "ticks": "",
           "title": {
            "standoff": 15
           },
           "zerolinecolor": "white",
           "zerolinewidth": 2
          }
         }
        },
        "title": {
         "text": "Pie chart of most dangerous areas in PE"
        }
       }
      }
     },
     "metadata": {},
     "output_type": "display_data"
    }
   ],
   "source": [
    "fig = px.pie(df_grouped, values='Crimes', names='Police Station', title='Pie chart of most dangerous areas in PE')\n",
    "fig.update_layout(margin=dict(t=70, b=20, l=0, r=0))\n",
    "fig.update_traces(textposition='inside', textinfo='percent+label')\n",
    "fig.show()"
   ]
  },
  {
   "cell_type": "code",
   "execution_count": 203,
   "metadata": {},
   "outputs": [
    {
     "data": {
      "text/plain": [
       "Crime Category\n",
       "Contact Crimes                                 178913\n",
       "Property-Related Crimes                        157408\n",
       "Other Serious Crimes                           135058\n",
       "Crime detected as a result of Police Action     74759\n",
       "Contact-Related Crimes                          46726\n",
       "Aggravated Robbery                              21172\n",
       "Sexual Offences                                 17224\n",
       "Name: Crimes, dtype: int64"
      ]
     },
     "execution_count": 203,
     "metadata": {},
     "output_type": "execute_result"
    }
   ],
   "source": [
    "# fig = px.treemap(df_grouped, values='Crimes', names='Police Station', title='Pie chart of most dangerous areas in PE')\n",
    "# fig.show()\n",
    "\n",
    "df.groupby(['Crime Category'], observed=True)['Crimes'].sum().sort_values(ascending=False)"
   ]
  },
  {
   "cell_type": "markdown",
   "metadata": {},
   "source": [
    "#### There are 30 unique classes of crimes with 7 unique crime categories"
   ]
  },
  {
   "cell_type": "code",
   "execution_count": 204,
   "metadata": {},
   "outputs": [
    {
     "data": {
      "text/html": [
       "<div>\n",
       "<style scoped>\n",
       "    .dataframe tbody tr th:only-of-type {\n",
       "        vertical-align: middle;\n",
       "    }\n",
       "\n",
       "    .dataframe tbody tr th {\n",
       "        vertical-align: top;\n",
       "    }\n",
       "\n",
       "    .dataframe thead th {\n",
       "        text-align: right;\n",
       "    }\n",
       "</style>\n",
       "<table border=\"1\" class=\"dataframe\">\n",
       "  <thead>\n",
       "    <tr style=\"text-align: right;\">\n",
       "      <th></th>\n",
       "      <th>Crime</th>\n",
       "      <th>Crimes</th>\n",
       "      <th>Police Station</th>\n",
       "      <th>Crime Category</th>\n",
       "      <th>Latitude</th>\n",
       "      <th>Longitude</th>\n",
       "      <th>Year</th>\n",
       "    </tr>\n",
       "  </thead>\n",
       "  <tbody>\n",
       "    <tr>\n",
       "      <th>3510</th>\n",
       "      <td>Murder</td>\n",
       "      <td>23</td>\n",
       "      <td>Algoapark</td>\n",
       "      <td>Contact Crimes</td>\n",
       "      <td>-33.903171</td>\n",
       "      <td>25.570496</td>\n",
       "      <td>2019</td>\n",
       "    </tr>\n",
       "    <tr>\n",
       "      <th>3511</th>\n",
       "      <td>Attempted murder</td>\n",
       "      <td>23</td>\n",
       "      <td>Algoapark</td>\n",
       "      <td>Contact Crimes</td>\n",
       "      <td>-33.903171</td>\n",
       "      <td>25.570496</td>\n",
       "      <td>2019</td>\n",
       "    </tr>\n",
       "    <tr>\n",
       "      <th>3512</th>\n",
       "      <td>Assault with the intent to inflict grievous bo...</td>\n",
       "      <td>137</td>\n",
       "      <td>Algoapark</td>\n",
       "      <td>Contact Crimes</td>\n",
       "      <td>-33.903171</td>\n",
       "      <td>25.570496</td>\n",
       "      <td>2019</td>\n",
       "    </tr>\n",
       "    <tr>\n",
       "      <th>3513</th>\n",
       "      <td>Common assault</td>\n",
       "      <td>223</td>\n",
       "      <td>Algoapark</td>\n",
       "      <td>Contact Crimes</td>\n",
       "      <td>-33.903171</td>\n",
       "      <td>25.570496</td>\n",
       "      <td>2019</td>\n",
       "    </tr>\n",
       "    <tr>\n",
       "      <th>3514</th>\n",
       "      <td>Common robbery</td>\n",
       "      <td>81</td>\n",
       "      <td>Algoapark</td>\n",
       "      <td>Contact Crimes</td>\n",
       "      <td>-33.903171</td>\n",
       "      <td>25.570496</td>\n",
       "      <td>2019</td>\n",
       "    </tr>\n",
       "    <tr>\n",
       "      <th>3515</th>\n",
       "      <td>Robbery with aggravating circumstances</td>\n",
       "      <td>262</td>\n",
       "      <td>Algoapark</td>\n",
       "      <td>Contact Crimes</td>\n",
       "      <td>-33.903171</td>\n",
       "      <td>25.570496</td>\n",
       "      <td>2019</td>\n",
       "    </tr>\n",
       "    <tr>\n",
       "      <th>3516</th>\n",
       "      <td>Rape</td>\n",
       "      <td>52</td>\n",
       "      <td>Algoapark</td>\n",
       "      <td>Sexual Offences</td>\n",
       "      <td>-33.903171</td>\n",
       "      <td>25.570496</td>\n",
       "      <td>2019</td>\n",
       "    </tr>\n",
       "    <tr>\n",
       "      <th>3517</th>\n",
       "      <td>Sexual Assault</td>\n",
       "      <td>12</td>\n",
       "      <td>Algoapark</td>\n",
       "      <td>Sexual Offences</td>\n",
       "      <td>-33.903171</td>\n",
       "      <td>25.570496</td>\n",
       "      <td>2019</td>\n",
       "    </tr>\n",
       "    <tr>\n",
       "      <th>3518</th>\n",
       "      <td>Attempted Sexual Offences</td>\n",
       "      <td>0</td>\n",
       "      <td>Algoapark</td>\n",
       "      <td>Sexual Offences</td>\n",
       "      <td>-33.903171</td>\n",
       "      <td>25.570496</td>\n",
       "      <td>2019</td>\n",
       "    </tr>\n",
       "    <tr>\n",
       "      <th>3519</th>\n",
       "      <td>Contact Sexual Offences</td>\n",
       "      <td>7</td>\n",
       "      <td>Algoapark</td>\n",
       "      <td>Sexual Offences</td>\n",
       "      <td>-33.903171</td>\n",
       "      <td>25.570496</td>\n",
       "      <td>2019</td>\n",
       "    </tr>\n",
       "    <tr>\n",
       "      <th>3520</th>\n",
       "      <td>Carjacking</td>\n",
       "      <td>31</td>\n",
       "      <td>Algoapark</td>\n",
       "      <td>Aggravated Robbery</td>\n",
       "      <td>-33.903171</td>\n",
       "      <td>25.570496</td>\n",
       "      <td>2019</td>\n",
       "    </tr>\n",
       "    <tr>\n",
       "      <th>3521</th>\n",
       "      <td>Robbery at residential premises</td>\n",
       "      <td>19</td>\n",
       "      <td>Algoapark</td>\n",
       "      <td>Aggravated Robbery</td>\n",
       "      <td>-33.903171</td>\n",
       "      <td>25.570496</td>\n",
       "      <td>2019</td>\n",
       "    </tr>\n",
       "    <tr>\n",
       "      <th>3522</th>\n",
       "      <td>Robbery at non-residential premises</td>\n",
       "      <td>55</td>\n",
       "      <td>Algoapark</td>\n",
       "      <td>Aggravated Robbery</td>\n",
       "      <td>-33.903171</td>\n",
       "      <td>25.570496</td>\n",
       "      <td>2019</td>\n",
       "    </tr>\n",
       "    <tr>\n",
       "      <th>3523</th>\n",
       "      <td>Robbery of cash in transit</td>\n",
       "      <td>0</td>\n",
       "      <td>Algoapark</td>\n",
       "      <td>Aggravated Robbery</td>\n",
       "      <td>-33.903171</td>\n",
       "      <td>25.570496</td>\n",
       "      <td>2019</td>\n",
       "    </tr>\n",
       "    <tr>\n",
       "      <th>3524</th>\n",
       "      <td>Bank robbery</td>\n",
       "      <td>0</td>\n",
       "      <td>Algoapark</td>\n",
       "      <td>Aggravated Robbery</td>\n",
       "      <td>-33.903171</td>\n",
       "      <td>25.570496</td>\n",
       "      <td>2019</td>\n",
       "    </tr>\n",
       "    <tr>\n",
       "      <th>3525</th>\n",
       "      <td>Truck hijacking</td>\n",
       "      <td>4</td>\n",
       "      <td>Algoapark</td>\n",
       "      <td>Aggravated Robbery</td>\n",
       "      <td>-33.903171</td>\n",
       "      <td>25.570496</td>\n",
       "      <td>2019</td>\n",
       "    </tr>\n",
       "    <tr>\n",
       "      <th>3526</th>\n",
       "      <td>Arson</td>\n",
       "      <td>8</td>\n",
       "      <td>Algoapark</td>\n",
       "      <td>Contact-Related Crimes</td>\n",
       "      <td>-33.903171</td>\n",
       "      <td>25.570496</td>\n",
       "      <td>2019</td>\n",
       "    </tr>\n",
       "    <tr>\n",
       "      <th>3527</th>\n",
       "      <td>Malicious damage to property</td>\n",
       "      <td>196</td>\n",
       "      <td>Algoapark</td>\n",
       "      <td>Contact-Related Crimes</td>\n",
       "      <td>-33.903171</td>\n",
       "      <td>25.570496</td>\n",
       "      <td>2019</td>\n",
       "    </tr>\n",
       "    <tr>\n",
       "      <th>3528</th>\n",
       "      <td>Burglary at non-residential premises</td>\n",
       "      <td>212</td>\n",
       "      <td>Algoapark</td>\n",
       "      <td>Property-Related Crimes</td>\n",
       "      <td>-33.903171</td>\n",
       "      <td>25.570496</td>\n",
       "      <td>2019</td>\n",
       "    </tr>\n",
       "    <tr>\n",
       "      <th>3529</th>\n",
       "      <td>Burglary at residential premises</td>\n",
       "      <td>253</td>\n",
       "      <td>Algoapark</td>\n",
       "      <td>Property-Related Crimes</td>\n",
       "      <td>-33.903171</td>\n",
       "      <td>25.570496</td>\n",
       "      <td>2019</td>\n",
       "    </tr>\n",
       "    <tr>\n",
       "      <th>3530</th>\n",
       "      <td>Theft of motor vehicle and motorcycle</td>\n",
       "      <td>47</td>\n",
       "      <td>Algoapark</td>\n",
       "      <td>Property-Related Crimes</td>\n",
       "      <td>-33.903171</td>\n",
       "      <td>25.570496</td>\n",
       "      <td>2019</td>\n",
       "    </tr>\n",
       "    <tr>\n",
       "      <th>3531</th>\n",
       "      <td>Theft out of or from motor vehicle</td>\n",
       "      <td>357</td>\n",
       "      <td>Algoapark</td>\n",
       "      <td>Property-Related Crimes</td>\n",
       "      <td>-33.903171</td>\n",
       "      <td>25.570496</td>\n",
       "      <td>2019</td>\n",
       "    </tr>\n",
       "    <tr>\n",
       "      <th>3532</th>\n",
       "      <td>Stock-theft</td>\n",
       "      <td>0</td>\n",
       "      <td>Algoapark</td>\n",
       "      <td>Property-Related Crimes</td>\n",
       "      <td>-33.903171</td>\n",
       "      <td>25.570496</td>\n",
       "      <td>2019</td>\n",
       "    </tr>\n",
       "    <tr>\n",
       "      <th>3533</th>\n",
       "      <td>All theft not mentioned elsewhere</td>\n",
       "      <td>487</td>\n",
       "      <td>Algoapark</td>\n",
       "      <td>Other Serious Crimes</td>\n",
       "      <td>-33.903171</td>\n",
       "      <td>25.570496</td>\n",
       "      <td>2019</td>\n",
       "    </tr>\n",
       "    <tr>\n",
       "      <th>3534</th>\n",
       "      <td>Commercial crime</td>\n",
       "      <td>129</td>\n",
       "      <td>Algoapark</td>\n",
       "      <td>Other Serious Crimes</td>\n",
       "      <td>-33.903171</td>\n",
       "      <td>25.570496</td>\n",
       "      <td>2019</td>\n",
       "    </tr>\n",
       "    <tr>\n",
       "      <th>3535</th>\n",
       "      <td>Shoplifting</td>\n",
       "      <td>227</td>\n",
       "      <td>Algoapark</td>\n",
       "      <td>Other Serious Crimes</td>\n",
       "      <td>-33.903171</td>\n",
       "      <td>25.570496</td>\n",
       "      <td>2019</td>\n",
       "    </tr>\n",
       "    <tr>\n",
       "      <th>3536</th>\n",
       "      <td>Illegal possession of firearms and ammunition</td>\n",
       "      <td>21</td>\n",
       "      <td>Algoapark</td>\n",
       "      <td>Crime detected as a result of Police Action</td>\n",
       "      <td>-33.903171</td>\n",
       "      <td>25.570496</td>\n",
       "      <td>2019</td>\n",
       "    </tr>\n",
       "    <tr>\n",
       "      <th>3537</th>\n",
       "      <td>Drug-related crime</td>\n",
       "      <td>195</td>\n",
       "      <td>Algoapark</td>\n",
       "      <td>Crime detected as a result of Police Action</td>\n",
       "      <td>-33.903171</td>\n",
       "      <td>25.570496</td>\n",
       "      <td>2019</td>\n",
       "    </tr>\n",
       "    <tr>\n",
       "      <th>3538</th>\n",
       "      <td>Driving under the influence of alcohol or drugs</td>\n",
       "      <td>79</td>\n",
       "      <td>Algoapark</td>\n",
       "      <td>Crime detected as a result of Police Action</td>\n",
       "      <td>-33.903171</td>\n",
       "      <td>25.570496</td>\n",
       "      <td>2019</td>\n",
       "    </tr>\n",
       "    <tr>\n",
       "      <th>3539</th>\n",
       "      <td>Sexual Offences detected as a result of police...</td>\n",
       "      <td>0</td>\n",
       "      <td>Algoapark</td>\n",
       "      <td>Crime detected as a result of Police Action</td>\n",
       "      <td>-33.903171</td>\n",
       "      <td>25.570496</td>\n",
       "      <td>2019</td>\n",
       "    </tr>\n",
       "  </tbody>\n",
       "</table>\n",
       "</div>"
      ],
      "text/plain": [
       "                                                  Crime  Crimes  \\\n",
       "3510                                             Murder      23   \n",
       "3511                                   Attempted murder      23   \n",
       "3512  Assault with the intent to inflict grievous bo...     137   \n",
       "3513                                     Common assault     223   \n",
       "3514                                     Common robbery      81   \n",
       "3515             Robbery with aggravating circumstances     262   \n",
       "3516                                               Rape      52   \n",
       "3517                                     Sexual Assault      12   \n",
       "3518                          Attempted Sexual Offences       0   \n",
       "3519                            Contact Sexual Offences       7   \n",
       "3520                                         Carjacking      31   \n",
       "3521                    Robbery at residential premises      19   \n",
       "3522                Robbery at non-residential premises      55   \n",
       "3523                         Robbery of cash in transit       0   \n",
       "3524                                       Bank robbery       0   \n",
       "3525                                   Truck hijacking        4   \n",
       "3526                                              Arson       8   \n",
       "3527                       Malicious damage to property     196   \n",
       "3528               Burglary at non-residential premises     212   \n",
       "3529                   Burglary at residential premises     253   \n",
       "3530              Theft of motor vehicle and motorcycle      47   \n",
       "3531                 Theft out of or from motor vehicle     357   \n",
       "3532                                        Stock-theft       0   \n",
       "3533                  All theft not mentioned elsewhere     487   \n",
       "3534                                   Commercial crime     129   \n",
       "3535                                        Shoplifting     227   \n",
       "3536      Illegal possession of firearms and ammunition      21   \n",
       "3537                                 Drug-related crime     195   \n",
       "3538    Driving under the influence of alcohol or drugs      79   \n",
       "3539  Sexual Offences detected as a result of police...       0   \n",
       "\n",
       "     Police Station                               Crime Category   Latitude  \\\n",
       "3510      Algoapark                               Contact Crimes -33.903171   \n",
       "3511      Algoapark                               Contact Crimes -33.903171   \n",
       "3512      Algoapark                               Contact Crimes -33.903171   \n",
       "3513      Algoapark                               Contact Crimes -33.903171   \n",
       "3514      Algoapark                               Contact Crimes -33.903171   \n",
       "3515      Algoapark                               Contact Crimes -33.903171   \n",
       "3516      Algoapark                              Sexual Offences -33.903171   \n",
       "3517      Algoapark                              Sexual Offences -33.903171   \n",
       "3518      Algoapark                              Sexual Offences -33.903171   \n",
       "3519      Algoapark                              Sexual Offences -33.903171   \n",
       "3520      Algoapark                           Aggravated Robbery -33.903171   \n",
       "3521      Algoapark                           Aggravated Robbery -33.903171   \n",
       "3522      Algoapark                           Aggravated Robbery -33.903171   \n",
       "3523      Algoapark                           Aggravated Robbery -33.903171   \n",
       "3524      Algoapark                           Aggravated Robbery -33.903171   \n",
       "3525      Algoapark                           Aggravated Robbery -33.903171   \n",
       "3526      Algoapark                       Contact-Related Crimes -33.903171   \n",
       "3527      Algoapark                       Contact-Related Crimes -33.903171   \n",
       "3528      Algoapark                      Property-Related Crimes -33.903171   \n",
       "3529      Algoapark                      Property-Related Crimes -33.903171   \n",
       "3530      Algoapark                      Property-Related Crimes -33.903171   \n",
       "3531      Algoapark                      Property-Related Crimes -33.903171   \n",
       "3532      Algoapark                      Property-Related Crimes -33.903171   \n",
       "3533      Algoapark                         Other Serious Crimes -33.903171   \n",
       "3534      Algoapark                         Other Serious Crimes -33.903171   \n",
       "3535      Algoapark                         Other Serious Crimes -33.903171   \n",
       "3536      Algoapark  Crime detected as a result of Police Action -33.903171   \n",
       "3537      Algoapark  Crime detected as a result of Police Action -33.903171   \n",
       "3538      Algoapark  Crime detected as a result of Police Action -33.903171   \n",
       "3539      Algoapark  Crime detected as a result of Police Action -33.903171   \n",
       "\n",
       "      Longitude  Year  \n",
       "3510  25.570496  2019  \n",
       "3511  25.570496  2019  \n",
       "3512  25.570496  2019  \n",
       "3513  25.570496  2019  \n",
       "3514  25.570496  2019  \n",
       "3515  25.570496  2019  \n",
       "3516  25.570496  2019  \n",
       "3517  25.570496  2019  \n",
       "3518  25.570496  2019  \n",
       "3519  25.570496  2019  \n",
       "3520  25.570496  2019  \n",
       "3521  25.570496  2019  \n",
       "3522  25.570496  2019  \n",
       "3523  25.570496  2019  \n",
       "3524  25.570496  2019  \n",
       "3525  25.570496  2019  \n",
       "3526  25.570496  2019  \n",
       "3527  25.570496  2019  \n",
       "3528  25.570496  2019  \n",
       "3529  25.570496  2019  \n",
       "3530  25.570496  2019  \n",
       "3531  25.570496  2019  \n",
       "3532  25.570496  2019  \n",
       "3533  25.570496  2019  \n",
       "3534  25.570496  2019  \n",
       "3535  25.570496  2019  \n",
       "3536  25.570496  2019  \n",
       "3537  25.570496  2019  \n",
       "3538  25.570496  2019  \n",
       "3539  25.570496  2019  "
      ]
     },
     "execution_count": 204,
     "metadata": {},
     "output_type": "execute_result"
    }
   ],
   "source": [
    "df[(df['Police Station'] == 'Algoapark') & (df['Year'] == 2019)]"
   ]
  },
  {
   "cell_type": "markdown",
   "metadata": {},
   "source": [
    "### Now, for the actual Machine Learning"
   ]
  },
  {
   "cell_type": "markdown",
   "metadata": {},
   "source": [
    "#### Import"
   ]
  },
  {
   "cell_type": "code",
   "execution_count": 314,
   "metadata": {},
   "outputs": [],
   "source": [
    "from sklearn.model_selection import train_test_split\n",
    "from sklearn.ensemble import AdaBoostClassifier, RandomForestClassifier, RandomForestRegressor\n",
    "from sklearn.preprocessing import OneHotEncoder, OrdinalEncoder\n",
    "from sklearn.compose import ColumnTransformer\n",
    "from sklearn.model_selection import cross_val_score, KFold\n",
    "from sklearn.metrics import accuracy_score, r2_score, mean_squared_error\n",
    "from catboost import CatBoostClassifier\n",
    "from category_encoders import TargetEncoder"
   ]
  },
  {
   "cell_type": "markdown",
   "metadata": {},
   "source": [
    "#### Experiment 1: Predict 2020-2023 crime rates for various crimes across Port Elizabeth"
   ]
  },
  {
   "attachments": {},
   "cell_type": "markdown",
   "metadata": {},
   "source": [
    "#### Data aquisition and categorical encoding"
   ]
  },
  {
   "cell_type": "code",
   "execution_count": 325,
   "metadata": {},
   "outputs": [],
   "source": [
    "X = df.drop(['Crimes'], axis=1)\n",
    "y = df.iloc[:, 1]\n",
    "\n",
    "# ct = ColumnTransformer(transformers=[('encoder', OneHotEncoder(), [1])], remainder='passthrough')\n",
    "# X = ct.fit_transform(X)\n",
    "\n",
    "encoder = TargetEncoder(cols=['Crime', 'Police Station', 'Crime Category'], smoothing=10).fit(X, y)\n",
    "X = encoder.transform(X)\n",
    "# le_name_mapping = dict(zip(encoder.classes_, le.transform(le.classes_)))\n",
    "encoder_mapping = pd.concat([encoder.mapping['Police Station'].reset_index()[0].iloc[:13], pd.Series(stations)], axis=1)"
   ]
  },
  {
   "attachments": {},
   "cell_type": "markdown",
   "metadata": {},
   "source": [
    "#### Sampling/split"
   ]
  },
  {
   "cell_type": "code",
   "execution_count": 326,
   "metadata": {},
   "outputs": [],
   "source": [
    "# mask = X['Year'] < 2020\n",
    "\n",
    "# X_train = X[mask]\n",
    "# X_test = X[~mask]\n",
    "\n",
    "# y_train = y[mask]\n",
    "# y_test = y[~mask]\n",
    "\n",
    "X_train, X_test, y_train, y_test = train_test_split(X, y, train_size=0.7, random_state=42)"
   ]
  },
  {
   "cell_type": "markdown",
   "metadata": {},
   "source": [
    "#### Algorithm training"
   ]
  },
  {
   "cell_type": "code",
   "execution_count": 334,
   "metadata": {},
   "outputs": [
    {
     "data": {
      "text/html": [
       "<style>#sk-container-id-11 {color: black;background-color: white;}#sk-container-id-11 pre{padding: 0;}#sk-container-id-11 div.sk-toggleable {background-color: white;}#sk-container-id-11 label.sk-toggleable__label {cursor: pointer;display: block;width: 100%;margin-bottom: 0;padding: 0.3em;box-sizing: border-box;text-align: center;}#sk-container-id-11 label.sk-toggleable__label-arrow:before {content: \"▸\";float: left;margin-right: 0.25em;color: #696969;}#sk-container-id-11 label.sk-toggleable__label-arrow:hover:before {color: black;}#sk-container-id-11 div.sk-estimator:hover label.sk-toggleable__label-arrow:before {color: black;}#sk-container-id-11 div.sk-toggleable__content {max-height: 0;max-width: 0;overflow: hidden;text-align: left;background-color: #f0f8ff;}#sk-container-id-11 div.sk-toggleable__content pre {margin: 0.2em;color: black;border-radius: 0.25em;background-color: #f0f8ff;}#sk-container-id-11 input.sk-toggleable__control:checked~div.sk-toggleable__content {max-height: 200px;max-width: 100%;overflow: auto;}#sk-container-id-11 input.sk-toggleable__control:checked~label.sk-toggleable__label-arrow:before {content: \"▾\";}#sk-container-id-11 div.sk-estimator input.sk-toggleable__control:checked~label.sk-toggleable__label {background-color: #d4ebff;}#sk-container-id-11 div.sk-label input.sk-toggleable__control:checked~label.sk-toggleable__label {background-color: #d4ebff;}#sk-container-id-11 input.sk-hidden--visually {border: 0;clip: rect(1px 1px 1px 1px);clip: rect(1px, 1px, 1px, 1px);height: 1px;margin: -1px;overflow: hidden;padding: 0;position: absolute;width: 1px;}#sk-container-id-11 div.sk-estimator {font-family: monospace;background-color: #f0f8ff;border: 1px dotted black;border-radius: 0.25em;box-sizing: border-box;margin-bottom: 0.5em;}#sk-container-id-11 div.sk-estimator:hover {background-color: #d4ebff;}#sk-container-id-11 div.sk-parallel-item::after {content: \"\";width: 100%;border-bottom: 1px solid gray;flex-grow: 1;}#sk-container-id-11 div.sk-label:hover label.sk-toggleable__label {background-color: #d4ebff;}#sk-container-id-11 div.sk-serial::before {content: \"\";position: absolute;border-left: 1px solid gray;box-sizing: border-box;top: 0;bottom: 0;left: 50%;z-index: 0;}#sk-container-id-11 div.sk-serial {display: flex;flex-direction: column;align-items: center;background-color: white;padding-right: 0.2em;padding-left: 0.2em;position: relative;}#sk-container-id-11 div.sk-item {position: relative;z-index: 1;}#sk-container-id-11 div.sk-parallel {display: flex;align-items: stretch;justify-content: center;background-color: white;position: relative;}#sk-container-id-11 div.sk-item::before, #sk-container-id-11 div.sk-parallel-item::before {content: \"\";position: absolute;border-left: 1px solid gray;box-sizing: border-box;top: 0;bottom: 0;left: 50%;z-index: -1;}#sk-container-id-11 div.sk-parallel-item {display: flex;flex-direction: column;z-index: 1;position: relative;background-color: white;}#sk-container-id-11 div.sk-parallel-item:first-child::after {align-self: flex-end;width: 50%;}#sk-container-id-11 div.sk-parallel-item:last-child::after {align-self: flex-start;width: 50%;}#sk-container-id-11 div.sk-parallel-item:only-child::after {width: 0;}#sk-container-id-11 div.sk-dashed-wrapped {border: 1px dashed gray;margin: 0 0.4em 0.5em 0.4em;box-sizing: border-box;padding-bottom: 0.4em;background-color: white;}#sk-container-id-11 div.sk-label label {font-family: monospace;font-weight: bold;display: inline-block;line-height: 1.2em;}#sk-container-id-11 div.sk-label-container {text-align: center;}#sk-container-id-11 div.sk-container {/* jupyter's `normalize.less` sets `[hidden] { display: none; }` but bootstrap.min.css set `[hidden] { display: none !important; }` so we also need the `!important` here to be able to override the default hidden behavior on the sphinx rendered scikit-learn.org. See: https://github.com/scikit-learn/scikit-learn/issues/21755 */display: inline-block !important;position: relative;}#sk-container-id-11 div.sk-text-repr-fallback {display: none;}</style><div id=\"sk-container-id-11\" class=\"sk-top-container\"><div class=\"sk-text-repr-fallback\"><pre>RandomForestRegressor()</pre><b>In a Jupyter environment, please rerun this cell to show the HTML representation or trust the notebook. <br />On GitHub, the HTML representation is unable to render, please try loading this page with nbviewer.org.</b></div><div class=\"sk-container\" hidden><div class=\"sk-item\"><div class=\"sk-estimator sk-toggleable\"><input class=\"sk-toggleable__control sk-hidden--visually\" id=\"sk-estimator-id-11\" type=\"checkbox\" checked><label for=\"sk-estimator-id-11\" class=\"sk-toggleable__label sk-toggleable__label-arrow\">RandomForestRegressor</label><div class=\"sk-toggleable__content\"><pre>RandomForestRegressor()</pre></div></div></div></div></div>"
      ],
      "text/plain": [
       "RandomForestRegressor()"
      ]
     },
     "execution_count": 334,
     "metadata": {},
     "output_type": "execute_result"
    }
   ],
   "source": [
    "clfRandom = RandomForestRegressor()\n",
    "clfAda = AdaBoostClassifier()\n",
    "clfCat = CatBoostClassifier(verbose=0, n_estimators=100)\n",
    "\n",
    "#clfCat.fit(X_train, y_train)\n",
    "clfRandom.fit(X_train, y_train)\n",
    "#clfAda.fit(X_train, y_train)"
   ]
  },
  {
   "cell_type": "markdown",
   "metadata": {},
   "source": [
    "#### Cross-validation"
   ]
  },
  {
   "cell_type": "code",
   "execution_count": 335,
   "metadata": {},
   "outputs": [
    {
     "name": "stdout",
     "output_type": "stream",
     "text": [
      "1595.790774227482\n"
     ]
    },
    {
     "data": {
      "text/plain": [
       "0.9585336529378067"
      ]
     },
     "execution_count": 335,
     "metadata": {},
     "output_type": "execute_result"
    }
   ],
   "source": [
    "cv = KFold(n_splits=5)\n",
    "\n",
    "#cv_score_Cat = cross_val_score(clfRandom, X_train, y_train, cv=cv, scoring='accuracy', n_jobs=-1)\n",
    "y_pred = clfRandom.predict(X_test)\n",
    "print(mean_squared_error(y_test, y_pred))\n",
    "r2_score(y_test, y_pred)\n",
    "# cv_score_Random = cross_val_score(clfRandom, X_train, y_train, cv=cv, scoring='f1_weighted')\n",
    "# cv_score_Ada = cross_val_score(clfAda, X_train, y_train, cv=cv, scoring='f1_weighted')\n",
    "# print('Random forests: ' + str(round(cv_score_Random.mean()*100, 2)) + ' ' + str(round(cv_score_Random.std()*100,2)) + \" test:\", str(round(accuracy_score(y_test, clfRandom.predict(X_test))*100,2)))\n",
    "# print('AdaBoost: ' + str(round(cv_score_Ada.mean()*100, 2)) + ' ' + str(round(cv_score_Ada.std()*100,2)) + \" test:\", str(round(accuracy_score(y_test, clfAda.predict(X_test))*100,2)))"
   ]
  },
  {
   "cell_type": "code",
   "execution_count": 125,
   "metadata": {},
   "outputs": [
    {
     "ename": "ValueError",
     "evalue": "Classification metrics can't handle a mix of multiclass and continuous targets",
     "output_type": "error",
     "traceback": [
      "\u001b[1;31m---------------------------------------------------------------------------\u001b[0m",
      "\u001b[1;31mValueError\u001b[0m                                Traceback (most recent call last)",
      "Cell \u001b[1;32mIn[125], line 1\u001b[0m\n\u001b[1;32m----> 1\u001b[0m \u001b[39mprint\u001b[39m(\u001b[39m'\u001b[39m\u001b[39mCatboost: \u001b[39m\u001b[39m'\u001b[39m \u001b[39m+\u001b[39m \u001b[39mstr\u001b[39m(\u001b[39mround\u001b[39m(cv_score_Cat\u001b[39m.\u001b[39mmean()\u001b[39m*\u001b[39m\u001b[39m100\u001b[39m, \u001b[39m2\u001b[39m)) \u001b[39m+\u001b[39m \u001b[39m'\u001b[39m\u001b[39m%\u001b[39m\u001b[39m \u001b[39m\u001b[39m'\u001b[39m \u001b[39m+\u001b[39m \u001b[39mstr\u001b[39m(\u001b[39mround\u001b[39m(cv_score_Cat\u001b[39m.\u001b[39mstd()\u001b[39m*\u001b[39m\u001b[39m100\u001b[39m,\u001b[39m2\u001b[39m)) \u001b[39m+\u001b[39m \u001b[39m\"\u001b[39m\u001b[39m std, test:\u001b[39m\u001b[39m\"\u001b[39m, \u001b[39mstr\u001b[39m(\u001b[39mround\u001b[39m(accuracy_score(y_test, clfRandom\u001b[39m.\u001b[39;49mpredict(X_test))\u001b[39m*\u001b[39m\u001b[39m100\u001b[39m,\u001b[39m2\u001b[39m)))\n",
      "File \u001b[1;32mc:\\Users\\user-pc\\AppData\\Local\\Programs\\Python\\Python311\\Lib\\site-packages\\sklearn\\utils\\_param_validation.py:192\u001b[0m, in \u001b[0;36mvalidate_params.<locals>.decorator.<locals>.wrapper\u001b[1;34m(*args, **kwargs)\u001b[0m\n\u001b[0;32m    187\u001b[0m validate_parameter_constraints(\n\u001b[0;32m    188\u001b[0m     parameter_constraints, params, caller_name\u001b[39m=\u001b[39mfunc\u001b[39m.\u001b[39m\u001b[39m__qualname__\u001b[39m\n\u001b[0;32m    189\u001b[0m )\n\u001b[0;32m    191\u001b[0m \u001b[39mtry\u001b[39;00m:\n\u001b[1;32m--> 192\u001b[0m     \u001b[39mreturn\u001b[39;00m func(\u001b[39m*\u001b[39;49margs, \u001b[39m*\u001b[39;49m\u001b[39m*\u001b[39;49mkwargs)\n\u001b[0;32m    193\u001b[0m \u001b[39mexcept\u001b[39;00m InvalidParameterError \u001b[39mas\u001b[39;00m e:\n\u001b[0;32m    194\u001b[0m     \u001b[39m# When the function is just a wrapper around an estimator, we allow\u001b[39;00m\n\u001b[0;32m    195\u001b[0m     \u001b[39m# the function to delegate validation to the estimator, but we replace\u001b[39;00m\n\u001b[0;32m    196\u001b[0m     \u001b[39m# the name of the estimator by the name of the function in the error\u001b[39;00m\n\u001b[0;32m    197\u001b[0m     \u001b[39m# message to avoid confusion.\u001b[39;00m\n\u001b[0;32m    198\u001b[0m     msg \u001b[39m=\u001b[39m re\u001b[39m.\u001b[39msub(\n\u001b[0;32m    199\u001b[0m         \u001b[39mr\u001b[39m\u001b[39m\"\u001b[39m\u001b[39mparameter of \u001b[39m\u001b[39m\\\u001b[39m\u001b[39mw+ must be\u001b[39m\u001b[39m\"\u001b[39m,\n\u001b[0;32m    200\u001b[0m         \u001b[39mf\u001b[39m\u001b[39m\"\u001b[39m\u001b[39mparameter of \u001b[39m\u001b[39m{\u001b[39;00mfunc\u001b[39m.\u001b[39m\u001b[39m__qualname__\u001b[39m\u001b[39m}\u001b[39;00m\u001b[39m must be\u001b[39m\u001b[39m\"\u001b[39m,\n\u001b[0;32m    201\u001b[0m         \u001b[39mstr\u001b[39m(e),\n\u001b[0;32m    202\u001b[0m     )\n",
      "File \u001b[1;32mc:\\Users\\user-pc\\AppData\\Local\\Programs\\Python\\Python311\\Lib\\site-packages\\sklearn\\metrics\\_classification.py:221\u001b[0m, in \u001b[0;36maccuracy_score\u001b[1;34m(y_true, y_pred, normalize, sample_weight)\u001b[0m\n\u001b[0;32m    155\u001b[0m \u001b[39m\u001b[39m\u001b[39m\"\"\"Accuracy classification score.\u001b[39;00m\n\u001b[0;32m    156\u001b[0m \n\u001b[0;32m    157\u001b[0m \u001b[39mIn multilabel classification, this function computes subset accuracy:\u001b[39;00m\n\u001b[1;32m   (...)\u001b[0m\n\u001b[0;32m    217\u001b[0m \u001b[39m0.5\u001b[39;00m\n\u001b[0;32m    218\u001b[0m \u001b[39m\"\"\"\u001b[39;00m\n\u001b[0;32m    220\u001b[0m \u001b[39m# Compute accuracy for each possible representation\u001b[39;00m\n\u001b[1;32m--> 221\u001b[0m y_type, y_true, y_pred \u001b[39m=\u001b[39m _check_targets(y_true, y_pred)\n\u001b[0;32m    222\u001b[0m check_consistent_length(y_true, y_pred, sample_weight)\n\u001b[0;32m    223\u001b[0m \u001b[39mif\u001b[39;00m y_type\u001b[39m.\u001b[39mstartswith(\u001b[39m\"\u001b[39m\u001b[39mmultilabel\u001b[39m\u001b[39m\"\u001b[39m):\n",
      "File \u001b[1;32mc:\\Users\\user-pc\\AppData\\Local\\Programs\\Python\\Python311\\Lib\\site-packages\\sklearn\\metrics\\_classification.py:95\u001b[0m, in \u001b[0;36m_check_targets\u001b[1;34m(y_true, y_pred)\u001b[0m\n\u001b[0;32m     92\u001b[0m     y_type \u001b[39m=\u001b[39m {\u001b[39m\"\u001b[39m\u001b[39mmulticlass\u001b[39m\u001b[39m\"\u001b[39m}\n\u001b[0;32m     94\u001b[0m \u001b[39mif\u001b[39;00m \u001b[39mlen\u001b[39m(y_type) \u001b[39m>\u001b[39m \u001b[39m1\u001b[39m:\n\u001b[1;32m---> 95\u001b[0m     \u001b[39mraise\u001b[39;00m \u001b[39mValueError\u001b[39;00m(\n\u001b[0;32m     96\u001b[0m         \u001b[39m\"\u001b[39m\u001b[39mClassification metrics can\u001b[39m\u001b[39m'\u001b[39m\u001b[39mt handle a mix of \u001b[39m\u001b[39m{0}\u001b[39;00m\u001b[39m and \u001b[39m\u001b[39m{1}\u001b[39;00m\u001b[39m targets\u001b[39m\u001b[39m\"\u001b[39m\u001b[39m.\u001b[39mformat(\n\u001b[0;32m     97\u001b[0m             type_true, type_pred\n\u001b[0;32m     98\u001b[0m         )\n\u001b[0;32m     99\u001b[0m     )\n\u001b[0;32m    101\u001b[0m \u001b[39m# We can't have more than one value on y_type => The set is no more needed\u001b[39;00m\n\u001b[0;32m    102\u001b[0m y_type \u001b[39m=\u001b[39m y_type\u001b[39m.\u001b[39mpop()\n",
      "\u001b[1;31mValueError\u001b[0m: Classification metrics can't handle a mix of multiclass and continuous targets"
     ]
    }
   ],
   "source": [
    "print('Catboost: ' + str(round(cv_score_Cat.mean()*100, 2)) + '% ' + str(round(cv_score_Cat.std()*100,2)) + \" std, test:\", str(round(accuracy_score(y_test, clfRandom.predict(X_test))*100,2)))"
   ]
  },
  {
   "cell_type": "markdown",
   "metadata": {},
   "source": [
    "### Thanks for reading!"
   ]
  }
 ],
 "metadata": {
  "kernelspec": {
   "display_name": "Python 3",
   "language": "python",
   "name": "python3"
  },
  "language_info": {
   "codemirror_mode": {
    "name": "ipython",
    "version": 3
   },
   "file_extension": ".py",
   "mimetype": "text/x-python",
   "name": "python",
   "nbconvert_exporter": "python",
   "pygments_lexer": "ipython3",
   "version": "3.11.2"
  },
  "orig_nbformat": 4
 },
 "nbformat": 4,
 "nbformat_minor": 2
}
