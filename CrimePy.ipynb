{
 "cells": [
  {
   "attachments": {},
   "cell_type": "markdown",
   "metadata": {},
   "source": [
    "## Port Elizabeth Crime Forecasting\n",
    "### Anil Abraham 2023\n",
    "\n",
    "#### The goal of this project is to use machine learning techniques to forecast crime in Port Elizabeth. Particularly, forecasting type of crime, number of crimes committed in a year, and crime hotspots."
   ]
  },
  {
   "cell_type": "markdown",
   "metadata": {},
   "source": [
    "#### Police stations within Port Elizabeth are:\n",
    "<ul>\n",
    "<li>Walmer</li>\n",
    "<li>Swartkops</li>\n",
    "<li>Mount Road</li>\n",
    "<li>Humewood</li>\n",
    "<li>Kwadwesi</li>\n",
    "<li>Kabega Park</li>\n",
    "<li>Algoapark</li>\n",
    "<li>Gelvandale</li>\n",
    "<li>Uitenhage</li>\n",
    "<li>Bethelsdorp</li>\n",
    "<li>Motherwell</li>\n",
    "<li>New Brighton</li>\n",
    "<li>Despatch</li>\n",
    "<li>Kwazakele</li>\n",
    "</ul>"
   ]
  },
  {
   "attachments": {},
   "cell_type": "markdown",
   "metadata": {},
   "source": [
    "### Importing libraries"
   ]
  },
  {
   "cell_type": "code",
   "execution_count": 25,
   "metadata": {},
   "outputs": [],
   "source": [
    "import pandas as pd #Pandas for data manipulation and analysis\n",
    "import numpy as np #Numpy for matrices\n",
    "import geopandas as gpd #Support for geospatial data\n",
    "from shapely.geometry import Point, Polygon #Geographic information systems functions and analysis\n",
    "import matplotlib.pyplot as plt #Matplotlib for visualisations\n",
    "import seaborn as sns\n",
    "import plotly.express as px"
   ]
  },
  {
   "cell_type": "code",
   "execution_count": 26,
   "metadata": {},
   "outputs": [],
   "source": [
    "#sns.set_style(\"darkgrid\")"
   ]
  },
  {
   "attachments": {},
   "cell_type": "markdown",
   "metadata": {},
   "source": [
    "### Data preprocessing"
   ]
  },
  {
   "cell_type": "code",
   "execution_count": 27,
   "metadata": {},
   "outputs": [
    {
     "name": "stdout",
     "output_type": "stream",
     "text": [
      "Null values found\n",
      "Crime                  0\n",
      "Crimes                 0\n",
      "Police Station         0\n",
      "Province               0\n",
      "Crime Category         0\n",
      "Latitude               0\n",
      "Longitude              0\n",
      "Latitude, Longitude    0\n",
      "Year                   0\n",
      "dtype: int64\n",
      "\n",
      "\n",
      "Index(['Crime', 'Crimes', 'Police Station', 'Province', 'Crime Category',\n",
      "       'Latitude', 'Longitude', 'Latitude, Longitude', 'Year'],\n",
      "      dtype='object')\n"
     ]
    }
   ],
   "source": [
    "df = pd.read_csv('crimedata.csv', thousands=',') #Thousands are seperated by commas in the CSV.\n",
    "\n",
    "print(f'Null values found\\n{df.isna().sum()}') #Check for null values\n",
    "\n",
    "print(f'\\n\\n{df.columns}') #List all feature names"
   ]
  },
  {
   "cell_type": "markdown",
   "metadata": {},
   "source": [
    "### What are the datatypes used?"
   ]
  },
  {
   "cell_type": "code",
   "execution_count": 28,
   "metadata": {},
   "outputs": [
    {
     "data": {
      "text/plain": [
       "Crime                   object\n",
       "Crimes                   int64\n",
       "Police Station          object\n",
       "Province                object\n",
       "Crime Category          object\n",
       "Latitude               float64\n",
       "Longitude              float64\n",
       "Latitude, Longitude     object\n",
       "Year                     int64\n",
       "dtype: object"
      ]
     },
     "execution_count": 28,
     "metadata": {},
     "output_type": "execute_result"
    }
   ],
   "source": [
    "df.dtypes"
   ]
  },
  {
   "attachments": {},
   "cell_type": "markdown",
   "metadata": {},
   "source": [
    "#### What does the csv file look like?"
   ]
  },
  {
   "cell_type": "code",
   "execution_count": 29,
   "metadata": {},
   "outputs": [
    {
     "data": {
      "text/html": [
       "<div>\n",
       "<style scoped>\n",
       "    .dataframe tbody tr th:only-of-type {\n",
       "        vertical-align: middle;\n",
       "    }\n",
       "\n",
       "    .dataframe tbody tr th {\n",
       "        vertical-align: top;\n",
       "    }\n",
       "\n",
       "    .dataframe thead th {\n",
       "        text-align: right;\n",
       "    }\n",
       "</style>\n",
       "<table border=\"1\" class=\"dataframe\">\n",
       "  <thead>\n",
       "    <tr style=\"text-align: right;\">\n",
       "      <th></th>\n",
       "      <th>Crime</th>\n",
       "      <th>Crimes</th>\n",
       "      <th>Police Station</th>\n",
       "      <th>Province</th>\n",
       "      <th>Crime Category</th>\n",
       "      <th>Latitude</th>\n",
       "      <th>Longitude</th>\n",
       "      <th>Latitude, Longitude</th>\n",
       "      <th>Year</th>\n",
       "    </tr>\n",
       "  </thead>\n",
       "  <tbody>\n",
       "    <tr>\n",
       "      <th>0</th>\n",
       "      <td>Murder</td>\n",
       "      <td>5</td>\n",
       "      <td>Aberdeen</td>\n",
       "      <td>Eastern Cape</td>\n",
       "      <td>Contact Crimes</td>\n",
       "      <td>-32.476960</td>\n",
       "      <td>24.060513</td>\n",
       "      <td>-32.4769604, 24.0605132</td>\n",
       "      <td>2010</td>\n",
       "    </tr>\n",
       "    <tr>\n",
       "      <th>1</th>\n",
       "      <td>Attempted murder</td>\n",
       "      <td>3</td>\n",
       "      <td>Aberdeen</td>\n",
       "      <td>Eastern Cape</td>\n",
       "      <td>Contact Crimes</td>\n",
       "      <td>-32.476960</td>\n",
       "      <td>24.060513</td>\n",
       "      <td>-32.4769604, 24.0605132</td>\n",
       "      <td>2010</td>\n",
       "    </tr>\n",
       "    <tr>\n",
       "      <th>2</th>\n",
       "      <td>Assault with the intent to inflict grievous bo...</td>\n",
       "      <td>67</td>\n",
       "      <td>Aberdeen</td>\n",
       "      <td>Eastern Cape</td>\n",
       "      <td>Contact Crimes</td>\n",
       "      <td>-32.476960</td>\n",
       "      <td>24.060513</td>\n",
       "      <td>-32.4769604, 24.0605132</td>\n",
       "      <td>2010</td>\n",
       "    </tr>\n",
       "    <tr>\n",
       "      <th>3</th>\n",
       "      <td>Common assault</td>\n",
       "      <td>31</td>\n",
       "      <td>Aberdeen</td>\n",
       "      <td>Eastern Cape</td>\n",
       "      <td>Contact Crimes</td>\n",
       "      <td>-32.476960</td>\n",
       "      <td>24.060513</td>\n",
       "      <td>-32.4769604, 24.0605132</td>\n",
       "      <td>2010</td>\n",
       "    </tr>\n",
       "    <tr>\n",
       "      <th>4</th>\n",
       "      <td>Common robbery</td>\n",
       "      <td>2</td>\n",
       "      <td>Aberdeen</td>\n",
       "      <td>Eastern Cape</td>\n",
       "      <td>Contact Crimes</td>\n",
       "      <td>-32.476960</td>\n",
       "      <td>24.060513</td>\n",
       "      <td>-32.4769604, 24.0605132</td>\n",
       "      <td>2010</td>\n",
       "    </tr>\n",
       "    <tr>\n",
       "      <th>...</th>\n",
       "      <td>...</td>\n",
       "      <td>...</td>\n",
       "      <td>...</td>\n",
       "      <td>...</td>\n",
       "      <td>...</td>\n",
       "      <td>...</td>\n",
       "      <td>...</td>\n",
       "      <td>...</td>\n",
       "      <td>...</td>\n",
       "    </tr>\n",
       "    <tr>\n",
       "      <th>345295</th>\n",
       "      <td>Shoplifting</td>\n",
       "      <td>210</td>\n",
       "      <td>Wynberg</td>\n",
       "      <td>Western Cape</td>\n",
       "      <td>Other Serious Crimes</td>\n",
       "      <td>-34.004107</td>\n",
       "      <td>18.464883</td>\n",
       "      <td>-34.0041069, 18.4648833</td>\n",
       "      <td>2019</td>\n",
       "    </tr>\n",
       "    <tr>\n",
       "      <th>345296</th>\n",
       "      <td>Illegal possession of firearms and ammunition</td>\n",
       "      <td>8</td>\n",
       "      <td>Wynberg</td>\n",
       "      <td>Western Cape</td>\n",
       "      <td>Crime detected as a result of Police Action</td>\n",
       "      <td>-34.004107</td>\n",
       "      <td>18.464883</td>\n",
       "      <td>-34.0041069, 18.4648833</td>\n",
       "      <td>2019</td>\n",
       "    </tr>\n",
       "    <tr>\n",
       "      <th>345297</th>\n",
       "      <td>Drug-related crime</td>\n",
       "      <td>581</td>\n",
       "      <td>Wynberg</td>\n",
       "      <td>Western Cape</td>\n",
       "      <td>Crime detected as a result of Police Action</td>\n",
       "      <td>-34.004107</td>\n",
       "      <td>18.464883</td>\n",
       "      <td>-34.0041069, 18.4648833</td>\n",
       "      <td>2019</td>\n",
       "    </tr>\n",
       "    <tr>\n",
       "      <th>345298</th>\n",
       "      <td>Driving under the influence of alcohol or drugs</td>\n",
       "      <td>252</td>\n",
       "      <td>Wynberg</td>\n",
       "      <td>Western Cape</td>\n",
       "      <td>Crime detected as a result of Police Action</td>\n",
       "      <td>-34.004107</td>\n",
       "      <td>18.464883</td>\n",
       "      <td>-34.0041069, 18.4648833</td>\n",
       "      <td>2019</td>\n",
       "    </tr>\n",
       "    <tr>\n",
       "      <th>345299</th>\n",
       "      <td>Sexual Offences detected as a result of police...</td>\n",
       "      <td>2</td>\n",
       "      <td>Wynberg</td>\n",
       "      <td>Western Cape</td>\n",
       "      <td>Crime detected as a result of Police Action</td>\n",
       "      <td>-34.004107</td>\n",
       "      <td>18.464883</td>\n",
       "      <td>-34.0041069, 18.4648833</td>\n",
       "      <td>2019</td>\n",
       "    </tr>\n",
       "  </tbody>\n",
       "</table>\n",
       "<p>345300 rows × 9 columns</p>\n",
       "</div>"
      ],
      "text/plain": [
       "                                                    Crime  Crimes  \\\n",
       "0                                                  Murder       5   \n",
       "1                                        Attempted murder       3   \n",
       "2       Assault with the intent to inflict grievous bo...      67   \n",
       "3                                          Common assault      31   \n",
       "4                                          Common robbery       2   \n",
       "...                                                   ...     ...   \n",
       "345295                                        Shoplifting     210   \n",
       "345296      Illegal possession of firearms and ammunition       8   \n",
       "345297                                 Drug-related crime     581   \n",
       "345298    Driving under the influence of alcohol or drugs     252   \n",
       "345299  Sexual Offences detected as a result of police...       2   \n",
       "\n",
       "       Police Station      Province  \\\n",
       "0            Aberdeen  Eastern Cape   \n",
       "1            Aberdeen  Eastern Cape   \n",
       "2            Aberdeen  Eastern Cape   \n",
       "3            Aberdeen  Eastern Cape   \n",
       "4            Aberdeen  Eastern Cape   \n",
       "...               ...           ...   \n",
       "345295        Wynberg  Western Cape   \n",
       "345296        Wynberg  Western Cape   \n",
       "345297        Wynberg  Western Cape   \n",
       "345298        Wynberg  Western Cape   \n",
       "345299        Wynberg  Western Cape   \n",
       "\n",
       "                                     Crime Category   Latitude  Longitude  \\\n",
       "0                                    Contact Crimes -32.476960  24.060513   \n",
       "1                                    Contact Crimes -32.476960  24.060513   \n",
       "2                                    Contact Crimes -32.476960  24.060513   \n",
       "3                                    Contact Crimes -32.476960  24.060513   \n",
       "4                                    Contact Crimes -32.476960  24.060513   \n",
       "...                                             ...        ...        ...   \n",
       "345295                         Other Serious Crimes -34.004107  18.464883   \n",
       "345296  Crime detected as a result of Police Action -34.004107  18.464883   \n",
       "345297  Crime detected as a result of Police Action -34.004107  18.464883   \n",
       "345298  Crime detected as a result of Police Action -34.004107  18.464883   \n",
       "345299  Crime detected as a result of Police Action -34.004107  18.464883   \n",
       "\n",
       "            Latitude, Longitude  Year  \n",
       "0       -32.4769604, 24.0605132  2010  \n",
       "1       -32.4769604, 24.0605132  2010  \n",
       "2       -32.4769604, 24.0605132  2010  \n",
       "3       -32.4769604, 24.0605132  2010  \n",
       "4       -32.4769604, 24.0605132  2010  \n",
       "...                         ...   ...  \n",
       "345295  -34.0041069, 18.4648833  2019  \n",
       "345296  -34.0041069, 18.4648833  2019  \n",
       "345297  -34.0041069, 18.4648833  2019  \n",
       "345298  -34.0041069, 18.4648833  2019  \n",
       "345299  -34.0041069, 18.4648833  2019  \n",
       "\n",
       "[345300 rows x 9 columns]"
      ]
     },
     "execution_count": 29,
     "metadata": {},
     "output_type": "execute_result"
    }
   ],
   "source": [
    "df"
   ]
  },
  {
   "attachments": {},
   "cell_type": "markdown",
   "metadata": {},
   "source": [
    "#### Limit provinces to only Eastern Cape. After some careful analysis, I found out that there is some incorrect data that has been input. The Police Station 'Doringkloof' does not exist within the Eastern Cape. Doringkloof is a suburb in Gauteng. Therefore, we remove this."
   ]
  },
  {
   "cell_type": "code",
   "execution_count": 30,
   "metadata": {},
   "outputs": [],
   "source": [
    "df = df[df['Province'] == 'Eastern Cape']\n",
    "df = df[df['Police Station'] != 'Doringkloof']"
   ]
  },
  {
   "cell_type": "markdown",
   "metadata": {},
   "source": [
    "### Limit to police stations in Port Elizabeth only"
   ]
  },
  {
   "cell_type": "code",
   "execution_count": 31,
   "metadata": {},
   "outputs": [],
   "source": [
    "stations = [\"Walmer\", \"Swartkops\", \"New Brighton\", \"Mount Road\", \"Humewood\", \"Kwadwesi\", \"Kabega Park\", \"Algoapark\", \"Gelvandale\", \"Uitenhage\", \"Bethelsdorp\", \"Motherwell\"\n",
    "            , \"Despatch\", \"Kwazakele\", \"Kamesh\", \"Kwanobuhle\", \"Ikamvelihle\"]\n",
    "df = df[df['Police Station'].isin(stations)]\n",
    "df.drop(['Latitude, Longitude', 'Province'], axis=1, inplace=True)\n",
    "df.reset_index(drop=True, inplace=True)\n",
    "df.to_csv('PEcrimerates.csv', encoding='utf-8', index=False) #Create new csv file with crime information within PE only"
   ]
  },
  {
   "cell_type": "markdown",
   "metadata": {},
   "source": [
    "### Let's load the SHP file of South Africa"
   ]
  },
  {
   "cell_type": "code",
   "execution_count": 32,
   "metadata": {},
   "outputs": [
    {
     "data": {
      "image/png": "[encoded data removed]",
      "text/plain": [
       "<Figure size 700x700 with 1 Axes>"
      ]
     },
     "metadata": {},
     "output_type": "display_data"
    }
   ],
   "source": [
    "map = gpd.read_file(\"gadm41_ZAF_shp\\\\gadm41_ZAF_2.shp\")\n",
    "fig, ax = plt.subplots(figsize=(7,7))\n",
    "map.plot(aspect=1,ax = ax)\n",
    "plt.title('Map of South Africa')\n",
    "plt.show()"
   ]
  },
  {
   "attachments": {},
   "cell_type": "markdown",
   "metadata": {},
   "source": [
    "### Let's plot the police stations within Port Elizabeth only."
   ]
  },
  {
   "cell_type": "markdown",
   "metadata": {},
   "source": [
    "##### But first, group by police station and sum the crimes."
   ]
  },
  {
   "cell_type": "code",
   "execution_count": 33,
   "metadata": {},
   "outputs": [
    {
     "name": "stderr",
     "output_type": "stream",
     "text": [
      "c:\\Users\\G20A2632\\AppData\\Local\\Programs\\Python\\Python39\\lib\\site-packages\\pyproj\\crs\\crs.py:141: FutureWarning:\n",
      "\n",
      "'+init=<authority>:<code>' syntax is deprecated. '<authority>:<code>' is the preferred initialization method. When making the change, be mindful of axis order changes: https://pyproj4.github.io/pyproj/stable/gotchas.html#axis-order-changes-in-proj-6\n",
      "\n"
     ]
    }
   ],
   "source": [
    "sum_crimes = df.groupby(['Police Station'])['Crimes'].sum()\n",
    "sum_crimes = sum_crimes.reset_index()\n",
    "sum_crimes['Latitude'] = df['Latitude'].unique()\n",
    "sum_crimes['Longitude'] = df['Longitude'].unique()\n",
    "sum_crimes['size'] = sum_crimes['Crimes'] / 60\n",
    "    \n",
    "#A GeoDataFrame is a dataframe that accepts a geometry column (POINT pairs)\n",
    "geo_df = gpd.GeoDataFrame(sum_crimes, crs = {'init': 'epsg:4326'}, geometry=[Point(xy) for xy in zip(sum_crimes['Longitude'], sum_crimes['Latitude'])])"
   ]
  },
  {
   "cell_type": "code",
   "execution_count": 34,
   "metadata": {},
   "outputs": [
    {
     "data": {
      "image/png": "[encoded data removed]",
      "text/plain": [
       "<Figure size 1300x1300 with 2 Axes>"
      ]
     },
     "metadata": {},
     "output_type": "display_data"
    }
   ],
   "source": [
    "fig, ax = plt.subplots(figsize=(13,13))\n",
    "map = gpd.read_file(\"gadm41_ZAF_shp\\\\gadm41_ZAF_4.shp\")\n",
    "map.plot(ax=ax, aspect=1) #Plot the map of South Africa\n",
    "geo_df.plot(aspect=1, column='Crimes', ax=ax, markersize='size', cmap='coolwarm', legend=True, alpha=0.65, legend_kwds={'shrink': 0.4}) #Plot the latitude longitude pairs onto the same SA map.\n",
    "ax.set_ylim([-33.75, -34])\n",
    "ax.set_xlim([25.3, 25.7])\n",
    "plt.title('Crime hot spots within PE (2010 - 2019)', style='italic')\n",
    "for x, y, label in zip(geo_df.geometry.x, geo_df.geometry.y, geo_df['Police Station']):\n",
    "    ax.annotate(label, xy=(x, y), xytext=(3, 3), textcoords=\"offset points\", weight='bold')\n",
    "ax.get_figure().get_axes()[1].set_title(\"Num. crimes\")\n",
    "plt.show()"
   ]
  },
  {
   "cell_type": "markdown",
   "metadata": {},
   "source": [
    "### An interactive map of crime hotspots in PE"
   ]
  },
  {
   "cell_type": "code",
   "execution_count": 35,
   "metadata": {},
   "outputs": [
    {
     "data": {
      "application/vnd.plotly.v1+json": {
       "config": {
        "plotlyServerURL": "https://plot.ly"
       },
       "data": [
        {
         "customdata": [
          [
           31144
          ],
          [
           51610
          ],
          [
           11619
          ],
          [
           47519
          ],
          [
           56020
          ],
          [
           14836
          ],
          [
           35218
          ],
          [
           22196
          ],
          [
           16837
          ],
          [
           28401
          ],
          [
           50031
          ],
          [
           35175
          ],
          [
           67816
          ],
          [
           43546
          ],
          [
           20112
          ],
          [
           31104
          ],
          [
           44071
          ]
         ],
         "hovertemplate": "<b>%{hovertext}</b><br><br>Crimes=%{marker.color}<br>Latitude=%{lat}<br>Longitude=%{lon}<extra></extra>",
         "hovertext": [
          "Algoapark",
          "Bethelsdorp",
          "Despatch",
          "Gelvandale",
          "Humewood",
          "Ikamvelihle",
          "Kabega Park",
          "Kamesh",
          "Kwadwesi",
          "Kwanobuhle",
          "Kwazakele",
          "Motherwell",
          "Mount Road",
          "New Brighton",
          "Swartkops",
          "Uitenhage",
          "Walmer"
         ],
         "lat": [
          -33.9031712,
          -33.8705197,
          -33.803171,
          -33.9107082,
          -33.9737486,
          -33.7972722,
          -33.9399801,
          -33.769185,
          -33.8410858,
          -33.8140582,
          -32.8707381,
          -33.796568,
          -33.955318,
          -33.8994277,
          -33.8513015,
          -33.765462,
          -33.9788678
         ],
         "legendgroup": "",
         "lon": [
          25.5704957,
          25.5124711,
          25.472662,
          25.5502497,
          25.6259001,
          25.6083202,
          25.4985667,
          25.3660359,
          25.5230822,
          25.3975369,
          27.3876141,
          25.583835,
          25.5947301,
          25.5725492,
          25.6041969,
          25.4007937,
          25.5853756
         ],
         "marker": {
          "color": [
           31144,
           51610,
           11619,
           47519,
           56020,
           14836,
           35218,
           22196,
           16837,
           28401,
           50031,
           35175,
           67816,
           43546,
           20112,
           31104,
           44071
          ],
          "coloraxis": "coloraxis",
          "size": [
           31144,
           51610,
           11619,
           47519,
           56020,
           14836,
           35218,
           22196,
           16837,
           28401,
           50031,
           35175,
           67816,
           43546,
           20112,
           31104,
           44071
          ],
          "sizemode": "area",
          "sizeref": 75.35111111111111
         },
         "mode": "markers",
         "name": "",
         "showlegend": false,
         "subplot": "mapbox",
         "type": "scattermapbox"
        }
       ],
       "layout": {
        "coloraxis": {
         "colorbar": {
          "title": {
           "text": "Crimes"
          }
         },
         "colorscale": [
          [
           0,
           "Yellow"
          ],
          [
           0.3333333333333333,
           "orange"
          ],
          [
           0.6666666666666666,
           "red"
          ],
          [
           1,
           "maroon"
          ]
         ]
        },
        "height": 600,
        "legend": {
         "itemsizing": "constant",
         "tracegroupgap": 0
        },
        "mapbox": {
         "center": {
          "lat": -33.80826959411765,
          "lon": 25.638495005882355
         },
         "domain": {
          "x": [
           0,
           1
          ],
          "y": [
           0,
           1
          ]
         },
         "style": "carto-darkmatter",
         "zoom": 3
        },
        "margin": {
         "b": 0,
         "l": 0,
         "r": 0,
         "t": 0
        },
        "template": {
         "data": {
          "bar": [
           {
            "error_x": {
             "color": "#2a3f5f"
            },
            "error_y": {
             "color": "#2a3f5f"
            },
            "marker": {
             "line": {
              "color": "#E5ECF6",
              "width": 0.5
             },
             "pattern": {
              "fillmode": "overlay",
              "size": 10,
              "solidity": 0.2
             }
            },
            "type": "bar"
           }
          ],
          "barpolar": [
           {
            "marker": {
             "line": {
              "color": "#E5ECF6",
              "width": 0.5
             },
             "pattern": {
              "fillmode": "overlay",
              "size": 10,
              "solidity": 0.2
             }
            },
            "type": "barpolar"
           }
          ],
          "carpet": [
           {
            "aaxis": {
             "endlinecolor": "#2a3f5f",
             "gridcolor": "white",
             "linecolor": "white",
             "minorgridcolor": "white",
             "startlinecolor": "#2a3f5f"
            },
            "baxis": {
             "endlinecolor": "#2a3f5f",
             "gridcolor": "white",
             "linecolor": "white",
             "minorgridcolor": "white",
             "startlinecolor": "#2a3f5f"
            },
            "type": "carpet"
           }
          ],
          "choropleth": [
           {
            "colorbar": {
             "outlinewidth": 0,
             "ticks": ""
            },
            "type": "choropleth"
           }
          ],
          "contour": [
           {
            "colorbar": {
             "outlinewidth": 0,
             "ticks": ""
            },
            "colorscale": [
             [
              0,
              "#0d0887"
             ],
             [
              0.1111111111111111,
              "#46039f"
             ],
             [
              0.2222222222222222,
              "#7201a8"
             ],
             [
              0.3333333333333333,
              "#9c179e"
             ],
             [
              0.4444444444444444,
              "#bd3786"
             ],
             [
              0.5555555555555556,
              "#d8576b"
             ],
             [
              0.6666666666666666,
              "#ed7953"
             ],
             [
              0.7777777777777778,
              "#fb9f3a"
             ],
             [
              0.8888888888888888,
              "#fdca26"
             ],
             [
              1,
              "#f0f921"
             ]
            ],
            "type": "contour"
           }
          ],
          "contourcarpet": [
           {
            "colorbar": {
             "outlinewidth": 0,
             "ticks": ""
            },
            "type": "contourcarpet"
           }
          ],
          "heatmap": [
           {
            "colorbar": {
             "outlinewidth": 0,
             "ticks": ""
            },
            "colorscale": [
             [
              0,
              "#0d0887"
             ],
             [
              0.1111111111111111,
              "#46039f"
             ],
             [
              0.2222222222222222,
              "#7201a8"
             ],
             [
              0.3333333333333333,
              "#9c179e"
             ],
             [
              0.4444444444444444,
              "#bd3786"
             ],
             [
              0.5555555555555556,
              "#d8576b"
             ],
             [
              0.6666666666666666,
              "#ed7953"
             ],
             [
              0.7777777777777778,
              "#fb9f3a"
             ],
             [
              0.8888888888888888,
              "#fdca26"
             ],
             [
              1,
              "#f0f921"
             ]
            ],
            "type": "heatmap"
           }
          ],
          "heatmapgl": [
           {
            "colorbar": {
             "outlinewidth": 0,
             "ticks": ""
            },
            "colorscale": [
             [
              0,
              "#0d0887"
             ],
             [
              0.1111111111111111,
              "#46039f"
             ],
             [
              0.2222222222222222,
              "#7201a8"
             ],
             [
              0.3333333333333333,
              "#9c179e"
             ],
             [
              0.4444444444444444,
              "#bd3786"
             ],
             [
              0.5555555555555556,
              "#d8576b"
             ],
             [
              0.6666666666666666,
              "#ed7953"
             ],
             [
              0.7777777777777778,
              "#fb9f3a"
             ],
             [
              0.8888888888888888,
              "#fdca26"
             ],
             [
              1,
              "#f0f921"
             ]
            ],
            "type": "heatmapgl"
           }
          ],
          "histogram": [
           {
            "marker": {
             "pattern": {
              "fillmode": "overlay",
              "size": 10,
              "solidity": 0.2
             }
            },
            "type": "histogram"
           }
          ],
          "histogram2d": [
           {
            "colorbar": {
             "outlinewidth": 0,
             "ticks": ""
            },
            "colorscale": [
             [
              0,
              "#0d0887"
             ],
             [
              0.1111111111111111,
              "#46039f"
             ],
             [
              0.2222222222222222,
              "#7201a8"
             ],
             [
              0.3333333333333333,
              "#9c179e"
             ],
             [
              0.4444444444444444,
              "#bd3786"
             ],
             [
              0.5555555555555556,
              "#d8576b"
             ],
             [
              0.6666666666666666,
              "#ed7953"
             ],
             [
              0.7777777777777778,
              "#fb9f3a"
             ],
             [
              0.8888888888888888,
              "#fdca26"
             ],
             [
              1,
              "#f0f921"
             ]
            ],
            "type": "histogram2d"
           }
          ],
          "histogram2dcontour": [
           {
            "colorbar": {
             "outlinewidth": 0,
             "ticks": ""
            },
            "colorscale": [
             [
              0,
              "#0d0887"
             ],
             [
              0.1111111111111111,
              "#46039f"
             ],
             [
              0.2222222222222222,
              "#7201a8"
             ],
             [
              0.3333333333333333,
              "#9c179e"
             ],
             [
              0.4444444444444444,
              "#bd3786"
             ],
             [
              0.5555555555555556,
              "#d8576b"
             ],
             [
              0.6666666666666666,
              "#ed7953"
             ],
             [
              0.7777777777777778,
              "#fb9f3a"
             ],
             [
              0.8888888888888888,
              "#fdca26"
             ],
             [
              1,
              "#f0f921"
             ]
            ],
            "type": "histogram2dcontour"
           }
          ],
          "mesh3d": [
           {
            "colorbar": {
             "outlinewidth": 0,
             "ticks": ""
            },
            "type": "mesh3d"
           }
          ],
          "parcoords": [
           {
            "line": {
             "colorbar": {
              "outlinewidth": 0,
              "ticks": ""
             }
            },
            "type": "parcoords"
           }
          ],
          "pie": [
           {
            "automargin": true,
            "type": "pie"
           }
          ],
          "scatter": [
           {
            "fillpattern": {
             "fillmode": "overlay",
             "size": 10,
             "solidity": 0.2
            },
            "type": "scatter"
           }
          ],
          "scatter3d": [
           {
            "line": {
             "colorbar": {
              "outlinewidth": 0,
              "ticks": ""
             }
            },
            "marker": {
             "colorbar": {
              "outlinewidth": 0,
              "ticks": ""
             }
            },
            "type": "scatter3d"
           }
          ],
          "scattercarpet": [
           {
            "marker": {
             "colorbar": {
              "outlinewidth": 0,
              "ticks": ""
             }
            },
            "type": "scattercarpet"
           }
          ],
          "scattergeo": [
           {
            "marker": {
             "colorbar": {
              "outlinewidth": 0,
              "ticks": ""
             }
            },
            "type": "scattergeo"
           }
          ],
          "scattergl": [
           {
            "marker": {
             "colorbar": {
              "outlinewidth": 0,
              "ticks": ""
             }
            },
            "type": "scattergl"
           }
          ],
          "scattermapbox": [
           {
            "marker": {
             "colorbar": {
              "outlinewidth": 0,
              "ticks": ""
             }
            },
            "type": "scattermapbox"
           }
          ],
          "scatterpolar": [
           {
            "marker": {
             "colorbar": {
              "outlinewidth": 0,
              "ticks": ""
             }
            },
            "type": "scatterpolar"
           }
          ],
          "scatterpolargl": [
           {
            "marker": {
             "colorbar": {
              "outlinewidth": 0,
              "ticks": ""
             }
            },
            "type": "scatterpolargl"
           }
          ],
          "scatterternary": [
           {
            "marker": {
             "colorbar": {
              "outlinewidth": 0,
              "ticks": ""
             }
            },
            "type": "scatterternary"
           }
          ],
          "surface": [
           {
            "colorbar": {
             "outlinewidth": 0,
             "ticks": ""
            },
            "colorscale": [
             [
              0,
              "#0d0887"
             ],
             [
              0.1111111111111111,
              "#46039f"
             ],
             [
              0.2222222222222222,
              "#7201a8"
             ],
             [
              0.3333333333333333,
              "#9c179e"
             ],
             [
              0.4444444444444444,
              "#bd3786"
             ],
             [
              0.5555555555555556,
              "#d8576b"
             ],
             [
              0.6666666666666666,
              "#ed7953"
             ],
             [
              0.7777777777777778,
              "#fb9f3a"
             ],
             [
              0.8888888888888888,
              "#fdca26"
             ],
             [
              1,
              "#f0f921"
             ]
            ],
            "type": "surface"
           }
          ],
          "table": [
           {
            "cells": {
             "fill": {
              "color": "#EBF0F8"
             },
             "line": {
              "color": "white"
             }
            },
            "header": {
             "fill": {
              "color": "#C8D4E3"
             },
             "line": {
              "color": "white"
             }
            },
            "type": "table"
           }
          ]
         },
         "layout": {
          "annotationdefaults": {
           "arrowcolor": "#2a3f5f",
           "arrowhead": 0,
           "arrowwidth": 1
          },
          "autotypenumbers": "strict",
          "coloraxis": {
           "colorbar": {
            "outlinewidth": 0,
            "ticks": ""
           }
          },
          "colorscale": {
           "diverging": [
            [
             0,
             "#8e0152"
            ],
            [
             0.1,
             "#c51b7d"
            ],
            [
             0.2,
             "#de77ae"
            ],
            [
             0.3,
             "#f1b6da"
            ],
            [
             0.4,
             "#fde0ef"
            ],
            [
             0.5,
             "#f7f7f7"
            ],
            [
             0.6,
             "#e6f5d0"
            ],
            [
             0.7,
             "#b8e186"
            ],
            [
             0.8,
             "#7fbc41"
            ],
            [
             0.9,
             "#4d9221"
            ],
            [
             1,
             "#276419"
            ]
           ],
           "sequential": [
            [
             0,
             "#0d0887"
            ],
            [
             0.1111111111111111,
             "#46039f"
            ],
            [
             0.2222222222222222,
             "#7201a8"
            ],
            [
             0.3333333333333333,
             "#9c179e"
            ],
            [
             0.4444444444444444,
             "#bd3786"
            ],
            [
             0.5555555555555556,
             "#d8576b"
            ],
            [
             0.6666666666666666,
             "#ed7953"
            ],
            [
             0.7777777777777778,
             "#fb9f3a"
            ],
            [
             0.8888888888888888,
             "#fdca26"
            ],
            [
             1,
             "#f0f921"
            ]
           ],
           "sequentialminus": [
            [
             0,
             "#0d0887"
            ],
            [
             0.1111111111111111,
             "#46039f"
            ],
            [
             0.2222222222222222,
             "#7201a8"
            ],
            [
             0.3333333333333333,
             "#9c179e"
            ],
            [
             0.4444444444444444,
             "#bd3786"
            ],
            [
             0.5555555555555556,
             "#d8576b"
            ],
            [
             0.6666666666666666,
             "#ed7953"
            ],
            [
             0.7777777777777778,
             "#fb9f3a"
            ],
            [
             0.8888888888888888,
             "#fdca26"
            ],
            [
             1,
             "#f0f921"
            ]
           ]
          },
          "colorway": [
           "#636efa",
           "#EF553B",
           "#00cc96",
           "#ab63fa",
           "#FFA15A",
           "#19d3f3",
           "#FF6692",
           "#B6E880",
           "#FF97FF",
           "#FECB52"
          ],
          "font": {
           "color": "#2a3f5f"
          },
          "geo": {
           "bgcolor": "white",
           "lakecolor": "white",
           "landcolor": "#E5ECF6",
           "showlakes": true,
           "showland": true,
           "subunitcolor": "white"
          },
          "hoverlabel": {
           "align": "left"
          },
          "hovermode": "closest",
          "mapbox": {
           "style": "light"
          },
          "paper_bgcolor": "white",
          "plot_bgcolor": "#E5ECF6",
          "polar": {
           "angularaxis": {
            "gridcolor": "white",
            "linecolor": "white",
            "ticks": ""
           },
           "bgcolor": "#E5ECF6",
           "radialaxis": {
            "gridcolor": "white",
            "linecolor": "white",
            "ticks": ""
           }
          },
          "scene": {
           "xaxis": {
            "backgroundcolor": "#E5ECF6",
            "gridcolor": "white",
            "gridwidth": 2,
            "linecolor": "white",
            "showbackground": true,
            "ticks": "",
            "zerolinecolor": "white"
           },
           "yaxis": {
            "backgroundcolor": "#E5ECF6",
            "gridcolor": "white",
            "gridwidth": 2,
            "linecolor": "white",
            "showbackground": true,
            "ticks": "",
            "zerolinecolor": "white"
           },
           "zaxis": {
            "backgroundcolor": "#E5ECF6",
            "gridcolor": "white",
            "gridwidth": 2,
            "linecolor": "white",
            "showbackground": true,
            "ticks": "",
            "zerolinecolor": "white"
           }
          },
          "shapedefaults": {
           "line": {
            "color": "#2a3f5f"
           }
          },
          "ternary": {
           "aaxis": {
            "gridcolor": "white",
            "linecolor": "white",
            "ticks": ""
           },
           "baxis": {
            "gridcolor": "white",
            "linecolor": "white",
            "ticks": ""
           },
           "bgcolor": "#E5ECF6",
           "caxis": {
            "gridcolor": "white",
            "linecolor": "white",
            "ticks": ""
           }
          },
          "title": {
           "x": 0.05
          },
          "xaxis": {
           "automargin": true,
           "gridcolor": "white",
           "linecolor": "white",
           "ticks": "",
           "title": {
            "standoff": 15
           },
           "zerolinecolor": "white",
           "zerolinewidth": 2
          },
          "yaxis": {
           "automargin": true,
           "gridcolor": "white",
           "linecolor": "white",
           "ticks": "",
           "title": {
            "standoff": 15
           },
           "zerolinecolor": "white",
           "zerolinewidth": 2
          }
         }
        }
       }
      }
     },
     "metadata": {},
     "output_type": "display_data"
    }
   ],
   "source": [
    "fig = px.scatter_mapbox(sum_crimes, lat=\"Latitude\", lon=\"Longitude\", hover_name=\"Police Station\", hover_data=[\"Crimes\"],\n",
    "                        color=\"Crimes\", color_continuous_scale=['Yellow', 'orange', 'red', 'maroon'], zoom=3, height=600, size='Crimes', size_max=30)\n",
    "fig.update_layout(mapbox_style=\"carto-darkmatter\", margin={\"r\":0,\"t\":0,\"l\":0,\"b\":0})\n",
    "fig.show()"
   ]
  },
  {
   "attachments": {},
   "cell_type": "markdown",
   "metadata": {},
   "source": [
    "<span style=\"color: #FFFF00\">Kwazakele is a police station in Port Elizabeth, but displays outside of PE. What should I do?</span>"
   ]
  },
  {
   "cell_type": "code",
   "execution_count": 36,
   "metadata": {},
   "outputs": [
    {
     "data": {
      "text/html": [
       "<div>\n",
       "<style scoped>\n",
       "    .dataframe tbody tr th:only-of-type {\n",
       "        vertical-align: middle;\n",
       "    }\n",
       "\n",
       "    .dataframe tbody tr th {\n",
       "        vertical-align: top;\n",
       "    }\n",
       "\n",
       "    .dataframe thead th {\n",
       "        text-align: right;\n",
       "    }\n",
       "</style>\n",
       "<table border=\"1\" class=\"dataframe\">\n",
       "  <thead>\n",
       "    <tr style=\"text-align: right;\">\n",
       "      <th></th>\n",
       "      <th>Police Station</th>\n",
       "      <th>Crimes</th>\n",
       "      <th>Latitude</th>\n",
       "      <th>Longitude</th>\n",
       "      <th>size</th>\n",
       "      <th>geometry</th>\n",
       "    </tr>\n",
       "  </thead>\n",
       "  <tbody>\n",
       "    <tr>\n",
       "      <th>0</th>\n",
       "      <td>Algoapark</td>\n",
       "      <td>31144</td>\n",
       "      <td>-33.903171</td>\n",
       "      <td>25.570496</td>\n",
       "      <td>519.066667</td>\n",
       "      <td>POINT (25.57050 -33.90317)</td>\n",
       "    </tr>\n",
       "    <tr>\n",
       "      <th>1</th>\n",
       "      <td>Bethelsdorp</td>\n",
       "      <td>51610</td>\n",
       "      <td>-33.870520</td>\n",
       "      <td>25.512471</td>\n",
       "      <td>860.166667</td>\n",
       "      <td>POINT (25.51247 -33.87052)</td>\n",
       "    </tr>\n",
       "    <tr>\n",
       "      <th>2</th>\n",
       "      <td>Despatch</td>\n",
       "      <td>11619</td>\n",
       "      <td>-33.803171</td>\n",
       "      <td>25.472662</td>\n",
       "      <td>193.650000</td>\n",
       "      <td>POINT (25.47266 -33.80317)</td>\n",
       "    </tr>\n",
       "    <tr>\n",
       "      <th>3</th>\n",
       "      <td>Gelvandale</td>\n",
       "      <td>47519</td>\n",
       "      <td>-33.910708</td>\n",
       "      <td>25.550250</td>\n",
       "      <td>791.983333</td>\n",
       "      <td>POINT (25.55025 -33.91071)</td>\n",
       "    </tr>\n",
       "    <tr>\n",
       "      <th>4</th>\n",
       "      <td>Humewood</td>\n",
       "      <td>56020</td>\n",
       "      <td>-33.973749</td>\n",
       "      <td>25.625900</td>\n",
       "      <td>933.666667</td>\n",
       "      <td>POINT (25.62590 -33.97375)</td>\n",
       "    </tr>\n",
       "    <tr>\n",
       "      <th>5</th>\n",
       "      <td>Ikamvelihle</td>\n",
       "      <td>14836</td>\n",
       "      <td>-33.797272</td>\n",
       "      <td>25.608320</td>\n",
       "      <td>247.266667</td>\n",
       "      <td>POINT (25.60832 -33.79727)</td>\n",
       "    </tr>\n",
       "    <tr>\n",
       "      <th>6</th>\n",
       "      <td>Kabega Park</td>\n",
       "      <td>35218</td>\n",
       "      <td>-33.939980</td>\n",
       "      <td>25.498567</td>\n",
       "      <td>586.966667</td>\n",
       "      <td>POINT (25.49857 -33.93998)</td>\n",
       "    </tr>\n",
       "    <tr>\n",
       "      <th>7</th>\n",
       "      <td>Kamesh</td>\n",
       "      <td>22196</td>\n",
       "      <td>-33.769185</td>\n",
       "      <td>25.366036</td>\n",
       "      <td>369.933333</td>\n",
       "      <td>POINT (25.36604 -33.76919)</td>\n",
       "    </tr>\n",
       "    <tr>\n",
       "      <th>8</th>\n",
       "      <td>Kwadwesi</td>\n",
       "      <td>16837</td>\n",
       "      <td>-33.841086</td>\n",
       "      <td>25.523082</td>\n",
       "      <td>280.616667</td>\n",
       "      <td>POINT (25.52308 -33.84109)</td>\n",
       "    </tr>\n",
       "    <tr>\n",
       "      <th>9</th>\n",
       "      <td>Kwanobuhle</td>\n",
       "      <td>28401</td>\n",
       "      <td>-33.814058</td>\n",
       "      <td>25.397537</td>\n",
       "      <td>473.350000</td>\n",
       "      <td>POINT (25.39754 -33.81406)</td>\n",
       "    </tr>\n",
       "    <tr>\n",
       "      <th>10</th>\n",
       "      <td>Kwazakele</td>\n",
       "      <td>50031</td>\n",
       "      <td>-32.870738</td>\n",
       "      <td>27.387614</td>\n",
       "      <td>833.850000</td>\n",
       "      <td>POINT (27.38761 -32.87074)</td>\n",
       "    </tr>\n",
       "    <tr>\n",
       "      <th>11</th>\n",
       "      <td>Motherwell</td>\n",
       "      <td>35175</td>\n",
       "      <td>-33.796568</td>\n",
       "      <td>25.583835</td>\n",
       "      <td>586.250000</td>\n",
       "      <td>POINT (25.58384 -33.79657)</td>\n",
       "    </tr>\n",
       "    <tr>\n",
       "      <th>12</th>\n",
       "      <td>Mount Road</td>\n",
       "      <td>67816</td>\n",
       "      <td>-33.955318</td>\n",
       "      <td>25.594730</td>\n",
       "      <td>1130.266667</td>\n",
       "      <td>POINT (25.59473 -33.95532)</td>\n",
       "    </tr>\n",
       "    <tr>\n",
       "      <th>13</th>\n",
       "      <td>New Brighton</td>\n",
       "      <td>43546</td>\n",
       "      <td>-33.899428</td>\n",
       "      <td>25.572549</td>\n",
       "      <td>725.766667</td>\n",
       "      <td>POINT (25.57255 -33.89943)</td>\n",
       "    </tr>\n",
       "    <tr>\n",
       "      <th>14</th>\n",
       "      <td>Swartkops</td>\n",
       "      <td>20112</td>\n",
       "      <td>-33.851301</td>\n",
       "      <td>25.604197</td>\n",
       "      <td>335.200000</td>\n",
       "      <td>POINT (25.60420 -33.85130)</td>\n",
       "    </tr>\n",
       "    <tr>\n",
       "      <th>15</th>\n",
       "      <td>Uitenhage</td>\n",
       "      <td>31104</td>\n",
       "      <td>-33.765462</td>\n",
       "      <td>25.400794</td>\n",
       "      <td>518.400000</td>\n",
       "      <td>POINT (25.40079 -33.76546)</td>\n",
       "    </tr>\n",
       "    <tr>\n",
       "      <th>16</th>\n",
       "      <td>Walmer</td>\n",
       "      <td>44071</td>\n",
       "      <td>-33.978868</td>\n",
       "      <td>25.585376</td>\n",
       "      <td>734.516667</td>\n",
       "      <td>POINT (25.58538 -33.97887)</td>\n",
       "    </tr>\n",
       "  </tbody>\n",
       "</table>\n",
       "</div>"
      ],
      "text/plain": [
       "   Police Station  Crimes   Latitude  Longitude         size  \\\n",
       "0       Algoapark   31144 -33.903171  25.570496   519.066667   \n",
       "1     Bethelsdorp   51610 -33.870520  25.512471   860.166667   \n",
       "2        Despatch   11619 -33.803171  25.472662   193.650000   \n",
       "3      Gelvandale   47519 -33.910708  25.550250   791.983333   \n",
       "4        Humewood   56020 -33.973749  25.625900   933.666667   \n",
       "5     Ikamvelihle   14836 -33.797272  25.608320   247.266667   \n",
       "6     Kabega Park   35218 -33.939980  25.498567   586.966667   \n",
       "7          Kamesh   22196 -33.769185  25.366036   369.933333   \n",
       "8        Kwadwesi   16837 -33.841086  25.523082   280.616667   \n",
       "9      Kwanobuhle   28401 -33.814058  25.397537   473.350000   \n",
       "10      Kwazakele   50031 -32.870738  27.387614   833.850000   \n",
       "11     Motherwell   35175 -33.796568  25.583835   586.250000   \n",
       "12     Mount Road   67816 -33.955318  25.594730  1130.266667   \n",
       "13   New Brighton   43546 -33.899428  25.572549   725.766667   \n",
       "14      Swartkops   20112 -33.851301  25.604197   335.200000   \n",
       "15      Uitenhage   31104 -33.765462  25.400794   518.400000   \n",
       "16         Walmer   44071 -33.978868  25.585376   734.516667   \n",
       "\n",
       "                      geometry  \n",
       "0   POINT (25.57050 -33.90317)  \n",
       "1   POINT (25.51247 -33.87052)  \n",
       "2   POINT (25.47266 -33.80317)  \n",
       "3   POINT (25.55025 -33.91071)  \n",
       "4   POINT (25.62590 -33.97375)  \n",
       "5   POINT (25.60832 -33.79727)  \n",
       "6   POINT (25.49857 -33.93998)  \n",
       "7   POINT (25.36604 -33.76919)  \n",
       "8   POINT (25.52308 -33.84109)  \n",
       "9   POINT (25.39754 -33.81406)  \n",
       "10  POINT (27.38761 -32.87074)  \n",
       "11  POINT (25.58384 -33.79657)  \n",
       "12  POINT (25.59473 -33.95532)  \n",
       "13  POINT (25.57255 -33.89943)  \n",
       "14  POINT (25.60420 -33.85130)  \n",
       "15  POINT (25.40079 -33.76546)  \n",
       "16  POINT (25.58538 -33.97887)  "
      ]
     },
     "execution_count": 36,
     "metadata": {},
     "output_type": "execute_result"
    }
   ],
   "source": [
    "geo_df"
   ]
  },
  {
   "attachments": {},
   "cell_type": "markdown",
   "metadata": {},
   "source": [
    "### Let's do some EDA"
   ]
  },
  {
   "cell_type": "code",
   "execution_count": 37,
   "metadata": {},
   "outputs": [],
   "source": [
    "df_grouped = df.groupby(['Police Station'])['Crimes'].sum()\n",
    "df_grouped_year = df.groupby(['Police Station', 'Year'])['Crimes'].sum()"
   ]
  },
  {
   "cell_type": "code",
   "execution_count": 38,
   "metadata": {},
   "outputs": [
    {
     "data": {
      "image/png": "[encoded data removed]",
      "text/plain": [
       "<Figure size 1800x1000 with 4 Axes>"
      ]
     },
     "metadata": {},
     "output_type": "display_data"
    }
   ],
   "source": [
    "fig, axs = plt.subplots(2, 2, figsize=(18, 10))\n",
    "\n",
    "df_grouped.sort_values(ascending=False).plot.bar(color=['#5cb85c','#5bc0de','#d9534f'], ax=axs[0,0])\n",
    "df_grouped_year['Algoapark'].plot.bar(color=['#5cb85c','#5bc0de','#d9534f'], ax=axs[0,1])\n",
    "\n",
    "axs[0,0].set_title('Bar graph of the most dangerous areas in PE')\n",
    "axs[0,0].set_xlabel('helo')\n",
    "axs[0,0].set_ylabel('my son'\n",
    "                    )\n",
    "axs[0,1].set_title('Bar graph of Algoapark')\n",
    "plt.tight_layout()"
   ]
  },
  {
   "cell_type": "code",
   "execution_count": 39,
   "metadata": {},
   "outputs": [
    {
     "data": {
      "text/html": [
       "<div>\n",
       "<style scoped>\n",
       "    .dataframe tbody tr th:only-of-type {\n",
       "        vertical-align: middle;\n",
       "    }\n",
       "\n",
       "    .dataframe tbody tr th {\n",
       "        vertical-align: top;\n",
       "    }\n",
       "\n",
       "    .dataframe thead th {\n",
       "        text-align: right;\n",
       "    }\n",
       "</style>\n",
       "<table border=\"1\" class=\"dataframe\">\n",
       "  <thead>\n",
       "    <tr style=\"text-align: right;\">\n",
       "      <th></th>\n",
       "      <th>Police Station</th>\n",
       "      <th>Crimes</th>\n",
       "    </tr>\n",
       "  </thead>\n",
       "  <tbody>\n",
       "    <tr>\n",
       "      <th>0</th>\n",
       "      <td>Algoapark</td>\n",
       "      <td>31144</td>\n",
       "    </tr>\n",
       "    <tr>\n",
       "      <th>1</th>\n",
       "      <td>Bethelsdorp</td>\n",
       "      <td>51610</td>\n",
       "    </tr>\n",
       "    <tr>\n",
       "      <th>2</th>\n",
       "      <td>Despatch</td>\n",
       "      <td>11619</td>\n",
       "    </tr>\n",
       "    <tr>\n",
       "      <th>3</th>\n",
       "      <td>Gelvandale</td>\n",
       "      <td>47519</td>\n",
       "    </tr>\n",
       "    <tr>\n",
       "      <th>4</th>\n",
       "      <td>Humewood</td>\n",
       "      <td>56020</td>\n",
       "    </tr>\n",
       "    <tr>\n",
       "      <th>5</th>\n",
       "      <td>Ikamvelihle</td>\n",
       "      <td>14836</td>\n",
       "    </tr>\n",
       "    <tr>\n",
       "      <th>6</th>\n",
       "      <td>Kabega Park</td>\n",
       "      <td>35218</td>\n",
       "    </tr>\n",
       "    <tr>\n",
       "      <th>7</th>\n",
       "      <td>Kamesh</td>\n",
       "      <td>22196</td>\n",
       "    </tr>\n",
       "    <tr>\n",
       "      <th>8</th>\n",
       "      <td>Kwadwesi</td>\n",
       "      <td>16837</td>\n",
       "    </tr>\n",
       "    <tr>\n",
       "      <th>9</th>\n",
       "      <td>Kwanobuhle</td>\n",
       "      <td>28401</td>\n",
       "    </tr>\n",
       "    <tr>\n",
       "      <th>10</th>\n",
       "      <td>Kwazakele</td>\n",
       "      <td>50031</td>\n",
       "    </tr>\n",
       "    <tr>\n",
       "      <th>11</th>\n",
       "      <td>Motherwell</td>\n",
       "      <td>35175</td>\n",
       "    </tr>\n",
       "    <tr>\n",
       "      <th>12</th>\n",
       "      <td>Mount Road</td>\n",
       "      <td>67816</td>\n",
       "    </tr>\n",
       "    <tr>\n",
       "      <th>13</th>\n",
       "      <td>New Brighton</td>\n",
       "      <td>43546</td>\n",
       "    </tr>\n",
       "    <tr>\n",
       "      <th>14</th>\n",
       "      <td>Swartkops</td>\n",
       "      <td>20112</td>\n",
       "    </tr>\n",
       "    <tr>\n",
       "      <th>15</th>\n",
       "      <td>Uitenhage</td>\n",
       "      <td>31104</td>\n",
       "    </tr>\n",
       "    <tr>\n",
       "      <th>16</th>\n",
       "      <td>Walmer</td>\n",
       "      <td>44071</td>\n",
       "    </tr>\n",
       "  </tbody>\n",
       "</table>\n",
       "</div>"
      ],
      "text/plain": [
       "   Police Station  Crimes\n",
       "0       Algoapark   31144\n",
       "1     Bethelsdorp   51610\n",
       "2        Despatch   11619\n",
       "3      Gelvandale   47519\n",
       "4        Humewood   56020\n",
       "5     Ikamvelihle   14836\n",
       "6     Kabega Park   35218\n",
       "7          Kamesh   22196\n",
       "8        Kwadwesi   16837\n",
       "9      Kwanobuhle   28401\n",
       "10      Kwazakele   50031\n",
       "11     Motherwell   35175\n",
       "12     Mount Road   67816\n",
       "13   New Brighton   43546\n",
       "14      Swartkops   20112\n",
       "15      Uitenhage   31104\n",
       "16         Walmer   44071"
      ]
     },
     "execution_count": 39,
     "metadata": {},
     "output_type": "execute_result"
    }
   ],
   "source": [
    "df_grouped = df_grouped.reset_index()\n",
    "df_grouped"
   ]
  },
  {
   "cell_type": "code",
   "execution_count": 40,
   "metadata": {},
   "outputs": [
    {
     "data": {
      "application/vnd.plotly.v1+json": {
       "config": {
        "plotlyServerURL": "https://plot.ly"
       },
       "data": [
        {
         "domain": {
          "x": [
           0,
           1
          ],
          "y": [
           0,
           1
          ]
         },
         "hovertemplate": "Police Station=%{label}<br>Crimes=%{value}<extra></extra>",
         "labels": [
          "Algoapark",
          "Bethelsdorp",
          "Despatch",
          "Gelvandale",
          "Humewood",
          "Ikamvelihle",
          "Kabega Park",
          "Kamesh",
          "Kwadwesi",
          "Kwanobuhle",
          "Kwazakele",
          "Motherwell",
          "Mount Road",
          "New Brighton",
          "Swartkops",
          "Uitenhage",
          "Walmer"
         ],
         "legendgroup": "",
         "name": "",
         "showlegend": true,
         "textinfo": "percent+label",
         "textposition": "inside",
         "type": "pie",
         "values": [
          31144,
          51610,
          11619,
          47519,
          56020,
          14836,
          35218,
          22196,
          16837,
          28401,
          50031,
          35175,
          67816,
          43546,
          20112,
          31104,
          44071
         ]
        }
       ],
       "layout": {
        "legend": {
         "tracegroupgap": 0
        },
        "margin": {
         "b": 20,
         "l": 0,
         "r": 0,
         "t": 70
        },
        "template": {
         "data": {
          "bar": [
           {
            "error_x": {
             "color": "#2a3f5f"
            },
            "error_y": {
             "color": "#2a3f5f"
            },
            "marker": {
             "line": {
              "color": "#E5ECF6",
              "width": 0.5
             },
             "pattern": {
              "fillmode": "overlay",
              "size": 10,
              "solidity": 0.2
             }
            },
            "type": "bar"
           }
          ],
          "barpolar": [
           {
            "marker": {
             "line": {
              "color": "#E5ECF6",
              "width": 0.5
             },
             "pattern": {
              "fillmode": "overlay",
              "size": 10,
              "solidity": 0.2
             }
            },
            "type": "barpolar"
           }
          ],
          "carpet": [
           {
            "aaxis": {
             "endlinecolor": "#2a3f5f",
             "gridcolor": "white",
             "linecolor": "white",
             "minorgridcolor": "white",
             "startlinecolor": "#2a3f5f"
            },
            "baxis": {
             "endlinecolor": "#2a3f5f",
             "gridcolor": "white",
             "linecolor": "white",
             "minorgridcolor": "white",
             "startlinecolor": "#2a3f5f"
            },
            "type": "carpet"
           }
          ],
          "choropleth": [
           {
            "colorbar": {
             "outlinewidth": 0,
             "ticks": ""
            },
            "type": "choropleth"
           }
          ],
          "contour": [
           {
            "colorbar": {
             "outlinewidth": 0,
             "ticks": ""
            },
            "colorscale": [
             [
              0,
              "#0d0887"
             ],
             [
              0.1111111111111111,
              "#46039f"
             ],
             [
              0.2222222222222222,
              "#7201a8"
             ],
             [
              0.3333333333333333,
              "#9c179e"
             ],
             [
              0.4444444444444444,
              "#bd3786"
             ],
             [
              0.5555555555555556,
              "#d8576b"
             ],
             [
              0.6666666666666666,
              "#ed7953"
             ],
             [
              0.7777777777777778,
              "#fb9f3a"
             ],
             [
              0.8888888888888888,
              "#fdca26"
             ],
             [
              1,
              "#f0f921"
             ]
            ],
            "type": "contour"
           }
          ],
          "contourcarpet": [
           {
            "colorbar": {
             "outlinewidth": 0,
             "ticks": ""
            },
            "type": "contourcarpet"
           }
          ],
          "heatmap": [
           {
            "colorbar": {
             "outlinewidth": 0,
             "ticks": ""
            },
            "colorscale": [
             [
              0,
              "#0d0887"
             ],
             [
              0.1111111111111111,
              "#46039f"
             ],
             [
              0.2222222222222222,
              "#7201a8"
             ],
             [
              0.3333333333333333,
              "#9c179e"
             ],
             [
              0.4444444444444444,
              "#bd3786"
             ],
             [
              0.5555555555555556,
              "#d8576b"
             ],
             [
              0.6666666666666666,
              "#ed7953"
             ],
             [
              0.7777777777777778,
              "#fb9f3a"
             ],
             [
              0.8888888888888888,
              "#fdca26"
             ],
             [
              1,
              "#f0f921"
             ]
            ],
            "type": "heatmap"
           }
          ],
          "heatmapgl": [
           {
            "colorbar": {
             "outlinewidth": 0,
             "ticks": ""
            },
            "colorscale": [
             [
              0,
              "#0d0887"
             ],
             [
              0.1111111111111111,
              "#46039f"
             ],
             [
              0.2222222222222222,
              "#7201a8"
             ],
             [
              0.3333333333333333,
              "#9c179e"
             ],
             [
              0.4444444444444444,
              "#bd3786"
             ],
             [
              0.5555555555555556,
              "#d8576b"
             ],
             [
              0.6666666666666666,
              "#ed7953"
             ],
             [
              0.7777777777777778,
              "#fb9f3a"
             ],
             [
              0.8888888888888888,
              "#fdca26"
             ],
             [
              1,
              "#f0f921"
             ]
            ],
            "type": "heatmapgl"
           }
          ],
          "histogram": [
           {
            "marker": {
             "pattern": {
              "fillmode": "overlay",
              "size": 10,
              "solidity": 0.2
             }
            },
            "type": "histogram"
           }
          ],
          "histogram2d": [
           {
            "colorbar": {
             "outlinewidth": 0,
             "ticks": ""
            },
            "colorscale": [
             [
              0,
              "#0d0887"
             ],
             [
              0.1111111111111111,
              "#46039f"
             ],
             [
              0.2222222222222222,
              "#7201a8"
             ],
             [
              0.3333333333333333,
              "#9c179e"
             ],
             [
              0.4444444444444444,
              "#bd3786"
             ],
             [
              0.5555555555555556,
              "#d8576b"
             ],
             [
              0.6666666666666666,
              "#ed7953"
             ],
             [
              0.7777777777777778,
              "#fb9f3a"
             ],
             [
              0.8888888888888888,
              "#fdca26"
             ],
             [
              1,
              "#f0f921"
             ]
            ],
            "type": "histogram2d"
           }
          ],
          "histogram2dcontour": [
           {
            "colorbar": {
             "outlinewidth": 0,
             "ticks": ""
            },
            "colorscale": [
             [
              0,
              "#0d0887"
             ],
             [
              0.1111111111111111,
              "#46039f"
             ],
             [
              0.2222222222222222,
              "#7201a8"
             ],
             [
              0.3333333333333333,
              "#9c179e"
             ],
             [
              0.4444444444444444,
              "#bd3786"
             ],
             [
              0.5555555555555556,
              "#d8576b"
             ],
             [
              0.6666666666666666,
              "#ed7953"
             ],
             [
              0.7777777777777778,
              "#fb9f3a"
             ],
             [
              0.8888888888888888,
              "#fdca26"
             ],
             [
              1,
              "#f0f921"
             ]
            ],
            "type": "histogram2dcontour"
           }
          ],
          "mesh3d": [
           {
            "colorbar": {
             "outlinewidth": 0,
             "ticks": ""
            },
            "type": "mesh3d"
           }
          ],
          "parcoords": [
           {
            "line": {
             "colorbar": {
              "outlinewidth": 0,
              "ticks": ""
             }
            },
            "type": "parcoords"
           }
          ],
          "pie": [
           {
            "automargin": true,
            "type": "pie"
           }
          ],
          "scatter": [
           {
            "fillpattern": {
             "fillmode": "overlay",
             "size": 10,
             "solidity": 0.2
            },
            "type": "scatter"
           }
          ],
          "scatter3d": [
           {
            "line": {
             "colorbar": {
              "outlinewidth": 0,
              "ticks": ""
             }
            },
            "marker": {
             "colorbar": {
              "outlinewidth": 0,
              "ticks": ""
             }
            },
            "type": "scatter3d"
           }
          ],
          "scattercarpet": [
           {
            "marker": {
             "colorbar": {
              "outlinewidth": 0,
              "ticks": ""
             }
            },
            "type": "scattercarpet"
           }
          ],
          "scattergeo": [
           {
            "marker": {
             "colorbar": {
              "outlinewidth": 0,
              "ticks": ""
             }
            },
            "type": "scattergeo"
           }
          ],
          "scattergl": [
           {
            "marker": {
             "colorbar": {
              "outlinewidth": 0,
              "ticks": ""
             }
            },
            "type": "scattergl"
           }
          ],
          "scattermapbox": [
           {
            "marker": {
             "colorbar": {
              "outlinewidth": 0,
              "ticks": ""
             }
            },
            "type": "scattermapbox"
           }
          ],
          "scatterpolar": [
           {
            "marker": {
             "colorbar": {
              "outlinewidth": 0,
              "ticks": ""
             }
            },
            "type": "scatterpolar"
           }
          ],
          "scatterpolargl": [
           {
            "marker": {
             "colorbar": {
              "outlinewidth": 0,
              "ticks": ""
             }
            },
            "type": "scatterpolargl"
           }
          ],
          "scatterternary": [
           {
            "marker": {
             "colorbar": {
              "outlinewidth": 0,
              "ticks": ""
             }
            },
            "type": "scatterternary"
           }
          ],
          "surface": [
           {
            "colorbar": {
             "outlinewidth": 0,
             "ticks": ""
            },
            "colorscale": [
             [
              0,
              "#0d0887"
             ],
             [
              0.1111111111111111,
              "#46039f"
             ],
             [
              0.2222222222222222,
              "#7201a8"
             ],
             [
              0.3333333333333333,
              "#9c179e"
             ],
             [
              0.4444444444444444,
              "#bd3786"
             ],
             [
              0.5555555555555556,
              "#d8576b"
             ],
             [
              0.6666666666666666,
              "#ed7953"
             ],
             [
              0.7777777777777778,
              "#fb9f3a"
             ],
             [
              0.8888888888888888,
              "#fdca26"
             ],
             [
              1,
              "#f0f921"
             ]
            ],
            "type": "surface"
           }
          ],
          "table": [
           {
            "cells": {
             "fill": {
              "color": "#EBF0F8"
             },
             "line": {
              "color": "white"
             }
            },
            "header": {
             "fill": {
              "color": "#C8D4E3"
             },
             "line": {
              "color": "white"
             }
            },
            "type": "table"
           }
          ]
         },
         "layout": {
          "annotationdefaults": {
           "arrowcolor": "#2a3f5f",
           "arrowhead": 0,
           "arrowwidth": 1
          },
          "autotypenumbers": "strict",
          "coloraxis": {
           "colorbar": {
            "outlinewidth": 0,
            "ticks": ""
           }
          },
          "colorscale": {
           "diverging": [
            [
             0,
             "#8e0152"
            ],
            [
             0.1,
             "#c51b7d"
            ],
            [
             0.2,
             "#de77ae"
            ],
            [
             0.3,
             "#f1b6da"
            ],
            [
             0.4,
             "#fde0ef"
            ],
            [
             0.5,
             "#f7f7f7"
            ],
            [
             0.6,
             "#e6f5d0"
            ],
            [
             0.7,
             "#b8e186"
            ],
            [
             0.8,
             "#7fbc41"
            ],
            [
             0.9,
             "#4d9221"
            ],
            [
             1,
             "#276419"
            ]
           ],
           "sequential": [
            [
             0,
             "#0d0887"
            ],
            [
             0.1111111111111111,
             "#46039f"
            ],
            [
             0.2222222222222222,
             "#7201a8"
            ],
            [
             0.3333333333333333,
             "#9c179e"
            ],
            [
             0.4444444444444444,
             "#bd3786"
            ],
            [
             0.5555555555555556,
             "#d8576b"
            ],
            [
             0.6666666666666666,
             "#ed7953"
            ],
            [
             0.7777777777777778,
             "#fb9f3a"
            ],
            [
             0.8888888888888888,
             "#fdca26"
            ],
            [
             1,
             "#f0f921"
            ]
           ],
           "sequentialminus": [
            [
             0,
             "#0d0887"
            ],
            [
             0.1111111111111111,
             "#46039f"
            ],
            [
             0.2222222222222222,
             "#7201a8"
            ],
            [
             0.3333333333333333,
             "#9c179e"
            ],
            [
             0.4444444444444444,
             "#bd3786"
            ],
            [
             0.5555555555555556,
             "#d8576b"
            ],
            [
             0.6666666666666666,
             "#ed7953"
            ],
            [
             0.7777777777777778,
             "#fb9f3a"
            ],
            [
             0.8888888888888888,
             "#fdca26"
            ],
            [
             1,
             "#f0f921"
            ]
           ]
          },
          "colorway": [
           "#636efa",
           "#EF553B",
           "#00cc96",
           "#ab63fa",
           "#FFA15A",
           "#19d3f3",
           "#FF6692",
           "#B6E880",
           "#FF97FF",
           "#FECB52"
          ],
          "font": {
           "color": "#2a3f5f"
          },
          "geo": {
           "bgcolor": "white",
           "lakecolor": "white",
           "landcolor": "#E5ECF6",
           "showlakes": true,
           "showland": true,
           "subunitcolor": "white"
          },
          "hoverlabel": {
           "align": "left"
          },
          "hovermode": "closest",
          "mapbox": {
           "style": "light"
          },
          "paper_bgcolor": "white",
          "plot_bgcolor": "#E5ECF6",
          "polar": {
           "angularaxis": {
            "gridcolor": "white",
            "linecolor": "white",
            "ticks": ""
           },
           "bgcolor": "#E5ECF6",
           "radialaxis": {
            "gridcolor": "white",
            "linecolor": "white",
            "ticks": ""
           }
          },
          "scene": {
           "xaxis": {
            "backgroundcolor": "#E5ECF6",
            "gridcolor": "white",
            "gridwidth": 2,
            "linecolor": "white",
            "showbackground": true,
            "ticks": "",
            "zerolinecolor": "white"
           },
           "yaxis": {
            "backgroundcolor": "#E5ECF6",
            "gridcolor": "white",
            "gridwidth": 2,
            "linecolor": "white",
            "showbackground": true,
            "ticks": "",
            "zerolinecolor": "white"
           },
           "zaxis": {
            "backgroundcolor": "#E5ECF6",
            "gridcolor": "white",
            "gridwidth": 2,
            "linecolor": "white",
            "showbackground": true,
            "ticks": "",
            "zerolinecolor": "white"
           }
          },
          "shapedefaults": {
           "line": {
            "color": "#2a3f5f"
           }
          },
          "ternary": {
           "aaxis": {
            "gridcolor": "white",
            "linecolor": "white",
            "ticks": ""
           },
           "baxis": {
            "gridcolor": "white",
            "linecolor": "white",
            "ticks": ""
           },
           "bgcolor": "#E5ECF6",
           "caxis": {
            "gridcolor": "white",
            "linecolor": "white",
            "ticks": ""
           }
          },
          "title": {
           "x": 0.05
          },
          "xaxis": {
           "automargin": true,
           "gridcolor": "white",
           "linecolor": "white",
           "ticks": "",
           "title": {
            "standoff": 15
           },
           "zerolinecolor": "white",
           "zerolinewidth": 2
          },
          "yaxis": {
           "automargin": true,
           "gridcolor": "white",
           "linecolor": "white",
           "ticks": "",
           "title": {
            "standoff": 15
           },
           "zerolinecolor": "white",
           "zerolinewidth": 2
          }
         }
        },
        "title": {
         "text": "Pie chart of most dangerous areas in PE"
        }
       }
      }
     },
     "metadata": {},
     "output_type": "display_data"
    }
   ],
   "source": [
    "fig = px.pie(df_grouped, values='Crimes', names='Police Station', title='Pie chart of most dangerous areas in PE')\n",
    "fig.update_layout(margin=dict(t=70, b=20, l=0, r=0))\n",
    "fig.update_traces(textposition='inside', textinfo='percent+label')\n",
    "fig.show()"
   ]
  },
  {
   "cell_type": "code",
   "execution_count": 41,
   "metadata": {},
   "outputs": [
    {
     "data": {
      "text/plain": [
       "Crime Category\n",
       "Contact Crimes                                 167886\n",
       "Property-Related Crimes                        151086\n",
       "Other Serious Crimes                           126493\n",
       "Crime detected as a result of Police Action     83113\n",
       "Contact-Related Crimes                          43185\n",
       "Aggravated Robbery                              18369\n",
       "Sexual Offences                                 17123\n",
       "Name: Crimes, dtype: int64"
      ]
     },
     "execution_count": 41,
     "metadata": {},
     "output_type": "execute_result"
    }
   ],
   "source": [
    "# fig = px.treemap(df_grouped, values='Crimes', names='Police Station', title='Pie chart of most dangerous areas in PE')\n",
    "# fig.show()\n",
    "\n",
    "df.groupby(['Crime Category'])['Crimes'].sum().sort_values(ascending=False)"
   ]
  },
  {
   "cell_type": "markdown",
   "metadata": {},
   "source": [
    "#### There are 30 unique classes of crimes with 7 unique crime categories"
   ]
  },
  {
   "cell_type": "code",
   "execution_count": 42,
   "metadata": {},
   "outputs": [
    {
     "data": {
      "text/html": [
       "<div>\n",
       "<style scoped>\n",
       "    .dataframe tbody tr th:only-of-type {\n",
       "        vertical-align: middle;\n",
       "    }\n",
       "\n",
       "    .dataframe tbody tr th {\n",
       "        vertical-align: top;\n",
       "    }\n",
       "\n",
       "    .dataframe thead th {\n",
       "        text-align: right;\n",
       "    }\n",
       "</style>\n",
       "<table border=\"1\" class=\"dataframe\">\n",
       "  <thead>\n",
       "    <tr style=\"text-align: right;\">\n",
       "      <th></th>\n",
       "      <th>Crime</th>\n",
       "      <th>Crimes</th>\n",
       "      <th>Police Station</th>\n",
       "      <th>Crime Category</th>\n",
       "      <th>Latitude</th>\n",
       "      <th>Longitude</th>\n",
       "      <th>Year</th>\n",
       "    </tr>\n",
       "  </thead>\n",
       "  <tbody>\n",
       "    <tr>\n",
       "      <th>4590</th>\n",
       "      <td>Murder</td>\n",
       "      <td>23</td>\n",
       "      <td>Algoapark</td>\n",
       "      <td>Contact Crimes</td>\n",
       "      <td>-33.903171</td>\n",
       "      <td>25.570496</td>\n",
       "      <td>2019</td>\n",
       "    </tr>\n",
       "    <tr>\n",
       "      <th>4591</th>\n",
       "      <td>Attempted murder</td>\n",
       "      <td>23</td>\n",
       "      <td>Algoapark</td>\n",
       "      <td>Contact Crimes</td>\n",
       "      <td>-33.903171</td>\n",
       "      <td>25.570496</td>\n",
       "      <td>2019</td>\n",
       "    </tr>\n",
       "    <tr>\n",
       "      <th>4592</th>\n",
       "      <td>Assault with the intent to inflict grievous bo...</td>\n",
       "      <td>137</td>\n",
       "      <td>Algoapark</td>\n",
       "      <td>Contact Crimes</td>\n",
       "      <td>-33.903171</td>\n",
       "      <td>25.570496</td>\n",
       "      <td>2019</td>\n",
       "    </tr>\n",
       "    <tr>\n",
       "      <th>4593</th>\n",
       "      <td>Common assault</td>\n",
       "      <td>223</td>\n",
       "      <td>Algoapark</td>\n",
       "      <td>Contact Crimes</td>\n",
       "      <td>-33.903171</td>\n",
       "      <td>25.570496</td>\n",
       "      <td>2019</td>\n",
       "    </tr>\n",
       "    <tr>\n",
       "      <th>4594</th>\n",
       "      <td>Common robbery</td>\n",
       "      <td>81</td>\n",
       "      <td>Algoapark</td>\n",
       "      <td>Contact Crimes</td>\n",
       "      <td>-33.903171</td>\n",
       "      <td>25.570496</td>\n",
       "      <td>2019</td>\n",
       "    </tr>\n",
       "    <tr>\n",
       "      <th>4595</th>\n",
       "      <td>Robbery with aggravating circumstances</td>\n",
       "      <td>262</td>\n",
       "      <td>Algoapark</td>\n",
       "      <td>Contact Crimes</td>\n",
       "      <td>-33.903171</td>\n",
       "      <td>25.570496</td>\n",
       "      <td>2019</td>\n",
       "    </tr>\n",
       "    <tr>\n",
       "      <th>4596</th>\n",
       "      <td>Rape</td>\n",
       "      <td>52</td>\n",
       "      <td>Algoapark</td>\n",
       "      <td>Sexual Offences</td>\n",
       "      <td>-33.903171</td>\n",
       "      <td>25.570496</td>\n",
       "      <td>2019</td>\n",
       "    </tr>\n",
       "    <tr>\n",
       "      <th>4597</th>\n",
       "      <td>Sexual Assault</td>\n",
       "      <td>12</td>\n",
       "      <td>Algoapark</td>\n",
       "      <td>Sexual Offences</td>\n",
       "      <td>-33.903171</td>\n",
       "      <td>25.570496</td>\n",
       "      <td>2019</td>\n",
       "    </tr>\n",
       "    <tr>\n",
       "      <th>4598</th>\n",
       "      <td>Attempted Sexual Offences</td>\n",
       "      <td>0</td>\n",
       "      <td>Algoapark</td>\n",
       "      <td>Sexual Offences</td>\n",
       "      <td>-33.903171</td>\n",
       "      <td>25.570496</td>\n",
       "      <td>2019</td>\n",
       "    </tr>\n",
       "    <tr>\n",
       "      <th>4599</th>\n",
       "      <td>Contact Sexual Offences</td>\n",
       "      <td>7</td>\n",
       "      <td>Algoapark</td>\n",
       "      <td>Sexual Offences</td>\n",
       "      <td>-33.903171</td>\n",
       "      <td>25.570496</td>\n",
       "      <td>2019</td>\n",
       "    </tr>\n",
       "    <tr>\n",
       "      <th>4600</th>\n",
       "      <td>Carjacking</td>\n",
       "      <td>31</td>\n",
       "      <td>Algoapark</td>\n",
       "      <td>Aggravated Robbery</td>\n",
       "      <td>-33.903171</td>\n",
       "      <td>25.570496</td>\n",
       "      <td>2019</td>\n",
       "    </tr>\n",
       "    <tr>\n",
       "      <th>4601</th>\n",
       "      <td>Robbery at residential premises</td>\n",
       "      <td>19</td>\n",
       "      <td>Algoapark</td>\n",
       "      <td>Aggravated Robbery</td>\n",
       "      <td>-33.903171</td>\n",
       "      <td>25.570496</td>\n",
       "      <td>2019</td>\n",
       "    </tr>\n",
       "    <tr>\n",
       "      <th>4602</th>\n",
       "      <td>Robbery at non-residential premises</td>\n",
       "      <td>55</td>\n",
       "      <td>Algoapark</td>\n",
       "      <td>Aggravated Robbery</td>\n",
       "      <td>-33.903171</td>\n",
       "      <td>25.570496</td>\n",
       "      <td>2019</td>\n",
       "    </tr>\n",
       "    <tr>\n",
       "      <th>4603</th>\n",
       "      <td>Robbery of cash in transit</td>\n",
       "      <td>0</td>\n",
       "      <td>Algoapark</td>\n",
       "      <td>Aggravated Robbery</td>\n",
       "      <td>-33.903171</td>\n",
       "      <td>25.570496</td>\n",
       "      <td>2019</td>\n",
       "    </tr>\n",
       "    <tr>\n",
       "      <th>4604</th>\n",
       "      <td>Bank robbery</td>\n",
       "      <td>0</td>\n",
       "      <td>Algoapark</td>\n",
       "      <td>Aggravated Robbery</td>\n",
       "      <td>-33.903171</td>\n",
       "      <td>25.570496</td>\n",
       "      <td>2019</td>\n",
       "    </tr>\n",
       "    <tr>\n",
       "      <th>4605</th>\n",
       "      <td>Truck hijacking</td>\n",
       "      <td>4</td>\n",
       "      <td>Algoapark</td>\n",
       "      <td>Aggravated Robbery</td>\n",
       "      <td>-33.903171</td>\n",
       "      <td>25.570496</td>\n",
       "      <td>2019</td>\n",
       "    </tr>\n",
       "    <tr>\n",
       "      <th>4606</th>\n",
       "      <td>Arson</td>\n",
       "      <td>8</td>\n",
       "      <td>Algoapark</td>\n",
       "      <td>Contact-Related Crimes</td>\n",
       "      <td>-33.903171</td>\n",
       "      <td>25.570496</td>\n",
       "      <td>2019</td>\n",
       "    </tr>\n",
       "    <tr>\n",
       "      <th>4607</th>\n",
       "      <td>Malicious damage to property</td>\n",
       "      <td>196</td>\n",
       "      <td>Algoapark</td>\n",
       "      <td>Contact-Related Crimes</td>\n",
       "      <td>-33.903171</td>\n",
       "      <td>25.570496</td>\n",
       "      <td>2019</td>\n",
       "    </tr>\n",
       "    <tr>\n",
       "      <th>4608</th>\n",
       "      <td>Burglary at non-residential premises</td>\n",
       "      <td>212</td>\n",
       "      <td>Algoapark</td>\n",
       "      <td>Property-Related Crimes</td>\n",
       "      <td>-33.903171</td>\n",
       "      <td>25.570496</td>\n",
       "      <td>2019</td>\n",
       "    </tr>\n",
       "    <tr>\n",
       "      <th>4609</th>\n",
       "      <td>Burglary at residential premises</td>\n",
       "      <td>253</td>\n",
       "      <td>Algoapark</td>\n",
       "      <td>Property-Related Crimes</td>\n",
       "      <td>-33.903171</td>\n",
       "      <td>25.570496</td>\n",
       "      <td>2019</td>\n",
       "    </tr>\n",
       "    <tr>\n",
       "      <th>4610</th>\n",
       "      <td>Theft of motor vehicle and motorcycle</td>\n",
       "      <td>47</td>\n",
       "      <td>Algoapark</td>\n",
       "      <td>Property-Related Crimes</td>\n",
       "      <td>-33.903171</td>\n",
       "      <td>25.570496</td>\n",
       "      <td>2019</td>\n",
       "    </tr>\n",
       "    <tr>\n",
       "      <th>4611</th>\n",
       "      <td>Theft out of or from motor vehicle</td>\n",
       "      <td>357</td>\n",
       "      <td>Algoapark</td>\n",
       "      <td>Property-Related Crimes</td>\n",
       "      <td>-33.903171</td>\n",
       "      <td>25.570496</td>\n",
       "      <td>2019</td>\n",
       "    </tr>\n",
       "    <tr>\n",
       "      <th>4612</th>\n",
       "      <td>Stock-theft</td>\n",
       "      <td>0</td>\n",
       "      <td>Algoapark</td>\n",
       "      <td>Property-Related Crimes</td>\n",
       "      <td>-33.903171</td>\n",
       "      <td>25.570496</td>\n",
       "      <td>2019</td>\n",
       "    </tr>\n",
       "    <tr>\n",
       "      <th>4613</th>\n",
       "      <td>All theft not mentioned elsewhere</td>\n",
       "      <td>487</td>\n",
       "      <td>Algoapark</td>\n",
       "      <td>Other Serious Crimes</td>\n",
       "      <td>-33.903171</td>\n",
       "      <td>25.570496</td>\n",
       "      <td>2019</td>\n",
       "    </tr>\n",
       "    <tr>\n",
       "      <th>4614</th>\n",
       "      <td>Commercial crime</td>\n",
       "      <td>129</td>\n",
       "      <td>Algoapark</td>\n",
       "      <td>Other Serious Crimes</td>\n",
       "      <td>-33.903171</td>\n",
       "      <td>25.570496</td>\n",
       "      <td>2019</td>\n",
       "    </tr>\n",
       "    <tr>\n",
       "      <th>4615</th>\n",
       "      <td>Shoplifting</td>\n",
       "      <td>227</td>\n",
       "      <td>Algoapark</td>\n",
       "      <td>Other Serious Crimes</td>\n",
       "      <td>-33.903171</td>\n",
       "      <td>25.570496</td>\n",
       "      <td>2019</td>\n",
       "    </tr>\n",
       "    <tr>\n",
       "      <th>4616</th>\n",
       "      <td>Illegal possession of firearms and ammunition</td>\n",
       "      <td>21</td>\n",
       "      <td>Algoapark</td>\n",
       "      <td>Crime detected as a result of Police Action</td>\n",
       "      <td>-33.903171</td>\n",
       "      <td>25.570496</td>\n",
       "      <td>2019</td>\n",
       "    </tr>\n",
       "    <tr>\n",
       "      <th>4617</th>\n",
       "      <td>Drug-related crime</td>\n",
       "      <td>195</td>\n",
       "      <td>Algoapark</td>\n",
       "      <td>Crime detected as a result of Police Action</td>\n",
       "      <td>-33.903171</td>\n",
       "      <td>25.570496</td>\n",
       "      <td>2019</td>\n",
       "    </tr>\n",
       "    <tr>\n",
       "      <th>4618</th>\n",
       "      <td>Driving under the influence of alcohol or drugs</td>\n",
       "      <td>79</td>\n",
       "      <td>Algoapark</td>\n",
       "      <td>Crime detected as a result of Police Action</td>\n",
       "      <td>-33.903171</td>\n",
       "      <td>25.570496</td>\n",
       "      <td>2019</td>\n",
       "    </tr>\n",
       "    <tr>\n",
       "      <th>4619</th>\n",
       "      <td>Sexual Offences detected as a result of police...</td>\n",
       "      <td>0</td>\n",
       "      <td>Algoapark</td>\n",
       "      <td>Crime detected as a result of Police Action</td>\n",
       "      <td>-33.903171</td>\n",
       "      <td>25.570496</td>\n",
       "      <td>2019</td>\n",
       "    </tr>\n",
       "  </tbody>\n",
       "</table>\n",
       "</div>"
      ],
      "text/plain": [
       "                                                  Crime  Crimes  \\\n",
       "4590                                             Murder      23   \n",
       "4591                                   Attempted murder      23   \n",
       "4592  Assault with the intent to inflict grievous bo...     137   \n",
       "4593                                     Common assault     223   \n",
       "4594                                     Common robbery      81   \n",
       "4595             Robbery with aggravating circumstances     262   \n",
       "4596                                               Rape      52   \n",
       "4597                                     Sexual Assault      12   \n",
       "4598                          Attempted Sexual Offences       0   \n",
       "4599                            Contact Sexual Offences       7   \n",
       "4600                                         Carjacking      31   \n",
       "4601                    Robbery at residential premises      19   \n",
       "4602                Robbery at non-residential premises      55   \n",
       "4603                         Robbery of cash in transit       0   \n",
       "4604                                       Bank robbery       0   \n",
       "4605                                   Truck hijacking        4   \n",
       "4606                                              Arson       8   \n",
       "4607                       Malicious damage to property     196   \n",
       "4608               Burglary at non-residential premises     212   \n",
       "4609                   Burglary at residential premises     253   \n",
       "4610              Theft of motor vehicle and motorcycle      47   \n",
       "4611                 Theft out of or from motor vehicle     357   \n",
       "4612                                        Stock-theft       0   \n",
       "4613                  All theft not mentioned elsewhere     487   \n",
       "4614                                   Commercial crime     129   \n",
       "4615                                        Shoplifting     227   \n",
       "4616      Illegal possession of firearms and ammunition      21   \n",
       "4617                                 Drug-related crime     195   \n",
       "4618    Driving under the influence of alcohol or drugs      79   \n",
       "4619  Sexual Offences detected as a result of police...       0   \n",
       "\n",
       "     Police Station                               Crime Category   Latitude  \\\n",
       "4590      Algoapark                               Contact Crimes -33.903171   \n",
       "4591      Algoapark                               Contact Crimes -33.903171   \n",
       "4592      Algoapark                               Contact Crimes -33.903171   \n",
       "4593      Algoapark                               Contact Crimes -33.903171   \n",
       "4594      Algoapark                               Contact Crimes -33.903171   \n",
       "4595      Algoapark                               Contact Crimes -33.903171   \n",
       "4596      Algoapark                              Sexual Offences -33.903171   \n",
       "4597      Algoapark                              Sexual Offences -33.903171   \n",
       "4598      Algoapark                              Sexual Offences -33.903171   \n",
       "4599      Algoapark                              Sexual Offences -33.903171   \n",
       "4600      Algoapark                           Aggravated Robbery -33.903171   \n",
       "4601      Algoapark                           Aggravated Robbery -33.903171   \n",
       "4602      Algoapark                           Aggravated Robbery -33.903171   \n",
       "4603      Algoapark                           Aggravated Robbery -33.903171   \n",
       "4604      Algoapark                           Aggravated Robbery -33.903171   \n",
       "4605      Algoapark                           Aggravated Robbery -33.903171   \n",
       "4606      Algoapark                       Contact-Related Crimes -33.903171   \n",
       "4607      Algoapark                       Contact-Related Crimes -33.903171   \n",
       "4608      Algoapark                      Property-Related Crimes -33.903171   \n",
       "4609      Algoapark                      Property-Related Crimes -33.903171   \n",
       "4610      Algoapark                      Property-Related Crimes -33.903171   \n",
       "4611      Algoapark                      Property-Related Crimes -33.903171   \n",
       "4612      Algoapark                      Property-Related Crimes -33.903171   \n",
       "4613      Algoapark                         Other Serious Crimes -33.903171   \n",
       "4614      Algoapark                         Other Serious Crimes -33.903171   \n",
       "4615      Algoapark                         Other Serious Crimes -33.903171   \n",
       "4616      Algoapark  Crime detected as a result of Police Action -33.903171   \n",
       "4617      Algoapark  Crime detected as a result of Police Action -33.903171   \n",
       "4618      Algoapark  Crime detected as a result of Police Action -33.903171   \n",
       "4619      Algoapark  Crime detected as a result of Police Action -33.903171   \n",
       "\n",
       "      Longitude  Year  \n",
       "4590  25.570496  2019  \n",
       "4591  25.570496  2019  \n",
       "4592  25.570496  2019  \n",
       "4593  25.570496  2019  \n",
       "4594  25.570496  2019  \n",
       "4595  25.570496  2019  \n",
       "4596  25.570496  2019  \n",
       "4597  25.570496  2019  \n",
       "4598  25.570496  2019  \n",
       "4599  25.570496  2019  \n",
       "4600  25.570496  2019  \n",
       "4601  25.570496  2019  \n",
       "4602  25.570496  2019  \n",
       "4603  25.570496  2019  \n",
       "4604  25.570496  2019  \n",
       "4605  25.570496  2019  \n",
       "4606  25.570496  2019  \n",
       "4607  25.570496  2019  \n",
       "4608  25.570496  2019  \n",
       "4609  25.570496  2019  \n",
       "4610  25.570496  2019  \n",
       "4611  25.570496  2019  \n",
       "4612  25.570496  2019  \n",
       "4613  25.570496  2019  \n",
       "4614  25.570496  2019  \n",
       "4615  25.570496  2019  \n",
       "4616  25.570496  2019  \n",
       "4617  25.570496  2019  \n",
       "4618  25.570496  2019  \n",
       "4619  25.570496  2019  "
      ]
     },
     "execution_count": 42,
     "metadata": {},
     "output_type": "execute_result"
    }
   ],
   "source": [
    "df[(df['Police Station'] == 'Algoapark') & (df['Year'] == 2019)]"
   ]
  },
  {
   "cell_type": "markdown",
   "metadata": {},
   "source": [
    "### Now, for the actual Machine Learning"
   ]
  },
  {
   "cell_type": "markdown",
   "metadata": {},
   "source": [
    "#### Import"
   ]
  },
  {
   "cell_type": "code",
   "execution_count": 102,
   "metadata": {},
   "outputs": [],
   "source": [
    "from sklearn.model_selection import train_test_split\n",
    "from sklearn.ensemble import AdaBoostClassifier, RandomForestClassifier\n",
    "from sklearn.preprocessing import OneHotEncoder\n",
    "from sklearn.compose import ColumnTransformer\n",
    "from sklearn.model_selection import cross_val_score, KFold\n",
    "from sklearn.metrics import accuracy_score"
   ]
  },
  {
   "attachments": {},
   "cell_type": "markdown",
   "metadata": {},
   "source": [
    "#### Data aquisition and categorical encoding"
   ]
  },
  {
   "cell_type": "code",
   "execution_count": 104,
   "metadata": {},
   "outputs": [],
   "source": [
    "X = df.drop(['Crime Category', 'Crime', 'Latitude', 'Longitude'], axis=1)\n",
    "y = df.iloc[:, 0]\n",
    "\n",
    "ct = ColumnTransformer(transformers=[('encoder', OneHotEncoder(), [1])], remainder='passthrough')\n",
    "X = ct.fit_transform(X)"
   ]
  },
  {
   "attachments": {},
   "cell_type": "markdown",
   "metadata": {},
   "source": [
    "#### Sampling/split"
   ]
  },
  {
   "cell_type": "code",
   "execution_count": 105,
   "metadata": {},
   "outputs": [],
   "source": [
    "X_train, X_test, y_train, y_test = train_test_split(X, y, train_size=0.7, random_state=42)"
   ]
  },
  {
   "cell_type": "markdown",
   "metadata": {},
   "source": [
    "#### Algorithm training"
   ]
  },
  {
   "cell_type": "code",
   "execution_count": 106,
   "metadata": {},
   "outputs": [
    {
     "data": {
      "text/html": [
       "<style>#sk-container-id-4 {color: black;background-color: white;}#sk-container-id-4 pre{padding: 0;}#sk-container-id-4 div.sk-toggleable {background-color: white;}#sk-container-id-4 label.sk-toggleable__label {cursor: pointer;display: block;width: 100%;margin-bottom: 0;padding: 0.3em;box-sizing: border-box;text-align: center;}#sk-container-id-4 label.sk-toggleable__label-arrow:before {content: \"▸\";float: left;margin-right: 0.25em;color: #696969;}#sk-container-id-4 label.sk-toggleable__label-arrow:hover:before {color: black;}#sk-container-id-4 div.sk-estimator:hover label.sk-toggleable__label-arrow:before {color: black;}#sk-container-id-4 div.sk-toggleable__content {max-height: 0;max-width: 0;overflow: hidden;text-align: left;background-color: #f0f8ff;}#sk-container-id-4 div.sk-toggleable__content pre {margin: 0.2em;color: black;border-radius: 0.25em;background-color: #f0f8ff;}#sk-container-id-4 input.sk-toggleable__control:checked~div.sk-toggleable__content {max-height: 200px;max-width: 100%;overflow: auto;}#sk-container-id-4 input.sk-toggleable__control:checked~label.sk-toggleable__label-arrow:before {content: \"▾\";}#sk-container-id-4 div.sk-estimator input.sk-toggleable__control:checked~label.sk-toggleable__label {background-color: #d4ebff;}#sk-container-id-4 div.sk-label input.sk-toggleable__control:checked~label.sk-toggleable__label {background-color: #d4ebff;}#sk-container-id-4 input.sk-hidden--visually {border: 0;clip: rect(1px 1px 1px 1px);clip: rect(1px, 1px, 1px, 1px);height: 1px;margin: -1px;overflow: hidden;padding: 0;position: absolute;width: 1px;}#sk-container-id-4 div.sk-estimator {font-family: monospace;background-color: #f0f8ff;border: 1px dotted black;border-radius: 0.25em;box-sizing: border-box;margin-bottom: 0.5em;}#sk-container-id-4 div.sk-estimator:hover {background-color: #d4ebff;}#sk-container-id-4 div.sk-parallel-item::after {content: \"\";width: 100%;border-bottom: 1px solid gray;flex-grow: 1;}#sk-container-id-4 div.sk-label:hover label.sk-toggleable__label {background-color: #d4ebff;}#sk-container-id-4 div.sk-serial::before {content: \"\";position: absolute;border-left: 1px solid gray;box-sizing: border-box;top: 0;bottom: 0;left: 50%;z-index: 0;}#sk-container-id-4 div.sk-serial {display: flex;flex-direction: column;align-items: center;background-color: white;padding-right: 0.2em;padding-left: 0.2em;position: relative;}#sk-container-id-4 div.sk-item {position: relative;z-index: 1;}#sk-container-id-4 div.sk-parallel {display: flex;align-items: stretch;justify-content: center;background-color: white;position: relative;}#sk-container-id-4 div.sk-item::before, #sk-container-id-4 div.sk-parallel-item::before {content: \"\";position: absolute;border-left: 1px solid gray;box-sizing: border-box;top: 0;bottom: 0;left: 50%;z-index: -1;}#sk-container-id-4 div.sk-parallel-item {display: flex;flex-direction: column;z-index: 1;position: relative;background-color: white;}#sk-container-id-4 div.sk-parallel-item:first-child::after {align-self: flex-end;width: 50%;}#sk-container-id-4 div.sk-parallel-item:last-child::after {align-self: flex-start;width: 50%;}#sk-container-id-4 div.sk-parallel-item:only-child::after {width: 0;}#sk-container-id-4 div.sk-dashed-wrapped {border: 1px dashed gray;margin: 0 0.4em 0.5em 0.4em;box-sizing: border-box;padding-bottom: 0.4em;background-color: white;}#sk-container-id-4 div.sk-label label {font-family: monospace;font-weight: bold;display: inline-block;line-height: 1.2em;}#sk-container-id-4 div.sk-label-container {text-align: center;}#sk-container-id-4 div.sk-container {/* jupyter's `normalize.less` sets `[hidden] { display: none; }` but bootstrap.min.css set `[hidden] { display: none !important; }` so we also need the `!important` here to be able to override the default hidden behavior on the sphinx rendered scikit-learn.org. See: https://github.com/scikit-learn/scikit-learn/issues/21755 */display: inline-block !important;position: relative;}#sk-container-id-4 div.sk-text-repr-fallback {display: none;}</style><div id=\"sk-container-id-4\" class=\"sk-top-container\"><div class=\"sk-text-repr-fallback\"><pre>AdaBoostClassifier()</pre><b>In a Jupyter environment, please rerun this cell to show the HTML representation or trust the notebook. <br />On GitHub, the HTML representation is unable to render, please try loading this page with nbviewer.org.</b></div><div class=\"sk-container\" hidden><div class=\"sk-item\"><div class=\"sk-estimator sk-toggleable\"><input class=\"sk-toggleable__control sk-hidden--visually\" id=\"sk-estimator-id-4\" type=\"checkbox\" checked><label for=\"sk-estimator-id-4\" class=\"sk-toggleable__label sk-toggleable__label-arrow\">AdaBoostClassifier</label><div class=\"sk-toggleable__content\"><pre>AdaBoostClassifier()</pre></div></div></div></div></div>"
      ],
      "text/plain": [
       "AdaBoostClassifier()"
      ]
     },
     "execution_count": 106,
     "metadata": {},
     "output_type": "execute_result"
    }
   ],
   "source": [
    "clfRandom = RandomForestClassifier()\n",
    "clfAda = AdaBoostClassifier()\n",
    "\n",
    "clfRandom.fit(X_train, y_train)\n",
    "clfAda.fit(X_train, y_train)"
   ]
  },
  {
   "cell_type": "markdown",
   "metadata": {},
   "source": [
    "#### Cross-validation"
   ]
  },
  {
   "cell_type": "code",
   "execution_count": 111,
   "metadata": {},
   "outputs": [
    {
     "name": "stdout",
     "output_type": "stream",
     "text": [
      "Random forests: 5.78 0.69 test: 6.8\n",
      "AdaBoost: 1.99 0.59 test: 9.48\n"
     ]
    }
   ],
   "source": [
    "cv = KFold(n_splits=5)\n",
    "\n",
    "cv_score_Random = cross_val_score(clfRandom, X_train, y_train, cv=cv, scoring='f1_weighted')\n",
    "cv_score_Ada = cross_val_score(clfAda, X_train, y_train, cv=cv, scoring='f1_weighted')\n",
    "print('Random forests: ' + str(round(cv_score_Random.mean()*100, 2)) + ' ' + str(round(cv_score_Random.std()*100,2)) + \" test:\", str(round(accuracy_score(y_test, clfRandom.predict(X_test))*100,2)))\n",
    "print('AdaBoost: ' + str(round(cv_score_Ada.mean()*100, 2)) + ' ' + str(round(cv_score_Ada.std()*100,2)) + \" test:\", str(round(accuracy_score(y_test, clfAda.predict(X_test))*100,2)))"
   ]
  },
  {
   "cell_type": "code",
   "execution_count": 118,
   "metadata": {},
   "outputs": [
    {
     "data": {
      "text/plain": [
       "array(['All theft not mentioned elsewhere',\n",
       "       'All theft not mentioned elsewhere', 'Truck hijacking ', ...,\n",
       "       'Robbery at non-residential premises',\n",
       "       'Robbery at non-residential premises',\n",
       "       'All theft not mentioned elsewhere'], dtype=object)"
      ]
     },
     "execution_count": 118,
     "metadata": {},
     "output_type": "execute_result"
    }
   ],
   "source": [
    "y_predAda"
   ]
  },
  {
   "cell_type": "code",
   "execution_count": 117,
   "metadata": {},
   "outputs": [
    {
     "data": {
      "text/plain": [
       "4039                     Burglary at residential premises\n",
       "3815               Robbery with aggravating circumstances\n",
       "848                             Attempted Sexual Offences\n",
       "4863                                       Common assault\n",
       "79                       Burglary at residential premises\n",
       "                              ...                        \n",
       "4049    Sexual Offences detected as a result of police...\n",
       "1932                  Robbery at non-residential premises\n",
       "4927                                       Sexual Assault\n",
       "817                                        Sexual Assault\n",
       "3423                                       Common assault\n",
       "Name: Crime, Length: 1530, dtype: object"
      ]
     },
     "execution_count": 117,
     "metadata": {},
     "output_type": "execute_result"
    }
   ],
   "source": [
    "y_test"
   ]
  },
  {
   "cell_type": "markdown",
   "metadata": {},
   "source": [
    "### Thanks for reading!"
   ]
  }
 ],
 "metadata": {
  "kernelspec": {
   "display_name": "Python 3",
   "language": "python",
   "name": "python3"
  },
  "language_info": {
   "codemirror_mode": {
    "name": "ipython",
    "version": 3
   },
   "file_extension": ".py",
   "mimetype": "text/x-python",
   "name": "python",
   "nbconvert_exporter": "python",
   "pygments_lexer": "ipython3",
   "version": "3.9.13"
  },
  "orig_nbformat": 4
 },
 "nbformat": 4,
 "nbformat_minor": 2
}
