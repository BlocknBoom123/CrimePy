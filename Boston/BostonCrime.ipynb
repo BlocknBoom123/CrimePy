{
 "cells": [
  {
   "attachments": {},
   "cell_type": "markdown",
   "metadata": {},
   "source": [
    "## <center>Boston Crime Forecasting (June 2015- September 2018)\n",
    "### <center>Anil Abraham 2023\n",
    "\n",
    "#### <center>The goal of this project is to use machine learning techniques to forecast crime in Boston. Particularly, forecasting type of crime, number of crimes committed in a year, and crime hotspots/locations."
   ]
  },
  {
   "cell_type": "markdown",
   "metadata": {},
   "source": [
    "### Brief explanation of each column:\n",
    "<ul>\n",
    "<li>INCIDENT_NUMBER - File number</li>\n",
    "<li>OFFENSE_CODE - Code of specific crime</li>\n",
    "<li>OFFENSE_CODE_GROUP - Name of crime</li>\n",
    "<li>OFFENSE_DESCRIPTION - Detailed information about crime</li>\n",
    "<li>DISTRICT - Boston neighbourhood</li>\n",
    "<li>REPORTING_AREA - Area defined by Boston PD</li>\n",
    "<li>SHOOTING - 'Y' represents a shooting occurence</li>\n",
    "<li>OCCURRED_ON_DATE/YEAR/MONTH/DAY_OF_WEEK/HOUR - Date of crime</li>\n",
    "<li>UCR_PART - Severity of the crime (highest is 1)</li>\n",
    "<li>STREET/Lat/Long/Location - Location</li>\n",
    "</ul>"
   ]
  },
  {
   "attachments": {},
   "cell_type": "markdown",
   "metadata": {},
   "source": [
    "### <u>Importing libraries</u>"
   ]
  },
  {
   "cell_type": "code",
   "execution_count": 34,
   "metadata": {},
   "outputs": [],
   "source": [
    "import pandas as pd #Pandas for data manipulation and analysis\n",
    "import numpy as np #Numpy for matrices\n",
    "import geopandas as gpd #Support for geospatial data\n",
    "from shapely.geometry import Point #Geographic information systems functions and analysis\n",
    "import matplotlib.pyplot as plt #Matplotlib for visualisations\n",
    "import seaborn as sns\n",
    "import plotly.express as px\n",
    "sns.set_style(\"darkgrid\")\n",
    "#pd.set_option('display.max_rows', None)"
   ]
  },
  {
   "cell_type": "markdown",
   "metadata": {},
   "source": [
    "### <u>Loading dataset</u>"
   ]
  },
  {
   "cell_type": "code",
   "execution_count": 35,
   "metadata": {},
   "outputs": [
    {
     "name": "stdout",
     "output_type": "stream",
     "text": [
      "INCIDENT_NUMBER\n",
      "OFFENSE_CODE\n",
      "OFFENSE_CODE_GROUP\n",
      "OFFENSE_DESCRIPTION\n",
      "DISTRICT\n",
      "REPORTING_AREA\n",
      "SHOOTING\n",
      "OCCURRED_ON_DATE\n",
      "YEAR\n",
      "MONTH\n",
      "DAY_OF_WEEK\n",
      "HOUR\n",
      "UCR_PART\n",
      "STREET\n",
      "Lat\n",
      "Long\n",
      "Location\n"
     ]
    },
    {
     "data": {
      "text/plain": [
       "(319073, 17)"
      ]
     },
     "execution_count": 35,
     "metadata": {},
     "output_type": "execute_result"
    }
   ],
   "source": [
    "df = pd.read_csv('crime.csv', encoding='latin') #Thousands are seperated by commas in the CSV.\n",
    "\n",
    "for col in df.columns.to_list(): #List all feature names\n",
    "    print(col)\n",
    "df.shape"
   ]
  },
  {
   "attachments": {},
   "cell_type": "markdown",
   "metadata": {},
   "source": [
    "### <u>Data preprocessing</u>"
   ]
  },
  {
   "cell_type": "markdown",
   "metadata": {},
   "source": [
    "#### Only certain columns are of interest to us, so let's drop the rest."
   ]
  },
  {
   "cell_type": "code",
   "execution_count": 36,
   "metadata": {},
   "outputs": [],
   "source": [
    "df.drop(['Location', 'OFFENSE_CODE'], inplace=True, axis=1)"
   ]
  },
  {
   "cell_type": "code",
   "execution_count": 37,
   "metadata": {},
   "outputs": [
    {
     "data": {
      "text/plain": [
       "12"
      ]
     },
     "execution_count": 37,
     "metadata": {},
     "output_type": "execute_result"
    }
   ],
   "source": [
    "df['DISTRICT'].nunique()"
   ]
  },
  {
   "cell_type": "markdown",
   "metadata": {},
   "source": [
    "#### Check for null values"
   ]
  },
  {
   "cell_type": "code",
   "execution_count": 38,
   "metadata": {},
   "outputs": [
    {
     "name": "stdout",
     "output_type": "stream",
     "text": [
      "Null values found\n",
      "INCIDENT_NUMBER             0\n",
      "OFFENSE_CODE_GROUP          0\n",
      "OFFENSE_DESCRIPTION         0\n",
      "DISTRICT                 1765\n",
      "REPORTING_AREA              0\n",
      "SHOOTING               318054\n",
      "OCCURRED_ON_DATE            0\n",
      "YEAR                        0\n",
      "MONTH                       0\n",
      "DAY_OF_WEEK                 0\n",
      "HOUR                        0\n",
      "UCR_PART                   90\n",
      "STREET                  10871\n",
      "Lat                     19999\n",
      "Long                    19999\n",
      "dtype: int64\n"
     ]
    }
   ],
   "source": [
    "print(f'Null values found\\n{df.isna().sum()}') #Check for null values"
   ]
  },
  {
   "cell_type": "markdown",
   "metadata": {},
   "source": [
    "#### Fill null values"
   ]
  },
  {
   "cell_type": "code",
   "execution_count": 39,
   "metadata": {},
   "outputs": [],
   "source": [
    "df['SHOOTING'].fillna('N', inplace=True) #Null shootings should be replaced with 'N'\n",
    "\n",
    "df.loc[df['STREET'].isna(), ('STREET')] = 'Unknown' #Null STREET should be replaced with unknown\n",
    "df.loc[df['Lat'].isna(), ('STREET')] = 'Unknown'\n",
    "df.loc[df['Lat'].isna(), ('Lat')] = 42.31 #All null locations are replaced with a unique location\n",
    "df.loc[df['Long'].isna(), ('Long')] = -71.17\n",
    "\n",
    "df.loc[df['Lat'] == -1, ('STREET')] = 'Unknown'\n",
    "df.loc[df['Lat'] == -1, ('Lat')] = 42.31 #All null locations are replaced with a unique location\n",
    "df.loc[df['Long'] == -1, ('Long')] = -71.17\n",
    "\n",
    "df.loc[df['UCR_PART'].isna(), ('UCR_PART')] = 'Other' #Replace all null UCR_PART with Other\n",
    "df.loc[df['DISTRICT'].isna(), ('DISTRICT')] = 'Unknown' #Replace all null DISTRICT with Unknown"
   ]
  },
  {
   "attachments": {},
   "cell_type": "markdown",
   "metadata": {},
   "source": [
    "#### Check for duplicates"
   ]
  },
  {
   "cell_type": "code",
   "execution_count": 40,
   "metadata": {},
   "outputs": [
    {
     "name": "stdout",
     "output_type": "stream",
     "text": [
      "Before checking for duplicates\n",
      "24\n",
      "\n",
      "After checking for duplicates\n",
      "0\n"
     ]
    }
   ],
   "source": [
    "print(f'Before checking for duplicates\\n{df.duplicated().sum()}')\n",
    "df.drop_duplicates(inplace=True) #Drop all duplicates\n",
    "print(f'\\nAfter checking for duplicates\\n{df.duplicated().sum()}')"
   ]
  },
  {
   "cell_type": "markdown",
   "metadata": {},
   "source": [
    "#### Check for duplicate INCIDENT_NUMBER"
   ]
  },
  {
   "cell_type": "code",
   "execution_count": 41,
   "metadata": {},
   "outputs": [
    {
     "data": {
      "text/html": [
       "<div>\n",
       "<style scoped>\n",
       "    .dataframe tbody tr th:only-of-type {\n",
       "        vertical-align: middle;\n",
       "    }\n",
       "\n",
       "    .dataframe tbody tr th {\n",
       "        vertical-align: top;\n",
       "    }\n",
       "\n",
       "    .dataframe thead th {\n",
       "        text-align: right;\n",
       "    }\n",
       "</style>\n",
       "<table border=\"1\" class=\"dataframe\">\n",
       "  <thead>\n",
       "    <tr style=\"text-align: right;\">\n",
       "      <th></th>\n",
       "      <th>INCIDENT_NUMBER</th>\n",
       "      <th>OFFENSE_CODE_GROUP</th>\n",
       "      <th>OFFENSE_DESCRIPTION</th>\n",
       "      <th>DISTRICT</th>\n",
       "      <th>REPORTING_AREA</th>\n",
       "      <th>SHOOTING</th>\n",
       "      <th>OCCURRED_ON_DATE</th>\n",
       "      <th>YEAR</th>\n",
       "      <th>MONTH</th>\n",
       "      <th>DAY_OF_WEEK</th>\n",
       "      <th>HOUR</th>\n",
       "      <th>UCR_PART</th>\n",
       "      <th>STREET</th>\n",
       "      <th>Lat</th>\n",
       "      <th>Long</th>\n",
       "    </tr>\n",
       "  </thead>\n",
       "  <tbody>\n",
       "    <tr>\n",
       "      <th>318742</th>\n",
       "      <td>I152030570-00</td>\n",
       "      <td>Warrant Arrests</td>\n",
       "      <td>WARRANT ARREST</td>\n",
       "      <td>E13</td>\n",
       "      <td>303</td>\n",
       "      <td>N</td>\n",
       "      <td>2016-10-29 08:25:00</td>\n",
       "      <td>2016</td>\n",
       "      <td>10</td>\n",
       "      <td>Saturday</td>\n",
       "      <td>8</td>\n",
       "      <td>Part Three</td>\n",
       "      <td>W WALNUT PARK</td>\n",
       "      <td>42.317207</td>\n",
       "      <td>-71.098799</td>\n",
       "    </tr>\n",
       "    <tr>\n",
       "      <th>318743</th>\n",
       "      <td>I152030570-00</td>\n",
       "      <td>Aggravated Assault</td>\n",
       "      <td>ASSAULT &amp; BATTERY D/W - OTHER</td>\n",
       "      <td>E13</td>\n",
       "      <td>303</td>\n",
       "      <td>N</td>\n",
       "      <td>2016-10-29 08:25:00</td>\n",
       "      <td>2016</td>\n",
       "      <td>10</td>\n",
       "      <td>Saturday</td>\n",
       "      <td>8</td>\n",
       "      <td>Part One</td>\n",
       "      <td>W WALNUT PARK</td>\n",
       "      <td>42.317207</td>\n",
       "      <td>-71.098799</td>\n",
       "    </tr>\n",
       "    <tr>\n",
       "      <th>318744</th>\n",
       "      <td>I152030570-00</td>\n",
       "      <td>Aggravated Assault</td>\n",
       "      <td>A&amp;B HANDS, FEET, ETC.  - MED. ATTENTION REQ.</td>\n",
       "      <td>E13</td>\n",
       "      <td>303</td>\n",
       "      <td>N</td>\n",
       "      <td>2016-10-29 08:25:00</td>\n",
       "      <td>2016</td>\n",
       "      <td>10</td>\n",
       "      <td>Saturday</td>\n",
       "      <td>8</td>\n",
       "      <td>Part One</td>\n",
       "      <td>W WALNUT PARK</td>\n",
       "      <td>42.317207</td>\n",
       "      <td>-71.098799</td>\n",
       "    </tr>\n",
       "  </tbody>\n",
       "</table>\n",
       "</div>"
      ],
      "text/plain": [
       "       INCIDENT_NUMBER  OFFENSE_CODE_GROUP  \\\n",
       "318742   I152030570-00     Warrant Arrests   \n",
       "318743   I152030570-00  Aggravated Assault   \n",
       "318744   I152030570-00  Aggravated Assault   \n",
       "\n",
       "                                 OFFENSE_DESCRIPTION DISTRICT REPORTING_AREA  \\\n",
       "318742                                WARRANT ARREST      E13            303   \n",
       "318743                 ASSAULT & BATTERY D/W - OTHER      E13            303   \n",
       "318744  A&B HANDS, FEET, ETC.  - MED. ATTENTION REQ.      E13            303   \n",
       "\n",
       "       SHOOTING     OCCURRED_ON_DATE  YEAR  MONTH DAY_OF_WEEK  HOUR  \\\n",
       "318742        N  2016-10-29 08:25:00  2016     10    Saturday     8   \n",
       "318743        N  2016-10-29 08:25:00  2016     10    Saturday     8   \n",
       "318744        N  2016-10-29 08:25:00  2016     10    Saturday     8   \n",
       "\n",
       "          UCR_PART         STREET        Lat       Long  \n",
       "318742  Part Three  W WALNUT PARK  42.317207 -71.098799  \n",
       "318743    Part One  W WALNUT PARK  42.317207 -71.098799  \n",
       "318744    Part One  W WALNUT PARK  42.317207 -71.098799  "
      ]
     },
     "execution_count": 41,
     "metadata": {},
     "output_type": "execute_result"
    }
   ],
   "source": [
    "df[df['INCIDENT_NUMBER'] == 'I152030570-00'] #One such example of an INCIDENT_NUMBER being repeated"
   ]
  },
  {
   "attachments": {},
   "cell_type": "markdown",
   "metadata": {},
   "source": [
    "##### Cases can have multiple crimes committed per incident, such as the one above. All the crimes belong to the same case, therefore it isn't a duplicate"
   ]
  },
  {
   "cell_type": "markdown",
   "metadata": {},
   "source": [
    "#### Convert categories"
   ]
  },
  {
   "cell_type": "code",
   "execution_count": 42,
   "metadata": {},
   "outputs": [],
   "source": [
    "df['DAY_OF_WEEK'] = pd.Categorical(df['DAY_OF_WEEK'],  #Convert to category to save memory\n",
    "              categories=['Monday','Tuesday','Wednesday','Thursday','Friday','Saturday','Sunday'],\n",
    "              ordered=True)"
   ]
  },
  {
   "attachments": {},
   "cell_type": "markdown",
   "metadata": {},
   "source": [
    "#### Convert OCCURED_ON_DATE to pandas datetime object, and convert index to DatetimeIndex"
   ]
  },
  {
   "cell_type": "code",
   "execution_count": 43,
   "metadata": {},
   "outputs": [],
   "source": [
    "df['OCCURRED_ON_DATE'] = pd.to_datetime(df['OCCURRED_ON_DATE']) #Convert this column to pandas datatype 'datetime'\n",
    "df.index = pd.DatetimeIndex(df['OCCURRED_ON_DATE']) #Converting index to a DatetimeIndex instead\n",
    "df.drop(['OCCURRED_ON_DATE'], axis=1, inplace=True) #Drop the OCCURED_ON_DATE column"
   ]
  },
  {
   "cell_type": "markdown",
   "metadata": {},
   "source": [
    "#### What are the datatypes used?"
   ]
  },
  {
   "cell_type": "code",
   "execution_count": 44,
   "metadata": {},
   "outputs": [
    {
     "data": {
      "text/plain": [
       "INCIDENT_NUMBER          object\n",
       "OFFENSE_CODE_GROUP       object\n",
       "OFFENSE_DESCRIPTION      object\n",
       "DISTRICT                 object\n",
       "REPORTING_AREA           object\n",
       "SHOOTING                 object\n",
       "YEAR                      int64\n",
       "MONTH                     int64\n",
       "DAY_OF_WEEK            category\n",
       "HOUR                      int64\n",
       "UCR_PART                 object\n",
       "STREET                   object\n",
       "Lat                     float64\n",
       "Long                    float64\n",
       "dtype: object"
      ]
     },
     "execution_count": 44,
     "metadata": {},
     "output_type": "execute_result"
    }
   ],
   "source": [
    "df.dtypes"
   ]
  },
  {
   "cell_type": "markdown",
   "metadata": {},
   "source": [
    "#### High-level stats of the Boston dataframe"
   ]
  },
  {
   "cell_type": "code",
   "execution_count": 45,
   "metadata": {},
   "outputs": [
    {
     "data": {
      "text/html": [
       "<div>\n",
       "<style scoped>\n",
       "    .dataframe tbody tr th:only-of-type {\n",
       "        vertical-align: middle;\n",
       "    }\n",
       "\n",
       "    .dataframe tbody tr th {\n",
       "        vertical-align: top;\n",
       "    }\n",
       "\n",
       "    .dataframe thead th {\n",
       "        text-align: right;\n",
       "    }\n",
       "</style>\n",
       "<table border=\"1\" class=\"dataframe\">\n",
       "  <thead>\n",
       "    <tr style=\"text-align: right;\">\n",
       "      <th></th>\n",
       "      <th>YEAR</th>\n",
       "      <th>MONTH</th>\n",
       "      <th>HOUR</th>\n",
       "      <th>Lat</th>\n",
       "      <th>Long</th>\n",
       "    </tr>\n",
       "  </thead>\n",
       "  <tbody>\n",
       "    <tr>\n",
       "      <th>count</th>\n",
       "      <td>319049.000000</td>\n",
       "      <td>319049.000000</td>\n",
       "      <td>319049.000000</td>\n",
       "      <td>319049.000000</td>\n",
       "      <td>319049.000000</td>\n",
       "    </tr>\n",
       "    <tr>\n",
       "      <th>mean</th>\n",
       "      <td>2016.560676</td>\n",
       "      <td>6.609621</td>\n",
       "      <td>13.118161</td>\n",
       "      <td>42.321498</td>\n",
       "      <td>-71.088516</td>\n",
       "    </tr>\n",
       "    <tr>\n",
       "      <th>std</th>\n",
       "      <td>0.996313</td>\n",
       "      <td>3.273682</td>\n",
       "      <td>6.294262</td>\n",
       "      <td>0.030977</td>\n",
       "      <td>0.035922</td>\n",
       "    </tr>\n",
       "    <tr>\n",
       "      <th>min</th>\n",
       "      <td>2015.000000</td>\n",
       "      <td>1.000000</td>\n",
       "      <td>0.000000</td>\n",
       "      <td>42.232413</td>\n",
       "      <td>-71.178674</td>\n",
       "    </tr>\n",
       "    <tr>\n",
       "      <th>25%</th>\n",
       "      <td>2016.000000</td>\n",
       "      <td>4.000000</td>\n",
       "      <td>9.000000</td>\n",
       "      <td>42.299442</td>\n",
       "      <td>-71.104292</td>\n",
       "    </tr>\n",
       "    <tr>\n",
       "      <th>50%</th>\n",
       "      <td>2017.000000</td>\n",
       "      <td>7.000000</td>\n",
       "      <td>14.000000</td>\n",
       "      <td>42.321060</td>\n",
       "      <td>-71.079725</td>\n",
       "    </tr>\n",
       "    <tr>\n",
       "      <th>75%</th>\n",
       "      <td>2017.000000</td>\n",
       "      <td>9.000000</td>\n",
       "      <td>18.000000</td>\n",
       "      <td>42.347174</td>\n",
       "      <td>-71.063289</td>\n",
       "    </tr>\n",
       "    <tr>\n",
       "      <th>max</th>\n",
       "      <td>2018.000000</td>\n",
       "      <td>12.000000</td>\n",
       "      <td>23.000000</td>\n",
       "      <td>42.395042</td>\n",
       "      <td>-70.963676</td>\n",
       "    </tr>\n",
       "  </tbody>\n",
       "</table>\n",
       "</div>"
      ],
      "text/plain": [
       "                YEAR          MONTH           HOUR            Lat  \\\n",
       "count  319049.000000  319049.000000  319049.000000  319049.000000   \n",
       "mean     2016.560676       6.609621      13.118161      42.321498   \n",
       "std         0.996313       3.273682       6.294262       0.030977   \n",
       "min      2015.000000       1.000000       0.000000      42.232413   \n",
       "25%      2016.000000       4.000000       9.000000      42.299442   \n",
       "50%      2017.000000       7.000000      14.000000      42.321060   \n",
       "75%      2017.000000       9.000000      18.000000      42.347174   \n",
       "max      2018.000000      12.000000      23.000000      42.395042   \n",
       "\n",
       "                Long  \n",
       "count  319049.000000  \n",
       "mean      -71.088516  \n",
       "std         0.035922  \n",
       "min       -71.178674  \n",
       "25%       -71.104292  \n",
       "50%       -71.079725  \n",
       "75%       -71.063289  \n",
       "max       -70.963676  "
      ]
     },
     "execution_count": 45,
     "metadata": {},
     "output_type": "execute_result"
    }
   ],
   "source": [
    "df.describe()"
   ]
  },
  {
   "attachments": {},
   "cell_type": "markdown",
   "metadata": {},
   "source": [
    "#### Let's look at the first and last 3 records of the dataset"
   ]
  },
  {
   "cell_type": "code",
   "execution_count": 46,
   "metadata": {},
   "outputs": [
    {
     "data": {
      "text/html": [
       "<div>\n",
       "<style scoped>\n",
       "    .dataframe tbody tr th:only-of-type {\n",
       "        vertical-align: middle;\n",
       "    }\n",
       "\n",
       "    .dataframe tbody tr th {\n",
       "        vertical-align: top;\n",
       "    }\n",
       "\n",
       "    .dataframe thead th {\n",
       "        text-align: right;\n",
       "    }\n",
       "</style>\n",
       "<table border=\"1\" class=\"dataframe\">\n",
       "  <thead>\n",
       "    <tr style=\"text-align: right;\">\n",
       "      <th></th>\n",
       "      <th>INCIDENT_NUMBER</th>\n",
       "      <th>OFFENSE_CODE_GROUP</th>\n",
       "      <th>OFFENSE_DESCRIPTION</th>\n",
       "      <th>DISTRICT</th>\n",
       "      <th>REPORTING_AREA</th>\n",
       "      <th>SHOOTING</th>\n",
       "      <th>YEAR</th>\n",
       "      <th>MONTH</th>\n",
       "      <th>DAY_OF_WEEK</th>\n",
       "      <th>HOUR</th>\n",
       "      <th>UCR_PART</th>\n",
       "      <th>STREET</th>\n",
       "      <th>Lat</th>\n",
       "      <th>Long</th>\n",
       "    </tr>\n",
       "    <tr>\n",
       "      <th>OCCURRED_ON_DATE</th>\n",
       "      <th></th>\n",
       "      <th></th>\n",
       "      <th></th>\n",
       "      <th></th>\n",
       "      <th></th>\n",
       "      <th></th>\n",
       "      <th></th>\n",
       "      <th></th>\n",
       "      <th></th>\n",
       "      <th></th>\n",
       "      <th></th>\n",
       "      <th></th>\n",
       "      <th></th>\n",
       "      <th></th>\n",
       "    </tr>\n",
       "  </thead>\n",
       "  <tbody>\n",
       "    <tr>\n",
       "      <th>2015-06-15 00:00:00</th>\n",
       "      <td>I162013546</td>\n",
       "      <td>Property Lost</td>\n",
       "      <td>PROPERTY - LOST</td>\n",
       "      <td>B3</td>\n",
       "      <td>433</td>\n",
       "      <td>N</td>\n",
       "      <td>2015</td>\n",
       "      <td>6</td>\n",
       "      <td>Monday</td>\n",
       "      <td>0</td>\n",
       "      <td>Part Three</td>\n",
       "      <td>NORFOLK ST</td>\n",
       "      <td>42.283634</td>\n",
       "      <td>-71.082813</td>\n",
       "    </tr>\n",
       "    <tr>\n",
       "      <th>2015-06-15 00:00:00</th>\n",
       "      <td>I152051083</td>\n",
       "      <td>Search Warrants</td>\n",
       "      <td>SEARCH WARRANT</td>\n",
       "      <td>A7</td>\n",
       "      <td>20</td>\n",
       "      <td>N</td>\n",
       "      <td>2015</td>\n",
       "      <td>6</td>\n",
       "      <td>Monday</td>\n",
       "      <td>0</td>\n",
       "      <td>Part Three</td>\n",
       "      <td>PARIS ST</td>\n",
       "      <td>42.377023</td>\n",
       "      <td>-71.032247</td>\n",
       "    </tr>\n",
       "    <tr>\n",
       "      <th>2015-06-15 00:00:00</th>\n",
       "      <td>I152049897</td>\n",
       "      <td>Property Lost</td>\n",
       "      <td>PROPERTY - LOST</td>\n",
       "      <td>B2</td>\n",
       "      <td>282</td>\n",
       "      <td>N</td>\n",
       "      <td>2015</td>\n",
       "      <td>6</td>\n",
       "      <td>Monday</td>\n",
       "      <td>0</td>\n",
       "      <td>Part Three</td>\n",
       "      <td>WASHINGTON ST</td>\n",
       "      <td>42.328663</td>\n",
       "      <td>-71.085634</td>\n",
       "    </tr>\n",
       "    <tr>\n",
       "      <th>2018-09-03 21:25:00</th>\n",
       "      <td>I182070933</td>\n",
       "      <td>Auto Theft</td>\n",
       "      <td>AUTO THEFT</td>\n",
       "      <td>B2</td>\n",
       "      <td>330</td>\n",
       "      <td>N</td>\n",
       "      <td>2018</td>\n",
       "      <td>9</td>\n",
       "      <td>Monday</td>\n",
       "      <td>21</td>\n",
       "      <td>Part One</td>\n",
       "      <td>NORMANDY ST</td>\n",
       "      <td>42.306072</td>\n",
       "      <td>-71.082733</td>\n",
       "    </tr>\n",
       "    <tr>\n",
       "      <th>2018-09-03 21:16:00</th>\n",
       "      <td>I182070940</td>\n",
       "      <td>Investigate Property</td>\n",
       "      <td>INVESTIGATE PROPERTY</td>\n",
       "      <td>D4</td>\n",
       "      <td>272</td>\n",
       "      <td>N</td>\n",
       "      <td>2018</td>\n",
       "      <td>9</td>\n",
       "      <td>Monday</td>\n",
       "      <td>21</td>\n",
       "      <td>Part Three</td>\n",
       "      <td>NEWCOMB ST</td>\n",
       "      <td>42.334182</td>\n",
       "      <td>-71.078664</td>\n",
       "    </tr>\n",
       "    <tr>\n",
       "      <th>2018-09-03 21:09:00</th>\n",
       "      <td>I182070936</td>\n",
       "      <td>Motor Vehicle Accident Response</td>\n",
       "      <td>M/V ACCIDENT INVOLVING PEDESTRIAN - INJURY</td>\n",
       "      <td>C11</td>\n",
       "      <td>398</td>\n",
       "      <td>N</td>\n",
       "      <td>2018</td>\n",
       "      <td>9</td>\n",
       "      <td>Monday</td>\n",
       "      <td>21</td>\n",
       "      <td>Part Three</td>\n",
       "      <td>TALBOT AVE</td>\n",
       "      <td>42.290196</td>\n",
       "      <td>-71.071590</td>\n",
       "    </tr>\n",
       "  </tbody>\n",
       "</table>\n",
       "</div>"
      ],
      "text/plain": [
       "                    INCIDENT_NUMBER               OFFENSE_CODE_GROUP  \\\n",
       "OCCURRED_ON_DATE                                                       \n",
       "2015-06-15 00:00:00      I162013546                    Property Lost   \n",
       "2015-06-15 00:00:00      I152051083                  Search Warrants   \n",
       "2015-06-15 00:00:00      I152049897                    Property Lost   \n",
       "2018-09-03 21:25:00      I182070933                       Auto Theft   \n",
       "2018-09-03 21:16:00      I182070940             Investigate Property   \n",
       "2018-09-03 21:09:00      I182070936  Motor Vehicle Accident Response   \n",
       "\n",
       "                                            OFFENSE_DESCRIPTION DISTRICT  \\\n",
       "OCCURRED_ON_DATE                                                           \n",
       "2015-06-15 00:00:00                             PROPERTY - LOST       B3   \n",
       "2015-06-15 00:00:00                              SEARCH WARRANT       A7   \n",
       "2015-06-15 00:00:00                             PROPERTY - LOST       B2   \n",
       "2018-09-03 21:25:00                                  AUTO THEFT       B2   \n",
       "2018-09-03 21:16:00                        INVESTIGATE PROPERTY       D4   \n",
       "2018-09-03 21:09:00  M/V ACCIDENT INVOLVING PEDESTRIAN - INJURY      C11   \n",
       "\n",
       "                    REPORTING_AREA SHOOTING  YEAR  MONTH DAY_OF_WEEK  HOUR  \\\n",
       "OCCURRED_ON_DATE                                                             \n",
       "2015-06-15 00:00:00            433        N  2015      6      Monday     0   \n",
       "2015-06-15 00:00:00             20        N  2015      6      Monday     0   \n",
       "2015-06-15 00:00:00            282        N  2015      6      Monday     0   \n",
       "2018-09-03 21:25:00            330        N  2018      9      Monday    21   \n",
       "2018-09-03 21:16:00            272        N  2018      9      Monday    21   \n",
       "2018-09-03 21:09:00            398        N  2018      9      Monday    21   \n",
       "\n",
       "                       UCR_PART         STREET        Lat       Long  \n",
       "OCCURRED_ON_DATE                                                      \n",
       "2015-06-15 00:00:00  Part Three     NORFOLK ST  42.283634 -71.082813  \n",
       "2015-06-15 00:00:00  Part Three       PARIS ST  42.377023 -71.032247  \n",
       "2015-06-15 00:00:00  Part Three  WASHINGTON ST  42.328663 -71.085634  \n",
       "2018-09-03 21:25:00    Part One    NORMANDY ST  42.306072 -71.082733  \n",
       "2018-09-03 21:16:00  Part Three     NEWCOMB ST  42.334182 -71.078664  \n",
       "2018-09-03 21:09:00  Part Three     TALBOT AVE  42.290196 -71.071590  "
      ]
     },
     "execution_count": 46,
     "metadata": {},
     "output_type": "execute_result"
    }
   ],
   "source": [
    "pd.concat([df.sort_index().head(3), df.sort_index(ascending=False).head(3)])"
   ]
  },
  {
   "attachments": {},
   "cell_type": "markdown",
   "metadata": {},
   "source": [
    "#### Crimes types grouped by UCR_PART"
   ]
  },
  {
   "cell_type": "code",
   "execution_count": 47,
   "metadata": {},
   "outputs": [
    {
     "name": "stdout",
     "output_type": "stream",
     "text": [
      "Other \n",
      " ['Arson' 'License Plate Related Incidents' 'Auto Theft Recovery'\n",
      " 'HOME INVASION' 'Other' 'Manslaughter' 'INVESTIGATE PERSON'\n",
      " 'HUMAN TRAFFICKING' 'HUMAN TRAFFICKING - INVOLUNTARY SERVITUDE'\n",
      " 'Burglary - No Property Taken'] \n",
      "\n",
      "Part One \n",
      " ['Larceny' 'Auto Theft' 'Robbery' 'Larceny From Motor Vehicle'\n",
      " 'Residential Burglary' 'Aggravated Assault' 'Other Burglary'\n",
      " 'Commercial Burglary' 'Homicide'] \n",
      "\n",
      "Part Three \n",
      " ['Towed' 'Investigate Property' 'Motor Vehicle Accident Response'\n",
      " 'Verbal Disputes' 'Fire Related Reports' 'Property Lost'\n",
      " 'Medical Assistance' 'Assembly or Gathering Violations' 'Property Found'\n",
      " 'Police Service Incidents' 'Warrant Arrests' 'Other'\n",
      " 'Property Related Damage' 'Missing Person Reported' 'Investigate Person'\n",
      " 'License Plate Related Incidents' 'Harbor Related Incidents'\n",
      " 'Firearm Discovery' 'Landlord/Tenant Disputes' 'Missing Person Located'\n",
      " 'Service' 'Search Warrants' 'License Violation' 'Explosives' 'Aircraft'\n",
      " 'Prisoner Related Incidents'] \n",
      "\n",
      "Part Two \n",
      " ['Vandalism' 'Other' 'Simple Assault' 'Restraining Order Violations'\n",
      " 'Violations' 'Harassment' 'Ballistics' 'Fire Related Reports'\n",
      " 'Drug Violation' 'Disorderly Conduct' 'Fraud' 'Firearm Violations'\n",
      " 'Bomb Hoax' 'Counterfeiting' 'Liquor Violation'\n",
      " 'Operating Under the Influence' 'Confidence Games'\n",
      " 'Recovered Stolen Property' 'Offenses Against Child / Family'\n",
      " 'Prostitution' 'Evading Fare' 'Prisoner Related Incidents' 'Embezzlement'\n",
      " 'Criminal Harassment' 'Explosives' 'Phone Call Complaints'\n",
      " 'Missing Person Reported' 'Biological Threat' 'Gambling'] \n",
      "\n"
     ]
    }
   ],
   "source": [
    "for i, g in df.groupby(['UCR_PART'], observed=True)['OFFENSE_CODE_GROUP'].unique().items():\n",
    "    print(i, \"\\n\", g, '\\n') #List all crimes grouped by their UCR_PART"
   ]
  },
  {
   "cell_type": "markdown",
   "metadata": {},
   "source": [
    "##### Part One crimes are the most severe, including crimes such as homicide, aggravated assault, and auto theft. Part three crimes are the least severe, including crimes such as person investigation and license violations."
   ]
  },
  {
   "attachments": {},
   "cell_type": "markdown",
   "metadata": {},
   "source": [
    "### <u>Exploratory Data Analysis</u>"
   ]
  },
  {
   "cell_type": "markdown",
   "metadata": {},
   "source": [
    "#### Seasonality analysis"
   ]
  },
  {
   "cell_type": "code",
   "execution_count": 48,
   "metadata": {},
   "outputs": [
    {
     "data": {
      "image/png": "[encoded data removed]",
      "text/plain": [
       "<Figure size 1500x1200 with 4 Axes>"
      ]
     },
     "metadata": {},
     "output_type": "display_data"
    }
   ],
   "source": [
    "import calendar\n",
    "\n",
    "df_hours = df.groupby(['HOUR'], observed=True).count()['INCIDENT_NUMBER'].sort_values(ascending=False) #Group number of crimes committed per HOUR in descending order\n",
    "df_week = df.groupby(['DAY_OF_WEEK'], observed=True).count()['INCIDENT_NUMBER'].sort_values(ascending=False) #Group number of crimes committed per WEEK in descending order\n",
    "df_month = df.groupby(['MONTH'], observed=True).count()['INCIDENT_NUMBER'].sort_values(ascending=False) #Group number of crimes committed per MONTH in descending order\n",
    "df_year = df.groupby(['YEAR'], observed=True).count()['INCIDENT_NUMBER'].sort_values(ascending=False) #Group number of crimes committed per YEAR in descending order\n",
    "\n",
    "df_month = df_month.reset_index()\n",
    "df_month['MONTH'] = df_month['MONTH'].apply(lambda x: calendar.month_abbr[x]) #Convert number representation of month (8) to string (August)\n",
    "\n",
    "fig, axs = plt.subplots(2, 2, figsize=(15, 12))\n",
    "\n",
    "sns.barplot(x=df_hours.index, y=df_hours.values, order=df_hours.index, palette=\"OrRd_r\", ax = axs[0,0]) #Using barplots to visualise the grouped data\n",
    "sns.barplot(x=df_week.index, y=df_week.values, order=df_week.index, palette=\"OrRd_r\", ax = axs[0,1])\n",
    "sns.barplot(data=df_month, x='MONTH', y='INCIDENT_NUMBER', palette=\"OrRd_r\", ax = axs[1,0])\n",
    "sns.barplot(x=df_year.index, y=df_year.values, order=df_year.index, palette=\"OrRd_r\", ax = axs[1,1])\n",
    "\n",
    "axs[0,0].set_title('Hours of crime')\n",
    "axs[0,0].set_xlabel('Hour')\n",
    "axs[0,0].set_ylabel('Number of crimes')\n",
    "\n",
    "axs[0,1].set_title('Day of week')\n",
    "axs[0,1].set_xlabel('Day')\n",
    "axs[0,1].set_ylabel('Number of crimes')\n",
    "\n",
    "axs[1,0].set_title('Months of crime')\n",
    "axs[1,0].set_xlabel('Month')\n",
    "axs[1,0].set_ylabel('Number of crimes')\n",
    "\n",
    "axs[1,1].set_title('Year of crime')\n",
    "axs[1,1].set_xlabel('Year')\n",
    "axs[1,1].set_ylabel('Number of crimes')\n",
    "\n",
    "fig.suptitle('Boston Crime Analysis') #Main title\n",
    "plt.show()"
   ]
  },
  {
   "attachments": {},
   "cell_type": "markdown",
   "metadata": {},
   "source": [
    "##### The above EDA suggests that most crimes in Boston from 2015-2018 took place between 4pm-6pm, with most crimes occurring on Fridays. The data suggests that most crimes in Boston took place in August and July, and that the years 2018 and 2015 saw a reduction in crime. This cannot be assumed to be true, as this crime dataset recorded data from June 2015 to September 2018, meaning we have a full years worth of data for 2017 and 2016 and half a years worth of data for 2018 and 2015. Hence, we are missing data from Jan 2015 - May 2015 and October 2018 - Dec 2018."
   ]
  },
  {
   "cell_type": "markdown",
   "metadata": {},
   "source": [
    "#### Analysis of crimes"
   ]
  },
  {
   "cell_type": "code",
   "execution_count": 49,
   "metadata": {},
   "outputs": [
    {
     "data": {
      "image/png": "[encoded data removed]",
      "text/plain": [
       "<Figure size 1700x500 with 2 Axes>"
      ]
     },
     "metadata": {},
     "output_type": "display_data"
    }
   ],
   "source": [
    "fig, axs = plt.subplots(1, 2, figsize=(17, 5))\n",
    "\n",
    "df_time = df.groupby(['UCR_PART', df.index.month], observed=True)['INCIDENT_NUMBER'].count().reset_index(name=\"Count\") #Number of crimes committed over the years, according to their UCR_PART category\n",
    "df_top5 = df.groupby(['OFFENSE_CODE_GROUP'], observed=True).count()['INCIDENT_NUMBER'].sort_values(ascending=False)[:5] #The top 5 crimes committed\n",
    "\n",
    "ax = sns.lineplot(df_time, x='OCCURRED_ON_DATE', y='Count', hue='UCR_PART', ax=axs[0]) #Line plot of grouped data\n",
    "ax1 = sns.barplot(x=df_top5.index, y=df_top5.values, order=df_top5.index, ax=axs[1], palette=\"BuPu_r\") #Bar plot of grouped data\n",
    "\n",
    "for i in ax1.containers:\n",
    "    ax1.bar_label(i,) #Display the value above the barplot\n",
    "    \n",
    "ax.set_title('UCR_PART counts')\n",
    "ax1.set_title('Top 5 crimes in Boston')\n",
    "\n",
    "ax.set_xlabel('Month')\n",
    "ax.set_ylabel('Count')\n",
    "\n",
    "ax1.set_xlabel('Crime')\n",
    "ax1.set_ylabel('Count')\n",
    "\n",
    "plt.tight_layout()\n",
    "plt.suptitle(\"Crimes in Boston\", y=1.05) #Add a small margin between the main title and the graphs\n",
    "plt.show()"
   ]
  },
  {
   "attachments": {},
   "cell_type": "markdown",
   "metadata": {},
   "source": [
    "##### Most crimes taking place in Boston between 2015 and 2018 were classified as Part 3 crimes, which include less severe crimes such as towing and license violations. Crimes are peaking in June, July, and August. The top 5 crimes in Boston for these years were: Motor vehicle accident responses, larceny, medical assistance crimes, investigate person, and other."
   ]
  },
  {
   "attachments": {},
   "cell_type": "markdown",
   "metadata": {},
   "source": [
    "#### <mark>Crime trends in Boston (2015-2018)"
   ]
  },
  {
   "cell_type": "code",
   "execution_count": 50,
   "metadata": {},
   "outputs": [
    {
     "data": {
      "image/png": "[encoded data removed]",
      "text/plain": [
       "<Figure size 1200x600 with 1 Axes>"
      ]
     },
     "metadata": {},
     "output_type": "display_data"
    }
   ],
   "source": [
    "plt.figure(figsize=(12,6))\n",
    "df.resample('D').size().rolling(365).sum().plot()\n",
    "plt.title('Rolling sum of Boston crimes from June 2015 - September 2018')\n",
    "plt.ylabel('Number of crimes')\n",
    "plt.xlabel('Time')\n",
    "plt.show()"
   ]
  },
  {
   "cell_type": "markdown",
   "metadata": {},
   "source": [
    "##### Work in progress..."
   ]
  },
  {
   "attachments": {},
   "cell_type": "markdown",
   "metadata": {},
   "source": [
    "#### Interactive heatmap of crimes in Boston"
   ]
  },
  {
   "cell_type": "code",
   "execution_count": 51,
   "metadata": {},
   "outputs": [],
   "source": [
    "#Create heatmap dataframe\n",
    "step = 0.01\n",
    "to_bin = lambda x: np.floor(x / step) * step #Grouping Latitude/longitude per 0.01 step so as to identify hotspots.\n",
    "heatmap = df.copy()\n",
    "heatmap[\"Lat\"] = to_bin(df[\"Lat\"])\n",
    "heatmap[\"Long\"] = to_bin(df[\"Long\"])\n",
    "heatmap = heatmap.groupby([\"Lat\", \"Long\", \"STREET\"]).count()['INCIDENT_NUMBER'].reset_index(name='Count')\n",
    "heatmap = heatmap[heatmap[\"STREET\"] != \"Unknown\"] #The heatmap will list the Unknown location as a hotspot as there are a large number of unknown locations, therefore we remove this from visualisation.\n",
    "\n",
    "def first_occurrence(series):\n",
    "    return series.iloc[0] #Return only the first occurence of the lat/long pair so we can sum the count\n",
    "\n",
    "heatmap = heatmap.sort_values(\"Count\", ascending=False).groupby('STREET')\\\n",
    "    .agg({'Lat': first_occurrence, 'Long': first_occurrence, 'Count': 'sum'}).reset_index().sort_values(\"Count\", ascending=False) #The same street occurs for various lat/long coord pairs, therefore we sum them up to get one result.\n",
    "\n",
    "heatmap = heatmap[heatmap['Count'] > 200] #Limit to areas with high crime counts"
   ]
  },
  {
   "cell_type": "code",
   "execution_count": 52,
   "metadata": {},
   "outputs": [
    {
     "data": {
      "application/vnd.plotly.v1+json": {
       "config": {
        "plotlyServerURL": "https://plot.ly"
       },
       "data": [
        {
         "customdata": [
          [
           14111
          ],
          [
           6989
          ],
          [
           6938
          ],
          [
           5007
          ],
          [
           4664
          ],
          [
           4390
          ],
          [
           4286
          ],
          [
           4274
          ],
          [
           3867
          ],
          [
           3403
          ],
          [
           3051
          ],
          [
           2911
          ],
          [
           2810
          ],
          [
           2294
          ],
          [
           2199
          ],
          [
           2063
          ],
          [
           1966
          ],
          [
           1887
          ],
          [
           1779
          ],
          [
           1608
          ],
          [
           1582
          ],
          [
           1582
          ],
          [
           1512
          ],
          [
           1509
          ],
          [
           1256
          ],
          [
           1233
          ],
          [
           1213
          ],
          [
           1208
          ],
          [
           1208
          ],
          [
           1113
          ],
          [
           1077
          ],
          [
           1063
          ],
          [
           1049
          ],
          [
           1043
          ],
          [
           1029
          ],
          [
           996
          ],
          [
           991
          ],
          [
           931
          ],
          [
           866
          ],
          [
           847
          ],
          [
           814
          ],
          [
           807
          ],
          [
           805
          ],
          [
           790
          ],
          [
           788
          ],
          [
           788
          ],
          [
           767
          ],
          [
           748
          ],
          [
           727
          ],
          [
           724
          ],
          [
           721
          ],
          [
           718
          ],
          [
           708
          ],
          [
           697
          ],
          [
           671
          ],
          [
           665
          ],
          [
           649
          ],
          [
           649
          ],
          [
           646
          ],
          [
           640
          ],
          [
           638
          ],
          [
           630
          ],
          [
           628
          ],
          [
           627
          ],
          [
           611
          ],
          [
           609
          ],
          [
           608
          ],
          [
           600
          ],
          [
           585
          ],
          [
           565
          ],
          [
           560
          ],
          [
           555
          ],
          [
           550
          ],
          [
           541
          ],
          [
           539
          ],
          [
           525
          ],
          [
           516
          ],
          [
           508
          ],
          [
           503
          ],
          [
           499
          ],
          [
           498
          ],
          [
           494
          ],
          [
           488
          ],
          [
           487
          ],
          [
           480
          ],
          [
           471
          ],
          [
           466
          ],
          [
           443
          ],
          [
           441
          ],
          [
           440
          ],
          [
           440
          ],
          [
           431
          ],
          [
           427
          ],
          [
           423
          ],
          [
           421
          ],
          [
           417
          ],
          [
           412
          ],
          [
           409
          ],
          [
           409
          ],
          [
           408
          ],
          [
           407
          ],
          [
           407
          ],
          [
           406
          ],
          [
           402
          ],
          [
           401
          ],
          [
           401
          ],
          [
           400
          ],
          [
           394
          ],
          [
           389
          ],
          [
           389
          ],
          [
           387
          ],
          [
           383
          ],
          [
           381
          ],
          [
           379
          ],
          [
           379
          ],
          [
           379
          ],
          [
           379
          ],
          [
           378
          ],
          [
           378
          ],
          [
           378
          ],
          [
           367
          ],
          [
           366
          ],
          [
           358
          ],
          [
           349
          ],
          [
           343
          ],
          [
           337
          ],
          [
           337
          ],
          [
           336
          ],
          [
           334
          ],
          [
           333
          ],
          [
           332
          ],
          [
           331
          ],
          [
           331
          ],
          [
           330
          ],
          [
           327
          ],
          [
           327
          ],
          [
           327
          ],
          [
           322
          ],
          [
           322
          ],
          [
           318
          ],
          [
           315
          ],
          [
           312
          ],
          [
           312
          ],
          [
           308
          ],
          [
           307
          ],
          [
           306
          ],
          [
           303
          ],
          [
           301
          ],
          [
           301
          ],
          [
           300
          ],
          [
           300
          ],
          [
           297
          ],
          [
           296
          ],
          [
           294
          ],
          [
           294
          ],
          [
           294
          ],
          [
           293
          ],
          [
           290
          ],
          [
           287
          ],
          [
           286
          ],
          [
           284
          ],
          [
           279
          ],
          [
           279
          ],
          [
           279
          ],
          [
           278
          ],
          [
           277
          ],
          [
           276
          ],
          [
           276
          ],
          [
           276
          ],
          [
           275
          ],
          [
           275
          ],
          [
           275
          ],
          [
           272
          ],
          [
           272
          ],
          [
           271
          ],
          [
           267
          ],
          [
           266
          ],
          [
           265
          ],
          [
           263
          ],
          [
           261
          ],
          [
           259
          ],
          [
           258
          ],
          [
           258
          ],
          [
           256
          ],
          [
           254
          ],
          [
           251
          ],
          [
           250
          ],
          [
           250
          ],
          [
           248
          ],
          [
           247
          ],
          [
           246
          ],
          [
           245
          ],
          [
           244
          ],
          [
           244
          ],
          [
           244
          ],
          [
           241
          ],
          [
           240
          ],
          [
           239
          ],
          [
           237
          ],
          [
           237
          ],
          [
           235
          ],
          [
           234
          ],
          [
           233
          ],
          [
           233
          ],
          [
           233
          ],
          [
           232
          ],
          [
           231
          ],
          [
           231
          ],
          [
           230
          ],
          [
           230
          ],
          [
           228
          ],
          [
           227
          ],
          [
           227
          ],
          [
           226
          ],
          [
           223
          ],
          [
           222
          ],
          [
           222
          ],
          [
           222
          ],
          [
           221
          ],
          [
           221
          ],
          [
           220
          ],
          [
           220
          ],
          [
           220
          ],
          [
           220
          ],
          [
           220
          ],
          [
           219
          ],
          [
           218
          ],
          [
           218
          ],
          [
           218
          ],
          [
           217
          ],
          [
           216
          ],
          [
           216
          ],
          [
           216
          ],
          [
           215
          ],
          [
           215
          ],
          [
           215
          ],
          [
           214
          ],
          [
           213
          ],
          [
           213
          ],
          [
           213
          ],
          [
           212
          ],
          [
           211
          ],
          [
           208
          ],
          [
           208
          ],
          [
           207
          ],
          [
           207
          ],
          [
           207
          ],
          [
           207
          ],
          [
           205
          ],
          [
           204
          ],
          [
           204
          ],
          [
           203
          ],
          [
           201
          ]
         ],
         "hovertemplate": "<b>%{hovertext}</b><br><br>Count=%{marker.color}<br>Lat=%{lat}<br>Long=%{lon}<extra></extra>",
         "hovertext": [
          "WASHINGTON ST",
          "BLUE HILL AVE",
          "BOYLSTON ST",
          "DORCHESTER AVE",
          "TREMONT ST",
          "MASSACHUSETTS AVE",
          "CENTRE ST",
          "HARRISON AVE",
          "COMMONWEALTH AVE",
          "HYDE PARK AVE",
          "COLUMBIA RD",
          "HUNTINGTON AVE",
          "RIVER ST",
          "WARREN ST",
          "DUDLEY ST",
          "COLUMBUS AVE",
          "ADAMS ST",
          "NEWBURY ST",
          "BEACON ST",
          "W BROADWAY",
          "GENEVA AVE",
          "BOWDOIN ST",
          "CAMBRIDGE ST",
          "AMERICAN LEGION HWY",
          "ALBANY ST",
          "HANCOCK ST",
          "NEW SUDBURY ST",
          "SUMMER ST",
          "BORDER ST",
          "NORFOLK ST",
          "ALLSTATE RD",
          "CUMMINS HWY",
          "PARK ST",
          "TALBOT AVE",
          "CHARLES ST",
          "BENNINGTON ST",
          "MORTON ST",
          "SHAWMUT AVE",
          "SARATOGA ST",
          "ATLANTIC AVE",
          "GIBSON ST",
          "HARVARD ST",
          "PARKER ST",
          "NORTHAMPTON ST",
          "BRIGHTON AVE",
          "STUART ST",
          "WILLIAM T MORRISSEY BLVD",
          "BROOKLINE AVE",
          "PARIS ST",
          "WINTER ST",
          "GALLIVAN BLVD",
          "SEAVER ST",
          "SCHOOL ST",
          "CHELSEA ST",
          "WALNUT AVE",
          "STATE ST",
          "VFW PKWY",
          "E BROADWAY",
          "DARTMOUTH ST",
          "MERIDIAN ST",
          "HARVARD AVE",
          "NEPONSET AVE",
          "BEACH ST",
          "MOUNT VERNON ST",
          "OLD COLONY AVE",
          "SOUTHAMPTON ST",
          "HANOVER ST",
          "SOUTH ST",
          "CONGRESS ST",
          "HUMBOLDT AVE",
          "DORCHESTER ST",
          "SUMNER ST",
          "SCHROEDER PLZ",
          "ARLINGTON ST",
          "QUINCY ST",
          "MALCOLM X BLVD",
          "HEATH ST",
          "FULLER ST",
          "NORWELL ST",
          "GREENVILLE ST",
          "COMMERCIAL ST",
          "E EIGHTH ST",
          "AMORY ST",
          "LONGWOOD AVE",
          "D ST",
          "YAWKEY WAY",
          "BUNKER HILL ST",
          "ANNUNCIATION RD",
          "PLEASANT ST",
          "LEGENDS WAY",
          "CAUSEWAY ST",
          "BERKELEY ST",
          "ASHMONT ST",
          "BOSTON ST",
          "CLARENDON ST",
          "MARLBOROUGH ST",
          "LAGRANGE ST",
          "WALK HILL ST",
          "N BEACON ST",
          "FRANCIS ST",
          "VINE ST",
          "EVERETT ST",
          "FANEUIL ST",
          "MAIN ST",
          "FRUIT ST",
          "METROPOLITAN AVE",
          "LINCOLN ST",
          "DEVON ST",
          "HIGH ST",
          "ATHELWOLD ST",
          "FRANKLIN ST",
          "FREEPORT ST",
          "GLENWAY ST",
          "ESSEX ST",
          "CRAWFORD ST",
          "PARK DR",
          "W NEWTON ST",
          "PETERBOROUGH ST",
          "DRAPER ST",
          "INTERVALE ST",
          "ROXBURY ST",
          "LEXINGTON ST",
          "MARTIN LUTHER KING JR BLV",
          "HOMESTEAD ST",
          "FOREST HILLS ST",
          "E COTTAGE ST",
          "MARKET ST",
          "ALLSTON ST",
          "WARREN AVE",
          "HEMENWAY ST",
          "EUSTIS ST",
          "BROOKS ST",
          "HAMILTON ST",
          "MEDFORD ST",
          "KNEELAND ST",
          "MAGNOLIA ST",
          "MAVERICK ST",
          "KILMARNOCK ST",
          "RUGGLES ST",
          "CANAL ST",
          "WESTLAND AVE",
          "FANEUIL HALL MARKETPLACE",
          "S HUNTINGTON AVE",
          "BREMEN ST",
          "ELM HILL AVE",
          "CEDAR ST",
          "PARKER HILL AVE",
          "CHESTNUT HILL AVE",
          "DALTON ST",
          "BELGRADE AVE",
          "MOUNT PLEASANT AVE",
          "LINDEN ST",
          "FIDELIS WAY",
          "MAPLE ST",
          "MILK ST",
          "AUSTIN ST",
          "UNION ST",
          "FAYSTON ST",
          "HOMES AVE",
          "STRATTON ST",
          "WOODROW AVE",
          "HILLSIDE ST",
          "E FOURTH ST",
          "SAVIN HILL AVE",
          "TRUMAN PKWY",
          "POPLAR ST",
          "LAWRENCE AVE",
          "GREEN ST",
          "LANSDOWNE ST",
          "PARK PLZ",
          "WESTVILLE ST",
          "GREENWOOD ST",
          "TOPLIFF ST",
          "GARFIELD AVE",
          "MILTON AVE",
          "SAINT BOTOLPH ST",
          "PRINCETON ST",
          "WEST ST",
          "GLENVILLE AVE",
          "BICKFORD ST",
          "GARDNER ST",
          "HAROLD ST",
          "CANTERBURY ST",
          "OLNEY ST",
          "E ST",
          "BROAD ST",
          "GENERAL LAWRENCE J LOGAN ",
          "WILDWOOD ST",
          "E NEWTON ST",
          "NEW CHARDON ST",
          "BOWDOIN AVE",
          "NORMANDY ST",
          "MELNEA CASS BLVD",
          "HIGHLAND ST",
          "MARION ST",
          "CALLENDER ST",
          "BRUNSWICK ST",
          "QUEENSBERRY ST",
          "BARRY ST",
          "WILLIAM F MCCLELLAN HWY",
          "CUSHING AVE",
          "ELLINGTON ST",
          "BELLEVUE ST",
          "CONDOR ST",
          "DALE ST",
          "MAVERICK SQ",
          "E SIXTH ST",
          "WOOD AVE",
          "WALNUT PARK",
          "E SECOND ST",
          "SOLDIERS FIELD RD",
          "SPRING ST",
          "AMES ST",
          "SAINT ALPHONSUS ST",
          "BABSON ST",
          "HOWLAND ST",
          "TOWNSEND ST",
          "CAMDEN ST",
          "WESTERN AVE",
          "CITY HALL PLZ",
          "ERIE ST",
          "TEMPLE PL",
          "GERARD ST",
          "CALUMET ST",
          "DR. MICHAEL GAVIN WAY",
          "GEORGETOWNE DR",
          "E FIFTH ST",
          "WALDECK ST",
          "BAILEY ST",
          "WOOLSON ST",
          "MILLET ST",
          "NIGHTINGALE ST",
          "STANWOOD ST",
          "SALEM ST",
          "COTTAGE ST",
          "E BROOKLINE ST",
          "WINTHROP ST",
          "ALMONT ST",
          "CHESTNUT AVE",
          "EXETER ST",
          "HAMMOND ST",
          "MONSIGNOR PATRICK J. LYDO",
          "NORTON ST",
          "A ST",
          "NORTHERN AVE",
          "CHURCH ST",
          "WILMINGTON AVE",
          "CHESTNUT ST",
          "MONSIGNOR DENNIS F O'CALL",
          "FAIRMOUNT AVE",
          "ESMOND ST",
          "W THIRD ST",
          "SPENCER ST"
         ],
         "lat": [
          42.35,
          42.28,
          42.34,
          42.300000000000004,
          42.35,
          42.33,
          42.32,
          42.33,
          42.35,
          42.25,
          42.31,
          42.34,
          42.26,
          42.32,
          42.32,
          42.31,
          42.300000000000004,
          42.34,
          42.35,
          42.34,
          42.29,
          42.300000000000004,
          42.36,
          42.27,
          42.33,
          42.31,
          42.36,
          42.35,
          42.37,
          42.28,
          42.32,
          42.27,
          42.35,
          42.29,
          42.35,
          42.37,
          42.28,
          42.33,
          42.37,
          42.35,
          42.29,
          42.29,
          42.32,
          42.33,
          42.35,
          42.35,
          42.29,
          42.34,
          42.37,
          42.35,
          42.28,
          42.300000000000004,
          42.35,
          42.37,
          42.31,
          42.35,
          42.28,
          42.33,
          42.34,
          42.37,
          42.35,
          42.29,
          42.35,
          42.31,
          42.32,
          42.33,
          42.36,
          42.300000000000004,
          42.35,
          42.31,
          42.33,
          42.36,
          42.33,
          42.35,
          42.31,
          42.33,
          42.32,
          42.28,
          42.29,
          42.32,
          42.36,
          42.33,
          42.31,
          42.33,
          42.33,
          42.34,
          42.37,
          42.33,
          42.31,
          42.36,
          42.36,
          42.34,
          42.28,
          42.32,
          42.34,
          42.35,
          42.35,
          42.27,
          42.35,
          42.33,
          42.37,
          42.35,
          42.35,
          42.37,
          42.36,
          42.26,
          42.35,
          42.300000000000004,
          42.35,
          42.29,
          42.35,
          42.300000000000004,
          42.29,
          42.35,
          42.31,
          42.34,
          42.34,
          42.34,
          42.300000000000004,
          42.31,
          42.32,
          42.37,
          42.31,
          42.31,
          42.300000000000004,
          42.32,
          42.35,
          42.34,
          42.34,
          42.34,
          42.32,
          42.37,
          42.300000000000004,
          42.38,
          42.35,
          42.31,
          42.36,
          42.34,
          42.33,
          42.36,
          42.34,
          42.35,
          42.32,
          42.37,
          42.300000000000004,
          42.32,
          42.33,
          42.34,
          42.34,
          42.28,
          42.32,
          42.35,
          42.34,
          42.300000000000004,
          42.35,
          42.37,
          42.36,
          42.31,
          42.300000000000004,
          42.28,
          42.28,
          42.33,
          42.33,
          42.31,
          42.24,
          42.28,
          42.31,
          42.31,
          42.34,
          42.35,
          42.300000000000004,
          42.300000000000004,
          42.300000000000004,
          42.24,
          42.28,
          42.34,
          42.37,
          42.35,
          42.34,
          42.32,
          42.35,
          42.31,
          42.27,
          42.300000000000004,
          42.33,
          42.35,
          42.32,
          42.28,
          42.33,
          42.36,
          42.300000000000004,
          42.300000000000004,
          42.33,
          42.32,
          42.37,
          42.28,
          42.31,
          42.34,
          42.300000000000004,
          42.38,
          42.31,
          42.300000000000004,
          42.300000000000004,
          42.38,
          42.32,
          42.36,
          42.33,
          42.26,
          42.31,
          42.33,
          42.35,
          42.27,
          42.28,
          42.33,
          42.27,
          42.31,
          42.31,
          42.33,
          42.36,
          42.35,
          42.300000000000004,
          42.35,
          42.33,
          42.33,
          42.32,
          42.25,
          42.33,
          42.29,
          42.28,
          42.28,
          42.29,
          42.29,
          42.300000000000004,
          42.36,
          42.36,
          42.33,
          42.32,
          42.27,
          42.31,
          42.34,
          42.33,
          42.28,
          42.300000000000004,
          42.34,
          42.35,
          42.300000000000004,
          42.28,
          42.35,
          42.32,
          42.25,
          42.29,
          42.33,
          42.29
         ],
         "legendgroup": "",
         "lon": [
          -71.07000000000001,
          -71.10000000000001,
          -71.09,
          -71.06,
          -71.07000000000001,
          -71.08,
          -71.11,
          -71.08,
          -71.13,
          -71.13,
          -71.07000000000001,
          -71.08,
          -71.10000000000001,
          -71.09,
          -71.08,
          -71.10000000000001,
          -71.07000000000001,
          -71.09,
          -71.07000000000001,
          -71.06,
          -71.07000000000001,
          -71.07000000000001,
          -71.07000000000001,
          -71.12,
          -71.08,
          -71.07000000000001,
          -71.06,
          -71.06,
          -71.04,
          -71.08,
          -71.07000000000001,
          -71.11,
          -71.07000000000001,
          -71.08,
          -71.08,
          -71.04,
          -71.09,
          -71.09,
          -71.04,
          -71.06,
          -71.06,
          -71.09,
          -71.11,
          -71.08,
          -71.14,
          -71.07000000000001,
          -71.05,
          -71.11,
          -71.04,
          -71.07000000000001,
          -71.05,
          -71.09,
          -71.06,
          -71.04,
          -71.10000000000001,
          -71.06,
          -71.18,
          -71.04,
          -71.08,
          -71.04,
          -71.14,
          -71.06,
          -71.07000000000001,
          -71.05,
          -71.06,
          -71.08,
          -71.06,
          -71.12,
          -71.06,
          -71.09,
          -71.06,
          -71.04,
          -71.10000000000001,
          -71.08,
          -71.08,
          -71.10000000000001,
          -71.11,
          -71.07000000000001,
          -71.08,
          -71.09,
          -71.06,
          -71.05,
          -71.11,
          -71.11,
          -71.06,
          -71.10000000000001,
          -71.06,
          -71.10000000000001,
          -71.06,
          -71.07000000000001,
          -71.07000000000001,
          -71.08,
          -71.07000000000001,
          -71.06,
          -71.08,
          -71.08,
          -71.07000000000001,
          -71.10000000000001,
          -71.15,
          -71.11,
          -71.06,
          -71.14,
          -71.16,
          -71.07000000000001,
          -71.07000000000001,
          -71.12,
          -71.06,
          -71.08,
          -71.06,
          -71.08,
          -71.06,
          -71.06,
          -71.09,
          -71.07000000000001,
          -71.09,
          -71.10000000000001,
          -71.08,
          -71.10000000000001,
          -71.07000000000001,
          -71.08,
          -71.09,
          -71.04,
          -71.09,
          -71.09,
          -71.11,
          -71.07000000000001,
          -71.15,
          -71.14,
          -71.08,
          -71.09,
          -71.08,
          -71.04,
          -71.07000000000001,
          -71.07000000000001,
          -71.07000000000001,
          -71.08,
          -71.04,
          -71.10000000000001,
          -71.09,
          -71.07000000000001,
          -71.09,
          -71.06,
          -71.12,
          -71.04,
          -71.09,
          -71.10000000000001,
          -71.11,
          -71.16,
          -71.09,
          -71.15,
          -71.08,
          -71.14,
          -71.15,
          -71.09,
          -71.06,
          -71.07000000000001,
          -71.06,
          -71.08,
          -71.07000000000001,
          -71.09,
          -71.09,
          -71.11,
          -71.04,
          -71.06,
          -71.13,
          -71.13,
          -71.08,
          -71.11,
          -71.10000000000001,
          -71.07000000000001,
          -71.07000000000001,
          -71.08,
          -71.07000000000001,
          -71.12,
          -71.08,
          -71.09,
          -71.04,
          -71.07000000000001,
          -71.14,
          -71.11,
          -71.13,
          -71.10000000000001,
          -71.12,
          -71.08,
          -71.05,
          -71.06,
          -71.06,
          -71.09,
          -71.08,
          -71.07000000000001,
          -71.08,
          -71.09,
          -71.09,
          -71.10000000000001,
          -71.04,
          -71.09,
          -71.09,
          -71.10000000000001,
          -71.07000000000001,
          -71.02,
          -71.07000000000001,
          -71.09,
          -71.07000000000001,
          -71.04,
          -71.09,
          -71.04,
          -71.04,
          -71.12,
          -71.10000000000001,
          -71.04,
          -71.16,
          -71.17,
          -71.09,
          -71.11,
          -71.10000000000001,
          -71.09,
          -71.09,
          -71.09,
          -71.14,
          -71.06,
          -71.08,
          -71.07000000000001,
          -71.08,
          -71.11,
          -71.06,
          -71.15,
          -71.04,
          -71.07000000000001,
          -71.08,
          -71.10000000000001,
          -71.08,
          -71.09,
          -71.08,
          -71.06,
          -71.04,
          -71.08,
          -71.08,
          -71.10000000000001,
          -71.11,
          -71.08,
          -71.09,
          -71.07000000000001,
          -71.07000000000001,
          -71.06,
          -71.05,
          -71.07000000000001,
          -71.08,
          -71.07000000000001,
          -71.06,
          -71.12,
          -71.09,
          -71.05,
          -71.08
         ],
         "marker": {
          "color": [
           14111,
           6989,
           6938,
           5007,
           4664,
           4390,
           4286,
           4274,
           3867,
           3403,
           3051,
           2911,
           2810,
           2294,
           2199,
           2063,
           1966,
           1887,
           1779,
           1608,
           1582,
           1582,
           1512,
           1509,
           1256,
           1233,
           1213,
           1208,
           1208,
           1113,
           1077,
           1063,
           1049,
           1043,
           1029,
           996,
           991,
           931,
           866,
           847,
           814,
           807,
           805,
           790,
           788,
           788,
           767,
           748,
           727,
           724,
           721,
           718,
           708,
           697,
           671,
           665,
           649,
           649,
           646,
           640,
           638,
           630,
           628,
           627,
           611,
           609,
           608,
           600,
           585,
           565,
           560,
           555,
           550,
           541,
           539,
           525,
           516,
           508,
           503,
           499,
           498,
           494,
           488,
           487,
           480,
           471,
           466,
           443,
           441,
           440,
           440,
           431,
           427,
           423,
           421,
           417,
           412,
           409,
           409,
           408,
           407,
           407,
           406,
           402,
           401,
           401,
           400,
           394,
           389,
           389,
           387,
           383,
           381,
           379,
           379,
           379,
           379,
           378,
           378,
           378,
           367,
           366,
           358,
           349,
           343,
           337,
           337,
           336,
           334,
           333,
           332,
           331,
           331,
           330,
           327,
           327,
           327,
           322,
           322,
           318,
           315,
           312,
           312,
           308,
           307,
           306,
           303,
           301,
           301,
           300,
           300,
           297,
           296,
           294,
           294,
           294,
           293,
           290,
           287,
           286,
           284,
           279,
           279,
           279,
           278,
           277,
           276,
           276,
           276,
           275,
           275,
           275,
           272,
           272,
           271,
           267,
           266,
           265,
           263,
           261,
           259,
           258,
           258,
           256,
           254,
           251,
           250,
           250,
           248,
           247,
           246,
           245,
           244,
           244,
           244,
           241,
           240,
           239,
           237,
           237,
           235,
           234,
           233,
           233,
           233,
           232,
           231,
           231,
           230,
           230,
           228,
           227,
           227,
           226,
           223,
           222,
           222,
           222,
           221,
           221,
           220,
           220,
           220,
           220,
           220,
           219,
           218,
           218,
           218,
           217,
           216,
           216,
           216,
           215,
           215,
           215,
           214,
           213,
           213,
           213,
           212,
           211,
           208,
           208,
           207,
           207,
           207,
           207,
           205,
           204,
           204,
           203,
           201
          ],
          "coloraxis": "coloraxis",
          "size": [
           14111,
           6989,
           6938,
           5007,
           4664,
           4390,
           4286,
           4274,
           3867,
           3403,
           3051,
           2911,
           2810,
           2294,
           2199,
           2063,
           1966,
           1887,
           1779,
           1608,
           1582,
           1582,
           1512,
           1509,
           1256,
           1233,
           1213,
           1208,
           1208,
           1113,
           1077,
           1063,
           1049,
           1043,
           1029,
           996,
           991,
           931,
           866,
           847,
           814,
           807,
           805,
           790,
           788,
           788,
           767,
           748,
           727,
           724,
           721,
           718,
           708,
           697,
           671,
           665,
           649,
           649,
           646,
           640,
           638,
           630,
           628,
           627,
           611,
           609,
           608,
           600,
           585,
           565,
           560,
           555,
           550,
           541,
           539,
           525,
           516,
           508,
           503,
           499,
           498,
           494,
           488,
           487,
           480,
           471,
           466,
           443,
           441,
           440,
           440,
           431,
           427,
           423,
           421,
           417,
           412,
           409,
           409,
           408,
           407,
           407,
           406,
           402,
           401,
           401,
           400,
           394,
           389,
           389,
           387,
           383,
           381,
           379,
           379,
           379,
           379,
           378,
           378,
           378,
           367,
           366,
           358,
           349,
           343,
           337,
           337,
           336,
           334,
           333,
           332,
           331,
           331,
           330,
           327,
           327,
           327,
           322,
           322,
           318,
           315,
           312,
           312,
           308,
           307,
           306,
           303,
           301,
           301,
           300,
           300,
           297,
           296,
           294,
           294,
           294,
           293,
           290,
           287,
           286,
           284,
           279,
           279,
           279,
           278,
           277,
           276,
           276,
           276,
           275,
           275,
           275,
           272,
           272,
           271,
           267,
           266,
           265,
           263,
           261,
           259,
           258,
           258,
           256,
           254,
           251,
           250,
           250,
           248,
           247,
           246,
           245,
           244,
           244,
           244,
           241,
           240,
           239,
           237,
           237,
           235,
           234,
           233,
           233,
           233,
           232,
           231,
           231,
           230,
           230,
           228,
           227,
           227,
           226,
           223,
           222,
           222,
           222,
           221,
           221,
           220,
           220,
           220,
           220,
           220,
           219,
           218,
           218,
           218,
           217,
           216,
           216,
           216,
           215,
           215,
           215,
           214,
           213,
           213,
           213,
           212,
           211,
           208,
           208,
           207,
           207,
           207,
           207,
           205,
           204,
           204,
           203,
           201
          ],
          "sizemode": "area",
          "sizeref": 11.519183673469387
         },
         "mode": "markers",
         "name": "",
         "showlegend": false,
         "subplot": "mapbox",
         "type": "scattermapbox"
        }
       ],
       "layout": {
        "coloraxis": {
         "colorbar": {
          "title": {
           "text": "Count"
          }
         },
         "colorscale": [
          [
           0,
           "Yellow"
          ],
          [
           0.3333333333333333,
           "orange"
          ],
          [
           0.6666666666666666,
           "red"
          ],
          [
           1,
           "maroon"
          ]
         ]
        },
        "height": 700,
        "legend": {
         "itemsizing": "constant",
         "tracegroupgap": 0
        },
        "mapbox": {
         "center": {
          "lat": 42.323003952569174,
          "lon": -71.08320158102768
         },
         "domain": {
          "x": [
           0,
           1
          ],
          "y": [
           0,
           1
          ]
         },
         "style": "carto-darkmatter",
         "zoom": 11
        },
        "margin": {
         "b": 0,
         "l": 0,
         "r": 0,
         "t": 0
        },
        "template": {
         "data": {
          "bar": [
           {
            "error_x": {
             "color": "#2a3f5f"
            },
            "error_y": {
             "color": "#2a3f5f"
            },
            "marker": {
             "line": {
              "color": "#E5ECF6",
              "width": 0.5
             },
             "pattern": {
              "fillmode": "overlay",
              "size": 10,
              "solidity": 0.2
             }
            },
            "type": "bar"
           }
          ],
          "barpolar": [
           {
            "marker": {
             "line": {
              "color": "#E5ECF6",
              "width": 0.5
             },
             "pattern": {
              "fillmode": "overlay",
              "size": 10,
              "solidity": 0.2
             }
            },
            "type": "barpolar"
           }
          ],
          "carpet": [
           {
            "aaxis": {
             "endlinecolor": "#2a3f5f",
             "gridcolor": "white",
             "linecolor": "white",
             "minorgridcolor": "white",
             "startlinecolor": "#2a3f5f"
            },
            "baxis": {
             "endlinecolor": "#2a3f5f",
             "gridcolor": "white",
             "linecolor": "white",
             "minorgridcolor": "white",
             "startlinecolor": "#2a3f5f"
            },
            "type": "carpet"
           }
          ],
          "choropleth": [
           {
            "colorbar": {
             "outlinewidth": 0,
             "ticks": ""
            },
            "type": "choropleth"
           }
          ],
          "contour": [
           {
            "colorbar": {
             "outlinewidth": 0,
             "ticks": ""
            },
            "colorscale": [
             [
              0,
              "#0d0887"
             ],
             [
              0.1111111111111111,
              "#46039f"
             ],
             [
              0.2222222222222222,
              "#7201a8"
             ],
             [
              0.3333333333333333,
              "#9c179e"
             ],
             [
              0.4444444444444444,
              "#bd3786"
             ],
             [
              0.5555555555555556,
              "#d8576b"
             ],
             [
              0.6666666666666666,
              "#ed7953"
             ],
             [
              0.7777777777777778,
              "#fb9f3a"
             ],
             [
              0.8888888888888888,
              "#fdca26"
             ],
             [
              1,
              "#f0f921"
             ]
            ],
            "type": "contour"
           }
          ],
          "contourcarpet": [
           {
            "colorbar": {
             "outlinewidth": 0,
             "ticks": ""
            },
            "type": "contourcarpet"
           }
          ],
          "heatmap": [
           {
            "colorbar": {
             "outlinewidth": 0,
             "ticks": ""
            },
            "colorscale": [
             [
              0,
              "#0d0887"
             ],
             [
              0.1111111111111111,
              "#46039f"
             ],
             [
              0.2222222222222222,
              "#7201a8"
             ],
             [
              0.3333333333333333,
              "#9c179e"
             ],
             [
              0.4444444444444444,
              "#bd3786"
             ],
             [
              0.5555555555555556,
              "#d8576b"
             ],
             [
              0.6666666666666666,
              "#ed7953"
             ],
             [
              0.7777777777777778,
              "#fb9f3a"
             ],
             [
              0.8888888888888888,
              "#fdca26"
             ],
             [
              1,
              "#f0f921"
             ]
            ],
            "type": "heatmap"
           }
          ],
          "heatmapgl": [
           {
            "colorbar": {
             "outlinewidth": 0,
             "ticks": ""
            },
            "colorscale": [
             [
              0,
              "#0d0887"
             ],
             [
              0.1111111111111111,
              "#46039f"
             ],
             [
              0.2222222222222222,
              "#7201a8"
             ],
             [
              0.3333333333333333,
              "#9c179e"
             ],
             [
              0.4444444444444444,
              "#bd3786"
             ],
             [
              0.5555555555555556,
              "#d8576b"
             ],
             [
              0.6666666666666666,
              "#ed7953"
             ],
             [
              0.7777777777777778,
              "#fb9f3a"
             ],
             [
              0.8888888888888888,
              "#fdca26"
             ],
             [
              1,
              "#f0f921"
             ]
            ],
            "type": "heatmapgl"
           }
          ],
          "histogram": [
           {
            "marker": {
             "pattern": {
              "fillmode": "overlay",
              "size": 10,
              "solidity": 0.2
             }
            },
            "type": "histogram"
           }
          ],
          "histogram2d": [
           {
            "colorbar": {
             "outlinewidth": 0,
             "ticks": ""
            },
            "colorscale": [
             [
              0,
              "#0d0887"
             ],
             [
              0.1111111111111111,
              "#46039f"
             ],
             [
              0.2222222222222222,
              "#7201a8"
             ],
             [
              0.3333333333333333,
              "#9c179e"
             ],
             [
              0.4444444444444444,
              "#bd3786"
             ],
             [
              0.5555555555555556,
              "#d8576b"
             ],
             [
              0.6666666666666666,
              "#ed7953"
             ],
             [
              0.7777777777777778,
              "#fb9f3a"
             ],
             [
              0.8888888888888888,
              "#fdca26"
             ],
             [
              1,
              "#f0f921"
             ]
            ],
            "type": "histogram2d"
           }
          ],
          "histogram2dcontour": [
           {
            "colorbar": {
             "outlinewidth": 0,
             "ticks": ""
            },
            "colorscale": [
             [
              0,
              "#0d0887"
             ],
             [
              0.1111111111111111,
              "#46039f"
             ],
             [
              0.2222222222222222,
              "#7201a8"
             ],
             [
              0.3333333333333333,
              "#9c179e"
             ],
             [
              0.4444444444444444,
              "#bd3786"
             ],
             [
              0.5555555555555556,
              "#d8576b"
             ],
             [
              0.6666666666666666,
              "#ed7953"
             ],
             [
              0.7777777777777778,
              "#fb9f3a"
             ],
             [
              0.8888888888888888,
              "#fdca26"
             ],
             [
              1,
              "#f0f921"
             ]
            ],
            "type": "histogram2dcontour"
           }
          ],
          "mesh3d": [
           {
            "colorbar": {
             "outlinewidth": 0,
             "ticks": ""
            },
            "type": "mesh3d"
           }
          ],
          "parcoords": [
           {
            "line": {
             "colorbar": {
              "outlinewidth": 0,
              "ticks": ""
             }
            },
            "type": "parcoords"
           }
          ],
          "pie": [
           {
            "automargin": true,
            "type": "pie"
           }
          ],
          "scatter": [
           {
            "fillpattern": {
             "fillmode": "overlay",
             "size": 10,
             "solidity": 0.2
            },
            "type": "scatter"
           }
          ],
          "scatter3d": [
           {
            "line": {
             "colorbar": {
              "outlinewidth": 0,
              "ticks": ""
             }
            },
            "marker": {
             "colorbar": {
              "outlinewidth": 0,
              "ticks": ""
             }
            },
            "type": "scatter3d"
           }
          ],
          "scattercarpet": [
           {
            "marker": {
             "colorbar": {
              "outlinewidth": 0,
              "ticks": ""
             }
            },
            "type": "scattercarpet"
           }
          ],
          "scattergeo": [
           {
            "marker": {
             "colorbar": {
              "outlinewidth": 0,
              "ticks": ""
             }
            },
            "type": "scattergeo"
           }
          ],
          "scattergl": [
           {
            "marker": {
             "colorbar": {
              "outlinewidth": 0,
              "ticks": ""
             }
            },
            "type": "scattergl"
           }
          ],
          "scattermapbox": [
           {
            "marker": {
             "colorbar": {
              "outlinewidth": 0,
              "ticks": ""
             }
            },
            "type": "scattermapbox"
           }
          ],
          "scatterpolar": [
           {
            "marker": {
             "colorbar": {
              "outlinewidth": 0,
              "ticks": ""
             }
            },
            "type": "scatterpolar"
           }
          ],
          "scatterpolargl": [
           {
            "marker": {
             "colorbar": {
              "outlinewidth": 0,
              "ticks": ""
             }
            },
            "type": "scatterpolargl"
           }
          ],
          "scatterternary": [
           {
            "marker": {
             "colorbar": {
              "outlinewidth": 0,
              "ticks": ""
             }
            },
            "type": "scatterternary"
           }
          ],
          "surface": [
           {
            "colorbar": {
             "outlinewidth": 0,
             "ticks": ""
            },
            "colorscale": [
             [
              0,
              "#0d0887"
             ],
             [
              0.1111111111111111,
              "#46039f"
             ],
             [
              0.2222222222222222,
              "#7201a8"
             ],
             [
              0.3333333333333333,
              "#9c179e"
             ],
             [
              0.4444444444444444,
              "#bd3786"
             ],
             [
              0.5555555555555556,
              "#d8576b"
             ],
             [
              0.6666666666666666,
              "#ed7953"
             ],
             [
              0.7777777777777778,
              "#fb9f3a"
             ],
             [
              0.8888888888888888,
              "#fdca26"
             ],
             [
              1,
              "#f0f921"
             ]
            ],
            "type": "surface"
           }
          ],
          "table": [
           {
            "cells": {
             "fill": {
              "color": "#EBF0F8"
             },
             "line": {
              "color": "white"
             }
            },
            "header": {
             "fill": {
              "color": "#C8D4E3"
             },
             "line": {
              "color": "white"
             }
            },
            "type": "table"
           }
          ]
         },
         "layout": {
          "annotationdefaults": {
           "arrowcolor": "#2a3f5f",
           "arrowhead": 0,
           "arrowwidth": 1
          },
          "autotypenumbers": "strict",
          "coloraxis": {
           "colorbar": {
            "outlinewidth": 0,
            "ticks": ""
           }
          },
          "colorscale": {
           "diverging": [
            [
             0,
             "#8e0152"
            ],
            [
             0.1,
             "#c51b7d"
            ],
            [
             0.2,
             "#de77ae"
            ],
            [
             0.3,
             "#f1b6da"
            ],
            [
             0.4,
             "#fde0ef"
            ],
            [
             0.5,
             "#f7f7f7"
            ],
            [
             0.6,
             "#e6f5d0"
            ],
            [
             0.7,
             "#b8e186"
            ],
            [
             0.8,
             "#7fbc41"
            ],
            [
             0.9,
             "#4d9221"
            ],
            [
             1,
             "#276419"
            ]
           ],
           "sequential": [
            [
             0,
             "#0d0887"
            ],
            [
             0.1111111111111111,
             "#46039f"
            ],
            [
             0.2222222222222222,
             "#7201a8"
            ],
            [
             0.3333333333333333,
             "#9c179e"
            ],
            [
             0.4444444444444444,
             "#bd3786"
            ],
            [
             0.5555555555555556,
             "#d8576b"
            ],
            [
             0.6666666666666666,
             "#ed7953"
            ],
            [
             0.7777777777777778,
             "#fb9f3a"
            ],
            [
             0.8888888888888888,
             "#fdca26"
            ],
            [
             1,
             "#f0f921"
            ]
           ],
           "sequentialminus": [
            [
             0,
             "#0d0887"
            ],
            [
             0.1111111111111111,
             "#46039f"
            ],
            [
             0.2222222222222222,
             "#7201a8"
            ],
            [
             0.3333333333333333,
             "#9c179e"
            ],
            [
             0.4444444444444444,
             "#bd3786"
            ],
            [
             0.5555555555555556,
             "#d8576b"
            ],
            [
             0.6666666666666666,
             "#ed7953"
            ],
            [
             0.7777777777777778,
             "#fb9f3a"
            ],
            [
             0.8888888888888888,
             "#fdca26"
            ],
            [
             1,
             "#f0f921"
            ]
           ]
          },
          "colorway": [
           "#636efa",
           "#EF553B",
           "#00cc96",
           "#ab63fa",
           "#FFA15A",
           "#19d3f3",
           "#FF6692",
           "#B6E880",
           "#FF97FF",
           "#FECB52"
          ],
          "font": {
           "color": "#2a3f5f"
          },
          "geo": {
           "bgcolor": "white",
           "lakecolor": "white",
           "landcolor": "#E5ECF6",
           "showlakes": true,
           "showland": true,
           "subunitcolor": "white"
          },
          "hoverlabel": {
           "align": "left"
          },
          "hovermode": "closest",
          "mapbox": {
           "style": "light"
          },
          "paper_bgcolor": "white",
          "plot_bgcolor": "#E5ECF6",
          "polar": {
           "angularaxis": {
            "gridcolor": "white",
            "linecolor": "white",
            "ticks": ""
           },
           "bgcolor": "#E5ECF6",
           "radialaxis": {
            "gridcolor": "white",
            "linecolor": "white",
            "ticks": ""
           }
          },
          "scene": {
           "xaxis": {
            "backgroundcolor": "#E5ECF6",
            "gridcolor": "white",
            "gridwidth": 2,
            "linecolor": "white",
            "showbackground": true,
            "ticks": "",
            "zerolinecolor": "white"
           },
           "yaxis": {
            "backgroundcolor": "#E5ECF6",
            "gridcolor": "white",
            "gridwidth": 2,
            "linecolor": "white",
            "showbackground": true,
            "ticks": "",
            "zerolinecolor": "white"
           },
           "zaxis": {
            "backgroundcolor": "#E5ECF6",
            "gridcolor": "white",
            "gridwidth": 2,
            "linecolor": "white",
            "showbackground": true,
            "ticks": "",
            "zerolinecolor": "white"
           }
          },
          "shapedefaults": {
           "line": {
            "color": "#2a3f5f"
           }
          },
          "ternary": {
           "aaxis": {
            "gridcolor": "white",
            "linecolor": "white",
            "ticks": ""
           },
           "baxis": {
            "gridcolor": "white",
            "linecolor": "white",
            "ticks": ""
           },
           "bgcolor": "#E5ECF6",
           "caxis": {
            "gridcolor": "white",
            "linecolor": "white",
            "ticks": ""
           }
          },
          "title": {
           "x": 0.05
          },
          "xaxis": {
           "automargin": true,
           "gridcolor": "white",
           "linecolor": "white",
           "ticks": "",
           "title": {
            "standoff": 15
           },
           "zerolinecolor": "white",
           "zerolinewidth": 2
          },
          "yaxis": {
           "automargin": true,
           "gridcolor": "white",
           "linecolor": "white",
           "ticks": "",
           "title": {
            "standoff": 15
           },
           "zerolinecolor": "white",
           "zerolinewidth": 2
          }
         }
        }
       }
      }
     },
     "metadata": {},
     "output_type": "display_data"
    }
   ],
   "source": [
    "#Plotting\n",
    "fig = px.scatter_mapbox(heatmap, lat=\"Lat\", lon=\"Long\", hover_name=\"STREET\", hover_data=[\"Count\"],\n",
    "                        color=\"Count\", color_continuous_scale=['Yellow', 'orange', 'red', 'maroon'], zoom=11, height=700, size='Count', size_max=35)\n",
    "fig.update_layout(mapbox_style=\"carto-darkmatter\", margin={\"r\":0,\"t\":0,\"l\":0,\"b\":0})\n",
    "fig.show()"
   ]
  },
  {
   "cell_type": "markdown",
   "metadata": {},
   "source": [
    "##### The above interactive map depicts major hotspots as large red circles. These hotspots are identified in the following barplot. The larger/redder the circle, the more crimes were committed in that area. Most hotspots are overlapping due to the latitude/longitude binning, as there may be many streets within a latitude/longitude step (0.01)."
   ]
  },
  {
   "cell_type": "markdown",
   "metadata": {},
   "source": [
    "### Static heatmap of Chicago crime hotspots"
   ]
  },
  {
   "cell_type": "markdown",
   "metadata": {},
   "source": [
    "##### Create geodataframe"
   ]
  },
  {
   "cell_type": "code",
   "execution_count": 53,
   "metadata": {},
   "outputs": [],
   "source": [
    "heatmap_top10 = heatmap.sort_values(\"Count\", ascending=False)[:10]\n",
    "heatmap_top10['Size'] = heatmap_top10['Count'] / 10 #Adjusting bubble marker size\n",
    "\n",
    "geo_df = gpd.GeoDataFrame(heatmap_top10, geometry=[Point(xy) for xy in zip(heatmap_top10['Long'], heatmap_top10['Lat'])]) #Creation of geodf"
   ]
  },
  {
   "cell_type": "markdown",
   "metadata": {},
   "source": [
    "##### Plot"
   ]
  },
  {
   "cell_type": "code",
   "execution_count": 54,
   "metadata": {},
   "outputs": [
    {
     "data": {
      "image/png": "[encoded data removed]",
      "text/plain": [
       "<Figure size 1300x1000 with 2 Axes>"
      ]
     },
     "metadata": {},
     "output_type": "display_data"
    }
   ],
   "source": [
    "fig, ax = plt.subplots(figsize=(13,10))\n",
    "map = gpd.read_file(\"City_of_Boston_Boundary.geojson\") #Read in geojson file\n",
    "map.plot(ax=ax, aspect=1) #Plot geojson file\n",
    "geo_df.plot(aspect=1, column='Count', markersize='Size', ax=ax, cmap='OrRd', legend=True, alpha=0.55, legend_kwds={'shrink': 0.4}) #Plot the latitude longitude pairs onto the same Boston map.\n",
    "\n",
    "for x, y, label in zip(geo_df.geometry.x, geo_df.geometry.y, geo_df['STREET']):\n",
    "    ax.annotate(label, xy=(x, y), xytext=(11,1), textcoords=\"offset points\", weight='bold', fontsize=9.3) #Labelling each hotspot\n",
    "\n",
    "ax.get_figure().get_axes()[1].set_title(\"Num. crimes\") #Set legend title\n",
    "plt.title('Crime hot spots within Boston (2015 - 2018)', weight='bold')\n",
    "plt.xlabel('Longitude')\n",
    "plt.ylabel('Latitude')\n",
    "plt.show()"
   ]
  },
  {
   "cell_type": "markdown",
   "metadata": {},
   "source": [
    "#### Barplot of Top 10 hotspots in Boston"
   ]
  },
  {
   "cell_type": "code",
   "execution_count": 55,
   "metadata": {},
   "outputs": [
    {
     "data": {
      "image/png": "[encoded data removed]",
      "text/plain": [
       "<Figure size 1800x500 with 1 Axes>"
      ]
     },
     "metadata": {},
     "output_type": "display_data"
    }
   ],
   "source": [
    "plt.figure(figsize=(18,5))\n",
    "ax = sns.barplot(heatmap_top10, x='STREET', y='Count') #Barplot of top 10 crimes\n",
    "\n",
    "for i in ax.containers:\n",
    "    ax.bar_label(i,) #Depict crime count over each bar\n",
    "    \n",
    "plt.title(\"Top 10 crime hotspots in Boston (2015 - 2018)\")\n",
    "plt.tight_layout()\n",
    "plt.show()"
   ]
  },
  {
   "cell_type": "markdown",
   "metadata": {},
   "source": [
    "##### According to the heatmap and barplot above, most crimes in Boston from 2015 - 2018 were committed in Washington Street, Blue Hill Avenue, and Bolyston Street."
   ]
  },
  {
   "attachments": {},
   "cell_type": "markdown",
   "metadata": {},
   "source": [
    "### <u>Machine Learning</u>"
   ]
  },
  {
   "cell_type": "markdown",
   "metadata": {},
   "source": [
    "#### Import"
   ]
  },
  {
   "cell_type": "code",
   "execution_count": 56,
   "metadata": {},
   "outputs": [],
   "source": [
    "from sklearn.model_selection import train_test_split, KFold, RandomizedSearchCV\n",
    "from sklearn.ensemble import AdaBoostClassifier, RandomForestClassifier\n",
    "from sklearn.metrics import accuracy_score, precision_score, recall_score, f1_score\n",
    "from catboost import CatBoostClassifier, cv, Pool\n",
    "from sklearn.tree import DecisionTreeClassifier\n",
    "from sklearn.preprocessing import OrdinalEncoder, LabelEncoder\n",
    "from sklearn.naive_bayes import GaussianNB\n",
    "from time import process_time\n",
    "from sklearn.neighbors import KNeighborsClassifier\n",
    "import xgboost as xgb\n",
    "from joblib import dump, load\n",
    "from sklearn.compose import ColumnTransformer"
   ]
  },
  {
   "cell_type": "markdown",
   "metadata": {},
   "source": [
    "#### Data aquisition"
   ]
  },
  {
   "cell_type": "code",
   "execution_count": 57,
   "metadata": {},
   "outputs": [],
   "source": [
    "X = df.loc[:, ('REPORTING_AREA', 'UCR_PART', 'MONTH', 'DAY_OF_WEEK', 'HOUR')] #Not including Latitude and Longitude because most models will get near perfect accuracy AKA overfitting.\n",
    "y = df['DISTRICT'] #Predicting the DISTRICT"
   ]
  },
  {
   "cell_type": "markdown",
   "metadata": {},
   "source": [
    "#### Sampling/split"
   ]
  },
  {
   "cell_type": "code",
   "execution_count": 58,
   "metadata": {},
   "outputs": [],
   "source": [
    "X_train, X_test, y_train, y_test = train_test_split(X, y, train_size=0.8, random_state=42) #80% train, 20% test"
   ]
  },
  {
   "attachments": {},
   "cell_type": "markdown",
   "metadata": {},
   "source": [
    "#### Categorical encoding"
   ]
  },
  {
   "cell_type": "code",
   "execution_count": 59,
   "metadata": {},
   "outputs": [],
   "source": [
    "oe = OrdinalEncoder()\n",
    "X_train_transformed = oe.fit_transform(X_train)\n",
    "X_test_transformed = oe.transform(X_test)"
   ]
  },
  {
   "attachments": {},
   "cell_type": "markdown",
   "metadata": {},
   "source": [
    "#### Hyperparameter space"
   ]
  },
  {
   "cell_type": "code",
   "execution_count": 60,
   "metadata": {},
   "outputs": [],
   "source": [
    "rand_grid = { #Random forest grid\n",
    " 'min_samples_leaf': [1, 2, 3],\n",
    " 'min_samples_split': [2, 3, 4],\n",
    " 'n_estimators': [20, 50, 100, 200]}\n",
    "\n",
    "decision_grid = { #Decision tree grid\n",
    "    'criterion': ['gini', 'entropy'],        \n",
    "    'splitter': ['best', 'random'],           \n",
    "    'min_samples_split': [2, 5, 10],         \n",
    "    'min_samples_leaf': [1, 2, 4],           \n",
    "    'max_features': ['sqrt', 'log2'],                  \n",
    "}\n",
    "\n",
    "NB_grid = { #Gaussian Naive Bayes grid\n",
    "    'var_smoothing': [1e-9, 1e-8, 1e-7, 1e-6]\n",
    "}\n",
    "\n",
    "knn_grid = { #k-NN grid\n",
    "    'n_neighbors': [3, 5, 7, 9],        \n",
    "    'weights': ['uniform', 'distance'], \n",
    "    'p': [1, 2],                        \n",
    "    'metric': ['euclidean', 'manhattan']\n",
    "}\n",
    "\n",
    "ada_grid = { #AdaBoost grid\n",
    "    'n_estimators': [50, 100, 200],  \n",
    "    'learning_rate': [0.1, 0.5, 1.0]\n",
    "}\n",
    "\n",
    "cat_grid = { #CatBoost grid\n",
    "    'iterations': 1000,      \n",
    "    'learning_rate': 0.05, \n",
    "    'depth': 6,                  \n",
    "    'l2_leaf_reg': 5,             \n",
    "    'border_count': 64,\n",
    "    \"loss_function\": \"MultiClass\"\n",
    "}\n",
    "\n",
    "xg_grid = { #XGBoost grid\n",
    "        'min_child_weight': [1, 5, 10],\n",
    "        'gamma': [0, 0.5, 1],\n",
    "        'subsample': [0.6, 0.8, 1.0],\n",
    "        'colsample_bytree': [0.6, 0.8, 1.0],\n",
    "        'max_depth': [4, 5, 6]\n",
    "        }\n",
    "\n",
    "space = [rand_grid,decision_grid, cat_grid, ada_grid, NB_grid, knn_grid, xg_grid] #List of grids"
   ]
  },
  {
   "cell_type": "markdown",
   "metadata": {},
   "source": [
    "#### Algorithm training"
   ]
  },
  {
   "cell_type": "code",
   "execution_count": 61,
   "metadata": {},
   "outputs": [],
   "source": [
    "#Handles the results dataframe\n",
    "def appendToDf(avg, std, y_pred, y_test, name, results):\n",
    "    '''Groups the results of each classifier into a pandas dataframe'''\n",
    "\n",
    "    avg = round(avg.mean()*100, 2) #Average and standard deviation of CV results\n",
    "    std = round(std.mean()*100,2)\n",
    "    accuracy = round(accuracy_score(y_test, y_pred)*100,2) #Get accuracy, precision, recall, and f1-score of each model\n",
    "    precision = round(precision_score(y_test, y_pred, average=\"weighted\")*100,2)\n",
    "    recall = round(recall_score(y_test, y_pred, average=\"weighted\")*100,2)\n",
    "    f1 = round(f1_score(y_test, y_pred, average=\"weighted\")*100,2)\n",
    "    print(f\"{name} CV Train {avg}% std: {std}\") if name != 'CatBoostClassifier' else print(f\"{name} CV Train loss {avg} std: {std}\")#Train score CV results\n",
    "    print(f\"{name} test accuracy score: {accuracy}%\") #Accuracy on test set\n",
    "    return pd.concat([results, pd.DataFrame({\"Name\":[name], \"Accuracy\":[accuracy], \"Precision\":[precision], \"Recall\":[recall], \"F1\" : [f1]})]) #Return updated dataframe"
   ]
  },
  {
   "cell_type": "code",
   "execution_count": 62,
   "metadata": {},
   "outputs": [],
   "source": [
    "#Handles the training, hyperparameter tuning, validation, and testing of models\n",
    "def modelEvaluation(clf, scoring):\n",
    "    '''Trains each model using 5-fold CV and RandomizedSearch for hyperparameter tuning. \n",
    "    Pickles each model for later use. Returns dataframe of metrics per model'''\n",
    "\n",
    "    cval = KFold(n_splits=5) #5-fold CV\n",
    "    results = pd.DataFrame({}, columns=[\"Name\", \"Accuracy\", \"Precision\", \"Recall\", \"F1\"]) #Create empty dataframe\n",
    "    with open('Models/params.txt', 'w') as f: #Write model with best parameters to text file\n",
    "        for i in range(len(clf)): #Loop through each model\n",
    "            start = process_time() #Begin process timer\n",
    "            name = clf[i].__class__.__name__ #Get model name\n",
    "            model = clf[i]\n",
    "            search = None\n",
    "            \n",
    "            if name == 'CatBoostClassifier': #CatBoostClassifier does not seem to work with RandomizedSearchCV.\n",
    "                model.fit(X_train, y_train, cat_features=[1, 3]) #CatBoost can handle categorical encoding on its own\n",
    "                y_pred = model.predict(X_test)\n",
    "                cv_data = Pool(data=X_train, label=y_train, cat_features=[1, 3]) #CatBoost's internal data structure Pool is needed for CV\n",
    "                scores = cv(cv_data, space[i], fold_count=5, verbose=False) #Get CV of multiclass losses\n",
    "                avg = scores['train-MultiClass-mean'] #These are not CV mean accuracies, but rather the losses\n",
    "                std = scores['train-MultiClass-std']\n",
    "                results = appendToDf(avg, std, y_pred, y_test, name, results) #Add results to dataframe\n",
    "\n",
    "            elif name == 'XGBClassifier':  #n_jobs = 1 because XGBoost is already using the GPU to train each model\n",
    "                le = LabelEncoder() #XGBoost requires that y is first encoded\n",
    "                y_train_transformed = le.fit_transform(y_train)\n",
    "                y_test_transformed = le.transform(y_test)\n",
    "                search = RandomizedSearchCV(model, space[i], n_jobs=1, n_iter=5, refit=True, scoring=scoring, return_train_score=True, cv=cval, random_state=42)\n",
    "                search.fit(X_train_transformed, y_train_transformed)\n",
    "                y_pred = search.predict(X_test_transformed)\n",
    "                avg = search.cv_results_['mean_train_score']\n",
    "                std = search.cv_results_['std_train_score']\n",
    "                results = appendToDf(avg, std, y_pred, y_test_transformed, name, results) #Add results to dataframe\n",
    "\n",
    "            else: #Run using 7 cores\n",
    "                search = RandomizedSearchCV(model, space[i], n_jobs=7, n_iter=5, refit=True, scoring=scoring, return_train_score=True, cv=cval, random_state=42)\n",
    "                search.fit(X_train_transformed, y_train) #Using encoded features\n",
    "                y_pred = search.predict(X_test_transformed)\n",
    "                avg = search.cv_results_['mean_train_score']\n",
    "                std = search.cv_results_['std_train_score']\n",
    "                results = appendToDf(avg, std, y_pred, y_test, name, results) #Add results to dataframe\n",
    "\n",
    "            f.write(f'{name}: {search.best_params_}\\n') if name != 'CatBoostClassifier' else f.write(f'{name}: {model.get_params()}\\n') #Write best parameters per model to file\n",
    "            dump(search.best_estimator_, f'Models/{name}.joblib') if name != 'CatBoostClassifier' else dump(model, f'Models/{name}.joblib') #Pickle each model for later use\n",
    "\n",
    "\n",
    "            end = process_time() #Record total processing time taken per model\n",
    "            print(f\"Total time taken: {end-start}s\\n\")\n",
    "        \n",
    "    return results.reset_index(drop=True)"
   ]
  },
  {
   "cell_type": "code",
   "execution_count": 63,
   "metadata": {},
   "outputs": [],
   "source": [
    "#Using the following 7 classifiers.  \n",
    "clf = [RandomForestClassifier(random_state=42),\n",
    "       DecisionTreeClassifier(random_state=42),\n",
    "       CatBoostClassifier(random_state=42, allow_writing_files=False, task_type=\"GPU\", devices='0:1', iterations=1000, logging_level='Silent'), #Runs on GPU\n",
    "      AdaBoostClassifier(random_state=42),\n",
    "      GaussianNB(),\n",
    "       KNeighborsClassifier(),\n",
    "       xgb.XGBClassifier(objective='multi:softmax', random_state=42, subsample = 0.8, min_child_weight = 10, max_depth = 6, gamma = 0, colsample_bytree = 1, nthread = 3, tree_method = \"hist\", device = \"cuda\", verbosity=0) #Runs on GPU\n",
    "       ]"
   ]
  },
  {
   "attachments": {},
   "cell_type": "markdown",
   "metadata": {},
   "source": [
    "#### Putting it all together"
   ]
  },
  {
   "cell_type": "code",
   "execution_count": 64,
   "metadata": {},
   "outputs": [
    {
     "name": "stdout",
     "output_type": "stream",
     "text": [
      "RandomForestClassifier CV Train 92.58% std: 0.1\n",
      "RandomForestClassifier test accuracy score: 85.45%\n",
      "Total time taken: 4.0s\n",
      "\n",
      "DecisionTreeClassifier CV Train 89.27% std: 1.09\n",
      "DecisionTreeClassifier test accuracy score: 74.54%\n",
      "Total time taken: 0.78125s\n",
      "\n",
      "Training on fold [0/5]\n",
      "\n",
      "bestTest = 0.5383704413\n",
      "bestIteration = 999\n",
      "\n",
      "Training on fold [1/5]\n",
      "\n",
      "bestTest = 0.5424676497\n",
      "bestIteration = 994\n",
      "\n",
      "Training on fold [2/5]\n",
      "\n",
      "bestTest = 0.5515301699\n",
      "bestIteration = 999\n",
      "\n",
      "Training on fold [3/5]\n",
      "\n",
      "bestTest = 0.5379415948\n",
      "bestIteration = 997\n",
      "\n",
      "Training on fold [4/5]\n",
      "\n",
      "bestTest = 0.5358408992\n",
      "bestIteration = 996\n",
      "\n",
      "CatBoostClassifier CV Train loss 60.11 std: 0.76\n",
      "CatBoostClassifier test accuracy score: 84.29%\n",
      "Total time taken: 31906.90625s\n",
      "\n",
      "AdaBoostClassifier CV Train 63.96% std: 1.16\n",
      "AdaBoostClassifier test accuracy score: 69.49%\n",
      "Total time taken: 42.703125s\n",
      "\n",
      "GaussianNB CV Train 30.66% std: 0.07\n",
      "GaussianNB test accuracy score: 30.4%\n",
      "Total time taken: 0.546875s\n",
      "\n",
      "KNeighborsClassifier CV Train 93.77% std: 0.03\n",
      "KNeighborsClassifier test accuracy score: 88.4%\n",
      "Total time taken: 1.25s\n",
      "\n",
      "XGBClassifier CV Train 82.38% std: 0.27\n",
      "XGBClassifier test accuracy score: 81.63%\n",
      "Total time taken: 57.328125s\n",
      "\n"
     ]
    }
   ],
   "source": [
    "import warnings\n",
    "warnings.filterwarnings('ignore') #AdaBoost model results in precision warnings as there are labels with no predicted samples. Surpress these.\n",
    "\n",
    "d = modelEvaluation(clf, 'accuracy') #Run tests\n",
    "d.to_csv('Models/results.csv', index=False) #Save results to CSV"
   ]
  },
  {
   "cell_type": "markdown",
   "metadata": {},
   "source": [
    "#### Results"
   ]
  },
  {
   "cell_type": "code",
   "execution_count": 65,
   "metadata": {},
   "outputs": [
    {
     "data": {
      "image/png": "[encoded data removed]",
      "text/plain": [
       "<Figure size 1000x600 with 1 Axes>"
      ]
     },
     "metadata": {},
     "output_type": "display_data"
    }
   ],
   "source": [
    "melted_df = d.melt(id_vars=\"Name\", value_vars=[\"Accuracy\", \"Precision\", \"Recall\", \"F1\"], var_name=\"Metric\")\n",
    "\n",
    "# Create result barplot\n",
    "plt.figure(figsize=(10, 6))\n",
    "sns.barplot(data=melted_df, x=\"Metric\", y=\"value\", hue=\"Name\")\n",
    "plt.title(\"Results\")\n",
    "plt.xlabel(\"Metric\")\n",
    "plt.ylabel(\"Score\")\n",
    "plt.legend(title=\"Model\", loc=2, bbox_to_anchor=(1, 1), borderaxespad=0.)\n",
    "plt.tight_layout()\n",
    "plt.show()"
   ]
  },
  {
   "attachments": {},
   "cell_type": "markdown",
   "metadata": {},
   "source": [
    "### <u>Results and Discussion</u>"
   ]
  },
  {
   "attachments": {},
   "cell_type": "markdown",
   "metadata": {},
   "source": [
    "## <center><b>Thanks for reading!</b>"
   ]
  }
 ],
 "metadata": {
  "kernelspec": {
   "display_name": "Python 3",
   "language": "python",
   "name": "python3"
  },
  "language_info": {
   "codemirror_mode": {
    "name": "ipython",
    "version": 3
   },
   "file_extension": ".py",
   "mimetype": "text/x-python",
   "name": "python",
   "nbconvert_exporter": "python",
   "pygments_lexer": "ipython3",
   "version": "3.9.13"
  },
  "orig_nbformat": 4
 },
 "nbformat": 4,
 "nbformat_minor": 2
}
