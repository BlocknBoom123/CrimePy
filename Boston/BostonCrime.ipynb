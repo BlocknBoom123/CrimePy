{
 "cells": [
  {
   "cell_type": "markdown",
   "metadata": {},
   "source": [
    "## Boston Crime Forecasting (2015-2018)\n",
    "### Anil Abraham 2023\n",
    "\n",
    "#### The goal of this project is to use machine learning techniques to forecast crime in Boston. Particularly, forecasting type of crime, number of crimes committed in a year, and crime hotspots."
   ]
  },
  {
   "cell_type": "markdown",
   "metadata": {},
   "source": [
    "### Brief explanation of each column:\n",
    "<ul>\n",
    "<li>INCIDENT_NUMBER - File number</li>\n",
    "<li>OFFENSE_CODE - Code of specific crime</li>\n",
    "<li>OFFENSE_CODE_GROUP - Name of crime</li>\n",
    "<li>OFFENSE_DESCRIPTION - Detailed information about crime</li>\n",
    "<li>DISTRICT - Boston neighbourhood</li>\n",
    "<li>REPORTING_AREA - Area defined by Boston PD</li>\n",
    "<li>SHOOTING - 'Y' represents a shooting occurence</li>\n",
    "<li>OCCURRED_ON_DATE/YEAR/MONTH/DAY_OF_WEEK/HOUR - Date of crime</li>\n",
    "<li>UCR_PART - Severity of the crime (highest is 1)</li>\n",
    "<li>STREET/Lat/Long/Location - Location</li>\n",
    "</ul>"
   ]
  },
  {
   "cell_type": "markdown",
   "metadata": {},
   "source": [
    "### Importing libraries"
   ]
  },
  {
   "cell_type": "code",
   "execution_count": 18,
   "metadata": {},
   "outputs": [],
   "source": [
    "import pandas as pd #Pandas for data manipulation and analysis\n",
    "import numpy as np #Numpy for matrices\n",
    "import geopandas as gpd #Support for geospatial data\n",
    "from shapely.geometry import Point, Polygon #Geographic information systems functions and analysis\n",
    "import matplotlib.pyplot as plt #Matplotlib for visualisations\n",
    "import seaborn as sns\n",
    "import plotly.express as px\n",
    "#pd.set_option('display.max_rows', None)"
   ]
  },
  {
   "cell_type": "markdown",
   "metadata": {},
   "source": [
    "### Data preprocessing"
   ]
  },
  {
   "cell_type": "code",
   "execution_count": 19,
   "metadata": {},
   "outputs": [
    {
     "name": "stdout",
     "output_type": "stream",
     "text": [
      "Null values found\n",
      "INCIDENT_NUMBER             0\n",
      "OFFENSE_CODE                0\n",
      "OFFENSE_CODE_GROUP          0\n",
      "OFFENSE_DESCRIPTION         0\n",
      "DISTRICT                 1765\n",
      "REPORTING_AREA              0\n",
      "SHOOTING               318054\n",
      "OCCURRED_ON_DATE            0\n",
      "YEAR                        0\n",
      "MONTH                       0\n",
      "DAY_OF_WEEK                 0\n",
      "HOUR                        0\n",
      "UCR_PART                   90\n",
      "STREET                  10871\n",
      "Lat                     19999\n",
      "Long                    19999\n",
      "Location                    0\n",
      "dtype: int64\n",
      "\n",
      "\n",
      "Index(['INCIDENT_NUMBER', 'OFFENSE_CODE', 'OFFENSE_CODE_GROUP',\n",
      "       'OFFENSE_DESCRIPTION', 'DISTRICT', 'REPORTING_AREA', 'SHOOTING',\n",
      "       'OCCURRED_ON_DATE', 'YEAR', 'MONTH', 'DAY_OF_WEEK', 'HOUR', 'UCR_PART',\n",
      "       'STREET', 'Lat', 'Long', 'Location'],\n",
      "      dtype='object')\n"
     ]
    }
   ],
   "source": [
    "df = pd.read_csv('crime.csv', encoding='latin') #Thousands are seperated by commas in the CSV.\n",
    "\n",
    "print(f'Null values found\\n{df.isna().sum()}') #Check for null values\n",
    "\n",
    "print(f'\\n\\n{df.columns}') #List all feature names"
   ]
  },
  {
   "cell_type": "markdown",
   "metadata": {},
   "source": [
    "#### Check for duplicate INCIDENT_NUMBER"
   ]
  },
  {
   "cell_type": "code",
   "execution_count": 20,
   "metadata": {},
   "outputs": [
    {
     "data": {
      "text/html": [
       "<div>\n",
       "<style scoped>\n",
       "    .dataframe tbody tr th:only-of-type {\n",
       "        vertical-align: middle;\n",
       "    }\n",
       "\n",
       "    .dataframe tbody tr th {\n",
       "        vertical-align: top;\n",
       "    }\n",
       "\n",
       "    .dataframe thead th {\n",
       "        text-align: right;\n",
       "    }\n",
       "</style>\n",
       "<table border=\"1\" class=\"dataframe\">\n",
       "  <thead>\n",
       "    <tr style=\"text-align: right;\">\n",
       "      <th></th>\n",
       "      <th>INCIDENT_NUMBER</th>\n",
       "      <th>OFFENSE_CODE</th>\n",
       "      <th>OFFENSE_CODE_GROUP</th>\n",
       "      <th>OFFENSE_DESCRIPTION</th>\n",
       "      <th>DISTRICT</th>\n",
       "      <th>REPORTING_AREA</th>\n",
       "      <th>SHOOTING</th>\n",
       "      <th>OCCURRED_ON_DATE</th>\n",
       "      <th>YEAR</th>\n",
       "      <th>MONTH</th>\n",
       "      <th>DAY_OF_WEEK</th>\n",
       "      <th>HOUR</th>\n",
       "      <th>UCR_PART</th>\n",
       "      <th>STREET</th>\n",
       "      <th>Lat</th>\n",
       "      <th>Long</th>\n",
       "      <th>Location</th>\n",
       "    </tr>\n",
       "  </thead>\n",
       "  <tbody>\n",
       "    <tr>\n",
       "      <th>318742</th>\n",
       "      <td>I152030570-00</td>\n",
       "      <td>3125</td>\n",
       "      <td>Warrant Arrests</td>\n",
       "      <td>WARRANT ARREST</td>\n",
       "      <td>E13</td>\n",
       "      <td>303</td>\n",
       "      <td>NaN</td>\n",
       "      <td>2016-10-29 08:25:00</td>\n",
       "      <td>2016</td>\n",
       "      <td>10</td>\n",
       "      <td>Saturday</td>\n",
       "      <td>8</td>\n",
       "      <td>Part Three</td>\n",
       "      <td>W WALNUT PARK</td>\n",
       "      <td>42.317207</td>\n",
       "      <td>-71.098799</td>\n",
       "      <td>(42.31720702, -71.09879922)</td>\n",
       "    </tr>\n",
       "    <tr>\n",
       "      <th>318743</th>\n",
       "      <td>I152030570-00</td>\n",
       "      <td>403</td>\n",
       "      <td>Aggravated Assault</td>\n",
       "      <td>ASSAULT &amp; BATTERY D/W - OTHER</td>\n",
       "      <td>E13</td>\n",
       "      <td>303</td>\n",
       "      <td>NaN</td>\n",
       "      <td>2016-10-29 08:25:00</td>\n",
       "      <td>2016</td>\n",
       "      <td>10</td>\n",
       "      <td>Saturday</td>\n",
       "      <td>8</td>\n",
       "      <td>Part One</td>\n",
       "      <td>W WALNUT PARK</td>\n",
       "      <td>42.317207</td>\n",
       "      <td>-71.098799</td>\n",
       "      <td>(42.31720702, -71.09879922)</td>\n",
       "    </tr>\n",
       "    <tr>\n",
       "      <th>318744</th>\n",
       "      <td>I152030570-00</td>\n",
       "      <td>404</td>\n",
       "      <td>Aggravated Assault</td>\n",
       "      <td>A&amp;B HANDS, FEET, ETC.  - MED. ATTENTION REQ.</td>\n",
       "      <td>E13</td>\n",
       "      <td>303</td>\n",
       "      <td>NaN</td>\n",
       "      <td>2016-10-29 08:25:00</td>\n",
       "      <td>2016</td>\n",
       "      <td>10</td>\n",
       "      <td>Saturday</td>\n",
       "      <td>8</td>\n",
       "      <td>Part One</td>\n",
       "      <td>W WALNUT PARK</td>\n",
       "      <td>42.317207</td>\n",
       "      <td>-71.098799</td>\n",
       "      <td>(42.31720702, -71.09879922)</td>\n",
       "    </tr>\n",
       "    <tr>\n",
       "      <th>318745</th>\n",
       "      <td>I152030570-00</td>\n",
       "      <td>3125</td>\n",
       "      <td>Warrant Arrests</td>\n",
       "      <td>WARRANT ARREST</td>\n",
       "      <td>E13</td>\n",
       "      <td>303</td>\n",
       "      <td>NaN</td>\n",
       "      <td>2016-10-29 08:25:00</td>\n",
       "      <td>2016</td>\n",
       "      <td>10</td>\n",
       "      <td>Saturday</td>\n",
       "      <td>8</td>\n",
       "      <td>Part Three</td>\n",
       "      <td>W WALNUT PARK</td>\n",
       "      <td>42.317207</td>\n",
       "      <td>-71.098799</td>\n",
       "      <td>(42.31720702, -71.09879922)</td>\n",
       "    </tr>\n",
       "  </tbody>\n",
       "</table>\n",
       "</div>"
      ],
      "text/plain": [
       "       INCIDENT_NUMBER  OFFENSE_CODE  OFFENSE_CODE_GROUP  \\\n",
       "318742   I152030570-00          3125     Warrant Arrests   \n",
       "318743   I152030570-00           403  Aggravated Assault   \n",
       "318744   I152030570-00           404  Aggravated Assault   \n",
       "318745   I152030570-00          3125     Warrant Arrests   \n",
       "\n",
       "                                 OFFENSE_DESCRIPTION DISTRICT REPORTING_AREA  \\\n",
       "318742                                WARRANT ARREST      E13            303   \n",
       "318743                 ASSAULT & BATTERY D/W - OTHER      E13            303   \n",
       "318744  A&B HANDS, FEET, ETC.  - MED. ATTENTION REQ.      E13            303   \n",
       "318745                                WARRANT ARREST      E13            303   \n",
       "\n",
       "       SHOOTING     OCCURRED_ON_DATE  YEAR  MONTH DAY_OF_WEEK  HOUR  \\\n",
       "318742      NaN  2016-10-29 08:25:00  2016     10    Saturday     8   \n",
       "318743      NaN  2016-10-29 08:25:00  2016     10    Saturday     8   \n",
       "318744      NaN  2016-10-29 08:25:00  2016     10    Saturday     8   \n",
       "318745      NaN  2016-10-29 08:25:00  2016     10    Saturday     8   \n",
       "\n",
       "          UCR_PART         STREET        Lat       Long  \\\n",
       "318742  Part Three  W WALNUT PARK  42.317207 -71.098799   \n",
       "318743    Part One  W WALNUT PARK  42.317207 -71.098799   \n",
       "318744    Part One  W WALNUT PARK  42.317207 -71.098799   \n",
       "318745  Part Three  W WALNUT PARK  42.317207 -71.098799   \n",
       "\n",
       "                           Location  \n",
       "318742  (42.31720702, -71.09879922)  \n",
       "318743  (42.31720702, -71.09879922)  \n",
       "318744  (42.31720702, -71.09879922)  \n",
       "318745  (42.31720702, -71.09879922)  "
      ]
     },
     "execution_count": 20,
     "metadata": {},
     "output_type": "execute_result"
    }
   ],
   "source": [
    "df[df['INCIDENT_NUMBER'] == 'I152030570-00']"
   ]
  },
  {
   "cell_type": "markdown",
   "metadata": {},
   "source": [
    "#### Fill null values"
   ]
  },
  {
   "cell_type": "code",
   "execution_count": 21,
   "metadata": {},
   "outputs": [],
   "source": [
    "df['SHOOTING'].fillna('N', inplace=True) #Null shootings should be replaced with 'N'\n",
    "\n",
    "df.loc[df['Lat'] == -1, ('Lat')] = None\n",
    "df.loc[df['Long'] == -1, ('Long')] = None"
   ]
  },
  {
   "cell_type": "markdown",
   "metadata": {},
   "source": [
    "#### Change categories"
   ]
  },
  {
   "cell_type": "code",
   "execution_count": 22,
   "metadata": {},
   "outputs": [],
   "source": [
    "df['OCCURRED_ON_DATE'] = pd.to_datetime(df['OCCURRED_ON_DATE']) #Convert this column to pandas datatype 'datetime'\n",
    "df['DAY_OF_WEEK'] = pd.Categorical(df['DAY_OF_WEEK'],  #Convert to category to save memory\n",
    "              categories=['Monday','Tuesday','Wednesday','Thursday','Friday','Saturday','Sunday'],\n",
    "              ordered=True)"
   ]
  },
  {
   "cell_type": "markdown",
   "metadata": {},
   "source": [
    "#### What are the datatypes used?"
   ]
  },
  {
   "cell_type": "code",
   "execution_count": 23,
   "metadata": {},
   "outputs": [
    {
     "data": {
      "text/plain": [
       "INCIDENT_NUMBER                object\n",
       "OFFENSE_CODE                    int64\n",
       "OFFENSE_CODE_GROUP             object\n",
       "OFFENSE_DESCRIPTION            object\n",
       "DISTRICT                       object\n",
       "REPORTING_AREA                 object\n",
       "SHOOTING                       object\n",
       "OCCURRED_ON_DATE       datetime64[ns]\n",
       "YEAR                            int64\n",
       "MONTH                           int64\n",
       "DAY_OF_WEEK                  category\n",
       "HOUR                            int64\n",
       "UCR_PART                       object\n",
       "STREET                         object\n",
       "Lat                           float64\n",
       "Long                          float64\n",
       "Location                       object\n",
       "dtype: object"
      ]
     },
     "execution_count": 23,
     "metadata": {},
     "output_type": "execute_result"
    }
   ],
   "source": [
    "df.dtypes"
   ]
  },
  {
   "cell_type": "markdown",
   "metadata": {},
   "source": [
    "#### What does the csv file look like?"
   ]
  },
  {
   "cell_type": "code",
   "execution_count": 24,
   "metadata": {},
   "outputs": [
    {
     "data": {
      "text/html": [
       "<div>\n",
       "<style scoped>\n",
       "    .dataframe tbody tr th:only-of-type {\n",
       "        vertical-align: middle;\n",
       "    }\n",
       "\n",
       "    .dataframe tbody tr th {\n",
       "        vertical-align: top;\n",
       "    }\n",
       "\n",
       "    .dataframe thead th {\n",
       "        text-align: right;\n",
       "    }\n",
       "</style>\n",
       "<table border=\"1\" class=\"dataframe\">\n",
       "  <thead>\n",
       "    <tr style=\"text-align: right;\">\n",
       "      <th></th>\n",
       "      <th>INCIDENT_NUMBER</th>\n",
       "      <th>OFFENSE_CODE</th>\n",
       "      <th>OFFENSE_CODE_GROUP</th>\n",
       "      <th>OFFENSE_DESCRIPTION</th>\n",
       "      <th>DISTRICT</th>\n",
       "      <th>REPORTING_AREA</th>\n",
       "      <th>SHOOTING</th>\n",
       "      <th>OCCURRED_ON_DATE</th>\n",
       "      <th>YEAR</th>\n",
       "      <th>MONTH</th>\n",
       "      <th>DAY_OF_WEEK</th>\n",
       "      <th>HOUR</th>\n",
       "      <th>UCR_PART</th>\n",
       "      <th>STREET</th>\n",
       "      <th>Lat</th>\n",
       "      <th>Long</th>\n",
       "      <th>Location</th>\n",
       "    </tr>\n",
       "  </thead>\n",
       "  <tbody>\n",
       "    <tr>\n",
       "      <th>0</th>\n",
       "      <td>I182070945</td>\n",
       "      <td>619</td>\n",
       "      <td>Larceny</td>\n",
       "      <td>LARCENY ALL OTHERS</td>\n",
       "      <td>D14</td>\n",
       "      <td>808</td>\n",
       "      <td>N</td>\n",
       "      <td>2018-09-02 13:00:00</td>\n",
       "      <td>2018</td>\n",
       "      <td>9</td>\n",
       "      <td>Sunday</td>\n",
       "      <td>13</td>\n",
       "      <td>Part One</td>\n",
       "      <td>LINCOLN ST</td>\n",
       "      <td>42.357791</td>\n",
       "      <td>-71.139371</td>\n",
       "      <td>(42.35779134, -71.13937053)</td>\n",
       "    </tr>\n",
       "    <tr>\n",
       "      <th>1</th>\n",
       "      <td>I182070943</td>\n",
       "      <td>1402</td>\n",
       "      <td>Vandalism</td>\n",
       "      <td>VANDALISM</td>\n",
       "      <td>C11</td>\n",
       "      <td>347</td>\n",
       "      <td>N</td>\n",
       "      <td>2018-08-21 00:00:00</td>\n",
       "      <td>2018</td>\n",
       "      <td>8</td>\n",
       "      <td>Tuesday</td>\n",
       "      <td>0</td>\n",
       "      <td>Part Two</td>\n",
       "      <td>HECLA ST</td>\n",
       "      <td>42.306821</td>\n",
       "      <td>-71.060300</td>\n",
       "      <td>(42.30682138, -71.06030035)</td>\n",
       "    </tr>\n",
       "    <tr>\n",
       "      <th>2</th>\n",
       "      <td>I182070941</td>\n",
       "      <td>3410</td>\n",
       "      <td>Towed</td>\n",
       "      <td>TOWED MOTOR VEHICLE</td>\n",
       "      <td>D4</td>\n",
       "      <td>151</td>\n",
       "      <td>N</td>\n",
       "      <td>2018-09-03 19:27:00</td>\n",
       "      <td>2018</td>\n",
       "      <td>9</td>\n",
       "      <td>Monday</td>\n",
       "      <td>19</td>\n",
       "      <td>Part Three</td>\n",
       "      <td>CAZENOVE ST</td>\n",
       "      <td>42.346589</td>\n",
       "      <td>-71.072429</td>\n",
       "      <td>(42.34658879, -71.07242943)</td>\n",
       "    </tr>\n",
       "    <tr>\n",
       "      <th>3</th>\n",
       "      <td>I182070940</td>\n",
       "      <td>3114</td>\n",
       "      <td>Investigate Property</td>\n",
       "      <td>INVESTIGATE PROPERTY</td>\n",
       "      <td>D4</td>\n",
       "      <td>272</td>\n",
       "      <td>N</td>\n",
       "      <td>2018-09-03 21:16:00</td>\n",
       "      <td>2018</td>\n",
       "      <td>9</td>\n",
       "      <td>Monday</td>\n",
       "      <td>21</td>\n",
       "      <td>Part Three</td>\n",
       "      <td>NEWCOMB ST</td>\n",
       "      <td>42.334182</td>\n",
       "      <td>-71.078664</td>\n",
       "      <td>(42.33418175, -71.07866441)</td>\n",
       "    </tr>\n",
       "    <tr>\n",
       "      <th>4</th>\n",
       "      <td>I182070938</td>\n",
       "      <td>3114</td>\n",
       "      <td>Investigate Property</td>\n",
       "      <td>INVESTIGATE PROPERTY</td>\n",
       "      <td>B3</td>\n",
       "      <td>421</td>\n",
       "      <td>N</td>\n",
       "      <td>2018-09-03 21:05:00</td>\n",
       "      <td>2018</td>\n",
       "      <td>9</td>\n",
       "      <td>Monday</td>\n",
       "      <td>21</td>\n",
       "      <td>Part Three</td>\n",
       "      <td>DELHI ST</td>\n",
       "      <td>42.275365</td>\n",
       "      <td>-71.090361</td>\n",
       "      <td>(42.27536542, -71.09036101)</td>\n",
       "    </tr>\n",
       "    <tr>\n",
       "      <th>5</th>\n",
       "      <td>I182070936</td>\n",
       "      <td>3820</td>\n",
       "      <td>Motor Vehicle Accident Response</td>\n",
       "      <td>M/V ACCIDENT INVOLVING PEDESTRIAN - INJURY</td>\n",
       "      <td>C11</td>\n",
       "      <td>398</td>\n",
       "      <td>N</td>\n",
       "      <td>2018-09-03 21:09:00</td>\n",
       "      <td>2018</td>\n",
       "      <td>9</td>\n",
       "      <td>Monday</td>\n",
       "      <td>21</td>\n",
       "      <td>Part Three</td>\n",
       "      <td>TALBOT AVE</td>\n",
       "      <td>42.290196</td>\n",
       "      <td>-71.071590</td>\n",
       "      <td>(42.29019621, -71.07159012)</td>\n",
       "    </tr>\n",
       "  </tbody>\n",
       "</table>\n",
       "</div>"
      ],
      "text/plain": [
       "  INCIDENT_NUMBER  OFFENSE_CODE               OFFENSE_CODE_GROUP  \\\n",
       "0      I182070945           619                          Larceny   \n",
       "1      I182070943          1402                        Vandalism   \n",
       "2      I182070941          3410                            Towed   \n",
       "3      I182070940          3114             Investigate Property   \n",
       "4      I182070938          3114             Investigate Property   \n",
       "5      I182070936          3820  Motor Vehicle Accident Response   \n",
       "\n",
       "                          OFFENSE_DESCRIPTION DISTRICT REPORTING_AREA  \\\n",
       "0                          LARCENY ALL OTHERS      D14            808   \n",
       "1                                   VANDALISM      C11            347   \n",
       "2                         TOWED MOTOR VEHICLE       D4            151   \n",
       "3                        INVESTIGATE PROPERTY       D4            272   \n",
       "4                        INVESTIGATE PROPERTY       B3            421   \n",
       "5  M/V ACCIDENT INVOLVING PEDESTRIAN - INJURY      C11            398   \n",
       "\n",
       "  SHOOTING    OCCURRED_ON_DATE  YEAR  MONTH DAY_OF_WEEK  HOUR    UCR_PART  \\\n",
       "0        N 2018-09-02 13:00:00  2018      9      Sunday    13    Part One   \n",
       "1        N 2018-08-21 00:00:00  2018      8     Tuesday     0    Part Two   \n",
       "2        N 2018-09-03 19:27:00  2018      9      Monday    19  Part Three   \n",
       "3        N 2018-09-03 21:16:00  2018      9      Monday    21  Part Three   \n",
       "4        N 2018-09-03 21:05:00  2018      9      Monday    21  Part Three   \n",
       "5        N 2018-09-03 21:09:00  2018      9      Monday    21  Part Three   \n",
       "\n",
       "        STREET        Lat       Long                     Location  \n",
       "0   LINCOLN ST  42.357791 -71.139371  (42.35779134, -71.13937053)  \n",
       "1     HECLA ST  42.306821 -71.060300  (42.30682138, -71.06030035)  \n",
       "2  CAZENOVE ST  42.346589 -71.072429  (42.34658879, -71.07242943)  \n",
       "3   NEWCOMB ST  42.334182 -71.078664  (42.33418175, -71.07866441)  \n",
       "4     DELHI ST  42.275365 -71.090361  (42.27536542, -71.09036101)  \n",
       "5   TALBOT AVE  42.290196 -71.071590  (42.29019621, -71.07159012)  "
      ]
     },
     "execution_count": 24,
     "metadata": {},
     "output_type": "execute_result"
    }
   ],
   "source": [
    "df.head(6)"
   ]
  },
  {
   "cell_type": "markdown",
   "metadata": {},
   "source": [
    "#### Let's explore the crime type"
   ]
  },
  {
   "cell_type": "code",
   "execution_count": 25,
   "metadata": {},
   "outputs": [
    {
     "name": "stdout",
     "output_type": "stream",
     "text": [
      "Other \n",
      " ['Arson' 'License Plate Related Incidents' 'Auto Theft Recovery' 'Other'\n",
      " 'Manslaughter' 'Burglary - No Property Taken'] \n",
      "\n",
      "Part One \n",
      " ['Larceny' 'Auto Theft' 'Robbery' 'Larceny From Motor Vehicle'\n",
      " 'Residential Burglary' 'Aggravated Assault' 'Other Burglary'\n",
      " 'Commercial Burglary' 'Homicide'] \n",
      "\n",
      "Part Three \n",
      " ['Towed' 'Investigate Property' 'Motor Vehicle Accident Response'\n",
      " 'Verbal Disputes' 'Fire Related Reports' 'Property Lost'\n",
      " 'Medical Assistance' 'Assembly or Gathering Violations' 'Property Found'\n",
      " 'Police Service Incidents' 'Warrant Arrests' 'Other'\n",
      " 'Property Related Damage' 'Missing Person Reported' 'Investigate Person'\n",
      " 'License Plate Related Incidents' 'Harbor Related Incidents'\n",
      " 'Firearm Discovery' 'Landlord/Tenant Disputes' 'Missing Person Located'\n",
      " 'Service' 'Search Warrants' 'License Violation' 'Explosives' 'Aircraft'\n",
      " 'Prisoner Related Incidents'] \n",
      "\n",
      "Part Two \n",
      " ['Vandalism' 'Other' 'Simple Assault' 'Restraining Order Violations'\n",
      " 'Violations' 'Harassment' 'Ballistics' 'Fire Related Reports'\n",
      " 'Drug Violation' 'Disorderly Conduct' 'Fraud' 'Firearm Violations'\n",
      " 'Bomb Hoax' 'Counterfeiting' 'Liquor Violation'\n",
      " 'Operating Under the Influence' 'Confidence Games'\n",
      " 'Recovered Stolen Property' 'Offenses Against Child / Family'\n",
      " 'Prostitution' 'Evading Fare' 'Prisoner Related Incidents' 'Embezzlement'\n",
      " 'Criminal Harassment' 'Explosives' 'Phone Call Complaints'\n",
      " 'Missing Person Reported' 'Biological Threat' 'Gambling'] \n",
      "\n"
     ]
    }
   ],
   "source": [
    "for i, g in df.groupby(['UCR_PART'], observed=True)['OFFENSE_CODE_GROUP'].unique().items():\n",
    "    print(i, \"\\n\", g, '\\n')"
   ]
  },
  {
   "cell_type": "markdown",
   "metadata": {},
   "source": [
    "#### Every crime has been binned into a UCR_PART, indicating its severity. There are NaN values though in this column. Let's take a look at the crimes where the severity is NaN."
   ]
  },
  {
   "cell_type": "code",
   "execution_count": 26,
   "metadata": {},
   "outputs": [
    {
     "data": {
      "text/plain": [
       "HOME INVASION                                77\n",
       "HUMAN TRAFFICKING                             7\n",
       "INVESTIGATE PERSON                            4\n",
       "HUMAN TRAFFICKING - INVOLUNTARY SERVITUDE     2\n",
       "Name: OFFENSE_CODE_GROUP, dtype: int64"
      ]
     },
     "execution_count": 26,
     "metadata": {},
     "output_type": "execute_result"
    }
   ],
   "source": [
    "df.loc[np.where(df['UCR_PART'].isna())]['OFFENSE_CODE_GROUP'].value_counts()"
   ]
  },
  {
   "cell_type": "markdown",
   "metadata": {},
   "source": [
    "#### The above 4 crimes do not have a severity rating. Categorise it as 'other'"
   ]
  },
  {
   "cell_type": "code",
   "execution_count": 27,
   "metadata": {},
   "outputs": [],
   "source": [
    "df.loc[df['UCR_PART'].isna(), ('UCR_PART')] = 'Other'"
   ]
  },
  {
   "cell_type": "markdown",
   "metadata": {},
   "source": [
    "### Exploratory Data Analysis"
   ]
  },
  {
   "cell_type": "code",
   "execution_count": 28,
   "metadata": {},
   "outputs": [
    {
     "data": {
      "image/png": "[encoded data removed]",
      "text/plain": [
       "<Figure size 1500x1200 with 4 Axes>"
      ]
     },
     "metadata": {},
     "output_type": "display_data"
    }
   ],
   "source": [
    "df_hours = df.groupby(['HOUR'], observed=True).count()['INCIDENT_NUMBER'].sort_values(ascending=False)\n",
    "df_week = df.groupby(['DAY_OF_WEEK'], observed=True).count()['INCIDENT_NUMBER'].sort_values(ascending=False)\n",
    "df_month = df.groupby(['MONTH'], observed=True).count()['INCIDENT_NUMBER'].sort_values(ascending=False)\n",
    "df_year = df.groupby(['YEAR'], observed=True).count()['INCIDENT_NUMBER'].sort_values(ascending=False)\n",
    "\n",
    "fig, axs = plt.subplots(2, 2, figsize=(15, 12))\n",
    "\n",
    "sns.barplot(x=df_hours.index, y=df_hours.values, order=df_hours.index, palette=\"OrRd_r\", ax = axs[0,0])\n",
    "sns.barplot(x=df_week.index, y=df_week.values, order=df_week.index, palette=\"OrRd_r\", ax = axs[0,1])\n",
    "sns.barplot(x=df_month.index, y=df_month.values, order=df_month.index, palette=\"OrRd_r\", ax = axs[1,0])\n",
    "sns.barplot(x=df_year.index, y=df_year.values, order=df_year.index, palette=\"OrRd_r\", ax = axs[1,1])\n",
    "\n",
    "axs[0,0].set_title('Hours of crime')\n",
    "axs[0,0].set_xlabel('Hour')\n",
    "axs[0,0].set_ylabel('Number of crimes')\n",
    "\n",
    "axs[0,1].set_title('Day of week')\n",
    "axs[0,1].set_xlabel('Day')\n",
    "axs[0,1].set_ylabel('Number of crimes')\n",
    "\n",
    "axs[1,0].set_title('Months of crime')\n",
    "axs[1,0].set_xlabel('Month')\n",
    "axs[1,0].set_ylabel('Number of crimes')\n",
    "\n",
    "axs[1,1].set_title('Year of crime')\n",
    "axs[1,1].set_xlabel('Year')\n",
    "axs[1,1].set_ylabel('Number of crimes')\n",
    "\n",
    "fig.suptitle('Boston EDA')\n",
    "plt.show()"
   ]
  },
  {
   "cell_type": "markdown",
   "metadata": {},
   "source": [
    "As the above EDA suggests, most crimes in Boston from 2015-2018 took place between 4pm-6pm. Furthermore, most crimes took place on Fridays. The data suggests that most crimes in Boston take place in August and July, and that the years 2018 and 2015 saw a reduction in crime. This cannot be assumed to be true though, as this Boston crime dataset recorded data from June 2015 to September 2018, meaning we have a full years worth of data for 2017 and 2016 and half a years worth of data for 2018 and 2015."
   ]
  },
  {
   "cell_type": "markdown",
   "metadata": {},
   "source": [
    "#### Analysis of crimes"
   ]
  },
  {
   "cell_type": "code",
   "execution_count": 29,
   "metadata": {},
   "outputs": [
    {
     "data": {
      "text/plain": [
       "Text(0, 0.5, 'COUNT')"
      ]
     },
     "execution_count": 29,
     "metadata": {},
     "output_type": "execute_result"
    },
    {
     "data": {
      "image/png": "[encoded data removed]",
      "text/plain": [
       "<Figure size 640x480 with 1 Axes>"
      ]
     },
     "metadata": {},
     "output_type": "display_data"
    }
   ],
   "source": [
    "df_crimes = df.groupby(['UCR_PART'], observed=True).count()['INCIDENT_NUMBER'].sort_values(ascending=False)\n",
    "sns.barplot(x=df_crimes.index, y=df_crimes.values, order=df_crimes.index)\n",
    "plt.title('UCR_PART')\n",
    "plt.xlabel('PART')\n",
    "plt.ylabel('COUNT')"
   ]
  },
  {
   "cell_type": "code",
   "execution_count": 30,
   "metadata": {},
   "outputs": [
    {
     "data": {
      "application/vnd.plotly.v1+json": {
       "config": {
        "plotlyServerURL": "https://plot.ly"
       },
       "data": [
        {
         "hovertemplate": "UCR_PART=Part Three<br>Lat=%{lat}<br>Long=%{lon}<extra></extra>",
         "lat": [
          42.35245899,
          42.32922503,
          42.33058014,
          42.35275712,
          42.29969646,
          42.3213001,
          42.37764002,
          42.33380529,
          null,
          null,
          42.31709124,
          42.29015584,
          42.31635508,
          42.29421629,
          42.34857652
         ],
         "legendgroup": "Part Three",
         "lon": [
          -71.12805084,
          -71.05424964,
          -71.06248386,
          -71.08240215,
          -71.05715558,
          -71.08567786,
          -71.03151871,
          -71.09377598,
          null,
          null,
          -71.07055242,
          -71.05897292,
          -71.06593853,
          -71.08884654,
          -71.07772012
         ],
         "marker": {
          "color": "#636efa"
         },
         "mode": "markers",
         "name": "Part Three",
         "showlegend": true,
         "subplot": "mapbox",
         "type": "scattermapbox"
        },
        {
         "hovertemplate": "UCR_PART=Part One<br>Lat=%{lat}<br>Long=%{lon}<extra></extra>",
         "lat": [
          42.34134946,
          42.30638316,
          42.31771534,
          42.38099773,
          42.34717363,
          42.29426595,
          42.3160569
         ],
         "legendgroup": "Part One",
         "lon": [
          -71.15122795,
          -71.08435635,
          -71.09823049,
          -71.06210065,
          -71.0964439,
          -71.05968487,
          -71.07820017
         ],
         "marker": {
          "color": "#EF553B"
         },
         "mode": "markers",
         "name": "Part One",
         "showlegend": true,
         "subplot": "mapbox",
         "type": "scattermapbox"
        },
        {
         "hovertemplate": "UCR_PART=Part Two<br>Lat=%{lat}<br>Long=%{lon}<extra></extra>",
         "lat": [
          42.35152813,
          42.33219302,
          42.35794422,
          42.31880537,
          42.32030801,
          42.30021684,
          42.31840845,
          42.32281352,
          42.3468275,
          42.28664294
         ],
         "legendgroup": "Part Two",
         "lon": [
          -71.06248241,
          -71.04505385,
          -71.05917253,
          -71.11214147,
          -71.05765038,
          -71.0809794,
          -71.05974267,
          -71.08685352,
          -71.14319087,
          -71.0820251
         ],
         "marker": {
          "color": "#00cc96"
         },
         "mode": "markers",
         "name": "Part Two",
         "showlegend": true,
         "subplot": "mapbox",
         "type": "scattermapbox"
        }
       ],
       "layout": {
        "height": 600,
        "legend": {
         "title": {
          "text": "UCR_PART"
         },
         "tracegroupgap": 0
        },
        "mapbox": {
         "center": {
          "lat": 42.32744960966667,
          "lon": -71.07922939099998
         },
         "domain": {
          "x": [
           0,
           1
          ],
          "y": [
           0,
           1
          ]
         },
         "style": "carto-darkmatter",
         "zoom": 8
        },
        "margin": {
         "b": 0,
         "l": 0,
         "r": 0,
         "t": 0
        },
        "template": {
         "data": {
          "bar": [
           {
            "error_x": {
             "color": "#2a3f5f"
            },
            "error_y": {
             "color": "#2a3f5f"
            },
            "marker": {
             "line": {
              "color": "#E5ECF6",
              "width": 0.5
             },
             "pattern": {
              "fillmode": "overlay",
              "size": 10,
              "solidity": 0.2
             }
            },
            "type": "bar"
           }
          ],
          "barpolar": [
           {
            "marker": {
             "line": {
              "color": "#E5ECF6",
              "width": 0.5
             },
             "pattern": {
              "fillmode": "overlay",
              "size": 10,
              "solidity": 0.2
             }
            },
            "type": "barpolar"
           }
          ],
          "carpet": [
           {
            "aaxis": {
             "endlinecolor": "#2a3f5f",
             "gridcolor": "white",
             "linecolor": "white",
             "minorgridcolor": "white",
             "startlinecolor": "#2a3f5f"
            },
            "baxis": {
             "endlinecolor": "#2a3f5f",
             "gridcolor": "white",
             "linecolor": "white",
             "minorgridcolor": "white",
             "startlinecolor": "#2a3f5f"
            },
            "type": "carpet"
           }
          ],
          "choropleth": [
           {
            "colorbar": {
             "outlinewidth": 0,
             "ticks": ""
            },
            "type": "choropleth"
           }
          ],
          "contour": [
           {
            "colorbar": {
             "outlinewidth": 0,
             "ticks": ""
            },
            "colorscale": [
             [
              0,
              "#0d0887"
             ],
             [
              0.1111111111111111,
              "#46039f"
             ],
             [
              0.2222222222222222,
              "#7201a8"
             ],
             [
              0.3333333333333333,
              "#9c179e"
             ],
             [
              0.4444444444444444,
              "#bd3786"
             ],
             [
              0.5555555555555556,
              "#d8576b"
             ],
             [
              0.6666666666666666,
              "#ed7953"
             ],
             [
              0.7777777777777778,
              "#fb9f3a"
             ],
             [
              0.8888888888888888,
              "#fdca26"
             ],
             [
              1,
              "#f0f921"
             ]
            ],
            "type": "contour"
           }
          ],
          "contourcarpet": [
           {
            "colorbar": {
             "outlinewidth": 0,
             "ticks": ""
            },
            "type": "contourcarpet"
           }
          ],
          "heatmap": [
           {
            "colorbar": {
             "outlinewidth": 0,
             "ticks": ""
            },
            "colorscale": [
             [
              0,
              "#0d0887"
             ],
             [
              0.1111111111111111,
              "#46039f"
             ],
             [
              0.2222222222222222,
              "#7201a8"
             ],
             [
              0.3333333333333333,
              "#9c179e"
             ],
             [
              0.4444444444444444,
              "#bd3786"
             ],
             [
              0.5555555555555556,
              "#d8576b"
             ],
             [
              0.6666666666666666,
              "#ed7953"
             ],
             [
              0.7777777777777778,
              "#fb9f3a"
             ],
             [
              0.8888888888888888,
              "#fdca26"
             ],
             [
              1,
              "#f0f921"
             ]
            ],
            "type": "heatmap"
           }
          ],
          "heatmapgl": [
           {
            "colorbar": {
             "outlinewidth": 0,
             "ticks": ""
            },
            "colorscale": [
             [
              0,
              "#0d0887"
             ],
             [
              0.1111111111111111,
              "#46039f"
             ],
             [
              0.2222222222222222,
              "#7201a8"
             ],
             [
              0.3333333333333333,
              "#9c179e"
             ],
             [
              0.4444444444444444,
              "#bd3786"
             ],
             [
              0.5555555555555556,
              "#d8576b"
             ],
             [
              0.6666666666666666,
              "#ed7953"
             ],
             [
              0.7777777777777778,
              "#fb9f3a"
             ],
             [
              0.8888888888888888,
              "#fdca26"
             ],
             [
              1,
              "#f0f921"
             ]
            ],
            "type": "heatmapgl"
           }
          ],
          "histogram": [
           {
            "marker": {
             "pattern": {
              "fillmode": "overlay",
              "size": 10,
              "solidity": 0.2
             }
            },
            "type": "histogram"
           }
          ],
          "histogram2d": [
           {
            "colorbar": {
             "outlinewidth": 0,
             "ticks": ""
            },
            "colorscale": [
             [
              0,
              "#0d0887"
             ],
             [
              0.1111111111111111,
              "#46039f"
             ],
             [
              0.2222222222222222,
              "#7201a8"
             ],
             [
              0.3333333333333333,
              "#9c179e"
             ],
             [
              0.4444444444444444,
              "#bd3786"
             ],
             [
              0.5555555555555556,
              "#d8576b"
             ],
             [
              0.6666666666666666,
              "#ed7953"
             ],
             [
              0.7777777777777778,
              "#fb9f3a"
             ],
             [
              0.8888888888888888,
              "#fdca26"
             ],
             [
              1,
              "#f0f921"
             ]
            ],
            "type": "histogram2d"
           }
          ],
          "histogram2dcontour": [
           {
            "colorbar": {
             "outlinewidth": 0,
             "ticks": ""
            },
            "colorscale": [
             [
              0,
              "#0d0887"
             ],
             [
              0.1111111111111111,
              "#46039f"
             ],
             [
              0.2222222222222222,
              "#7201a8"
             ],
             [
              0.3333333333333333,
              "#9c179e"
             ],
             [
              0.4444444444444444,
              "#bd3786"
             ],
             [
              0.5555555555555556,
              "#d8576b"
             ],
             [
              0.6666666666666666,
              "#ed7953"
             ],
             [
              0.7777777777777778,
              "#fb9f3a"
             ],
             [
              0.8888888888888888,
              "#fdca26"
             ],
             [
              1,
              "#f0f921"
             ]
            ],
            "type": "histogram2dcontour"
           }
          ],
          "mesh3d": [
           {
            "colorbar": {
             "outlinewidth": 0,
             "ticks": ""
            },
            "type": "mesh3d"
           }
          ],
          "parcoords": [
           {
            "line": {
             "colorbar": {
              "outlinewidth": 0,
              "ticks": ""
             }
            },
            "type": "parcoords"
           }
          ],
          "pie": [
           {
            "automargin": true,
            "type": "pie"
           }
          ],
          "scatter": [
           {
            "fillpattern": {
             "fillmode": "overlay",
             "size": 10,
             "solidity": 0.2
            },
            "type": "scatter"
           }
          ],
          "scatter3d": [
           {
            "line": {
             "colorbar": {
              "outlinewidth": 0,
              "ticks": ""
             }
            },
            "marker": {
             "colorbar": {
              "outlinewidth": 0,
              "ticks": ""
             }
            },
            "type": "scatter3d"
           }
          ],
          "scattercarpet": [
           {
            "marker": {
             "colorbar": {
              "outlinewidth": 0,
              "ticks": ""
             }
            },
            "type": "scattercarpet"
           }
          ],
          "scattergeo": [
           {
            "marker": {
             "colorbar": {
              "outlinewidth": 0,
              "ticks": ""
             }
            },
            "type": "scattergeo"
           }
          ],
          "scattergl": [
           {
            "marker": {
             "colorbar": {
              "outlinewidth": 0,
              "ticks": ""
             }
            },
            "type": "scattergl"
           }
          ],
          "scattermapbox": [
           {
            "marker": {
             "colorbar": {
              "outlinewidth": 0,
              "ticks": ""
             }
            },
            "type": "scattermapbox"
           }
          ],
          "scatterpolar": [
           {
            "marker": {
             "colorbar": {
              "outlinewidth": 0,
              "ticks": ""
             }
            },
            "type": "scatterpolar"
           }
          ],
          "scatterpolargl": [
           {
            "marker": {
             "colorbar": {
              "outlinewidth": 0,
              "ticks": ""
             }
            },
            "type": "scatterpolargl"
           }
          ],
          "scatterternary": [
           {
            "marker": {
             "colorbar": {
              "outlinewidth": 0,
              "ticks": ""
             }
            },
            "type": "scatterternary"
           }
          ],
          "surface": [
           {
            "colorbar": {
             "outlinewidth": 0,
             "ticks": ""
            },
            "colorscale": [
             [
              0,
              "#0d0887"
             ],
             [
              0.1111111111111111,
              "#46039f"
             ],
             [
              0.2222222222222222,
              "#7201a8"
             ],
             [
              0.3333333333333333,
              "#9c179e"
             ],
             [
              0.4444444444444444,
              "#bd3786"
             ],
             [
              0.5555555555555556,
              "#d8576b"
             ],
             [
              0.6666666666666666,
              "#ed7953"
             ],
             [
              0.7777777777777778,
              "#fb9f3a"
             ],
             [
              0.8888888888888888,
              "#fdca26"
             ],
             [
              1,
              "#f0f921"
             ]
            ],
            "type": "surface"
           }
          ],
          "table": [
           {
            "cells": {
             "fill": {
              "color": "#EBF0F8"
             },
             "line": {
              "color": "white"
             }
            },
            "header": {
             "fill": {
              "color": "#C8D4E3"
             },
             "line": {
              "color": "white"
             }
            },
            "type": "table"
           }
          ]
         },
         "layout": {
          "annotationdefaults": {
           "arrowcolor": "#2a3f5f",
           "arrowhead": 0,
           "arrowwidth": 1
          },
          "autotypenumbers": "strict",
          "coloraxis": {
           "colorbar": {
            "outlinewidth": 0,
            "ticks": ""
           }
          },
          "colorscale": {
           "diverging": [
            [
             0,
             "#8e0152"
            ],
            [
             0.1,
             "#c51b7d"
            ],
            [
             0.2,
             "#de77ae"
            ],
            [
             0.3,
             "#f1b6da"
            ],
            [
             0.4,
             "#fde0ef"
            ],
            [
             0.5,
             "#f7f7f7"
            ],
            [
             0.6,
             "#e6f5d0"
            ],
            [
             0.7,
             "#b8e186"
            ],
            [
             0.8,
             "#7fbc41"
            ],
            [
             0.9,
             "#4d9221"
            ],
            [
             1,
             "#276419"
            ]
           ],
           "sequential": [
            [
             0,
             "#0d0887"
            ],
            [
             0.1111111111111111,
             "#46039f"
            ],
            [
             0.2222222222222222,
             "#7201a8"
            ],
            [
             0.3333333333333333,
             "#9c179e"
            ],
            [
             0.4444444444444444,
             "#bd3786"
            ],
            [
             0.5555555555555556,
             "#d8576b"
            ],
            [
             0.6666666666666666,
             "#ed7953"
            ],
            [
             0.7777777777777778,
             "#fb9f3a"
            ],
            [
             0.8888888888888888,
             "#fdca26"
            ],
            [
             1,
             "#f0f921"
            ]
           ],
           "sequentialminus": [
            [
             0,
             "#0d0887"
            ],
            [
             0.1111111111111111,
             "#46039f"
            ],
            [
             0.2222222222222222,
             "#7201a8"
            ],
            [
             0.3333333333333333,
             "#9c179e"
            ],
            [
             0.4444444444444444,
             "#bd3786"
            ],
            [
             0.5555555555555556,
             "#d8576b"
            ],
            [
             0.6666666666666666,
             "#ed7953"
            ],
            [
             0.7777777777777778,
             "#fb9f3a"
            ],
            [
             0.8888888888888888,
             "#fdca26"
            ],
            [
             1,
             "#f0f921"
            ]
           ]
          },
          "colorway": [
           "#636efa",
           "#EF553B",
           "#00cc96",
           "#ab63fa",
           "#FFA15A",
           "#19d3f3",
           "#FF6692",
           "#B6E880",
           "#FF97FF",
           "#FECB52"
          ],
          "font": {
           "color": "#2a3f5f"
          },
          "geo": {
           "bgcolor": "white",
           "lakecolor": "white",
           "landcolor": "#E5ECF6",
           "showlakes": true,
           "showland": true,
           "subunitcolor": "white"
          },
          "hoverlabel": {
           "align": "left"
          },
          "hovermode": "closest",
          "mapbox": {
           "style": "light"
          },
          "paper_bgcolor": "white",
          "plot_bgcolor": "#E5ECF6",
          "polar": {
           "angularaxis": {
            "gridcolor": "white",
            "linecolor": "white",
            "ticks": ""
           },
           "bgcolor": "#E5ECF6",
           "radialaxis": {
            "gridcolor": "white",
            "linecolor": "white",
            "ticks": ""
           }
          },
          "scene": {
           "xaxis": {
            "backgroundcolor": "#E5ECF6",
            "gridcolor": "white",
            "gridwidth": 2,
            "linecolor": "white",
            "showbackground": true,
            "ticks": "",
            "zerolinecolor": "white"
           },
           "yaxis": {
            "backgroundcolor": "#E5ECF6",
            "gridcolor": "white",
            "gridwidth": 2,
            "linecolor": "white",
            "showbackground": true,
            "ticks": "",
            "zerolinecolor": "white"
           },
           "zaxis": {
            "backgroundcolor": "#E5ECF6",
            "gridcolor": "white",
            "gridwidth": 2,
            "linecolor": "white",
            "showbackground": true,
            "ticks": "",
            "zerolinecolor": "white"
           }
          },
          "shapedefaults": {
           "line": {
            "color": "#2a3f5f"
           }
          },
          "ternary": {
           "aaxis": {
            "gridcolor": "white",
            "linecolor": "white",
            "ticks": ""
           },
           "baxis": {
            "gridcolor": "white",
            "linecolor": "white",
            "ticks": ""
           },
           "bgcolor": "#E5ECF6",
           "caxis": {
            "gridcolor": "white",
            "linecolor": "white",
            "ticks": ""
           }
          },
          "title": {
           "x": 0.05
          },
          "xaxis": {
           "automargin": true,
           "gridcolor": "white",
           "linecolor": "white",
           "ticks": "",
           "title": {
            "standoff": 15
           },
           "zerolinecolor": "white",
           "zerolinewidth": 2
          },
          "yaxis": {
           "automargin": true,
           "gridcolor": "white",
           "linecolor": "white",
           "ticks": "",
           "title": {
            "standoff": 15
           },
           "zerolinecolor": "white",
           "zerolinewidth": 2
          }
         }
        }
       }
      }
     },
     "metadata": {},
     "output_type": "display_data"
    }
   ],
   "source": [
    "fig = px.scatter_mapbox(df.sample(frac=0.0001), lat=\"Lat\", lon=\"Long\",\n",
    "                        color=\"UCR_PART\", zoom=8, height=600, size_max=30)\n",
    "fig.update_layout(mapbox_style=\"carto-darkmatter\", margin={\"r\":0,\"t\":0,\"l\":0,\"b\":0})\n",
    "fig.show()"
   ]
  },
  {
   "cell_type": "code",
   "execution_count": 31,
   "metadata": {},
   "outputs": [
    {
     "data": {
      "text/plain": [
       "(61629, 17)"
      ]
     },
     "execution_count": 31,
     "metadata": {},
     "output_type": "execute_result"
    }
   ],
   "source": [
    "df[df['UCR_PART'] == 'Part One'].shape"
   ]
  },
  {
   "cell_type": "code",
   "execution_count": 56,
   "metadata": {},
   "outputs": [
    {
     "data": {
      "text/plain": [
       "OCCURRED_ON_DATE\n",
       "1     23610\n",
       "2     21653\n",
       "3     24146\n",
       "4     24086\n",
       "5     26199\n",
       "6     30568\n",
       "7     34556\n",
       "8     34823\n",
       "9     26543\n",
       "10    25737\n",
       "11    23675\n",
       "12    23477\n",
       "Name: INCIDENT_NUMBER, dtype: int64"
      ]
     },
     "execution_count": 56,
     "metadata": {},
     "output_type": "execute_result"
    }
   ],
   "source": [
    "df_time = df.groupby(df['OCCURRED_ON_DATE'].dt.month)['INCIDENT_NUMBER'].count()\n",
    "df_time\n",
    "# fig = plt.figure(figsize=(10,8))\n",
    "# sns.lineplot(df_time.sample(frac=0.2), x='index', y='count')\n",
    "# plt.tight_layout()\n",
    "# plt.title('Time series of crimes')\n",
    "# plt.xlabel('Date')\n",
    "# plt.ylabel('Crime count')\n",
    "# plt.show()"
   ]
  }
 ],
 "metadata": {
  "kernelspec": {
   "display_name": "Python 3",
   "language": "python",
   "name": "python3"
  },
  "language_info": {
   "codemirror_mode": {
    "name": "ipython",
    "version": 3
   },
   "file_extension": ".py",
   "mimetype": "text/x-python",
   "name": "python",
   "nbconvert_exporter": "python",
   "pygments_lexer": "ipython3",
   "version": "3.9.13"
  },
  "orig_nbformat": 4
 },
 "nbformat": 4,
 "nbformat_minor": 2
}
